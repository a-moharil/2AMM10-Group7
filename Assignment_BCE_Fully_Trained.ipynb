{
  "cells": [
    {
      "cell_type": "markdown",
      "id": "06ab2292",
      "metadata": {
        "id": "06ab2292"
      },
      "source": [
        "<a href=\"https://colab.research.google.com/github/vlamen/tue-deeplearning/blob/main/assignments/assignment_1/Assignment_1.ipynb\" target=\"_parent\"><img src=\"https://colab.research.google.com/assets/colab-badge.svg\" alt=\"Open In Colab\"/></a>    "
      ]
    },
    {
      "cell_type": "markdown",
      "id": "b9b20982",
      "metadata": {
        "id": "b9b20982"
      },
      "source": [
        "# Group Number: 7\n",
        "# Student 1: Ambarish Moharil\n",
        "# Student 2: Kunal Geed\n",
        "# Student 3: Mert Lostar"
      ]
    },
    {
      "cell_type": "code",
      "execution_count": 1,
      "id": "b49fc2e3",
      "metadata": {
        "colab": {
          "base_uri": "https://localhost:8080/"
        },
        "id": "b49fc2e3",
        "outputId": "95576a7e-3164-408f-d3f5-d8223189d957"
      },
      "outputs": [
        {
          "output_type": "stream",
          "name": "stdout",
          "text": [
            "Populating the interactive namespace from numpy and matplotlib\n"
          ]
        },
        {
          "output_type": "execute_result",
          "data": {
            "text/plain": [
              "<torch.autograd.grad_mode.set_grad_enabled at 0x7fea3ad50250>"
            ]
          },
          "metadata": {},
          "execution_count": 1
        }
      ],
      "source": [
        "import requests\n",
        "import io\n",
        "import torch\n",
        "import torch.nn as nn\n",
        "import torch.nn.functional as F\n",
        "import numpy as np\n",
        "#%matplotlib inline\n",
        "%pylab inline\n",
        "torch.set_grad_enabled(True)  # Context-manager \n"
      ]
    },
    {
      "cell_type": "markdown",
      "id": "25cfb295",
      "metadata": {
        "id": "25cfb295"
      },
      "source": [
        "### Training data set\n",
        "\n",
        "\n",
        "For Assignment 1 you need to use a specific data set prepared using images from the [Omniglot dataset](https://github.com/brendenlake/omniglot). The provided training data set contains images of handwritten characters of size (28,28). \n",
        "\n",
        "\n",
        "\n",
        "For training data, the dataset contains 10000 sets of 6 images each. Each set consists of 5 support images and 1 query image. In each set, the first five columns are support images and the last one is a query image.\n",
        "\n",
        "For training labels, the dataset contains 10000 sets of 5 binary flags for support images. 1 indicates the same character is given in the query image and 0 means not. For example, a label [1,0,0,1,1] means the support images with index 0,3,4 are the same character of query image.\n",
        "\n",
        " \n",
        " \n",
        "The following cell provides code that loads the data from hardcoded URLs.You can use the code in this cell to load the dataset or download the data set from the given URLs to your local drive (or your Google drive) and modify the code to load the data from another location. \n",
        "\n",
        "\n"
      ]
    },
    {
      "cell_type": "code",
      "execution_count": 2,
      "id": "f19f0a40",
      "metadata": {
        "colab": {
          "base_uri": "https://localhost:8080/"
        },
        "id": "f19f0a40",
        "outputId": "ae26ae13-6e7e-40fa-e620-d8ede6147f63"
      },
      "outputs": [
        {
          "output_type": "stream",
          "name": "stdout",
          "text": [
            "train_data shape: (10000, 6, 28, 28)\n",
            "train_label shape: (10000, 5)\n",
            "\n"
          ]
        }
      ],
      "source": [
        "def load_numpy_arr_from_url(url):\n",
        "    \"\"\"\n",
        "    Loads a numpy array from surfdrive. \n",
        "    \n",
        "    Input:\n",
        "    url: Download link of dataset \n",
        "    \n",
        "    Outputs:\n",
        "    dataset: numpy array with input features or labels\n",
        "    \"\"\"\n",
        "    \n",
        "    response = requests.get(url)\n",
        "    response.raise_for_status()\n",
        "\n",
        "    return np.load(io.BytesIO(response.content)) \n",
        "    \n",
        "    \n",
        "    \n",
        "#Downloading may take a while..\n",
        "train_data = load_numpy_arr_from_url('https://surfdrive.surf.nl/files/index.php/s/4OXkVie05NPjRKK/download')\n",
        "train_label = load_numpy_arr_from_url('https://surfdrive.surf.nl/files/index.php/s/oMLFw60zpFX82ua/download')\n",
        "\n",
        "print(f\"train_data shape: {train_data.shape}\")\n",
        "print(f\"train_label shape: {train_label.shape}\\n\")"
      ]
    },
    {
      "cell_type": "markdown",
      "id": "cb937392",
      "metadata": {
        "id": "cb937392"
      },
      "source": [
        "Now, we plot the first 5 cases in the training dataset. The last column corresponds with the query images of each task. All other images are support images. The image enclosed in a red box denotes the target image that your model should be able to recognize as the same class as the query image. "
      ]
    },
    {
      "cell_type": "code",
      "execution_count": 3,
      "id": "b1b4bd29",
      "metadata": {
        "id": "b1b4bd29"
      },
      "outputs": [],
      "source": [
        "def plot_case(caseID,train_data,labels):\n",
        "    \"\"\"\n",
        "    Plots a single sample of the query dataset\n",
        "    \n",
        "    Inputs\n",
        "    caseID: Integer between 0 and 99, each corresponding to a single sample in the query dataset \n",
        "    \"\"\"\n",
        "    \n",
        "\n",
        "    support_set,queries = np.split(train_data, [5], axis=1)\n",
        "    \n",
        "    f, axes = plt.subplots(1, 6, figsize=(20,5))\n",
        "\n",
        "    # plot anchor image\n",
        "    axes[5].imshow(queries[caseID, 0])\n",
        "    axes[5].set_title(f\"Query image case {caseID}\", fontsize=15)\n",
        "\n",
        "    # show all test images images \n",
        "    [ax.imshow(support_set[caseID, i]) for i, ax in enumerate(axes[0:-1])]\n",
        "\n",
        "\n",
        "    # Add the patch to the Axes\n",
        "    for ind in np.where(labels[caseID]==True)[0]:\n",
        "        axes[ind].add_patch(Rectangle((0,0),27,27,linewidth=2, edgecolor='r',facecolor='none'))\n"
      ]
    },
    {
      "cell_type": "code",
      "execution_count": 4,
      "id": "03538ffb",
      "metadata": {
        "colab": {
          "base_uri": "https://localhost:8080/",
          "height": 886
        },
        "id": "03538ffb",
        "outputId": "dc6bbf65-4047-49ba-acb7-82e76bfe969a"
      },
      "outputs": [
        {
          "output_type": "display_data",
          "data": {
            "text/plain": [
              "<Figure size 1440x360 with 6 Axes>"
            ],
            "image/png": "[encoded data removed]"
          },
          "metadata": {
            "needs_background": "light"
          }
        },
        {
          "output_type": "display_data",
          "data": {
            "text/plain": [
              "<Figure size 1440x360 with 6 Axes>"
            ],
            "image/png": "[encoded data removed]"
          },
          "metadata": {
            "needs_background": "light"
          }
        },
        {
          "output_type": "display_data",
          "data": {
            "text/plain": [
              "<Figure size 1440x360 with 6 Axes>"
            ],
            "image/png": "[encoded data removed]"
          },
          "metadata": {
            "needs_background": "light"
          }
        },
        {
          "output_type": "display_data",
          "data": {
            "text/plain": [
              "<Figure size 1440x360 with 6 Axes>"
            ],
            "image/png": "[encoded data removed]"
          },
          "metadata": {
            "needs_background": "light"
          }
        },
        {
          "output_type": "display_data",
          "data": {
            "text/plain": [
              "<Figure size 1440x360 with 6 Axes>"
            ],
            "image/png": "[encoded data removed]"
          },
          "metadata": {
            "needs_background": "light"
          }
        }
      ],
      "source": [
        "[plot_case(caseID,train_data,train_label) for caseID in range(5)] ;"
      ]
    },
    {
      "cell_type": "markdown",
      "id": "931f2383",
      "metadata": {
        "id": "931f2383"
      },
      "source": [
        "### Query data set\n",
        "\n",
        "For this task you need to use the following query data set. The dataset contains 1000 sets of 6 images each. The images are also of hand written characters, however these characters are not present in the training data set. The characters in the query data set all come from the Greek alphabet that is not part of the set of alphabets in the training data. \n"
      ]
    },
    {
      "cell_type": "code",
      "execution_count": 5,
      "id": "c9ba78dc",
      "metadata": {
        "colab": {
          "base_uri": "https://localhost:8080/"
        },
        "id": "c9ba78dc",
        "outputId": "6b990d24-cdb2-41ec-8587-532cd378360e"
      },
      "outputs": [
        {
          "output_type": "stream",
          "name": "stdout",
          "text": [
            "test_data shape: (1000, 6, 28, 28)\n",
            "test_label shape: (1000, 5)\n",
            "\n"
          ]
        }
      ],
      "source": [
        "    \n",
        "#Downloading may take a while..\n",
        "test_data = load_numpy_arr_from_url('https://surfdrive.surf.nl/files/index.php/s/06c34QVUr69CxWY/download')\n",
        "test_label = load_numpy_arr_from_url('https://surfdrive.surf.nl/files/index.php/s/LQIH1CW7lfDXevk/download')\n",
        "\n",
        "print(f\"test_data shape: {test_data.shape}\")\n",
        "print(f\"test_label shape: {test_label.shape}\\n\")"
      ]
    },
    {
      "cell_type": "code",
      "execution_count": 6,
      "id": "03fb3580",
      "metadata": {
        "scrolled": false,
        "colab": {
          "base_uri": "https://localhost:8080/",
          "height": 886
        },
        "id": "03fb3580",
        "outputId": "837e7957-e73e-4236-d89f-31c3fa5eff0f"
      },
      "outputs": [
        {
          "output_type": "display_data",
          "data": {
            "text/plain": [
              "<Figure size 1440x360 with 6 Axes>"
            ],
            "image/png": "[encoded data removed]"
          },
          "metadata": {
            "needs_background": "light"
          }
        },
        {
          "output_type": "display_data",
          "data": {
            "text/plain": [
              "<Figure size 1440x360 with 6 Axes>"
            ],
            "image/png": "[encoded data removed]"
          },
          "metadata": {
            "needs_background": "light"
          }
        },
        {
          "output_type": "display_data",
          "data": {
            "text/plain": [
              "<Figure size 1440x360 with 6 Axes>"
            ],
            "image/png": "[encoded data removed]"
          },
          "metadata": {
            "needs_background": "light"
          }
        },
        {
          "output_type": "display_data",
          "data": {
            "text/plain": [
              "<Figure size 1440x360 with 6 Axes>"
            ],
            "image/png": "[encoded data removed]"
          },
          "metadata": {
            "needs_background": "light"
          }
        },
        {
          "output_type": "display_data",
          "data": {
            "text/plain": [
              "<Figure size 1440x360 with 6 Axes>"
            ],
            "image/png": "[encoded data removed]"
          },
          "metadata": {
            "needs_background": "light"
          }
        }
      ],
      "source": [
        "[plot_case(caseID,test_data,test_label) for caseID in range(5)] ;"
      ]
    },
    {
      "cell_type": "markdown",
      "id": "fcc32db2",
      "metadata": {
        "id": "fcc32db2"
      },
      "source": [
        "### Build pytorch dataset and dataload"
      ]
    },
    {
      "cell_type": "code",
      "execution_count": 7,
      "id": "fcf31f45",
      "metadata": {
        "id": "fcf31f45"
      },
      "outputs": [],
      "source": [
        "import torch\n",
        "from torchvision import transforms\n",
        "from torch.utils.data import Dataset, DataLoader,TensorDataset\n",
        "import numpy as np\n",
        "from PIL import Image\n",
        "\n",
        "\n",
        "class MyDataset(Dataset):\n",
        "    def __init__(self, data, targets):\n",
        "        self.data = torch.FloatTensor(data)\n",
        "        self.targets = torch.LongTensor(targets)\n",
        "\n",
        "        \n",
        "    def __getitem__(self, index):\n",
        "        x = self.data[index]\n",
        "        y = self.targets[index]\n",
        "        \n",
        "\n",
        "        return x, y\n",
        "    \n",
        "    def __len__(self):\n",
        "        return len(self.data)"
      ]
    },
    {
      "cell_type": "code",
      "execution_count": 8,
      "id": "d3d75da8",
      "metadata": {
        "id": "d3d75da8"
      },
      "outputs": [],
      "source": [
        "# transform = transforms.ToTensor()\n",
        "train_dataset=MyDataset(train_data,train_label)\n",
        "test_dataset=MyDataset(test_data,test_label)"
      ]
    },
    {
      "cell_type": "code",
      "execution_count": 9,
      "id": "d4c1bd77",
      "metadata": {
        "id": "d4c1bd77"
      },
      "outputs": [],
      "source": [
        "train_loader = torch.utils.data.DataLoader(train_dataset, batch_size=10)"
      ]
    },
    {
      "cell_type": "code",
      "execution_count": 10,
      "id": "2b747c92",
      "metadata": {
        "id": "2b747c92"
      },
      "outputs": [],
      "source": [
        "test_loader = torch.utils.data.DataLoader(test_dataset, batch_size=10)"
      ]
    },
    {
      "cell_type": "code",
      "execution_count": 11,
      "id": "2e3c0c2f",
      "metadata": {
        "id": "2e3c0c2f"
      },
      "outputs": [],
      "source": [
        "device = torch.device('cuda:0' if torch.cuda.is_available() else 'cpu')"
      ]
    },
    {
      "cell_type": "code",
      "source": [
        "torch.cuda.is_available()"
      ],
      "metadata": {
        "colab": {
          "base_uri": "https://localhost:8080/"
        },
        "id": "34WHos-vAw5l",
        "outputId": "9313db26-8f89-49c7-b750-0f7ca46cba85"
      },
      "id": "34WHos-vAw5l",
      "execution_count": 12,
      "outputs": [
        {
          "output_type": "execute_result",
          "data": {
            "text/plain": [
              "True"
            ]
          },
          "metadata": {},
          "execution_count": 12
        }
      ]
    },
    {
      "cell_type": "code",
      "execution_count": 13,
      "id": "c7df92a1",
      "metadata": {
        "colab": {
          "base_uri": "https://localhost:8080/"
        },
        "id": "c7df92a1",
        "outputId": "01e1f59c-862c-4bf1-b4c0-7318a6ca05d5"
      },
      "outputs": [
        {
          "output_type": "stream",
          "name": "stdout",
          "text": [
            "cuda:0\n"
          ]
        }
      ],
      "source": [
        "#device = torch.device('cuda:0' if torch.cuda.is_available() else 'cpu')\n",
        "print(device)"
      ]
    },
    {
      "cell_type": "markdown",
      "id": "9bc7f84c",
      "metadata": {
        "id": "9bc7f84c"
      },
      "source": [
        "# N 5-way one shot trials essentially \n",
        "    N <= len(test_set)"
      ]
    },
    {
      "cell_type": "code",
      "execution_count": 14,
      "id": "0b6fdfee",
      "metadata": {
        "id": "0b6fdfee"
      },
      "outputs": [],
      "source": [
        "## Model Definition ##"
      ]
    },
    {
      "cell_type": "markdown",
      "id": "278e2d0c",
      "metadata": {
        "id": "278e2d0c"
      },
      "source": [
        "### CNN Architecture (https://arxiv.org/pdf/1606.04080v2.pdf)"
      ]
    },
    {
      "cell_type": "code",
      "execution_count": 16,
      "id": "f024472f",
      "metadata": {
        "id": "f024472f"
      },
      "outputs": [],
      "source": [
        "#ref :- https://github.com/fangpin/siamese-pytorch (Reimplementation of the Omniglot Paper https://www.cs.cmu.edu/~rsalakhu/papers/oneshot1.pdf)\n",
        "\n",
        "class Siamese_1(nn.Module):\n",
        "\n",
        "    def __init__(self):\n",
        "        super(Siamese_1, self).__init__()\n",
        "        self.conv = nn.Sequential(\n",
        "            nn.Conv2d(1, 96, kernel_size=3,stride=1),\n",
        "            nn.ReLU(inplace=True),\n",
        "            nn.MaxPool2d(2, stride=2),\n",
        "            \n",
        "            nn.Conv2d(96, 256, kernel_size=3, stride=1),\n",
        "            nn.ReLU(inplace=True),\n",
        "            nn.MaxPool2d(2, stride=2),\n",
        "\n",
        "            nn.Conv2d(256, 384, kernel_size=3,stride=1),\n",
        "            nn.ReLU(inplace=True)\n",
        "        )\n",
        "\n",
        "        self.liner = nn.Sequential(nn.Linear(384*3*3, 1024), nn.Sigmoid())\n",
        "        self.out = nn.Sequential(nn.Linear(1024, 1), nn.Sigmoid()) #Use with BCELoss\n",
        "        #self.out = nn.Linear(1024, 1) #Use with BCEwithLogitLoss\n",
        "        \n",
        "    def forward_one(self, x):\n",
        "        x = self.conv(x)\n",
        "        x = x.view(x.size()[0], -1)\n",
        "        x = self.liner(x)\n",
        "        return x\n",
        "\n",
        "    def forward(self, x1, x2):\n",
        "        out1 = self.forward_one(x1)\n",
        "        out2 = self.forward_one(x2)\n",
        "        dis = torch.abs(out1 - out2)\n",
        "        out = self.out(dis)\n",
        "        return out\n"
      ]
    },
    {
      "cell_type": "code",
      "execution_count": 17,
      "id": "93e6f3fb",
      "metadata": {
        "id": "93e6f3fb"
      },
      "outputs": [],
      "source": [
        "## LOSS Definition ##\n",
        "\n",
        "#Defining a Binary Cross-Entropy Loss (As Similarity is computed using a Sigmoid Function)\n",
        "\n",
        "class BCELoss(nn.Module):\n",
        "    \n",
        "    def __init__(self):\n",
        "        super(BCELoss, self).__init__()\n",
        "        \n",
        "    def forward(self, output, label):\n",
        "        loss_fn = torch.nn.BCELoss()\n",
        "        loss = loss_fn(output, label)\n",
        "        return loss\n",
        "    \n"
      ]
    },
    {
      "cell_type": "code",
      "execution_count": 18,
      "id": "9e30d04a",
      "metadata": {
        "colab": {
          "base_uri": "https://localhost:8080/"
        },
        "id": "9e30d04a",
        "outputId": "6460ab09-78b9-468f-c0ad-cd46407d3831"
      },
      "outputs": [
        {
          "output_type": "stream",
          "name": "stdout",
          "text": [
            "The model architecture:\n",
            "\n",
            " Siamese_Net(\n",
            "  (cnn1): Sequential(\n",
            "    (0): Conv2d(1, 96, kernel_size=(3, 3), stride=(1, 1))\n",
            "    (1): ReLU(inplace=True)\n",
            "    (2): MaxPool2d(kernel_size=2, stride=2, padding=0, dilation=1, ceil_mode=False)\n",
            "    (3): Conv2d(96, 256, kernel_size=(3, 3), stride=(1, 1))\n",
            "    (4): ReLU(inplace=True)\n",
            "    (5): MaxPool2d(kernel_size=2, stride=2, padding=0, dilation=1, ceil_mode=False)\n",
            "    (6): Conv2d(256, 384, kernel_size=(3, 3), stride=(1, 1))\n",
            "    (7): ReLU(inplace=True)\n",
            "  )\n",
            "  (fc1): Sequential(\n",
            "    (0): Linear(in_features=3456, out_features=1024, bias=True)\n",
            "    (1): ReLU(inplace=True)\n",
            "    (2): Linear(in_features=1024, out_features=256, bias=True)\n",
            "    (3): ReLU(inplace=True)\n",
            "    (4): Linear(in_features=256, out_features=2, bias=True)\n",
            "  )\n",
            ")\n",
            "\n",
            "The model has 4,910,402 trainable parameters\n"
          ]
        },
        {
          "output_type": "stream",
          "name": "stderr",
          "text": [
            "/usr/local/lib/python3.7/dist-packages/ipykernel_launcher.py:6: DeprecationWarning: Calling np.sum(generator) is deprecated, and in the future will give a different result. Use np.sum(np.fromiter(generator)) or the python sum builtin instead.\n",
            "  \n"
          ]
        }
      ],
      "source": [
        "#peek into the model architecture\n",
        "\n",
        "def model_summary(model):\n",
        "    temp = sum(p.numel() for p in model.parameters() if p.requires_grad)\n",
        "    print(f'The model architecture:\\n\\n', model)\n",
        "    print(f'\\n No of trainable parameters {temp:,} in the model')\n",
        "    \n",
        "model_summary(Siamese_1())"
      ]
    },
    {
      "cell_type": "code",
      "execution_count": 19,
      "id": "f1e54f6e",
      "metadata": {
        "colab": {
          "base_uri": "https://localhost:8080/"
        },
        "id": "f1e54f6e",
        "outputId": "f50479b9-cfd6-4288-d463-c6ed2da8040e"
      },
      "outputs": [
        {
          "output_type": "stream",
          "name": "stdout",
          "text": [
            "The model architecture:\n",
            "\n",
            " Siamese_1(\n",
            "  (conv): Sequential(\n",
            "    (0): Conv2d(1, 96, kernel_size=(3, 3), stride=(1, 1))\n",
            "    (1): ReLU(inplace=True)\n",
            "    (2): MaxPool2d(kernel_size=2, stride=2, padding=0, dilation=1, ceil_mode=False)\n",
            "    (3): Conv2d(96, 256, kernel_size=(3, 3), stride=(1, 1))\n",
            "    (4): ReLU(inplace=True)\n",
            "    (5): MaxPool2d(kernel_size=2, stride=2, padding=0, dilation=1, ceil_mode=False)\n",
            "    (6): Conv2d(256, 384, kernel_size=(3, 3), stride=(1, 1))\n",
            "    (7): ReLU(inplace=True)\n",
            "  )\n",
            "  (liner): Sequential(\n",
            "    (0): Linear(in_features=3456, out_features=1024, bias=True)\n",
            "    (1): Sigmoid()\n",
            "  )\n",
            "  (out): Sequential(\n",
            "    (0): Linear(in_features=1024, out_features=1, bias=True)\n",
            "    (1): Sigmoid()\n",
            "  )\n",
            ")\n",
            "\n",
            "The model has 4,648,513 trainable parameters\n"
          ]
        },
        {
          "output_type": "stream",
          "name": "stderr",
          "text": [
            "/usr/local/lib/python3.7/dist-packages/ipykernel_launcher.py:6: DeprecationWarning: Calling np.sum(generator) is deprecated, and in the future will give a different result. Use np.sum(np.fromiter(generator)) or the python sum builtin instead.\n",
            "  \n"
          ]
        }
      ],
      "source": [
        ""
      ]
    },
    {
      "cell_type": "code",
      "execution_count": 20,
      "id": "5f1a9501",
      "metadata": {
        "id": "5f1a9501"
      },
      "outputs": [],
      "source": [
        "## Build Sample Selector ##"
      ]
    },
    {
      "cell_type": "code",
      "execution_count": 21,
      "id": "d2c8f9a6",
      "metadata": {
        "id": "d2c8f9a6"
      },
      "outputs": [],
      "source": [
        "## Training ##"
      ]
    },
    {
      "cell_type": "code",
      "execution_count": 27,
      "id": "252555dd",
      "metadata": {
        "id": "252555dd"
      },
      "outputs": [],
      "source": [
        "def save_model_checkpoint(path, model, optimizer, val_loss, val_acc, train_acc, train_loss ):\n",
        "    if path == None:\n",
        "        return print(\"Kindly define a path\")\n",
        "    path = path\n",
        "    \n",
        "    save_dict = {\"model_dict\" : model.state_dict(), \n",
        "                 \"optimizer_dict\": optimizer.state_dict(),\n",
        "                 \"val_loss_dict\": val_loss,\n",
        "                 \"val_acc_dict\": val_acc,\n",
        "                 \"train_acc_dict\": train_acc,\n",
        "                 \"train_loss_dict\": train_loss}\n",
        "    torch.save(save_dict, path)\n",
        "    return print(\"Model Saved to ==> {}\".format(path))\n",
        "\n",
        "\n",
        "def load_checkpoint(model, optimizer, path):\n",
        "    save_path = path\n",
        "    state_dict = torch.load(save_path)\n",
        "    model.load_state_dict(state_dict['model_state_dict'])\n",
        "    optimizer.load_state_dict(state_dict['optimizer_state_dict'])\n",
        "    val_loss = state_dict['val_loss']\n",
        "    val_acc = state_dict['val_acc']\n",
        "    train_acc = state_dict['train_acc']\n",
        "    train_loss = state_dict['train_loss']\n",
        "    print(f'Model loaded from <== {save_path}')\n",
        "    \n",
        "    return val_loss"
      ]
    },
    {
      "cell_type": "code",
      "execution_count": 30,
      "id": "ec1c8671",
      "metadata": {
        "id": "ec1c8671"
      },
      "outputs": [],
      "source": [
        "# training and validation after every epoch\n",
        "def train(model, train_loader, val_loader, criterion, num_epochs, save_name):\n",
        "    best_val_loss = float(\"Inf\") \n",
        "    train_losses = []\n",
        "    val_losses = []\n",
        "    train_acc = []\n",
        "    val_acc = []\n",
        "    cur_step = 0\n",
        "    for epoch in range(num_epochs):\n",
        "        running_loss = 0.0\n",
        "        running_train_acc = 0.0\n",
        "  \n",
        "        model.train()\n",
        "        print(\"Starting epoch \" + str(epoch+1))\n",
        "        for train_data, labels in train_loader:\n",
        "            support_set, queries = np.split(train_data, [5], axis=1)\n",
        "            labels =  torch.tensor_split(labels, 5, dim=1)\n",
        "            # Forward\n",
        "            case_loss = 0.0\n",
        "            cur_train_acc = 0.0\n",
        "            cur_val_acc = 0.0\n",
        "            for x in range(5):\n",
        "                img1 = queries.to(device)\n",
        "                x2 = support_set[:,x]\n",
        "                img2 = x2.view(-1,1,28,28).to(device)\n",
        "       \n",
        "                output1 = model.forward(img1, img2)\n",
        "                #Accuracy over a batch of 10\n",
        "                curr_train_acc = torch.sum(torch.eq(labels[x].cuda(), torch.round(output1.cuda())))/10 #divide by the len of the batch_size\n",
        "\n",
        "                #loss_fn = torch.nn.BCELoss()\n",
        "                loss = criterion(output1, labels[x].float().to(device))\n",
        "                \n",
        "                # Backward and optimize\n",
        "                optimizer.zero_grad()\n",
        "                loss.backward()\n",
        "                optimizer.step()\n",
        "                case_loss += loss.item()\n",
        "\n",
        "            case_loss = case_loss/5\n",
        "            cur_train_acc = curr_train_acc \n",
        "            #print(\"dhdh\")\n",
        "            #print(cur_train_acc)\n",
        "            running_loss += case_loss\n",
        "            running_train_acc += cur_train_acc\n",
        "          \n",
        "\n",
        "        avg_train_loss = running_loss / len(train_loader)\n",
        "        train_losses.append(avg_train_loss)\n",
        "        avg_train_acc = running_train_acc/len(train_loader) \n",
        "\n",
        "        train_acc.append(avg_train_acc)\n",
        "        \n",
        "        val_running_loss = 0.0\n",
        "        running_val_acc = 0.0 \n",
        "        with torch.no_grad():\n",
        "            model.eval()\n",
        "            for val_data, labels in test_loader:\n",
        "                support_set, queries = np.split(val_data, [5], axis=1)\n",
        "                labels =  torch.tensor_split(labels, 5, dim=1)\n",
        "                case_loss = 0.0\n",
        "                curr_val_acc = 0\n",
        "                for x in range(5):\n",
        "                    img1 = queries.to(device)\n",
        "                    #img2 = support_set.to(device)\n",
        "                    x2 = support_set[:,x]\n",
        "                    img2 = x2.view(-1,1,28,28).to(device)\n",
        "                    #labels = labels[:,x].view(-1,1).to(device)\n",
        "                    output2 = model.forward(img1, img2)\n",
        "\n",
        "                    #Accuracy over a batch of 10\n",
        "                    curr_val_acc = torch.sum(torch.eq(labels[x].cuda(), torch.round(output2.cuda())))/10 #divide by the len of the batch_size\n",
        "               \n",
        "                    loss = criterion(output2, labels[x].float().to(device))\n",
        "                    case_loss += loss.item()\n",
        "\n",
        "                case_loss = case_loss/5\n",
        "                cur_val_acc = curr_val_acc/5 #divide by the no of images in the support set\n",
        "                val_running_loss += case_loss\n",
        "                running_val_acc += curr_val_acc\n",
        "\n",
        "        avg_val_loss = val_running_loss / len(val_loader)\n",
        "        val_losses.append(avg_val_loss)\n",
        "\n",
        "        avg_val_acc = running_val_acc/len(val_loader)\n",
        "        val_acc.append(avg_val_acc)\n",
        "        \n",
        "        print('Epoch [{}/{}],Train Loss: {:.4f}, Valid Loss: {:.8f}, Train Acc : {:.4f}, Val Acc : {:.8f}' \n",
        "            .format(epoch+1, num_epochs, avg_train_loss, avg_val_loss, avg_train_acc ,avg_val_acc ))\n",
        "        if avg_val_loss < best_val_loss:\n",
        "            best_val_loss = avg_val_loss \n",
        "            save_model_checkpoint(save_name, model, optimizer, best_val_loss, avg_val_acc, avg_train_acc, avg_train_loss )\n",
        "    \n",
        "    print(\"Finished Training\")  \n",
        "    return train_losses, val_losses, train_acc, val_acc  "
      ]
    },
    {
      "cell_type": "code",
      "execution_count": 31,
      "id": "0e745781",
      "metadata": {
        "colab": {
          "base_uri": "https://localhost:8080/"
        },
        "id": "0e745781",
        "outputId": "078045c5-f84c-482f-e4fd-3eaedba5a821"
      },
      "outputs": [
        {
          "output_type": "stream",
          "name": "stdout",
          "text": [
            "Starting epoch 1\n",
            "Epoch [1/200],Train Loss: 0.4242, Valid Loss: 0.32452751, Train Acc : 0.7888, Val Acc : 0.85700035\n",
            "Model Saved to ==> SiameseNet_BCE_w_acc.pt\n",
            "Starting epoch 2\n",
            "Epoch [2/200],Train Loss: 0.2444, Valid Loss: 0.25315111, Train Acc : 0.9066, Val Acc : 0.89800042\n",
            "Model Saved to ==> SiameseNet_BCE_w_acc.pt\n",
            "Starting epoch 3\n",
            "Epoch [3/200],Train Loss: 0.1542, Valid Loss: 0.24564786, Train Acc : 0.9471, Val Acc : 0.90500045\n",
            "Model Saved to ==> SiameseNet_BCE_w_acc.pt\n",
            "Starting epoch 4\n",
            "Epoch [4/200],Train Loss: 0.0875, Valid Loss: 0.25548841, Train Acc : 0.9745, Val Acc : 0.89600033\n",
            "Starting epoch 5\n",
            "Epoch [5/200],Train Loss: 0.0467, Valid Loss: 0.28396550, Train Acc : 0.9883, Val Acc : 0.90100026\n",
            "Starting epoch 6\n",
            "Epoch [6/200],Train Loss: 0.0330, Valid Loss: 0.28020900, Train Acc : 0.9919, Val Acc : 0.89900023\n",
            "Starting epoch 7\n",
            "Epoch [7/200],Train Loss: 0.0266, Valid Loss: 0.31351651, Train Acc : 0.9934, Val Acc : 0.91300029\n",
            "Starting epoch 8\n",
            "Epoch [8/200],Train Loss: 0.0227, Valid Loss: 0.29253013, Train Acc : 0.9931, Val Acc : 0.91200036\n",
            "Starting epoch 9\n",
            "Epoch [9/200],Train Loss: 0.0189, Valid Loss: 0.32132516, Train Acc : 0.9947, Val Acc : 0.90900040\n",
            "Starting epoch 10\n",
            "Epoch [10/200],Train Loss: 0.0171, Valid Loss: 0.35505817, Train Acc : 0.9949, Val Acc : 0.90400040\n",
            "Starting epoch 11\n",
            "Epoch [11/200],Train Loss: 0.0127, Valid Loss: 0.34665667, Train Acc : 0.9967, Val Acc : 0.91200042\n",
            "Starting epoch 12\n",
            "Epoch [12/200],Train Loss: 0.0133, Valid Loss: 0.36770577, Train Acc : 0.9969, Val Acc : 0.90400046\n",
            "Starting epoch 13\n",
            "Epoch [13/200],Train Loss: 0.0112, Valid Loss: 0.34041963, Train Acc : 0.9967, Val Acc : 0.91200042\n",
            "Starting epoch 14\n",
            "Epoch [14/200],Train Loss: 0.0104, Valid Loss: 0.41780965, Train Acc : 0.9967, Val Acc : 0.90100056\n",
            "Starting epoch 15\n",
            "Epoch [15/200],Train Loss: 0.0083, Valid Loss: 0.37049071, Train Acc : 0.9981, Val Acc : 0.91700053\n",
            "Starting epoch 16\n",
            "Epoch [16/200],Train Loss: 0.0096, Valid Loss: 0.39781519, Train Acc : 0.9978, Val Acc : 0.91000050\n",
            "Starting epoch 17\n",
            "Epoch [17/200],Train Loss: 0.0087, Valid Loss: 0.38554944, Train Acc : 0.9974, Val Acc : 0.91400045\n",
            "Starting epoch 18\n",
            "Epoch [18/200],Train Loss: 0.0080, Valid Loss: 0.35821920, Train Acc : 0.9980, Val Acc : 0.91700047\n",
            "Starting epoch 19\n",
            "Epoch [19/200],Train Loss: 0.0073, Valid Loss: 0.37695512, Train Acc : 0.9979, Val Acc : 0.91900033\n",
            "Starting epoch 20\n",
            "Epoch [20/200],Train Loss: 0.0064, Valid Loss: 0.39892018, Train Acc : 0.9979, Val Acc : 0.92000020\n",
            "Starting epoch 21\n",
            "Epoch [21/200],Train Loss: 0.0061, Valid Loss: 0.40251502, Train Acc : 0.9985, Val Acc : 0.91600049\n",
            "Starting epoch 22\n",
            "Epoch [22/200],Train Loss: 0.0054, Valid Loss: 0.42567313, Train Acc : 0.9988, Val Acc : 0.91200048\n",
            "Starting epoch 23\n",
            "Epoch [23/200],Train Loss: 0.0056, Valid Loss: 0.41296554, Train Acc : 0.9979, Val Acc : 0.92000037\n",
            "Starting epoch 24\n",
            "Epoch [24/200],Train Loss: 0.0055, Valid Loss: 0.38608101, Train Acc : 0.9987, Val Acc : 0.91800040\n",
            "Starting epoch 25\n",
            "Epoch [25/200],Train Loss: 0.0045, Valid Loss: 0.37851338, Train Acc : 0.9990, Val Acc : 0.91900039\n",
            "Starting epoch 26\n",
            "Epoch [26/200],Train Loss: 0.0046, Valid Loss: 0.44031448, Train Acc : 0.9990, Val Acc : 0.90800053\n",
            "Starting epoch 27\n",
            "Epoch [27/200],Train Loss: 0.0055, Valid Loss: 0.39841253, Train Acc : 0.9988, Val Acc : 0.92300034\n",
            "Starting epoch 28\n",
            "Epoch [28/200],Train Loss: 0.0039, Valid Loss: 0.45717634, Train Acc : 0.9984, Val Acc : 0.91200048\n",
            "Starting epoch 29\n",
            "Epoch [29/200],Train Loss: 0.0043, Valid Loss: 0.36927518, Train Acc : 0.9991, Val Acc : 0.91700041\n",
            "Starting epoch 30\n",
            "Epoch [30/200],Train Loss: 0.0050, Valid Loss: 0.42169038, Train Acc : 0.9986, Val Acc : 0.91900033\n",
            "Starting epoch 31\n",
            "Epoch [31/200],Train Loss: 0.0049, Valid Loss: 0.48971241, Train Acc : 0.9980, Val Acc : 0.90600038\n",
            "Starting epoch 32\n",
            "Epoch [32/200],Train Loss: 0.0039, Valid Loss: 0.44366312, Train Acc : 0.9983, Val Acc : 0.90400028\n",
            "Starting epoch 33\n",
            "Epoch [33/200],Train Loss: 0.0039, Valid Loss: 0.38957959, Train Acc : 0.9991, Val Acc : 0.91800040\n",
            "Starting epoch 34\n",
            "Epoch [34/200],Train Loss: 0.0039, Valid Loss: 0.41940456, Train Acc : 0.9994, Val Acc : 0.92300045\n",
            "Starting epoch 35\n",
            "Epoch [35/200],Train Loss: 0.0033, Valid Loss: 0.40178224, Train Acc : 0.9987, Val Acc : 0.91300029\n",
            "Starting epoch 36\n",
            "Epoch [36/200],Train Loss: 0.0038, Valid Loss: 0.44211860, Train Acc : 0.9992, Val Acc : 0.91500026\n",
            "Starting epoch 37\n",
            "Epoch [37/200],Train Loss: 0.0032, Valid Loss: 0.47210570, Train Acc : 0.9991, Val Acc : 0.91100037\n",
            "Starting epoch 38\n",
            "Epoch [38/200],Train Loss: 0.0028, Valid Loss: 0.42409612, Train Acc : 0.9991, Val Acc : 0.91300029\n",
            "Starting epoch 39\n",
            "Epoch [39/200],Train Loss: 0.0030, Valid Loss: 0.45223344, Train Acc : 0.9993, Val Acc : 0.90700048\n",
            "Starting epoch 40\n",
            "Epoch [40/200],Train Loss: 0.0020, Valid Loss: 0.45356480, Train Acc : 0.9996, Val Acc : 0.92000043\n",
            "Starting epoch 41\n",
            "Epoch [41/200],Train Loss: 0.0032, Valid Loss: 0.41739136, Train Acc : 0.9992, Val Acc : 0.92000049\n",
            "Starting epoch 42\n",
            "Epoch [42/200],Train Loss: 0.0019, Valid Loss: 0.43226748, Train Acc : 0.9993, Val Acc : 0.91300046\n",
            "Starting epoch 43\n",
            "Epoch [43/200],Train Loss: 0.0026, Valid Loss: 0.43505184, Train Acc : 0.9994, Val Acc : 0.91700035\n",
            "Starting epoch 44\n",
            "Epoch [44/200],Train Loss: 0.0030, Valid Loss: 0.46786921, Train Acc : 0.9995, Val Acc : 0.91700041\n",
            "Starting epoch 45\n",
            "Epoch [45/200],Train Loss: 0.0022, Valid Loss: 0.44263626, Train Acc : 1.0000, Val Acc : 0.92600042\n",
            "Starting epoch 46\n",
            "Epoch [46/200],Train Loss: 0.0027, Valid Loss: 0.44871367, Train Acc : 0.9994, Val Acc : 0.92500043\n",
            "Starting epoch 47\n",
            "Epoch [47/200],Train Loss: 0.0023, Valid Loss: 0.50740373, Train Acc : 0.9993, Val Acc : 0.93000048\n",
            "Starting epoch 48\n",
            "Epoch [48/200],Train Loss: 0.0017, Valid Loss: 0.44004721, Train Acc : 0.9995, Val Acc : 0.91600049\n",
            "Starting epoch 49\n",
            "Epoch [49/200],Train Loss: 0.0023, Valid Loss: 0.44777307, Train Acc : 0.9995, Val Acc : 0.91800046\n",
            "Starting epoch 50\n",
            "Epoch [50/200],Train Loss: 0.0018, Valid Loss: 0.41567699, Train Acc : 0.9997, Val Acc : 0.92500043\n",
            "Starting epoch 51\n",
            "Epoch [51/200],Train Loss: 0.0015, Valid Loss: 0.45791991, Train Acc : 0.9995, Val Acc : 0.92200041\n",
            "Starting epoch 52\n",
            "Epoch [52/200],Train Loss: 0.0024, Valid Loss: 0.44989175, Train Acc : 0.9992, Val Acc : 0.91000038\n",
            "Starting epoch 53\n",
            "Epoch [53/200],Train Loss: 0.0017, Valid Loss: 0.47963318, Train Acc : 0.9994, Val Acc : 0.91800052\n",
            "Starting epoch 54\n",
            "Epoch [54/200],Train Loss: 0.0027, Valid Loss: 0.45446392, Train Acc : 0.9993, Val Acc : 0.92000061\n",
            "Starting epoch 55\n",
            "Epoch [55/200],Train Loss: 0.0020, Valid Loss: 0.48911638, Train Acc : 0.9989, Val Acc : 0.92000049\n",
            "Starting epoch 56\n",
            "Epoch [56/200],Train Loss: 0.0017, Valid Loss: 0.41806422, Train Acc : 0.9995, Val Acc : 0.92400062\n",
            "Starting epoch 57\n",
            "Epoch [57/200],Train Loss: 0.0024, Valid Loss: 0.45514939, Train Acc : 0.9994, Val Acc : 0.91800040\n",
            "Starting epoch 58\n",
            "Epoch [58/200],Train Loss: 0.0012, Valid Loss: 0.43509472, Train Acc : 0.9997, Val Acc : 0.92400044\n",
            "Starting epoch 59\n",
            "Epoch [59/200],Train Loss: 0.0021, Valid Loss: 0.50296570, Train Acc : 0.9997, Val Acc : 0.92000049\n",
            "Starting epoch 60\n",
            "Epoch [60/200],Train Loss: 0.0023, Valid Loss: 0.53658001, Train Acc : 0.9995, Val Acc : 0.91900051\n",
            "Starting epoch 61\n",
            "Epoch [61/200],Train Loss: 0.0018, Valid Loss: 0.48621855, Train Acc : 0.9995, Val Acc : 0.91600055\n",
            "Starting epoch 62\n",
            "Epoch [62/200],Train Loss: 0.0020, Valid Loss: 0.49635835, Train Acc : 0.9993, Val Acc : 0.92300051\n",
            "Starting epoch 63\n",
            "Epoch [63/200],Train Loss: 0.0017, Valid Loss: 0.47902637, Train Acc : 0.9998, Val Acc : 0.91700047\n",
            "Starting epoch 64\n",
            "Epoch [64/200],Train Loss: 0.0014, Valid Loss: 0.51200584, Train Acc : 0.9995, Val Acc : 0.91300052\n",
            "Starting epoch 65\n",
            "Epoch [65/200],Train Loss: 0.0013, Valid Loss: 0.57101365, Train Acc : 0.9998, Val Acc : 0.92000037\n",
            "Starting epoch 66\n",
            "Epoch [66/200],Train Loss: 0.0010, Valid Loss: 0.55646682, Train Acc : 0.9996, Val Acc : 0.91800046\n",
            "Starting epoch 67\n",
            "Epoch [67/200],Train Loss: 0.0018, Valid Loss: 0.47627700, Train Acc : 0.9996, Val Acc : 0.91500044\n",
            "Starting epoch 68\n",
            "Epoch [68/200],Train Loss: 0.0019, Valid Loss: 0.50371238, Train Acc : 0.9995, Val Acc : 0.91700053\n",
            "Starting epoch 69\n",
            "Epoch [69/200],Train Loss: 0.0011, Valid Loss: 0.45807947, Train Acc : 0.9999, Val Acc : 0.92500037\n",
            "Starting epoch 70\n",
            "Epoch [70/200],Train Loss: 0.0018, Valid Loss: 0.49541706, Train Acc : 0.9993, Val Acc : 0.90800047\n",
            "Starting epoch 71\n",
            "Epoch [71/200],Train Loss: 0.0018, Valid Loss: 0.49387031, Train Acc : 0.9999, Val Acc : 0.90500051\n",
            "Starting epoch 72\n",
            "Epoch [72/200],Train Loss: 0.0017, Valid Loss: 0.43683836, Train Acc : 0.9998, Val Acc : 0.91800046\n",
            "Starting epoch 73\n",
            "Epoch [73/200],Train Loss: 0.0007, Valid Loss: 0.46706965, Train Acc : 0.9999, Val Acc : 0.91700047\n",
            "Starting epoch 74\n",
            "Epoch [74/200],Train Loss: 0.0015, Valid Loss: 0.49830509, Train Acc : 0.9998, Val Acc : 0.92800039\n",
            "Starting epoch 75\n",
            "Epoch [75/200],Train Loss: 0.0012, Valid Loss: 0.46761892, Train Acc : 0.9998, Val Acc : 0.92300034\n",
            "Starting epoch 76\n",
            "Epoch [76/200],Train Loss: 0.0013, Valid Loss: 0.47250645, Train Acc : 0.9994, Val Acc : 0.92400050\n",
            "Starting epoch 77\n",
            "Epoch [77/200],Train Loss: 0.0015, Valid Loss: 0.54219821, Train Acc : 0.9996, Val Acc : 0.91300046\n",
            "Starting epoch 78\n",
            "Epoch [78/200],Train Loss: 0.0015, Valid Loss: 0.47342559, Train Acc : 0.9996, Val Acc : 0.93500036\n",
            "Starting epoch 79\n",
            "Epoch [79/200],Train Loss: 0.0011, Valid Loss: 0.48079831, Train Acc : 0.9995, Val Acc : 0.91800034\n",
            "Starting epoch 80\n",
            "Epoch [80/200],Train Loss: 0.0014, Valid Loss: 0.53837079, Train Acc : 0.9997, Val Acc : 0.92700022\n",
            "Starting epoch 81\n",
            "Epoch [81/200],Train Loss: 0.0016, Valid Loss: 0.49585864, Train Acc : 0.9996, Val Acc : 0.92600042\n",
            "Starting epoch 82\n",
            "Epoch [82/200],Train Loss: 0.0012, Valid Loss: 0.54286104, Train Acc : 0.9998, Val Acc : 0.91900039\n",
            "Starting epoch 83\n",
            "Epoch [83/200],Train Loss: 0.0013, Valid Loss: 0.56703658, Train Acc : 0.9997, Val Acc : 0.91100049\n",
            "Starting epoch 84\n",
            "Epoch [84/200],Train Loss: 0.0017, Valid Loss: 0.48803722, Train Acc : 0.9995, Val Acc : 0.92100024\n",
            "Starting epoch 85\n",
            "Epoch [85/200],Train Loss: 0.0017, Valid Loss: 0.53093929, Train Acc : 0.9995, Val Acc : 0.91300046\n",
            "Starting epoch 86\n",
            "Epoch [86/200],Train Loss: 0.0016, Valid Loss: 0.50780756, Train Acc : 0.9995, Val Acc : 0.91900051\n",
            "Starting epoch 87\n",
            "Epoch [87/200],Train Loss: 0.0017, Valid Loss: 0.55208277, Train Acc : 0.9996, Val Acc : 0.92100060\n",
            "Starting epoch 88\n",
            "Epoch [88/200],Train Loss: 0.0010, Valid Loss: 0.49372804, Train Acc : 0.9999, Val Acc : 0.91100067\n",
            "Starting epoch 89\n",
            "Epoch [89/200],Train Loss: 0.0010, Valid Loss: 0.54998075, Train Acc : 0.9995, Val Acc : 0.92600060\n",
            "Starting epoch 90\n",
            "Epoch [90/200],Train Loss: 0.0002, Valid Loss: 0.50031211, Train Acc : 1.0000, Val Acc : 0.92700046\n",
            "Starting epoch 91\n",
            "Epoch [91/200],Train Loss: 0.0010, Valid Loss: 0.52429178, Train Acc : 0.9995, Val Acc : 0.92400050\n",
            "Starting epoch 92\n",
            "Epoch [92/200],Train Loss: 0.0007, Valid Loss: 0.52428665, Train Acc : 0.9998, Val Acc : 0.93000042\n",
            "Starting epoch 93\n",
            "Epoch [93/200],Train Loss: 0.0016, Valid Loss: 0.56750822, Train Acc : 0.9998, Val Acc : 0.91500044\n",
            "Starting epoch 94\n",
            "Epoch [94/200],Train Loss: 0.0013, Valid Loss: 0.56299810, Train Acc : 0.9995, Val Acc : 0.91600025\n",
            "Starting epoch 95\n",
            "Epoch [95/200],Train Loss: 0.0016, Valid Loss: 0.53598380, Train Acc : 0.9993, Val Acc : 0.92500031\n",
            "Starting epoch 96\n",
            "Epoch [96/200],Train Loss: 0.0014, Valid Loss: 0.56389094, Train Acc : 0.9999, Val Acc : 0.92200035\n",
            "Starting epoch 97\n",
            "Epoch [97/200],Train Loss: 0.0014, Valid Loss: 0.46938838, Train Acc : 0.9998, Val Acc : 0.93000036\n",
            "Starting epoch 98\n",
            "Epoch [98/200],Train Loss: 0.0011, Valid Loss: 0.57693168, Train Acc : 0.9999, Val Acc : 0.92600018\n",
            "Starting epoch 99\n",
            "Epoch [99/200],Train Loss: 0.0008, Valid Loss: 0.61773919, Train Acc : 1.0000, Val Acc : 0.92000049\n",
            "Starting epoch 100\n",
            "Epoch [100/200],Train Loss: 0.0007, Valid Loss: 0.58125568, Train Acc : 0.9999, Val Acc : 0.92300051\n",
            "Starting epoch 101\n",
            "Epoch [101/200],Train Loss: 0.0011, Valid Loss: 0.56210999, Train Acc : 0.9998, Val Acc : 0.92200041\n",
            "Starting epoch 102\n",
            "Epoch [102/200],Train Loss: 0.0017, Valid Loss: 0.54693739, Train Acc : 0.9997, Val Acc : 0.92400050\n",
            "Starting epoch 103\n",
            "Epoch [103/200],Train Loss: 0.0014, Valid Loss: 0.61846931, Train Acc : 0.9994, Val Acc : 0.92400044\n",
            "Starting epoch 104\n",
            "Epoch [104/200],Train Loss: 0.0006, Valid Loss: 0.62025373, Train Acc : 1.0000, Val Acc : 0.92300040\n",
            "Starting epoch 105\n",
            "Epoch [105/200],Train Loss: 0.0012, Valid Loss: 0.56051746, Train Acc : 0.9996, Val Acc : 0.92700022\n",
            "Starting epoch 106\n",
            "Epoch [106/200],Train Loss: 0.0022, Valid Loss: 0.57434353, Train Acc : 0.9995, Val Acc : 0.91200054\n",
            "Starting epoch 107\n",
            "Epoch [107/200],Train Loss: 0.0013, Valid Loss: 0.61731832, Train Acc : 0.9998, Val Acc : 0.92600042\n",
            "Starting epoch 108\n",
            "Epoch [108/200],Train Loss: 0.0011, Valid Loss: 0.57407589, Train Acc : 0.9996, Val Acc : 0.91800040\n",
            "Starting epoch 109\n",
            "Epoch [109/200],Train Loss: 0.0017, Valid Loss: 0.62019299, Train Acc : 0.9996, Val Acc : 0.91200048\n",
            "Starting epoch 110\n",
            "Epoch [110/200],Train Loss: 0.0015, Valid Loss: 0.59589432, Train Acc : 0.9994, Val Acc : 0.91900039\n",
            "Starting epoch 111\n",
            "Epoch [111/200],Train Loss: 0.0019, Valid Loss: 0.52229804, Train Acc : 0.9994, Val Acc : 0.92000043\n",
            "Starting epoch 112\n",
            "Epoch [112/200],Train Loss: 0.0017, Valid Loss: 0.55794455, Train Acc : 0.9997, Val Acc : 0.92300045\n",
            "Starting epoch 113\n",
            "Epoch [113/200],Train Loss: 0.0005, Valid Loss: 0.61133049, Train Acc : 0.9999, Val Acc : 0.91800064\n",
            "Starting epoch 114\n",
            "Epoch [114/200],Train Loss: 0.0015, Valid Loss: 0.59190874, Train Acc : 0.9996, Val Acc : 0.92100048\n",
            "Starting epoch 115\n",
            "Epoch [115/200],Train Loss: 0.0016, Valid Loss: 0.67215610, Train Acc : 0.9995, Val Acc : 0.91600055\n",
            "Starting epoch 116\n",
            "Epoch [116/200],Train Loss: 0.0012, Valid Loss: 0.55289734, Train Acc : 0.9995, Val Acc : 0.92600048\n",
            "Starting epoch 117\n",
            "Epoch [117/200],Train Loss: 0.0009, Valid Loss: 0.54313311, Train Acc : 0.9995, Val Acc : 0.91700053\n",
            "Starting epoch 118\n",
            "Epoch [118/200],Train Loss: 0.0013, Valid Loss: 0.55074281, Train Acc : 0.9999, Val Acc : 0.93300045\n",
            "Starting epoch 119\n",
            "Epoch [119/200],Train Loss: 0.0013, Valid Loss: 0.55750758, Train Acc : 0.9995, Val Acc : 0.92500037\n",
            "Starting epoch 120\n",
            "Epoch [120/200],Train Loss: 0.0010, Valid Loss: 0.54323366, Train Acc : 0.9996, Val Acc : 0.92100048\n",
            "Starting epoch 121\n",
            "Epoch [121/200],Train Loss: 0.0009, Valid Loss: 0.54085582, Train Acc : 0.9998, Val Acc : 0.92800039\n",
            "Starting epoch 122\n",
            "Epoch [122/200],Train Loss: 0.0008, Valid Loss: 0.50185359, Train Acc : 0.9998, Val Acc : 0.93000042\n",
            "Starting epoch 123\n",
            "Epoch [123/200],Train Loss: 0.0009, Valid Loss: 0.54815583, Train Acc : 0.9995, Val Acc : 0.92600048\n",
            "Starting epoch 124\n",
            "Epoch [124/200],Train Loss: 0.0008, Valid Loss: 0.51410063, Train Acc : 0.9998, Val Acc : 0.93000036\n",
            "Starting epoch 125\n",
            "Epoch [125/200],Train Loss: 0.0009, Valid Loss: 0.51715588, Train Acc : 0.9992, Val Acc : 0.92600042\n",
            "Starting epoch 126\n",
            "Epoch [126/200],Train Loss: 0.0009, Valid Loss: 0.49305296, Train Acc : 0.9999, Val Acc : 0.93000036\n",
            "Starting epoch 127\n",
            "Epoch [127/200],Train Loss: 0.0016, Valid Loss: 0.61938283, Train Acc : 0.9997, Val Acc : 0.91600043\n",
            "Starting epoch 128\n",
            "Epoch [128/200],Train Loss: 0.0018, Valid Loss: 0.53763211, Train Acc : 0.9996, Val Acc : 0.92300045\n",
            "Starting epoch 129\n",
            "Epoch [129/200],Train Loss: 0.0018, Valid Loss: 0.53699118, Train Acc : 0.9993, Val Acc : 0.92600042\n",
            "Starting epoch 130\n",
            "Epoch [130/200],Train Loss: 0.0019, Valid Loss: 0.49786196, Train Acc : 0.9998, Val Acc : 0.92400044\n",
            "Starting epoch 131\n",
            "Epoch [131/200],Train Loss: 0.0017, Valid Loss: 0.43647254, Train Acc : 0.9992, Val Acc : 0.93600035\n",
            "Starting epoch 132\n",
            "Epoch [132/200],Train Loss: 0.0020, Valid Loss: 0.50577848, Train Acc : 0.9995, Val Acc : 0.93000042\n",
            "Starting epoch 133\n",
            "Epoch [133/200],Train Loss: 0.0012, Valid Loss: 0.46796524, Train Acc : 0.9996, Val Acc : 0.92800033\n",
            "Starting epoch 134\n",
            "Epoch [134/200],Train Loss: 0.0025, Valid Loss: 0.53895667, Train Acc : 0.9991, Val Acc : 0.92500037\n",
            "Starting epoch 135\n",
            "Epoch [135/200],Train Loss: 0.0023, Valid Loss: 0.60208047, Train Acc : 0.9994, Val Acc : 0.91700047\n",
            "Starting epoch 136\n",
            "Epoch [136/200],Train Loss: 0.0015, Valid Loss: 0.50618431, Train Acc : 0.9995, Val Acc : 0.92600042\n",
            "Starting epoch 137\n",
            "Epoch [137/200],Train Loss: 0.0006, Valid Loss: 0.53185871, Train Acc : 0.9998, Val Acc : 0.91900045\n",
            "Starting epoch 138\n",
            "Epoch [138/200],Train Loss: 0.0009, Valid Loss: 0.49259985, Train Acc : 0.9997, Val Acc : 0.93300027\n",
            "Starting epoch 139\n",
            "Epoch [139/200],Train Loss: 0.0013, Valid Loss: 0.58536469, Train Acc : 0.9997, Val Acc : 0.92200023\n",
            "Starting epoch 140\n",
            "Epoch [140/200],Train Loss: 0.0009, Valid Loss: 0.55408597, Train Acc : 0.9997, Val Acc : 0.91400027\n",
            "Starting epoch 141\n",
            "Epoch [141/200],Train Loss: 0.0021, Valid Loss: 0.58912606, Train Acc : 0.9996, Val Acc : 0.92100036\n",
            "Starting epoch 142\n",
            "Epoch [142/200],Train Loss: 0.0025, Valid Loss: 0.59705631, Train Acc : 0.9988, Val Acc : 0.91400051\n",
            "Starting epoch 143\n",
            "Epoch [143/200],Train Loss: 0.0015, Valid Loss: 0.64452089, Train Acc : 0.9997, Val Acc : 0.92300022\n",
            "Starting epoch 144\n",
            "Epoch [144/200],Train Loss: 0.0016, Valid Loss: 0.50765274, Train Acc : 0.9991, Val Acc : 0.92000037\n",
            "Starting epoch 145\n",
            "Epoch [145/200],Train Loss: 0.0013, Valid Loss: 0.51536099, Train Acc : 0.9998, Val Acc : 0.92500037\n",
            "Starting epoch 146\n",
            "Epoch [146/200],Train Loss: 0.0018, Valid Loss: 0.52622528, Train Acc : 0.9994, Val Acc : 0.92900032\n",
            "Starting epoch 147\n",
            "Epoch [147/200],Train Loss: 0.0013, Valid Loss: 0.56442895, Train Acc : 0.9997, Val Acc : 0.93000036\n",
            "Starting epoch 148\n",
            "Epoch [148/200],Train Loss: 0.0016, Valid Loss: 0.54323203, Train Acc : 0.9999, Val Acc : 0.93100047\n",
            "Starting epoch 149\n",
            "Epoch [149/200],Train Loss: 0.0009, Valid Loss: 0.48736301, Train Acc : 0.9998, Val Acc : 0.92100036\n",
            "Starting epoch 150\n",
            "Epoch [150/200],Train Loss: 0.0014, Valid Loss: 0.55428771, Train Acc : 0.9993, Val Acc : 0.93400031\n",
            "Starting epoch 151\n",
            "Epoch [151/200],Train Loss: 0.0014, Valid Loss: 0.51877837, Train Acc : 0.9993, Val Acc : 0.92700040\n",
            "Starting epoch 152\n",
            "Epoch [152/200],Train Loss: 0.0009, Valid Loss: 0.53519315, Train Acc : 0.9998, Val Acc : 0.92300051\n",
            "Starting epoch 153\n",
            "Epoch [153/200],Train Loss: 0.0029, Valid Loss: 0.51192253, Train Acc : 0.9991, Val Acc : 0.92700040\n",
            "Starting epoch 154\n",
            "Epoch [154/200],Train Loss: 0.0022, Valid Loss: 0.50637274, Train Acc : 0.9995, Val Acc : 0.93400019\n",
            "Starting epoch 155\n",
            "Epoch [155/200],Train Loss: 0.0011, Valid Loss: 0.55316924, Train Acc : 0.9994, Val Acc : 0.92500043\n",
            "Starting epoch 156\n",
            "Epoch [156/200],Train Loss: 0.0016, Valid Loss: 0.56880010, Train Acc : 0.9993, Val Acc : 0.92800039\n",
            "Starting epoch 157\n",
            "Epoch [157/200],Train Loss: 0.0014, Valid Loss: 0.60219978, Train Acc : 0.9997, Val Acc : 0.92700040\n",
            "Starting epoch 158\n",
            "Epoch [158/200],Train Loss: 0.0013, Valid Loss: 0.56809028, Train Acc : 0.9996, Val Acc : 0.92000049\n",
            "Starting epoch 159\n",
            "Epoch [159/200],Train Loss: 0.0013, Valid Loss: 0.57784050, Train Acc : 0.9998, Val Acc : 0.91000038\n",
            "Starting epoch 160\n",
            "Epoch [160/200],Train Loss: 0.0013, Valid Loss: 0.58084059, Train Acc : 0.9993, Val Acc : 0.91800046\n",
            "Starting epoch 161\n",
            "Epoch [161/200],Train Loss: 0.0014, Valid Loss: 0.56349526, Train Acc : 0.9995, Val Acc : 0.92200047\n",
            "Starting epoch 162\n",
            "Epoch [162/200],Train Loss: 0.0021, Valid Loss: 0.50277470, Train Acc : 0.9993, Val Acc : 0.93500042\n",
            "Starting epoch 163\n",
            "Epoch [163/200],Train Loss: 0.0024, Valid Loss: 0.64383999, Train Acc : 0.9991, Val Acc : 0.92200041\n",
            "Starting epoch 164\n",
            "Epoch [164/200],Train Loss: 0.0012, Valid Loss: 0.57662032, Train Acc : 0.9998, Val Acc : 0.91500044\n",
            "Starting epoch 165\n",
            "Epoch [165/200],Train Loss: 0.0012, Valid Loss: 0.54559516, Train Acc : 0.9994, Val Acc : 0.92800045\n",
            "Starting epoch 166\n",
            "Epoch [166/200],Train Loss: 0.0019, Valid Loss: 0.58374857, Train Acc : 0.9995, Val Acc : 0.92900056\n",
            "Starting epoch 167\n",
            "Epoch [167/200],Train Loss: 0.0015, Valid Loss: 0.62754603, Train Acc : 0.9996, Val Acc : 0.92600042\n",
            "Starting epoch 168\n",
            "Epoch [168/200],Train Loss: 0.0008, Valid Loss: 0.60720716, Train Acc : 0.9998, Val Acc : 0.91900045\n",
            "Starting epoch 169\n",
            "Epoch [169/200],Train Loss: 0.0019, Valid Loss: 0.52372992, Train Acc : 0.9994, Val Acc : 0.92800045\n",
            "Starting epoch 170\n",
            "Epoch [170/200],Train Loss: 0.0017, Valid Loss: 0.55749391, Train Acc : 0.9995, Val Acc : 0.92100042\n",
            "Starting epoch 171\n",
            "Epoch [171/200],Train Loss: 0.0019, Valid Loss: 0.54782358, Train Acc : 0.9995, Val Acc : 0.92300045\n",
            "Starting epoch 172\n",
            "Epoch [172/200],Train Loss: 0.0025, Valid Loss: 0.58365975, Train Acc : 0.9991, Val Acc : 0.92100048\n",
            "Starting epoch 173\n",
            "Epoch [173/200],Train Loss: 0.0018, Valid Loss: 0.52140262, Train Acc : 0.9995, Val Acc : 0.92300040\n",
            "Starting epoch 174\n",
            "Epoch [174/200],Train Loss: 0.0022, Valid Loss: 0.55398198, Train Acc : 0.9990, Val Acc : 0.91800034\n",
            "Starting epoch 175\n",
            "Epoch [175/200],Train Loss: 0.0022, Valid Loss: 0.51099908, Train Acc : 0.9994, Val Acc : 0.93300033\n",
            "Starting epoch 176\n",
            "Epoch [176/200],Train Loss: 0.0023, Valid Loss: 0.54871065, Train Acc : 0.9992, Val Acc : 0.92500049\n",
            "Starting epoch 177\n",
            "Epoch [177/200],Train Loss: 0.0015, Valid Loss: 0.58996558, Train Acc : 0.9995, Val Acc : 0.92200035\n",
            "Starting epoch 178\n",
            "Epoch [178/200],Train Loss: 0.0023, Valid Loss: 0.51338811, Train Acc : 0.9993, Val Acc : 0.92500037\n",
            "Starting epoch 179\n",
            "Epoch [179/200],Train Loss: 0.0012, Valid Loss: 0.54505893, Train Acc : 0.9992, Val Acc : 0.93200028\n",
            "Starting epoch 180\n",
            "Epoch [180/200],Train Loss: 0.0016, Valid Loss: 0.47783224, Train Acc : 0.9997, Val Acc : 0.92600042\n",
            "Starting epoch 181\n",
            "Epoch [181/200],Train Loss: 0.0021, Valid Loss: 0.46171815, Train Acc : 0.9992, Val Acc : 0.92700046\n",
            "Starting epoch 182\n",
            "Epoch [182/200],Train Loss: 0.0017, Valid Loss: 0.54633776, Train Acc : 0.9999, Val Acc : 0.92400044\n",
            "Starting epoch 183\n",
            "Epoch [183/200],Train Loss: 0.0019, Valid Loss: 0.54294769, Train Acc : 0.9992, Val Acc : 0.92800045\n",
            "Starting epoch 184\n",
            "Epoch [184/200],Train Loss: 0.0010, Valid Loss: 0.56515788, Train Acc : 0.9996, Val Acc : 0.93400055\n",
            "Starting epoch 185\n",
            "Epoch [185/200],Train Loss: 0.0012, Valid Loss: 0.50728795, Train Acc : 0.9995, Val Acc : 0.92300051\n",
            "Starting epoch 186\n",
            "Epoch [186/200],Train Loss: 0.0012, Valid Loss: 0.55387659, Train Acc : 0.9996, Val Acc : 0.92400050\n",
            "Starting epoch 187\n",
            "Epoch [187/200],Train Loss: 0.0024, Valid Loss: 0.47048210, Train Acc : 0.9992, Val Acc : 0.92700040\n",
            "Starting epoch 188\n",
            "Epoch [188/200],Train Loss: 0.0015, Valid Loss: 0.55096960, Train Acc : 0.9993, Val Acc : 0.91900045\n",
            "Starting epoch 189\n",
            "Epoch [189/200],Train Loss: 0.0013, Valid Loss: 0.49168763, Train Acc : 0.9997, Val Acc : 0.92900056\n",
            "Starting epoch 190\n",
            "Epoch [190/200],Train Loss: 0.0016, Valid Loss: 0.50164431, Train Acc : 0.9995, Val Acc : 0.91400039\n",
            "Starting epoch 191\n",
            "Epoch [191/200],Train Loss: 0.0021, Valid Loss: 0.53579779, Train Acc : 0.9991, Val Acc : 0.91800052\n",
            "Starting epoch 192\n",
            "Epoch [192/200],Train Loss: 0.0019, Valid Loss: 0.60876232, Train Acc : 0.9992, Val Acc : 0.91600043\n",
            "Starting epoch 193\n",
            "Epoch [193/200],Train Loss: 0.0021, Valid Loss: 0.55429626, Train Acc : 0.9996, Val Acc : 0.92500031\n",
            "Starting epoch 194\n",
            "Epoch [194/200],Train Loss: 0.0025, Valid Loss: 0.57212730, Train Acc : 0.9994, Val Acc : 0.92100036\n",
            "Starting epoch 195\n",
            "Epoch [195/200],Train Loss: 0.0065, Valid Loss: 0.47531804, Train Acc : 0.9982, Val Acc : 0.91500026\n",
            "Starting epoch 196\n",
            "Epoch [196/200],Train Loss: 0.0021, Valid Loss: 0.53542777, Train Acc : 0.9994, Val Acc : 0.92300051\n",
            "Starting epoch 197\n",
            "Epoch [197/200],Train Loss: 0.0020, Valid Loss: 0.54378596, Train Acc : 0.9995, Val Acc : 0.92000037\n",
            "Starting epoch 198\n",
            "Epoch [198/200],Train Loss: 0.0033, Valid Loss: 0.52306152, Train Acc : 0.9984, Val Acc : 0.91700065\n",
            "Starting epoch 199\n",
            "Epoch [199/200],Train Loss: 0.0042, Valid Loss: 0.57679447, Train Acc : 0.9982, Val Acc : 0.92000049\n",
            "Starting epoch 200\n",
            "Epoch [200/200],Train Loss: 0.0022, Valid Loss: 0.52937821, Train Acc : 0.9997, Val Acc : 0.92300051\n",
            "Finished Training\n"
          ]
        }
      ],
      "source": [
        "# actual training\n",
        "import torch.optim as optim\n",
        "\n",
        "SiameseNet1 = Siamese_1().cuda()\n",
        "\n",
        "\n",
        "optimizer = optim.Adam(SiameseNet1.parameters(), lr = 3e-4)\n",
        "num_epochs = 200\n",
        "save_name = f'SiameseNet_BCE_w_acc.pt'\n",
        "criterion = BCELoss()\n",
        "\n",
        "obtained_train_loss, obtained_val_loss, obtained_train_acc, obtained_val_acc = train(SiameseNet1, \n",
        "                                                      train_loader, test_loader, criterion, num_epochs, save_name)"
      ]
    },
    {
      "cell_type": "code",
      "execution_count": 49,
      "id": "64252d3e",
      "metadata": {
        "id": "64252d3e"
      },
      "outputs": [],
      "source": [
        "## Evaluation ##"
      ]
    },
    {
      "cell_type": "code",
      "source": [
        "def convert_list_of_tensors(list_input):\n",
        "  converted_tensor_list = []\n",
        "  for tensor in list_input:\n",
        "    converted_tensor_list.append(tensor.to('cpu'))\n",
        "  return converted_tensor_list\n",
        "\n",
        "obtained_train_acc = convert_list_of_tensors(obtained_train_acc)\n",
        "obtained_val_acc = convert_list_of_tensors(obtained_val_acc)"
      ],
      "metadata": {
        "id": "8oBNnzw8nwg6"
      },
      "id": "8oBNnzw8nwg6",
      "execution_count": 43,
      "outputs": []
    },
    {
      "cell_type": "code",
      "execution_count": 60,
      "id": "f0ec19ed",
      "metadata": {
        "id": "f0ec19ed",
        "colab": {
          "base_uri": "https://localhost:8080/",
          "height": 546
        },
        "outputId": "c953b411-2cf1-4b8c-e269-388bd1fff056"
      },
      "outputs": [
        {
          "output_type": "display_data",
          "data": {
            "text/plain": [
              "<Figure size 684x252 with 1 Axes>"
            ],
            "image/png": "[encoded data removed]"
          },
          "metadata": {
            "needs_background": "light"
          }
        },
        {
          "output_type": "stream",
          "name": "stdout",
          "text": [
            "######################################################################\n"
          ]
        },
        {
          "output_type": "display_data",
          "data": {
            "text/plain": [
              "<Figure size 684x252 with 1 Axes>"
            ],
            "image/png": "[encoded data removed]"
          },
          "metadata": {
            "needs_background": "light"
          }
        }
      ],
      "source": [
        "fig = plt.gcf()\n",
        "fig.set_size_inches(9.5, 3.5)\n",
        "plt.plot(range(0,200),obtained_train_loss, label = \"Training Loss\", color = \"blue\")\n",
        "plt.plot(range(0,200),obtained_val_loss, label = \"Validation Loss\", color = \"red\")\n",
        "plt.title('Loss  Vs Epochs', fontsize=14)\n",
        "plt.xlabel('#Epochs', fontsize=14)\n",
        "plt.ylabel('Loss ', fontsize=14)\n",
        "plt.grid(True)\n",
        "plt.legend()\n",
        "plt.show()\n",
        "fig.savefig('Loss.png')\n",
        "fig = plt.gcf()\n",
        "print(\"######################################################################\")\n",
        "fig.set_size_inches(9.5, 3.5)\n",
        "plt.plot(range(0,200),obtained_train_acc, label = \"Training Loss\", color = \"blue\")\n",
        "plt.plot(range(0,200),obtained_val_acc, label = \"Validation Loss\", color = \"red\")\n",
        "plt.title('Accuracy  Vs Epochs', fontsize=14)\n",
        "plt.xlabel('#Epochs', fontsize=14)\n",
        "plt.ylabel('Accuracy ', fontsize=14)\n",
        "plt.grid(True)\n",
        "plt.legend()\n",
        "plt.show()\n",
        "fig.savefig('Accuracy.png')"
      ]
    },
    {
      "cell_type": "code",
      "execution_count": null,
      "id": "651e4c44",
      "metadata": {
        "id": "651e4c44"
      },
      "outputs": [],
      "source": [
        "#Plot the query_image - support set images and the computed similarity between the tw0. (Do this for a batch)"
      ]
    },
    {
      "cell_type": "code",
      "source": [
        ""
      ],
      "metadata": {
        "id": "SAm4dDdoq1bs"
      },
      "id": "SAm4dDdoq1bs",
      "execution_count": null,
      "outputs": []
    },
    {
      "cell_type": "code",
      "source": [
        ""
      ],
      "metadata": {
        "id": "pB-nYq5Qq1f7"
      },
      "id": "pB-nYq5Qq1f7",
      "execution_count": null,
      "outputs": []
    },
    {
      "cell_type": "code",
      "source": [
        ""
      ],
      "metadata": {
        "id": "ZYnsARCVq1iI"
      },
      "id": "ZYnsARCVq1iI",
      "execution_count": null,
      "outputs": []
    },
    {
      "cell_type": "code",
      "source": [
        ""
      ],
      "metadata": {
        "id": "sFBWFL8Cq1kA"
      },
      "id": "sFBWFL8Cq1kA",
      "execution_count": null,
      "outputs": []
    }
  ],
  "metadata": {
    "kernelspec": {
      "display_name": "Python 3 (ipykernel)",
      "language": "python",
      "name": "python3"
    },
    "language_info": {
      "codemirror_mode": {
        "name": "ipython",
        "version": 3
      },
      "file_extension": ".py",
      "mimetype": "text/x-python",
      "name": "python",
      "nbconvert_exporter": "python",
      "pygments_lexer": "ipython3",
      "version": "3.8.12"
    },
    "colab": {
      "name": "Assignment_BCE_Fully_Trained.ipynb",
      "provenance": []
    },
    "accelerator": "GPU"
  },
  "nbformat": 4,
  "nbformat_minor": 5
}