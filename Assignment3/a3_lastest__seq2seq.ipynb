{
 "cells": [
  {
   "cell_type": "markdown",
   "id": "963690b2",
   "metadata": {
    "id": "963690b2"
   },
   "source": [
    "<a href=\"https://colab.research.google.com/github/vlamen/tue-deeplearning/blob/main/assignments/assignment_2_3/a3_skeleton.ipynb\" target=\"_parent\"><img src=\"https://colab.research.google.com/assets/colab-badge.svg\" alt=\"Open In Colab\"/></a>"
   ]
  },
  {
   "cell_type": "markdown",
   "id": "bd8459f1",
   "metadata": {
    "id": "bd8459f1"
   },
   "source": [
    "# Group Number:\n",
    "\n",
    "# Student 1:\n",
    "\n",
    "# Student 2:\n",
    "\n",
    "# Student 3:"
   ]
  },
  {
   "cell_type": "markdown",
   "id": "dde28458",
   "metadata": {
    "id": "dde28458"
   },
   "source": [
    "# Downloading Data and Preliminaries"
   ]
  },
  {
   "cell_type": "code",
   "execution_count": 1,
   "id": "7d0580a5",
   "metadata": {
    "id": "7d0580a5"
   },
   "outputs": [],
   "source": [
    "import pickle\n",
    "import matplotlib.pyplot as plt\n",
    "import matplotlib\n",
    "import numpy as np\n",
    "import torch\n",
    "from zipfile import ZipFile\n",
    "import requests\n",
    "import io"
   ]
  },
  {
   "cell_type": "code",
   "execution_count": 2,
   "id": "8ce00edc",
   "metadata": {
    "id": "8ce00edc"
   },
   "outputs": [],
   "source": [
    "def load_zip(url):\n",
    "    response = requests.get(url)\n",
    "    response.raise_for_status()\n",
    "    zipf = ZipFile(io.BytesIO(response.content))\n",
    "    return {name: zipf.read(name) for name in zipf.namelist()}\n",
    "\n",
    "def load_pickle(zipfile, fn):\n",
    "    return pickle.load(io.BytesIO(zipfile[fn]))"
   ]
  },
  {
   "cell_type": "code",
   "execution_count": 3,
   "id": "bb77a4be",
   "metadata": {
    "id": "bb77a4be"
   },
   "outputs": [],
   "source": [
    "data = load_zip('https://surfdrive.surf.nl/files/index.php/s/cwqGaS22KXgnXtg/download')\n",
    "\n",
    "    \n",
    "\"\"\"\n",
    "simulation_{train, valid, test} is stored as a list of simulations. \n",
    "Each simulation is a numpy array of size (t, 2): For t timesteps an x and y coordinate of our particle.\n",
    "\"\"\"\n",
    "simulation_train = load_pickle(data, 'data/train/simulation.pickle')  # 3.1 + 3.2\n",
    "simulation_valid = load_pickle(data, 'data/valid/simulation.pickle')  # 3.1 + 3.2\n",
    "simulation_test = load_pickle(data, 'data/test/simulation.pickle')  # 3.1 + 3.2\n",
    "\n",
    "\"\"\"\n",
    "charges_{train, valid, test} is stored as a list of simulation-charges. \n",
    "These charges are stored as numpy arrays of size (3,): One value for each charge.\n",
    "\"\"\"\n",
    "charges_train = load_pickle(data, 'data/train/charges.pickle')  # 3.1\n",
    "charges_valid = load_pickle(data, 'data/valid/charges.pickle')  # 3.1\n",
    "charges_test = load_pickle(data, 'data/test/charges.pickle')  # 3.1\n",
    "\n",
    "\"\"\"\n",
    "simulation_continued_{train, valid, test} is stored as a list of simulations. \n",
    "Each simulation is a numpy array of size (t, 2): For t timesteps an x and y coordinate of our particle.\n",
    "\"\"\"\n",
    "simulation_continued_train = load_pickle(data, 'data/train/simulation_continued.pickle')  # 3.2\n",
    "simulation_continued_valid = load_pickle(data, 'data/valid/simulation_continued.pickle')  # 3.2\n",
    "simulation_continued_test = load_pickle(data, 'data/test/simulation_continued.pickle')  # 3.2\n",
    "\n",
    "\"\"\"\n",
    "Note that the indices are shared throughout the different lists, e.g., for the 4th training simulation:\n",
    "simulation_train[3] contains its initial simulation\n",
    "charges_train[3] contains the charges associated with the simulation\n",
    "simulation_continued_train[3] contains the continuation of the simulation \n",
    "                --> simulation_continued_train[3][0] is the state after simulation_train[3][-1]\n",
    "\"\"\"\n",
    "pass"
   ]
  },
  {
   "cell_type": "code",
   "execution_count": 4,
   "id": "10a3438a",
   "metadata": {
    "colab": {
     "base_uri": "https://localhost:8080/"
    },
    "id": "10a3438a",
    "outputId": "68a3bc81-8b2c-460f-a69a-502c3fcde8a5"
   },
   "outputs": [
    {
     "name": "stdout",
     "output_type": "stream",
     "text": [
      "Overview of no. datapoints:\n",
      "\n",
      "Task 3.1:\n",
      "800 train, 100 validation, 100 test simulations\n",
      "800 train, 100 validation, 100 test charge pairs\n",
      "\n",
      "Task 3.2:\n",
      "Since len(simulation_continued_train) < len(simulation_train), we can only use a subset of initial simulations\n",
      "We cut simulation_train down to the first 150 samples in simulation_train_task32\n",
      "150 train, 100 validation, 100 test simulations\n",
      "150 train, 100 validation, 100 test continuations\n",
      "\n",
      "For task 3.1, use:\n",
      "simulation_train + charges_train\n",
      "simulation_valid + charges_valid\n",
      "simulation_test + charges_test\n",
      "\n",
      "For task 3.2, use:\n",
      "simulation_train_task32 + simulation_continued_train\n",
      "simulation_valid + simulation_continued_valid\n",
      "simulation_test + simulation_continued_test\n",
      "\n"
     ]
    }
   ],
   "source": [
    "print('Overview of no. datapoints:\\n')\n",
    "\n",
    "print('Task 3.1:')\n",
    "print(f'{len(simulation_train)} train, {len(simulation_valid)} validation, {len(simulation_test)} test simulations')\n",
    "print(f'{len(charges_train)} train, {len(charges_valid)} validation, {len(charges_test)} test charge pairs')\n",
    "print()\n",
    "\n",
    "print('Task 3.2:')\n",
    "print('Since len(simulation_continued_train) < len(simulation_train), we can only use a subset of initial simulations')\n",
    "print('We cut simulation_train down to the first 150 samples in simulation_train_task32')\n",
    "simulation_train_task32 = simulation_train[:150]\n",
    "print(f'{len(simulation_train_task32)} train, {len(simulation_valid)} validation, {len(simulation_test)} test simulations')\n",
    "print(f'{len(simulation_continued_train)} train, {len(simulation_continued_valid)} validation, {len(simulation_continued_test)} test continuations')\n",
    "\n",
    "print(f\"\"\"\n",
    "For task 3.1, use:\n",
    "{chr(10).join([\"simulation_{} + charges_{}\".format(t, t) for t in [\"train\", \"valid\", \"test\"]])}\n",
    "\n",
    "For task 3.2, use:\n",
    "{chr(10).join([\"simulation_{} + simulation_continued_{}\".format(*((t[0], t[1]) if isinstance(t, tuple) else (t, t))) for t in [(\"train_task32\", \"train\"), \"valid\", \"test\"]])}\n",
    "\"\"\")\n"
   ]
  },
  {
   "cell_type": "code",
   "execution_count": 5,
   "id": "3cfafdb3",
   "metadata": {
    "colab": {
     "base_uri": "https://localhost:8080/"
    },
    "id": "3cfafdb3",
    "outputId": "d30d1fa3-5653-4e8c-f721-703acb4e3219"
   },
   "outputs": [
    {
     "name": "stdout",
     "output_type": "stream",
     "text": [
      "Print some shapes:\n",
      "\n",
      "simulation_train[0].shape: (103, 2) -> (t, 2), (x, y) at every t)\n",
      "charges_train[0].shape: (3,) -> charges for the simulation\n",
      "simulation_continued_train[0].shape: (54, 2) -> (t, 2), (x, y) at every t)\n",
      "----\n",
      "\n",
      "simulation_train[1].shape: (97, 2) -> (t, 2), (x, y) at every t)\n",
      "charges_train[1].shape: (3,) -> charges for the simulation\n",
      "simulation_continued_train[1].shape: (45, 2) -> (t, 2), (x, y) at every t)\n",
      "----\n",
      "\n",
      "simulation_train[2].shape: (99, 2) -> (t, 2), (x, y) at every t)\n",
      "charges_train[2].shape: (3,) -> charges for the simulation\n",
      "simulation_continued_train[2].shape: (47, 2) -> (t, 2), (x, y) at every t)\n",
      "----\n",
      "\n"
     ]
    }
   ],
   "source": [
    "print('Print some shapes:\\n')\n",
    "for i in range(3):\n",
    "    print('simulation_train[{}].shape:'.format(i), simulation_train[i].shape, '-> (t, 2), (x, y) at every t)')\n",
    "    print('charges_train[{}].shape:'.format(i), charges_train[i].shape, '-> charges for the simulation')\n",
    "    print('simulation_continued_train[{}].shape:'.format(i), simulation_continued_train[i].shape, '-> (t, 2), (x, y) at every t)')\n",
    "    print('----\\n')"
   ]
  },
  {
   "cell_type": "code",
   "execution_count": 6,
   "id": "f9106543",
   "metadata": {
    "id": "f9106543"
   },
   "outputs": [],
   "source": [
    "def plot_example(x, x_gt=None, x_pred=None, fn=None):\n",
    "    charge_locations = np.array([[-1.53846154, -1.53846154],\n",
    "                                 [ 1.53846154, -1.53846154],\n",
    "                                 [ 0.        ,  1.53846154]])  # charge locations are fixed\n",
    "    fig = plt.figure()\n",
    "    axes = plt.gca()\n",
    "    axes.set_xlim([-5., 5.])\n",
    "    axes.set_ylim([-5., 5.])\n",
    "    cmap = matplotlib.cm.get_cmap('tab20')\n",
    "    plt.plot(x[:, 0], x[:, 1], color=cmap(0))\n",
    "    plt.plot(x[0, 0], x[0, 1], 'd', color=cmap(1))\n",
    "    fig.set_size_inches(5, 5)\n",
    "    for charge in charge_locations:\n",
    "        plt.plot(charge[0], charge[1], 'd', color='black')\n",
    "    if x_gt is not None:\n",
    "        plt.plot(x_gt[:, 0], x_gt[:, 1], color='red', linewidth=.5)\n",
    "    if x_pred is not None:\n",
    "        plt.plot(x_pred[:, 0], x_pred[:, 1], color='green', linestyle='--')\n",
    "    if fn is None:\n",
    "        plt.show()\n",
    "    else:\n",
    "        plt.savefig(fn)"
   ]
  },
  {
   "cell_type": "code",
   "execution_count": 7,
   "id": "q0ZITTvQz9kL",
   "metadata": {
    "colab": {
     "base_uri": "https://localhost:8080/"
    },
    "id": "q0ZITTvQz9kL",
    "outputId": "816ab43d-39e1-408a-9bbe-ca0c80c42290"
   },
   "outputs": [
    {
     "data": {
      "text/plain": [
       "(103, 2)"
      ]
     },
     "execution_count": 7,
     "metadata": {},
     "output_type": "execute_result"
    }
   ],
   "source": [
    "simulation_train[0].shape"
   ]
  },
  {
   "cell_type": "code",
   "execution_count": 8,
   "id": "d28681a6",
   "metadata": {
    "colab": {
     "base_uri": "https://localhost:8080/",
     "height": 337
    },
    "id": "d28681a6",
    "outputId": "946a2e13-03ad-4453-a323-471ff6c15097"
   },
   "outputs": [
    {
     "data": {
      "image/png": "[encoded data removed]",
      "text/plain": [
       "<Figure size 360x360 with 1 Axes>"
      ]
     },
     "metadata": {
      "needs_background": "light"
     },
     "output_type": "display_data"
    },
    {
     "name": "stdout",
     "output_type": "stream",
     "text": [
      "Charges are [-0.44280441 -0.90099678 -0.02730218]\n"
     ]
    }
   ],
   "source": [
    "test_idx = np.random.randint(150)\n",
    "plot_example(simulation_train[test_idx], simulation_continued_train[test_idx])\n",
    "print(f'Charges are {charges_train[test_idx]}')"
   ]
  },
  {
   "cell_type": "code",
   "execution_count": 9,
   "id": "cr5X7sU9dMFk",
   "metadata": {
    "colab": {
     "base_uri": "https://localhost:8080/"
    },
    "id": "cr5X7sU9dMFk",
    "outputId": "8818efb1-cd22-402a-c0f7-fbc91a68e618"
   },
   "outputs": [
    {
     "data": {
      "text/plain": [
       "(109, 2)"
      ]
     },
     "execution_count": 9,
     "metadata": {},
     "output_type": "execute_result"
    }
   ],
   "source": [
    "simulation_train[test_idx].shape"
   ]
  },
  {
   "cell_type": "markdown",
   "id": "883762b1",
   "metadata": {
    "id": "883762b1"
   },
   "source": [
    "# Task 3.1"
   ]
  },
  {
   "cell_type": "markdown",
   "id": "4c1ddabe",
   "metadata": {
    "id": "4c1ddabe"
   },
   "source": [
    "## Data Handling and Preprocessing"
   ]
  },
  {
   "cell_type": "code",
   "execution_count": 10,
   "id": "bd9df856",
   "metadata": {
    "id": "bd9df856"
   },
   "outputs": [],
   "source": [
    "#todo\n",
    "#Playground\n",
    "device = 'cuda:0'"
   ]
  },
  {
   "cell_type": "code",
   "execution_count": 11,
   "id": "7dd9b7c1",
   "metadata": {
    "id": "7dd9b7c1"
   },
   "outputs": [],
   "source": [
    "#Task 3.1\n",
    "from torch.utils.data import Dataset, DataLoader,TensorDataset\n",
    "class DatasetTaskOne(Dataset):\n",
    "    def __init__(self, simulation_data,charge_targets):\n",
    "        padded_len = len(max(simulation_data, key=len)) # Should be 110 ideally but set to max length just in case\n",
    "        padded_arrays = []\n",
    "        for i in range(len(simulation_data)):\n",
    "            diff = padded_len - simulation_data[i].shape[0] # How many rows should we pad?\n",
    "            # Pad diff amount of [0,0] rows to the end \n",
    "            padded_arrays.append(np.pad(simulation_data[i],[(0,diff),(0,0)],mode='constant',constant_values=0))\n",
    "        # Create data and target tensors\n",
    "        data = np.array(padded_arrays)\n",
    "        (samples,length,pos_dim) = data.shape\n",
    "        self.data = torch.FloatTensor(data).view(samples,1,-1) # Samples,Channels,Sequence length\n",
    "        print(self.data.shape)\n",
    "        self.targets = torch.FloatTensor(np.array(charge_targets))\n",
    "        \n",
    "    def __getitem__(self, index):\n",
    "        x = self.data[index]\n",
    "        y = self.targets[index]\n",
    "        \n",
    "\n",
    "        return x, y\n",
    "    \n",
    "    def __len__(self):\n",
    "        return len(self.data)"
   ]
  },
  {
   "cell_type": "code",
   "execution_count": 12,
   "id": "c08b2a3e",
   "metadata": {
    "id": "c08b2a3e"
   },
   "outputs": [],
   "source": [
    "diff = len(max(simulation_train, key = len)) - simulation_train[0].shape[0]"
   ]
  },
  {
   "cell_type": "code",
   "execution_count": 13,
   "id": "6f255f60",
   "metadata": {
    "id": "6f255f60"
   },
   "outputs": [],
   "source": [
    "#Task 3.2\n",
    "\n",
    "from torch.utils.data import Dataset, DataLoader,TensorDataset\n",
    "class DatasetTaskTwo(Dataset):\n",
    "    def __init__(self, simulation_data,continued_simulations):\n",
    "        padded_len = len(max(simulation_data, key=len)) # Should be 110 ideally but set to max length just in case\n",
    "        padded_arrays = []\n",
    "        for i in range(len(simulation_data)):\n",
    "            diff = padded_len - simulation_data[i].shape[0] # How many rows should we pad?\n",
    "            # Pad diff amount of [0,0] rows to the end \n",
    "            padded_arrays.append(np.pad(simulation_data[i],[(0,diff),(0,0)],mode='constant',constant_values=0))\n",
    "        # Create data and target tensors\n",
    "        data = np.array(padded_arrays)\n",
    "        (samples,length,pos_dim) = data.shape\n",
    "        self.data = torch.FloatTensor(data).view(samples,1,-1) # Samples,Channels,Sequence length\n",
    "        print(len(self.data))\n",
    "        print(self.data.shape)\n",
    "        \n",
    "        \n",
    "        padded_len_target = 60#len(max(continued_simulations, key = len))\n",
    "        padded_target_array = []\n",
    "        for j in range(len(continued_simulations)):\n",
    "            diff_targ = padded_len_target - continued_simulations[j].shape[0]\n",
    "            padded_target_array.append(np.pad(continued_simulations[j], [(0, diff_targ), (0,0)], mode = 'constant', constant_values = 0))\n",
    "        targets = np.array(padded_target_array)\n",
    "        \n",
    "        (targ_samples, targ_length, targ_pos_dim) = targets.shape\n",
    "        self.targets = torch.FloatTensor(targets).view(targ_samples,1,-1)\n",
    "        print(len(self.targets))\n",
    "        print(self.targets.shape)\n",
    "        \n",
    "    def __getitem__(self, index):\n",
    "        x = self.data[index]\n",
    "        y = self.targets[index]\n",
    "        \n",
    "\n",
    "        return x, y\n",
    "    \n",
    "    def __len__(self):\n",
    "        return len(self.data)"
   ]
  },
  {
   "cell_type": "code",
   "execution_count": 14,
   "id": "4ec1e03a",
   "metadata": {
    "colab": {
     "base_uri": "https://localhost:8080/"
    },
    "id": "4ec1e03a",
    "outputId": "8224c2c5-cfa6-451a-8cf3-ed1fddb5a3f2"
   },
   "outputs": [
    {
     "name": "stdout",
     "output_type": "stream",
     "text": [
      "torch.Size([800, 1, 220])\n",
      "torch.Size([100, 1, 220])\n",
      "torch.Size([100, 1, 220])\n"
     ]
    }
   ],
   "source": [
    "#For task 3.1\n",
    "t1_train_dataset = DatasetTaskOne(simulation_train,charges_train)\n",
    "t1_train_loader = torch.utils.data.DataLoader(t1_train_dataset, batch_size=10)\n",
    "t1_valid_dataset = DatasetTaskOne(simulation_valid,charges_valid)\n",
    "t1_valid_loader = torch.utils.data.DataLoader(t1_valid_dataset, batch_size=10)\n",
    "t1_test_dataset = DatasetTaskOne(simulation_test,charges_test)\n",
    "t1_test_loader = torch.utils.data.DataLoader(t1_test_dataset, batch_size=10)"
   ]
  },
  {
   "cell_type": "code",
   "execution_count": 15,
   "id": "52dbb621",
   "metadata": {
    "colab": {
     "base_uri": "https://localhost:8080/"
    },
    "id": "52dbb621",
    "outputId": "ec5e9bd0-feb4-447d-ef28-159a7a3bd57a"
   },
   "outputs": [
    {
     "name": "stdout",
     "output_type": "stream",
     "text": [
      "150\n",
      "torch.Size([150, 1, 220])\n",
      "150\n",
      "torch.Size([150, 1, 120])\n",
      "100\n",
      "torch.Size([100, 1, 220])\n",
      "100\n",
      "torch.Size([100, 1, 120])\n",
      "100\n",
      "torch.Size([100, 1, 220])\n",
      "100\n",
      "torch.Size([100, 1, 120])\n"
     ]
    }
   ],
   "source": [
    "#For task 3.2\n",
    "t2_train_dataset = DatasetTaskTwo(simulation_train_task32,simulation_continued_train)\n",
    "t2_train_loader = torch.utils.data.DataLoader(t2_train_dataset, batch_size=10)\n",
    "t2_valid_dataset = DatasetTaskTwo(simulation_valid,simulation_continued_valid)\n",
    "t2_valid_loader = torch.utils.data.DataLoader(t2_valid_dataset, batch_size=10)\n",
    "t2_test_dataset = DatasetTaskTwo(simulation_test,simulation_continued_test)\n",
    "t2_test_loader = torch.utils.data.DataLoader(t2_test_dataset, batch_size=10)"
   ]
  },
  {
   "cell_type": "code",
   "execution_count": 16,
   "id": "e4be32b1",
   "metadata": {
    "id": "e4be32b1"
   },
   "outputs": [],
   "source": [
    "#testing the train loader\n",
    "a, b = [], []\n",
    "for train, targ in t2_train_loader:\n",
    "    a.append(train)\n",
    "    b.append(targ)"
   ]
  },
  {
   "cell_type": "code",
   "execution_count": 17,
   "id": "ff174d5f",
   "metadata": {
    "colab": {
     "base_uri": "https://localhost:8080/"
    },
    "id": "ff174d5f",
    "outputId": "266c3b9d-cc90-4b4e-b9f3-e02767c943a7"
   },
   "outputs": [
    {
     "data": {
      "text/plain": [
       "torch.Size([1, 220])"
      ]
     },
     "execution_count": 17,
     "metadata": {},
     "output_type": "execute_result"
    }
   ],
   "source": [
    "a[0][0].shape"
   ]
  },
  {
   "cell_type": "code",
   "execution_count": 18,
   "id": "2f7b2d05",
   "metadata": {
    "colab": {
     "base_uri": "https://localhost:8080/"
    },
    "id": "2f7b2d05",
    "outputId": "4c1ee787-4a34-4211-f285-826cb993d6ab"
   },
   "outputs": [
    {
     "data": {
      "text/plain": [
       "torch.Size([1, 120])"
      ]
     },
     "execution_count": 18,
     "metadata": {},
     "output_type": "execute_result"
    }
   ],
   "source": [
    "b[0][0].shape"
   ]
  },
  {
   "cell_type": "markdown",
   "id": "cc8853f6",
   "metadata": {
    "id": "cc8853f6"
   },
   "source": [
    "## Model Implementation"
   ]
  },
  {
   "cell_type": "code",
   "execution_count": 19,
   "id": "8794a0cf",
   "metadata": {
    "id": "8794a0cf"
   },
   "outputs": [],
   "source": [
    "#todo\n",
    "from torch import nn"
   ]
  },
  {
   "cell_type": "code",
   "execution_count": 20,
   "id": "92d423e7",
   "metadata": {
    "id": "92d423e7"
   },
   "outputs": [],
   "source": [
    "##Task 3.1"
   ]
  },
  {
   "cell_type": "code",
   "execution_count": 21,
   "id": "8a570313",
   "metadata": {
    "id": "8a570313"
   },
   "outputs": [],
   "source": [
    "class GRURegressor(nn.Module):\n",
    "\n",
    "    def __init__(self, input_dim,hidden_dim,output_dim,device):\n",
    "        super(GRURegressor, self).__init__()\n",
    "        \n",
    "        self.input_dim = input_dim\n",
    "        self.hidden_dim = hidden_dim\n",
    "        self.device = device\n",
    "        \n",
    "        # Compress sequence length into filters \n",
    "        self.rnn = nn.GRUCell(input_dim, hidden_dim)\n",
    "        \n",
    "        #self.drop = nn.Dropout(0.5)\n",
    "        self.fc1 = nn.Linear(hidden_dim, hidden_dim)\n",
    "        self.fc2 = nn.Linear(hidden_dim, output_dim)\n",
    "    \n",
    "    def forward(self, batch_input ):\n",
    "        \n",
    "        # input shapes:\n",
    "        # batch_input: [batch_size, 1,seq_length]\n",
    "            \n",
    "        # Generate initial hidden and cell states\n",
    "        hidden = torch.randn(batch_input.shape[0], self.hidden_dim).to(self.device) \n",
    "        \n",
    "        # Feed packed input sequence to lstm \n",
    "        for i in range(0,220,2):\n",
    "            hidden = self.rnn(batch_input[:,0,i:i+2],hidden) # Pass the i-th compressed sequence step\n",
    "        # feed output to MLP, apply ReLU nonlinearity\n",
    "        # shape [batch_size, hidden_dim]\n",
    "        h = nn.ReLU()(self.fc1(hidden))\n",
    "        output = self.fc2(h)\n",
    "        return output"
   ]
  },
  {
   "cell_type": "code",
   "execution_count": 22,
   "id": "d62b5aa6",
   "metadata": {
    "id": "d62b5aa6"
   },
   "outputs": [],
   "source": [
    "class ConvGRURegressor(nn.Module):\n",
    "\n",
    "    def __init__(self, input_dim,hidden_dim,output_dim,device, conv_filters=64,kernel_size=4,stride=4):\n",
    "        super(ConvGRURegressor, self).__init__()\n",
    "        \n",
    "        self.input_dim = input_dim\n",
    "        self.conv_filters = conv_filters\n",
    "        self.hidden_dim = hidden_dim\n",
    "        self.device = device\n",
    "        \n",
    "        # Compress sequence length into filters \n",
    "        self.conv1d_1 = nn.Conv1d(1,out_channels=conv_filters,kernel_size=kernel_size,stride=stride,padding=\"valid\")\n",
    "        self.conv1d_2 = nn.Conv1d(conv_filters,out_channels=conv_filters*2,kernel_size=kernel_size,stride=stride,padding=\"valid\")\n",
    "        self.rnn = nn.GRUCell(conv_filters*2, hidden_dim)\n",
    "        self.drop = nn.Dropout(0.5)\n",
    "        self.fc1 = nn.Linear(hidden_dim, hidden_dim)\n",
    "        self.fc2 = nn.Linear(hidden_dim, output_dim)\n",
    "    \n",
    "    def forward(self, batch_input ):\n",
    "        \n",
    "        # input shapes:\n",
    "        # batch_input: [batch_size, 1,seq_length]\n",
    "        embedding = self.conv1d_1(batch_input) # embedding: [batch_size,filters,reduced_sequence_length]\n",
    "        embedding2 = self.conv1d_2(embedding) # embedding: [batch_size,filters,reduced_sequence_length]\n",
    "            \n",
    "        # Generate initial hidden and cell states\n",
    "        hidden = torch.randn(batch_input.shape[0], self.hidden_dim).to(self.device) \n",
    "        \n",
    "        # Feed packed input sequence to lstm \n",
    "        for i in range(embedding2.shape[2]):\n",
    "            hidden = self.rnn(embedding2[:,:,i],hidden) # Pass the i-th compressed sequence step\n",
    "        #hidden = self.drop(hidden)\n",
    "        # feed output to MLP, apply ReLU nonlinearity\n",
    "        # shape [batch_size, hidden_dim]\n",
    "        h = nn.ReLU()(self.fc1(hidden))\n",
    "        output = self.fc2(h)\n",
    "        return output"
   ]
  },
  {
   "cell_type": "code",
   "execution_count": 23,
   "id": "7273df46",
   "metadata": {
    "id": "7273df46"
   },
   "outputs": [],
   "source": [
    "class BenchmarkFNN(nn.Module):\n",
    "\n",
    "    def __init__(self, input_dim,hidden_dim,output_dim,device):\n",
    "        super(BenchmarkFNN, self).__init__()\n",
    "        \n",
    "        self.input_dim = input_dim\n",
    "        self.hidden_dim = hidden_dim\n",
    "        self.device = device\n",
    "        \n",
    "        self.drop = nn.Dropout(0.5)\n",
    "        self.fc1 = nn.Linear(input_dim, hidden_dim)\n",
    "        self.fc2 = nn.Linear(hidden_dim, hidden_dim//2)\n",
    "        self.fc3 = nn.Linear(hidden_dim//2, output_dim)\n",
    "    \n",
    "    def forward(self, batch_input):\n",
    "        \n",
    "        # feed output to MLP, apply ReLU nonlinearity\n",
    "        # shape [batch_size, hidden_dim]\n",
    "        h1 = nn.ReLU()(self.fc1(batch_input))\n",
    "        h1 = self.drop(h1)\n",
    "        h2 = nn.ReLU()(self.fc2(h1))\n",
    "        output = self.fc3(h2)\n",
    "        return output"
   ]
  },
  {
   "cell_type": "code",
   "execution_count": 24,
   "id": "e620087f",
   "metadata": {
    "id": "e620087f"
   },
   "outputs": [],
   "source": [
    "##Task 3.2"
   ]
  },
  {
   "cell_type": "code",
   "execution_count": 25,
   "id": "Mc7FzRSK79UR",
   "metadata": {
    "id": "Mc7FzRSK79UR"
   },
   "outputs": [],
   "source": [
    "#Seq2Seq Learning "
   ]
  },
  {
   "cell_type": "code",
   "execution_count": 26,
   "id": "528d6f0d",
   "metadata": {
    "id": "528d6f0d"
   },
   "outputs": [],
   "source": [
    "#GRU with attention\n",
    "#we need our model to have input dim = 2 and output_dim = 120 (we need a sequence in the output) \n",
    "#Seq2Seq encoder and Decoder learning \n",
    "class GRURegressor32(nn.Module):\n",
    "\n",
    "    def __init__(self, input_dim,hidden_dim,output_dim,device):\n",
    "        super(GRURegressor32, self).__init__()\n",
    "        \n",
    "        self.input_dim = input_dim\n",
    "        self.hidden_dim = hidden_dim\n",
    "        self.device = device\n",
    "        \n",
    "        # Compress sequence length into filters \n",
    "        self.encoder = nn.GRUCell(input_dim, hidden_dim) #Encoder\n",
    "        self.decoder = nn.GRUCell(hidden_dim, hidden_dim) #Decoder\n",
    "        #self.drop = nn.Dropout(0.5)\n",
    "        self.fc1 = nn.Linear(hidden_dim, hidden_dim)\n",
    "        self.fc2 = nn.Linear(hidden_dim, output_dim)\n",
    "    \n",
    "    def forward(self, batch_input ):\n",
    "        \n",
    "        # input shapes:\n",
    "        # batch_input: [batch_size, 1,seq_length]\n",
    "            \n",
    "        # Generate initial hidden and cell states\n",
    "        hidden = torch.randn(batch_input.shape[0], self.hidden_dim).to(self.device) \n",
    "        \n",
    "        # Feed packed input sequence to lstm \n",
    "        for i in range(0,220,2):\n",
    "            hidden = self.encoder(batch_input[:,0,i:i+2],hidden) # Pass the i-th compressed sequence step\n",
    "        # feed output to MLP, apply ReLU nonlinearity\n",
    "        # shape [batch_size, hidden_dim]\n",
    "        #hidden_dim = [10, 256]\n",
    "        \n",
    "        \n",
    "        #so i have my hidden vector at time = t\n",
    "        hidden_vectors = []\n",
    "        output_vectors = []\n",
    "        \n",
    "        hidden2 = torch.randn(batch_input.shape[0], self.hidden_dim).to(self.device)\n",
    "        for j in range(0,60):\n",
    "            hidden2 = self.decoder(hidden, hidden2)\n",
    "            hidden_vectors.append(hidden2)\n",
    "            #each vector has shape [10, 256]\n",
    "            #batch =1 so the shape is [1,256]\n",
    "        \n",
    "        \n",
    "        for op in range(len(hidden_vectors)):\n",
    "            h1 = nn.ReLU()(self.fc1(hidden_vectors[op]))\n",
    "            h2 = self.fc2(h1) #operation [10,256] and [256,2]\n",
    "            #h2 has a dimension (10, 2)\n",
    "            #h2 batch =1 has the shape (1,2) and we have 60 time steps.\n",
    "            \n",
    "\n",
    "            output_vectors.append(h2)\n",
    "            \n",
    "        outputs = torch.stack(output_vectors, dim=1)\n",
    "        \n",
    "        final_output = []\n",
    "        for tens in range(len(outputs)):\n",
    "            t = outputs[tens].view(1,-1) #we need the output as [10,1,120], it was [10,60,20]. Hence the conversion\n",
    "            final_output.append(t)\n",
    "        \n",
    "        model_output = torch.stack(final_output)\n",
    "            \n",
    "        return model_output"
   ]
  },
  {
   "cell_type": "code",
   "execution_count": 27,
   "id": "HQhXTna8MFM-",
   "metadata": {
    "id": "HQhXTna8MFM-"
   },
   "outputs": [],
   "source": [
    "#Applying a convolution layer for the task 3.2\n",
    "class ConvGRURegressor32(nn.Module):\n",
    "\n",
    "    def __init__(self, input_dim,hidden_dim,output_dim,device, conv_filters=64,kernel_size=4,stride=4):\n",
    "        super(ConvGRURegressor32, self).__init__()\n",
    "        \n",
    "        self.input_dim = input_dim\n",
    "        self.conv_filters = conv_filters\n",
    "        self.hidden_dim = hidden_dim\n",
    "        self.device = device\n",
    "        \n",
    "        # Compress sequence length into filters \n",
    "        self.conv1d_1 = nn.Conv1d(1,out_channels=conv_filters,kernel_size=kernel_size,stride=stride,padding=\"valid\")\n",
    "        self.conv1d_2 = nn.Conv1d(conv_filters,out_channels=conv_filters*2,kernel_size=kernel_size,stride=stride,padding=\"valid\")\n",
    "        self.encoder = nn.GRUCell(conv_filters*2, hidden_dim) #encoder\n",
    "        self.decoder = nn.GRUCell(hidden_dim, hidden_dim) #decoder\n",
    "        self.drop = nn.Dropout(0.5)\n",
    "        self.fc1 = nn.Linear(hidden_dim, hidden_dim)\n",
    "        self.fc2 = nn.Linear(hidden_dim, output_dim)\n",
    "    \n",
    "    def forward(self, batch_input ):\n",
    "        \n",
    "        # input shapes:\n",
    "        # batch_input: [batch_size, 1,seq_length]\n",
    "        embedding = self.conv1d_1(batch_input) # embedding: [batch_size,filters,reduced_sequence_length]\n",
    "        embedding2 = self.conv1d_2(embedding) # embedding: [batch_size,filters,reduced_sequence_length]\n",
    "            \n",
    "        # Generate initial hidden and cell states\n",
    "        hidden = torch.randn(batch_input.shape[0], self.hidden_dim).to(self.device) \n",
    "        \n",
    "        # Feed packed input sequence to lstm \n",
    "        for i in range(embedding2.shape[2]):\n",
    "            hidden = self.encoder(embedding2[:,:,i],hidden) # Pass the i-th compressed sequence step\n",
    "        #hidden = self.drop(hidden)\n",
    "        # feed output to MLP, apply ReLU nonlinearity\n",
    "        # shape [batch_size, hidden_dim]\n",
    "    \n",
    "        #so i have my hidden vector at time = t\n",
    "        hidden_vectors = []\n",
    "        output_vectors = []\n",
    "        \n",
    "        #Feed the hidden input to the decoder \n",
    "        hidden2 = torch.randn(batch_input.shape[0], self.hidden_dim).to(self.device)\n",
    "        for j in range(0,60):\n",
    "            hidden2 = self.decoder(hidden, hidden2)\n",
    "            hidden_vectors.append(hidden2)\n",
    "            #each vector has shape [10, 256]\n",
    "            #batch =1 so the shape is [1,256]\n",
    "        \n",
    "        \n",
    "        for op in range(len(hidden_vectors)):\n",
    "            h1 = nn.ReLU()(self.fc1(hidden_vectors[op]))\n",
    "            h2 = self.fc2(h1) #operation [10,256] and [256,2]\n",
    "            #h2 has a dimension (10, 2)\n",
    "            #h2 batch =1 has the shape (1,2) and we have 60 time steps.\n",
    "            \n",
    "\n",
    "            output_vectors.append(h2)\n",
    "            \n",
    "        outputs = torch.stack(output_vectors, dim=1)\n",
    "        \n",
    "        final_output = []\n",
    "        for tens in range(len(outputs)):\n",
    "            t = outputs[tens].view(1,-1) #we need the output as [10,1,120], it was [10,60,20]. Hence the conversion\n",
    "            final_output.append(t)\n",
    "        \n",
    "        model_output = torch.stack(final_output)\n",
    "            \n",
    "        return model_output"
   ]
  },
  {
   "cell_type": "code",
   "execution_count": 28,
   "id": "TdLrEzMo_EHU",
   "metadata": {
    "id": "TdLrEzMo_EHU"
   },
   "outputs": [],
   "source": [
    "#Implementing a LSTM encoder and decoder"
   ]
  },
  {
   "cell_type": "code",
   "execution_count": 29,
   "id": "sfmODTJM1jsS",
   "metadata": {
    "id": "sfmODTJM1jsS"
   },
   "outputs": [],
   "source": [
    "# We will create a seq2seq encoder decoder model\n",
    "\n",
    "#Encoder model with a gated recurrent unit\n",
    "class LSTMEncoder(nn.Module):\n",
    "  def __init__(self, input_dim,hidden_dim,output_dim,device, conv_filters=64,kernel_size=4,stride=4):\n",
    "    super(LSTMEncoder, self).__init__()\n",
    "    self.input_dim = input_dim\n",
    "    self.hidden_dim = hidden_dim\n",
    "    self.device = device\n",
    "    self.conv_filters = conv_filters\n",
    "    self.kernel_size = kernel_size\n",
    "    self.stride = stride\n",
    "\n",
    "    self.rnn = nn.LSTMCell(input_dim, hidden_dim)\n",
    "    self.drop = nn.Dropout(0.5)\n",
    "    self.fc1 = nn.Linear(hidden_dim, hidden_dim)\n",
    "    self.fc2 = nn.Linear(hidden_dim, output_dim)\n",
    "    self.conv1d_1 = nn.Conv1d(1,out_channels=conv_filters,kernel_size=kernel_size,stride=stride,padding=\"valid\")\n",
    "    self.conv1d_2 = nn.Conv1d(conv_filters,out_channels=conv_filters*2,kernel_size=kernel_size,stride=stride,padding=\"valid\")\n",
    "\n",
    "\n",
    "  def forward(self, batch_input):\n",
    "\n",
    "    embedding1 = self.conv1d_1(batch_input)\n",
    "    embedding2 = self.conv1d_2(embedding1)\n",
    "\n",
    "    hidden0 = torch.randn(batch_input.shape[0], self.hidden_dim).to(self.device)\n",
    "    c0 = torch.randn(batch_input.shape[0], self.hidden_dim).to(self.device)\n",
    "\n",
    "\n",
    "\n",
    "\n",
    "    for i in range(embedding2.shape[2]):\n",
    "            hidden, ct = self.rnn(embedding2[:,:,i],(hidden0, c0))\n",
    "\n",
    "\n",
    "\n",
    "    h = nn.ReLU()(self.fc1(hidden))\n",
    "    c = nn.ReLU()(self.fc1(ct))\n",
    "    hidden_output = self.fc2(h)\n",
    "    cell_state_output = self.fc2(c)\n",
    "\n",
    "    return hidden_output, cell_state_output\n",
    "\n",
    "\n",
    "# We will create a Decoder Model\n",
    "\n",
    "# Gated Decoder that creates a sequence \n",
    "# We will try to give it the hidden state as well as the time sequence (seq_len - 1)\n",
    "class LSTMDecoder(nn.Module):\n",
    "  def __init__(self, input_dim, hidden_dim, output_dim, device):\n",
    "    super(LSTMDecoder, self).__init__()\n",
    "\n",
    "\n",
    "    self.input_dim = input_dim\n",
    "    self.hidden_dim = hidden_dim\n",
    "    self.device  = device\n",
    "    self.output_dim = output_dim\n",
    " \n",
    "\n",
    "\n",
    "    self.rnn = nn.LSTMCell(input_dim, hidden_dim)\n",
    "\n",
    "    self.drop = nn.Dropout(0.5)\n",
    "    self.fc1 = nn.Linear(hidden_dim, hidden_dim)\n",
    "    self.fc2 = nn.Linear(hidden_dim, output_dim)\n",
    "    \n",
    "\n",
    "  def forward(self, batch_input, hidden0, c0):\n",
    "    hidden_state_vectors = []\n",
    "    cell_state_vectors = []\n",
    "    output_vectors = []\n",
    "    self.hidden0 = hidden0\n",
    "    self.c0 = c0\n",
    "\n",
    "    for i in range(0,60):\n",
    "      hidden, ct = self.rnn(batch_input[:,0,i:i+2],(hidden0, c0))#.to(self.device)\n",
    "      hidden_state_vectors.append(hidden)\n",
    "      cell_state_vectors.append(ct)\n",
    "    \n",
    "    for op in range(len(hidden_state_vectors)):\n",
    "          h1 = nn.ReLU()(self.fc1(hidden_state_vectors[op]))\n",
    "          ctx = nn.ReLU()(self.fc1(cell_state_vectors[op]))\n",
    "          comb_states = torch.add(h1, ctx)\n",
    "          mean_comb = torch.div(comb_states, 2)\n",
    "          #print(comb_states.shape)\n",
    "          # print(ctx.shape)\n",
    "          h2 = self.fc2(mean_comb) #operation [10,256] and [256,2]\n",
    "          #h2 has a dimension (10, 2)\n",
    "          #h2 batch =1 has the shape (1,2) and we have 60 time steps.\n",
    "            \n",
    "\n",
    "          output_vectors.append(h2)\n",
    "      \n",
    "    outputs = torch.stack(output_vectors, dim=1)\n",
    "    #print(outputs.shape)\n",
    "        \n",
    "    final_output = []\n",
    "    op = outputs.reshape(10,120)\n",
    "    opf = torch.unsqueeze(op,0)\n",
    "    opf = opf.reshape(10,1,120)\n",
    "    # for tens in range(len(outputs)):\n",
    "    #   t = outputs[tens].view(1,-1) #we need the output as [10,1,120], it was [10,60,20]. Hence the conversion\n",
    "    #   final_output.append(t)\n",
    "        \n",
    "    # model_output = torch.cat(final_output)\n",
    "            \n",
    "    return opf\n",
    "\n",
    "\n",
    "class seq2seq(nn.Module):\n",
    "  def __init__(self, encoder, decoder, device):\n",
    "    super(seq2seq, self).__init__()\n",
    "\n",
    "    self.encoder = encoder\n",
    "    self.decoder = decoder\n",
    "    self.device = device\n",
    "  \n",
    "  def forward(self, batch_input1, batch_input2):\n",
    "\n",
    "    self.batch_input1 = batch_input1\n",
    "    self.batch_input2 = batch_input2\n",
    "\n",
    "    context_hidden, context_cell_state = self.encoder.forward(batch_input1)#.to(self.device)\n",
    "\n",
    "    output = self.decoder.forward(batch_input2, context_hidden, context_cell_state)#.to(self.device)\n",
    "\n",
    "    return output"
   ]
  },
  {
   "cell_type": "code",
   "execution_count": 30,
   "id": "L2a0bu0H1jun",
   "metadata": {
    "id": "L2a0bu0H1jun"
   },
   "outputs": [],
   "source": [
    "#Verification and Diagnosis\n",
    "\n",
    "encoder = LSTMEncoder(128,256,256, device = 'cpu')\n",
    "decoder = LSTMDecoder(2,256,2, device = 'cpu')\n",
    "seq = seq2seq(encoder, decoder, device = 'cpu')\n",
    "\n",
    "for train_data, targets in t2_train_loader:\n",
    "    # Forward\n",
    "    input_tensor = train_data\n",
    "    output1 = seq.forward(batch_input1 = input_tensor, batch_input2 = targets)"
   ]
  },
  {
   "cell_type": "code",
   "execution_count": 31,
   "id": "cEJWD8-s1jzo",
   "metadata": {
    "colab": {
     "base_uri": "https://localhost:8080/"
    },
    "id": "cEJWD8-s1jzo",
    "outputId": "23356132-c62c-4a76-c575-4a956fbfa32e"
   },
   "outputs": [
    {
     "name": "stdout",
     "output_type": "stream",
     "text": [
      "The output tensor size is torch.Size([10, 1, 120])\n",
      "The input  tensor size is torch.Size([10, 1, 120])\n"
     ]
    }
   ],
   "source": [
    "#Veryfing the output size\n",
    "print(f\"The output tensor size is {output1.size()}\")\n",
    "print(f\"The input  tensor size is {targets.size()}\")"
   ]
  },
  {
   "cell_type": "code",
   "execution_count": 32,
   "id": "7060a02a",
   "metadata": {
    "id": "7060a02a"
   },
   "outputs": [],
   "source": [
    "# model = GRURegressor32(2,256,2, device = 'cpu')\n",
    "# criterion = nn.MSELoss()\n",
    "# for train_data, targets in t2_train_loader:\n",
    "#     # Forward\n",
    "#     input_tensor = train_data\n",
    "#     outputs = model.forward(input_tensor)\n",
    "#     loss = criterion(outputs,targ)"
   ]
  },
  {
   "cell_type": "markdown",
   "id": "0e443b7f",
   "metadata": {
    "id": "0e443b7f"
   },
   "source": [
    "## Model Training"
   ]
  },
  {
   "cell_type": "code",
   "execution_count": 33,
   "id": "5a5b0aca",
   "metadata": {
    "id": "5a5b0aca"
   },
   "outputs": [],
   "source": [
    "#todo\n",
    "def save_model_checkpoint(path, model, optimizer, val_loss, val_acc, train_acc, train_loss ):\n",
    "    if path == None:\n",
    "        return print(\"Kindly define a path\")\n",
    "    path = path\n",
    "    \n",
    "    save_dict = {\"model_dict\" : model.state_dict(), \n",
    "                 \"optimizer_dict\": optimizer.state_dict(),\n",
    "                 \"val_loss_dict\": val_loss,\n",
    "                 \"val_acc_dict\": val_acc,\n",
    "                 \"train_acc_dict\": train_acc,\n",
    "                 \"train_loss_dict\": train_loss}\n",
    "    torch.save(save_dict, path)\n",
    "    return print(\"Model Saved to ==> {}\".format(path))"
   ]
  },
  {
   "cell_type": "code",
   "execution_count": 34,
   "id": "58348edd",
   "metadata": {
    "id": "58348edd"
   },
   "outputs": [],
   "source": [
    "# training and validation after every epoch\n",
    "def train(model, train_loader, val_loader, criterion, num_epochs, save_name):\n",
    "    best_val_loss = float(\"Inf\") \n",
    "    train_losses = []\n",
    "    val_losses = []\n",
    "    train_acc = []\n",
    "    val_acc = []\n",
    "    cur_step = 0\n",
    "    train_pred = []\n",
    "    val_pred = []\n",
    "\n",
    "    for epoch in range(num_epochs):\n",
    "        running_loss = 0.0\n",
    "        running_train_acc = 0.0\n",
    "  \n",
    "        model.train()\n",
    "        print(\"Starting epoch \" + str(epoch+1))\n",
    "        for train_data, targets in train_loader:\n",
    "            \n",
    "           \n",
    "            # Forward\n",
    "            input_tensor = train_data.to(device)\n",
    "            outputs = model.forward(input_tensor)\n",
    "            loss = criterion(outputs,targets.to(device))\n",
    "            # loss = loss/60\n",
    "                \n",
    "            # Backward and optimize\n",
    "            optimizer.zero_grad()\n",
    "            loss.backward()\n",
    "            optimizer.step()   \n",
    "            running_loss += loss\n",
    "          \n",
    "\n",
    "        avg_train_loss = running_loss / len(train_loader)\n",
    "        train_losses.append(avg_train_loss)\n",
    "        print(\"Train Pass Completed\")\n",
    "\n",
    "        ########################################|Validation Set|#############################################\n",
    "        val_running_loss = 0.0\n",
    "        with torch.no_grad():\n",
    "            model.eval()\n",
    "            for val_data, val_targets in val_loader:\n",
    "                input_tensor = val_data.to(device)\n",
    "                outputs = model.forward(input_tensor)\n",
    "                loss = criterion(outputs,val_targets.to(device))\n",
    "                # loss = loss/60\n",
    "                val_running_loss += loss\n",
    "\n",
    "        avg_val_loss = val_running_loss / len(val_loader)\n",
    "        val_losses.append(avg_val_loss)\n",
    "\n",
    "        \n",
    "        print('Epoch [{}/{}],Train Loss: {:.4f}, Valid Loss: {:.8f}' \n",
    "            .format(epoch+1, num_epochs, avg_train_loss, avg_val_loss))\n",
    "        if avg_val_loss < best_val_loss:\n",
    "            best_val_loss = avg_val_loss \n",
    "            save_model_checkpoint(save_name, model, optimizer, best_val_loss, 0, 0, avg_train_loss )\n",
    "    \n",
    "    print(\"Finished Training\") \n",
    "    return train_losses, val_losses\n",
    "     "
   ]
  },
  {
   "cell_type": "code",
   "execution_count": 35,
   "id": "qAZe6-WIFnqw",
   "metadata": {
    "id": "qAZe6-WIFnqw"
   },
   "outputs": [],
   "source": [
    "# training and validation after every epoch\n",
    "#for seq2seq\n",
    "def train_seq2seq(model, train_loader, val_loader, criterion, num_epochs, save_name):\n",
    "    best_val_loss = float(\"Inf\") \n",
    "    train_losses = []\n",
    "    val_losses = []\n",
    "    train_acc = []\n",
    "    val_acc = []\n",
    "    cur_step = 0\n",
    "    train_pred = []\n",
    "    val_pred = []\n",
    "\n",
    "    for epoch in range(num_epochs):\n",
    "        running_loss = 0.0\n",
    "        running_train_acc = 0.0\n",
    "  \n",
    "        model.train()\n",
    "        print(\"Starting epoch \" + str(epoch+1))\n",
    "        for train_data, targets in train_loader:\n",
    "            \n",
    "           \n",
    "            # Forward\n",
    "            input_tensor = train_data.to(device)\n",
    "            outputs = model.forward(batch_input1 = input_tensor, batch_input2 = targets).to(device)\n",
    "            loss = criterion(outputs,targets.to(device))\n",
    "            # loss = loss/60\n",
    "                \n",
    "            # Backward and optimize\n",
    "            optimizer.zero_grad()\n",
    "            loss.backward()\n",
    "            optimizer.step()   \n",
    "            running_loss += loss\n",
    "          \n",
    "\n",
    "        avg_train_loss = running_loss / len(train_loader)\n",
    "        train_losses.append(avg_train_loss)\n",
    "        print(\"Train Pass Completed\")\n",
    "\n",
    "        ########################################|Validation Set|#############################################\n",
    "        val_running_loss = 0.0\n",
    "        with torch.no_grad():\n",
    "            model.eval()\n",
    "            for val_data, val_targets in val_loader:\n",
    "                input_tensor = val_data.to(device)\n",
    "                outputs = model.forward(batch_input1 = input_tensor, batch_input2 = targets).to(device)\n",
    "                loss = criterion(outputs,val_targets.to(device))\n",
    "                # loss = loss/60\n",
    "                val_running_loss += loss\n",
    "\n",
    "        avg_val_loss = val_running_loss / len(val_loader)\n",
    "        val_losses.append(avg_val_loss)\n",
    "\n",
    "        \n",
    "        print('Epoch [{}/{}],Train Loss: {:.4f}, Valid Loss: {:.8f}' \n",
    "            .format(epoch+1, num_epochs, avg_train_loss, avg_val_loss))\n",
    "        if avg_val_loss < best_val_loss:\n",
    "            best_val_loss = avg_val_loss \n",
    "            save_model_checkpoint(save_name, model, optimizer, best_val_loss, 0, 0, avg_train_loss )\n",
    "    \n",
    "    print(\"Finished Training\") \n",
    "    return train_losses, val_losses\n",
    "     "
   ]
  },
  {
   "cell_type": "code",
   "execution_count": null,
   "id": "07943e62",
   "metadata": {
    "id": "07943e62",
    "scrolled": true
   },
   "outputs": [],
   "source": [
    "GRU_reg = GRURegressor(input_dim=2,hidden_dim=256,output_dim=3,device='cuda:0').cuda()\n",
    "\n",
    "optimizer = torch.optim.SGD(GRU_reg.parameters(), lr=0.01, momentum=0.9)\n",
    "#optimizer = torch.optim.Adam(GRU_reg.parameters(), lr= 1e-4, weight_decay = 0.01)\n",
    "num_epochs = 300\n",
    "save_name = f'GRU_reg.pt'\n",
    "criterion = nn.MSELoss()\n",
    "\n",
    "obtained_train_loss, obtained_val_loss = train(GRU_reg, \n",
    "                                                      t1_train_loader, t1_valid_loader, criterion, num_epochs, save_name)"
   ]
  },
  {
   "cell_type": "code",
   "execution_count": null,
   "id": "176b3ea3",
   "metadata": {
    "id": "176b3ea3"
   },
   "outputs": [],
   "source": [
    "conv_GRU_reg = ConvGRURegressor(input_dim=220,hidden_dim=256,output_dim=3,device='cuda:0').cuda()\n",
    "\n",
    "#optimizer = torch.optim.SGD(GRU_reg.parameters(), lr=0.01, momentum=0.9)\n",
    "optimizer = torch.optim.Adam(conv_GRU_reg.parameters(), lr= 6e-4, weight_decay = 0.01)\n",
    "num_epochs = 100\n",
    "save_name = f'conv_GRU_reg.pt'\n",
    "criterion = nn.MSELoss()\n",
    "\n",
    "obtained_train_loss, obtained_val_loss = train(conv_GRU_reg, \n",
    "                                                      t1_train_loader, t1_valid_loader, criterion, num_epochs, save_name)"
   ]
  },
  {
   "cell_type": "code",
   "execution_count": null,
   "id": "8d24bfc7",
   "metadata": {
    "id": "8d24bfc7"
   },
   "outputs": [],
   "source": [
    "# Benchmark Neural Network. Play around with hidden dim.\n",
    "benchmark_fnn = BenchmarkFNN(input_dim=220,hidden_dim=256,output_dim=3,device='cuda:0').cuda()\n",
    "\n",
    "#optimizer = torch.optim.SGD(GRU_reg.parameters(), lr=0.01, momentum=0.9)\n",
    "optimizer = torch.optim.Adam(benchmark_fnn.parameters(), lr= 6e-4, weight_decay = 0.01)\n",
    "num_epochs = 100\n",
    "save_name = f'benchmark_fnn.pt'\n",
    "criterion = nn.MSELoss()\n",
    "\n",
    "obtained_train_loss, obtained_val_loss = train(benchmark_fnn, \n",
    "                                                      t1_train_loader, t1_valid_loader, criterion, num_epochs, save_name)"
   ]
  },
  {
   "cell_type": "code",
   "execution_count": null,
   "id": "5db6aaa8",
   "metadata": {
    "id": "5db6aaa8"
   },
   "outputs": [],
   "source": [
    "#Task 3.2\n",
    "\n",
    "device = 'cuda:0'\n",
    "GRU_reg32 = GRURegressor32(input_dim=2,hidden_dim=256,output_dim=2,device='cuda:0').cuda()\n",
    "\n",
    "optimizer = torch.optim.SGD(GRU_reg32.parameters(), lr=0.01, momentum=0.9)\n",
    "#optimizer = torch.optim.Adam(GRU_reg32.parameters(), lr= 1e-4)\n",
    "num_epochs = 500\n",
    "save_name = f'GRU_reg_seq_32_300.pt'\n",
    "criterion = nn.MSELoss()\n",
    "\n",
    "obtained_train_loss, obtained_val_loss = train(GRU_reg32, \n",
    "                                                      t2_train_loader, \n",
    "                                                      t2_valid_loader, criterion, num_epochs, save_name)\n",
    "\n",
    "\n",
    "\n"
   ]
  },
  {
   "cell_type": "code",
   "execution_count": null,
   "id": "J_uLbOdnMqt4",
   "metadata": {
    "id": "J_uLbOdnMqt4"
   },
   "outputs": [],
   "source": [
    "#Task 3.2\n",
    "\n",
    "device = 'cuda:0'\n",
    "ConvGRU_reg32 = GRURegressor32(input_dim=2,hidden_dim=256,output_dim=2,device='cuda:0').cuda()\n",
    "\n",
    "optimizer = torch.optim.SGD(ConvGRU_reg32.parameters(), lr=0.01, momentum=0.9)\n",
    "#optimizer = torch.optim.Adam(GRU_reg32.parameters(), lr= 1e-4)\n",
    "num_epochs = 500\n",
    "save_name = f'ConvGRU_reg_seq_32_300.pt'\n",
    "criterion = nn.MSELoss()\n",
    "\n",
    "obtained_train_loss, obtained_val_loss = train(ConvGRU_reg32, \n",
    "                                                      t2_train_loader, \n",
    "                                                      t2_valid_loader, criterion, num_epochs, save_name)\n",
    "\n",
    "\n",
    "\n"
   ]
  },
  {
   "cell_type": "code",
   "execution_count": 105,
   "id": "353hklVqFJ-r",
   "metadata": {
    "colab": {
     "base_uri": "https://localhost:8080/"
    },
    "id": "353hklVqFJ-r",
    "outputId": "3da1c5c1-7afa-48be-bf63-92ea48e6231a"
   },
   "outputs": [
    {
     "name": "stdout",
     "output_type": "stream",
     "text": [
      "Starting epoch 1\n",
      "Train Pass Completed\n",
      "Epoch [1/500],Train Loss: 2.0348, Valid Loss: 2.19841957\n",
      "Model Saved to ==> seq2seq_reg_seq_32_500_w_conv_and_ct.pt\n",
      "Starting epoch 2\n",
      "Train Pass Completed\n",
      "Epoch [2/500],Train Loss: 1.9536, Valid Loss: 2.22630143\n",
      "Starting epoch 3\n",
      "Train Pass Completed\n",
      "Epoch [3/500],Train Loss: 1.8291, Valid Loss: 2.33164382\n",
      "Starting epoch 4\n",
      "Train Pass Completed\n",
      "Epoch [4/500],Train Loss: 1.6702, Valid Loss: 2.76525378\n",
      "Starting epoch 5\n",
      "Train Pass Completed\n",
      "Epoch [5/500],Train Loss: 1.6250, Valid Loss: 2.93900990\n",
      "Starting epoch 6\n",
      "Train Pass Completed\n",
      "Epoch [6/500],Train Loss: 1.6120, Valid Loss: 2.76375961\n",
      "Starting epoch 7\n",
      "Train Pass Completed\n",
      "Epoch [7/500],Train Loss: 1.6111, Valid Loss: 2.71632528\n",
      "Starting epoch 8\n",
      "Train Pass Completed\n",
      "Epoch [8/500],Train Loss: 1.6074, Valid Loss: 2.75082254\n",
      "Starting epoch 9\n",
      "Train Pass Completed\n",
      "Epoch [9/500],Train Loss: 1.6039, Valid Loss: 2.75285745\n",
      "Starting epoch 10\n",
      "Train Pass Completed\n",
      "Epoch [10/500],Train Loss: 1.5992, Valid Loss: 2.74611521\n",
      "Starting epoch 11\n",
      "Train Pass Completed\n",
      "Epoch [11/500],Train Loss: 1.5978, Valid Loss: 2.73463178\n",
      "Starting epoch 12\n",
      "Train Pass Completed\n",
      "Epoch [12/500],Train Loss: 1.5900, Valid Loss: 2.74455118\n",
      "Starting epoch 13\n",
      "Train Pass Completed\n",
      "Epoch [13/500],Train Loss: 1.5846, Valid Loss: 2.73315263\n",
      "Starting epoch 14\n",
      "Train Pass Completed\n",
      "Epoch [14/500],Train Loss: 1.5895, Valid Loss: 2.72601628\n",
      "Starting epoch 15\n",
      "Train Pass Completed\n",
      "Epoch [15/500],Train Loss: 1.5832, Valid Loss: 2.76469517\n",
      "Starting epoch 16\n",
      "Train Pass Completed\n",
      "Epoch [16/500],Train Loss: 1.5783, Valid Loss: 2.75905085\n",
      "Starting epoch 17\n",
      "Train Pass Completed\n",
      "Epoch [17/500],Train Loss: 1.5697, Valid Loss: 2.76181364\n",
      "Starting epoch 18\n",
      "Train Pass Completed\n",
      "Epoch [18/500],Train Loss: 1.5759, Valid Loss: 2.76208210\n",
      "Starting epoch 19\n",
      "Train Pass Completed\n",
      "Epoch [19/500],Train Loss: 1.5628, Valid Loss: 2.77128434\n",
      "Starting epoch 20\n",
      "Train Pass Completed\n",
      "Epoch [20/500],Train Loss: 1.5616, Valid Loss: 2.78351951\n",
      "Starting epoch 21\n",
      "Train Pass Completed\n",
      "Epoch [21/500],Train Loss: 1.5481, Valid Loss: 2.79500198\n",
      "Starting epoch 22\n",
      "Train Pass Completed\n",
      "Epoch [22/500],Train Loss: 1.5484, Valid Loss: 2.78054857\n",
      "Starting epoch 23\n",
      "Train Pass Completed\n",
      "Epoch [23/500],Train Loss: 1.5442, Valid Loss: 2.79252911\n",
      "Starting epoch 24\n",
      "Train Pass Completed\n",
      "Epoch [24/500],Train Loss: 1.5171, Valid Loss: 2.75450802\n",
      "Starting epoch 25\n",
      "Train Pass Completed\n",
      "Epoch [25/500],Train Loss: 1.5166, Valid Loss: 2.73788786\n",
      "Starting epoch 26\n",
      "Train Pass Completed\n",
      "Epoch [26/500],Train Loss: 1.5065, Valid Loss: 2.76974726\n",
      "Starting epoch 27\n",
      "Train Pass Completed\n",
      "Epoch [27/500],Train Loss: 1.5052, Valid Loss: 2.77062011\n",
      "Starting epoch 28\n",
      "Train Pass Completed\n",
      "Epoch [28/500],Train Loss: 1.4961, Valid Loss: 2.76629829\n",
      "Starting epoch 29\n",
      "Train Pass Completed\n",
      "Epoch [29/500],Train Loss: 1.4943, Valid Loss: 2.78856087\n",
      "Starting epoch 30\n",
      "Train Pass Completed\n",
      "Epoch [30/500],Train Loss: 1.4808, Valid Loss: 2.81093931\n",
      "Starting epoch 31\n",
      "Train Pass Completed\n",
      "Epoch [31/500],Train Loss: 1.4607, Valid Loss: 2.78853035\n",
      "Starting epoch 32\n",
      "Train Pass Completed\n",
      "Epoch [32/500],Train Loss: 1.4570, Valid Loss: 2.78951454\n",
      "Starting epoch 33\n",
      "Train Pass Completed\n",
      "Epoch [33/500],Train Loss: 1.4536, Valid Loss: 2.78998613\n",
      "Starting epoch 34\n",
      "Train Pass Completed\n",
      "Epoch [34/500],Train Loss: 1.4431, Valid Loss: 2.81934643\n",
      "Starting epoch 35\n",
      "Train Pass Completed\n",
      "Epoch [35/500],Train Loss: 1.4219, Valid Loss: 2.76086760\n",
      "Starting epoch 36\n",
      "Train Pass Completed\n",
      "Epoch [36/500],Train Loss: 1.4418, Valid Loss: 2.84906697\n",
      "Starting epoch 37\n",
      "Train Pass Completed\n",
      "Epoch [37/500],Train Loss: 1.4260, Valid Loss: 2.90362144\n",
      "Starting epoch 38\n",
      "Train Pass Completed\n",
      "Epoch [38/500],Train Loss: 1.4177, Valid Loss: 2.84256506\n",
      "Starting epoch 39\n",
      "Train Pass Completed\n",
      "Epoch [39/500],Train Loss: 1.4126, Valid Loss: 2.82647634\n",
      "Starting epoch 40\n",
      "Train Pass Completed\n",
      "Epoch [40/500],Train Loss: 1.4060, Valid Loss: 2.83399701\n",
      "Starting epoch 41\n",
      "Train Pass Completed\n",
      "Epoch [41/500],Train Loss: 1.4264, Valid Loss: 2.83815336\n",
      "Starting epoch 42\n",
      "Train Pass Completed\n",
      "Epoch [42/500],Train Loss: 1.4197, Valid Loss: 2.83439660\n",
      "Starting epoch 43\n",
      "Train Pass Completed\n",
      "Epoch [43/500],Train Loss: 1.4097, Valid Loss: 2.80337286\n",
      "Starting epoch 44\n",
      "Train Pass Completed\n",
      "Epoch [44/500],Train Loss: 1.4221, Valid Loss: 2.81178188\n",
      "Starting epoch 45\n",
      "Train Pass Completed\n",
      "Epoch [45/500],Train Loss: 1.4013, Valid Loss: 2.86203408\n",
      "Starting epoch 46\n",
      "Train Pass Completed\n",
      "Epoch [46/500],Train Loss: 1.4136, Valid Loss: 2.83875036\n",
      "Starting epoch 47\n",
      "Train Pass Completed\n",
      "Epoch [47/500],Train Loss: 1.4172, Valid Loss: 2.89256501\n",
      "Starting epoch 48\n",
      "Train Pass Completed\n",
      "Epoch [48/500],Train Loss: 1.4020, Valid Loss: 2.80155301\n",
      "Starting epoch 49\n",
      "Train Pass Completed\n",
      "Epoch [49/500],Train Loss: 1.3955, Valid Loss: 2.85942602\n",
      "Starting epoch 50\n",
      "Train Pass Completed\n",
      "Epoch [50/500],Train Loss: 1.4036, Valid Loss: 2.89861751\n",
      "Starting epoch 51\n",
      "Train Pass Completed\n",
      "Epoch [51/500],Train Loss: 1.3931, Valid Loss: 2.83481121\n",
      "Starting epoch 52\n",
      "Train Pass Completed\n",
      "Epoch [52/500],Train Loss: 1.3875, Valid Loss: 2.83276224\n",
      "Starting epoch 53\n",
      "Train Pass Completed\n",
      "Epoch [53/500],Train Loss: 1.3726, Valid Loss: 2.85866213\n",
      "Starting epoch 54\n",
      "Train Pass Completed\n",
      "Epoch [54/500],Train Loss: 1.3873, Valid Loss: 2.80995345\n",
      "Starting epoch 55\n",
      "Train Pass Completed\n",
      "Epoch [55/500],Train Loss: 1.3842, Valid Loss: 2.88685703\n",
      "Starting epoch 56\n",
      "Train Pass Completed\n",
      "Epoch [56/500],Train Loss: 1.3777, Valid Loss: 2.82566786\n",
      "Starting epoch 57\n",
      "Train Pass Completed\n",
      "Epoch [57/500],Train Loss: 1.3759, Valid Loss: 2.88355541\n",
      "Starting epoch 58\n",
      "Train Pass Completed\n",
      "Epoch [58/500],Train Loss: 1.3561, Valid Loss: 2.89874220\n",
      "Starting epoch 59\n",
      "Train Pass Completed\n",
      "Epoch [59/500],Train Loss: 1.3607, Valid Loss: 2.83175898\n",
      "Starting epoch 60\n",
      "Train Pass Completed\n",
      "Epoch [60/500],Train Loss: 1.3682, Valid Loss: 2.84392047\n",
      "Starting epoch 61\n",
      "Train Pass Completed\n",
      "Epoch [61/500],Train Loss: 1.3827, Valid Loss: 2.85700369\n",
      "Starting epoch 62\n",
      "Train Pass Completed\n",
      "Epoch [62/500],Train Loss: 1.3444, Valid Loss: 2.85933399\n",
      "Starting epoch 63\n",
      "Train Pass Completed\n",
      "Epoch [63/500],Train Loss: 1.3397, Valid Loss: 2.84186745\n",
      "Starting epoch 64\n",
      "Train Pass Completed\n",
      "Epoch [64/500],Train Loss: 1.3408, Valid Loss: 2.82866359\n",
      "Starting epoch 65\n",
      "Train Pass Completed\n",
      "Epoch [65/500],Train Loss: 1.3315, Valid Loss: 2.85300732\n",
      "Starting epoch 66\n",
      "Train Pass Completed\n",
      "Epoch [66/500],Train Loss: 1.3400, Valid Loss: 2.89681101\n",
      "Starting epoch 67\n",
      "Train Pass Completed\n",
      "Epoch [67/500],Train Loss: 1.3430, Valid Loss: 2.76632309\n",
      "Starting epoch 68\n",
      "Train Pass Completed\n",
      "Epoch [68/500],Train Loss: 1.3469, Valid Loss: 2.82383609\n",
      "Starting epoch 69\n",
      "Train Pass Completed\n",
      "Epoch [69/500],Train Loss: 1.3313, Valid Loss: 2.86496854\n",
      "Starting epoch 70\n",
      "Train Pass Completed\n",
      "Epoch [70/500],Train Loss: 1.3171, Valid Loss: 2.84479189\n",
      "Starting epoch 71\n",
      "Train Pass Completed\n",
      "Epoch [71/500],Train Loss: 1.3132, Valid Loss: 2.86978722\n",
      "Starting epoch 72\n",
      "Train Pass Completed\n",
      "Epoch [72/500],Train Loss: 1.2788, Valid Loss: 2.85191584\n",
      "Starting epoch 73\n",
      "Train Pass Completed\n",
      "Epoch [73/500],Train Loss: 1.3048, Valid Loss: 2.83157611\n",
      "Starting epoch 74\n",
      "Train Pass Completed\n",
      "Epoch [74/500],Train Loss: 1.3290, Valid Loss: 2.96109128\n",
      "Starting epoch 75\n",
      "Train Pass Completed\n",
      "Epoch [75/500],Train Loss: 1.2918, Valid Loss: 2.83650804\n",
      "Starting epoch 76\n",
      "Train Pass Completed\n",
      "Epoch [76/500],Train Loss: 1.2780, Valid Loss: 2.86583138\n",
      "Starting epoch 77\n",
      "Train Pass Completed\n",
      "Epoch [77/500],Train Loss: 1.2880, Valid Loss: 2.88042784\n",
      "Starting epoch 78\n",
      "Train Pass Completed\n",
      "Epoch [78/500],Train Loss: 1.2987, Valid Loss: 2.86681819\n",
      "Starting epoch 79\n",
      "Train Pass Completed\n",
      "Epoch [79/500],Train Loss: 1.3083, Valid Loss: 2.93506861\n",
      "Starting epoch 80\n",
      "Train Pass Completed\n",
      "Epoch [80/500],Train Loss: 1.2872, Valid Loss: 2.85679579\n",
      "Starting epoch 81\n",
      "Train Pass Completed\n",
      "Epoch [81/500],Train Loss: 1.3085, Valid Loss: 2.85478616\n",
      "Starting epoch 82\n",
      "Train Pass Completed\n",
      "Epoch [82/500],Train Loss: 1.2822, Valid Loss: 2.85928035\n",
      "Starting epoch 83\n",
      "Train Pass Completed\n",
      "Epoch [83/500],Train Loss: 1.2723, Valid Loss: 2.89229965\n",
      "Starting epoch 84\n",
      "Train Pass Completed\n",
      "Epoch [84/500],Train Loss: 1.2566, Valid Loss: 2.79465675\n",
      "Starting epoch 85\n",
      "Train Pass Completed\n",
      "Epoch [85/500],Train Loss: 1.2978, Valid Loss: 2.81804633\n",
      "Starting epoch 86\n",
      "Train Pass Completed\n",
      "Epoch [86/500],Train Loss: 1.2865, Valid Loss: 2.84063101\n",
      "Starting epoch 87\n",
      "Train Pass Completed\n",
      "Epoch [87/500],Train Loss: 1.2656, Valid Loss: 2.85569668\n",
      "Starting epoch 88\n",
      "Train Pass Completed\n",
      "Epoch [88/500],Train Loss: 1.2783, Valid Loss: 2.84519124\n",
      "Starting epoch 89\n",
      "Train Pass Completed\n",
      "Epoch [89/500],Train Loss: 1.2568, Valid Loss: 2.84552717\n",
      "Starting epoch 90\n",
      "Train Pass Completed\n",
      "Epoch [90/500],Train Loss: 1.2692, Valid Loss: 2.81581450\n",
      "Starting epoch 91\n",
      "Train Pass Completed\n",
      "Epoch [91/500],Train Loss: 1.2399, Valid Loss: 2.79616284\n",
      "Starting epoch 92\n",
      "Train Pass Completed\n",
      "Epoch [92/500],Train Loss: 1.2499, Valid Loss: 2.84264755\n",
      "Starting epoch 93\n",
      "Train Pass Completed\n",
      "Epoch [93/500],Train Loss: 1.2492, Valid Loss: 2.83654666\n",
      "Starting epoch 94\n",
      "Train Pass Completed\n",
      "Epoch [94/500],Train Loss: 1.2718, Valid Loss: 2.84738469\n",
      "Starting epoch 95\n",
      "Train Pass Completed\n",
      "Epoch [95/500],Train Loss: 1.2430, Valid Loss: 2.82338905\n",
      "Starting epoch 96\n",
      "Train Pass Completed\n",
      "Epoch [96/500],Train Loss: 1.2321, Valid Loss: 2.81458044\n",
      "Starting epoch 97\n",
      "Train Pass Completed\n",
      "Epoch [97/500],Train Loss: 1.2528, Valid Loss: 2.85804105\n",
      "Starting epoch 98\n",
      "Train Pass Completed\n",
      "Epoch [98/500],Train Loss: 1.2148, Valid Loss: 2.85913920\n",
      "Starting epoch 99\n",
      "Train Pass Completed\n",
      "Epoch [99/500],Train Loss: 1.2748, Valid Loss: 2.87022257\n",
      "Starting epoch 100\n",
      "Train Pass Completed\n",
      "Epoch [100/500],Train Loss: 1.2164, Valid Loss: 2.82442451\n",
      "Starting epoch 101\n",
      "Train Pass Completed\n",
      "Epoch [101/500],Train Loss: 1.2238, Valid Loss: 2.80828762\n",
      "Starting epoch 102\n",
      "Train Pass Completed\n",
      "Epoch [102/500],Train Loss: 1.2285, Valid Loss: 2.82019091\n",
      "Starting epoch 103\n",
      "Train Pass Completed\n",
      "Epoch [103/500],Train Loss: 1.2466, Valid Loss: 2.83267546\n",
      "Starting epoch 104\n",
      "Train Pass Completed\n",
      "Epoch [104/500],Train Loss: 1.2143, Valid Loss: 2.81831932\n",
      "Starting epoch 105\n",
      "Train Pass Completed\n",
      "Epoch [105/500],Train Loss: 1.2174, Valid Loss: 2.79224205\n",
      "Starting epoch 106\n",
      "Train Pass Completed\n",
      "Epoch [106/500],Train Loss: 1.2197, Valid Loss: 2.88197207\n",
      "Starting epoch 107\n",
      "Train Pass Completed\n",
      "Epoch [107/500],Train Loss: 1.2306, Valid Loss: 2.89046526\n",
      "Starting epoch 108\n",
      "Train Pass Completed\n",
      "Epoch [108/500],Train Loss: 1.2667, Valid Loss: 2.84864902\n",
      "Starting epoch 109\n",
      "Train Pass Completed\n",
      "Epoch [109/500],Train Loss: 1.2004, Valid Loss: 2.83386517\n",
      "Starting epoch 110\n",
      "Train Pass Completed\n",
      "Epoch [110/500],Train Loss: 1.1979, Valid Loss: 2.85550165\n",
      "Starting epoch 111\n",
      "Train Pass Completed\n",
      "Epoch [111/500],Train Loss: 1.1900, Valid Loss: 2.82095957\n",
      "Starting epoch 112\n",
      "Train Pass Completed\n",
      "Epoch [112/500],Train Loss: 1.2003, Valid Loss: 2.82877612\n",
      "Starting epoch 113\n",
      "Train Pass Completed\n",
      "Epoch [113/500],Train Loss: 1.1800, Valid Loss: 2.80243349\n",
      "Starting epoch 114\n",
      "Train Pass Completed\n",
      "Epoch [114/500],Train Loss: 1.1862, Valid Loss: 2.80530834\n",
      "Starting epoch 115\n",
      "Train Pass Completed\n",
      "Epoch [115/500],Train Loss: 1.1848, Valid Loss: 2.89593554\n",
      "Starting epoch 116\n",
      "Train Pass Completed\n",
      "Epoch [116/500],Train Loss: 1.1819, Valid Loss: 2.78219819\n",
      "Starting epoch 117\n",
      "Train Pass Completed\n",
      "Epoch [117/500],Train Loss: 1.1903, Valid Loss: 2.86576223\n",
      "Starting epoch 118\n",
      "Train Pass Completed\n",
      "Epoch [118/500],Train Loss: 1.1877, Valid Loss: 2.85949206\n",
      "Starting epoch 119\n",
      "Train Pass Completed\n",
      "Epoch [119/500],Train Loss: 1.1926, Valid Loss: 2.81679296\n",
      "Starting epoch 120\n",
      "Train Pass Completed\n",
      "Epoch [120/500],Train Loss: 1.1818, Valid Loss: 2.85889006\n",
      "Starting epoch 121\n",
      "Train Pass Completed\n",
      "Epoch [121/500],Train Loss: 1.1416, Valid Loss: 2.85629416\n",
      "Starting epoch 122\n",
      "Train Pass Completed\n",
      "Epoch [122/500],Train Loss: 1.1670, Valid Loss: 2.84321952\n",
      "Starting epoch 123\n",
      "Train Pass Completed\n",
      "Epoch [123/500],Train Loss: 1.1846, Valid Loss: 2.80249262\n",
      "Starting epoch 124\n",
      "Train Pass Completed\n",
      "Epoch [124/500],Train Loss: 1.1667, Valid Loss: 2.84344363\n",
      "Starting epoch 125\n",
      "Train Pass Completed\n",
      "Epoch [125/500],Train Loss: 1.1637, Valid Loss: 2.83051848\n",
      "Starting epoch 126\n",
      "Train Pass Completed\n",
      "Epoch [126/500],Train Loss: 1.1781, Valid Loss: 2.83920693\n",
      "Starting epoch 127\n",
      "Train Pass Completed\n",
      "Epoch [127/500],Train Loss: 1.1759, Valid Loss: 2.83586550\n",
      "Starting epoch 128\n",
      "Train Pass Completed\n",
      "Epoch [128/500],Train Loss: 1.1623, Valid Loss: 2.80386066\n",
      "Starting epoch 129\n",
      "Train Pass Completed\n",
      "Epoch [129/500],Train Loss: 1.1761, Valid Loss: 2.86833906\n",
      "Starting epoch 130\n",
      "Train Pass Completed\n",
      "Epoch [130/500],Train Loss: 1.1394, Valid Loss: 2.87205744\n",
      "Starting epoch 131\n",
      "Train Pass Completed\n",
      "Epoch [131/500],Train Loss: 1.1607, Valid Loss: 2.80063534\n",
      "Starting epoch 132\n",
      "Train Pass Completed\n",
      "Epoch [132/500],Train Loss: 1.1625, Valid Loss: 2.76856446\n",
      "Starting epoch 133\n",
      "Train Pass Completed\n",
      "Epoch [133/500],Train Loss: 1.1525, Valid Loss: 2.82410216\n",
      "Starting epoch 134\n",
      "Train Pass Completed\n",
      "Epoch [134/500],Train Loss: 1.1534, Valid Loss: 2.86345077\n",
      "Starting epoch 135\n",
      "Train Pass Completed\n",
      "Epoch [135/500],Train Loss: 1.1377, Valid Loss: 2.80960679\n",
      "Starting epoch 136\n",
      "Train Pass Completed\n",
      "Epoch [136/500],Train Loss: 1.1525, Valid Loss: 2.80229330\n",
      "Starting epoch 137\n",
      "Train Pass Completed\n",
      "Epoch [137/500],Train Loss: 1.1222, Valid Loss: 2.78571272\n",
      "Starting epoch 138\n",
      "Train Pass Completed\n",
      "Epoch [138/500],Train Loss: 1.1362, Valid Loss: 2.84081793\n",
      "Starting epoch 139\n",
      "Train Pass Completed\n",
      "Epoch [139/500],Train Loss: 1.1287, Valid Loss: 2.84831834\n",
      "Starting epoch 140\n",
      "Train Pass Completed\n",
      "Epoch [140/500],Train Loss: 1.1274, Valid Loss: 2.85946798\n",
      "Starting epoch 141\n",
      "Train Pass Completed\n",
      "Epoch [141/500],Train Loss: 1.1087, Valid Loss: 2.85540771\n",
      "Starting epoch 142\n",
      "Train Pass Completed\n",
      "Epoch [142/500],Train Loss: 1.1444, Valid Loss: 2.83620310\n",
      "Starting epoch 143\n",
      "Train Pass Completed\n",
      "Epoch [143/500],Train Loss: 1.1078, Valid Loss: 2.76897597\n",
      "Starting epoch 144\n",
      "Train Pass Completed\n",
      "Epoch [144/500],Train Loss: 1.1224, Valid Loss: 2.84913015\n",
      "Starting epoch 145\n",
      "Train Pass Completed\n",
      "Epoch [145/500],Train Loss: 1.1318, Valid Loss: 2.82675838\n",
      "Starting epoch 146\n",
      "Train Pass Completed\n",
      "Epoch [146/500],Train Loss: 1.1052, Valid Loss: 2.75996637\n",
      "Starting epoch 147\n",
      "Train Pass Completed\n",
      "Epoch [147/500],Train Loss: 1.1146, Valid Loss: 2.88105631\n",
      "Starting epoch 148\n",
      "Train Pass Completed\n",
      "Epoch [148/500],Train Loss: 1.1018, Valid Loss: 2.81461668\n",
      "Starting epoch 149\n",
      "Train Pass Completed\n",
      "Epoch [149/500],Train Loss: 1.0979, Valid Loss: 2.84458208\n",
      "Starting epoch 150\n",
      "Train Pass Completed\n",
      "Epoch [150/500],Train Loss: 1.0929, Valid Loss: 2.86761165\n",
      "Starting epoch 151\n",
      "Train Pass Completed\n",
      "Epoch [151/500],Train Loss: 1.1323, Valid Loss: 2.75736260\n",
      "Starting epoch 152\n",
      "Train Pass Completed\n",
      "Epoch [152/500],Train Loss: 1.0832, Valid Loss: 2.88202667\n",
      "Starting epoch 153\n",
      "Train Pass Completed\n",
      "Epoch [153/500],Train Loss: 1.0943, Valid Loss: 2.86201811\n",
      "Starting epoch 154\n",
      "Train Pass Completed\n",
      "Epoch [154/500],Train Loss: 1.1019, Valid Loss: 2.86095428\n",
      "Starting epoch 155\n",
      "Train Pass Completed\n",
      "Epoch [155/500],Train Loss: 1.1150, Valid Loss: 2.85221624\n",
      "Starting epoch 156\n",
      "Train Pass Completed\n",
      "Epoch [156/500],Train Loss: 1.0909, Valid Loss: 2.85069919\n",
      "Starting epoch 157\n",
      "Train Pass Completed\n",
      "Epoch [157/500],Train Loss: 1.0724, Valid Loss: 2.77423358\n",
      "Starting epoch 158\n",
      "Train Pass Completed\n",
      "Epoch [158/500],Train Loss: 1.0816, Valid Loss: 2.85287452\n",
      "Starting epoch 159\n",
      "Train Pass Completed\n",
      "Epoch [159/500],Train Loss: 1.0726, Valid Loss: 2.90782595\n",
      "Starting epoch 160\n",
      "Train Pass Completed\n",
      "Epoch [160/500],Train Loss: 1.0635, Valid Loss: 2.82228088\n",
      "Starting epoch 161\n",
      "Train Pass Completed\n",
      "Epoch [161/500],Train Loss: 1.0846, Valid Loss: 2.86700583\n",
      "Starting epoch 162\n",
      "Train Pass Completed\n",
      "Epoch [162/500],Train Loss: 1.0751, Valid Loss: 2.84953284\n",
      "Starting epoch 163\n",
      "Train Pass Completed\n",
      "Epoch [163/500],Train Loss: 1.0880, Valid Loss: 2.84019327\n",
      "Starting epoch 164\n",
      "Train Pass Completed\n",
      "Epoch [164/500],Train Loss: 1.0734, Valid Loss: 2.86322594\n",
      "Starting epoch 165\n",
      "Train Pass Completed\n",
      "Epoch [165/500],Train Loss: 1.0780, Valid Loss: 2.90767479\n",
      "Starting epoch 166\n",
      "Train Pass Completed\n",
      "Epoch [166/500],Train Loss: 1.0918, Valid Loss: 2.91398335\n",
      "Starting epoch 167\n",
      "Train Pass Completed\n",
      "Epoch [167/500],Train Loss: 1.0782, Valid Loss: 2.80442452\n",
      "Starting epoch 168\n",
      "Train Pass Completed\n",
      "Epoch [168/500],Train Loss: 1.0542, Valid Loss: 2.90821838\n",
      "Starting epoch 169\n",
      "Train Pass Completed\n",
      "Epoch [169/500],Train Loss: 1.0377, Valid Loss: 2.83971286\n",
      "Starting epoch 170\n",
      "Train Pass Completed\n",
      "Epoch [170/500],Train Loss: 1.0722, Valid Loss: 2.79937959\n",
      "Starting epoch 171\n",
      "Train Pass Completed\n",
      "Epoch [171/500],Train Loss: 1.0459, Valid Loss: 2.87320471\n",
      "Starting epoch 172\n",
      "Train Pass Completed\n",
      "Epoch [172/500],Train Loss: 1.0435, Valid Loss: 2.94374418\n",
      "Starting epoch 173\n",
      "Train Pass Completed\n",
      "Epoch [173/500],Train Loss: 1.0504, Valid Loss: 2.87579393\n",
      "Starting epoch 174\n",
      "Train Pass Completed\n",
      "Epoch [174/500],Train Loss: 1.0292, Valid Loss: 2.76847172\n",
      "Starting epoch 175\n",
      "Train Pass Completed\n",
      "Epoch [175/500],Train Loss: 1.0443, Valid Loss: 2.91498137\n",
      "Starting epoch 176\n",
      "Train Pass Completed\n",
      "Epoch [176/500],Train Loss: 1.0399, Valid Loss: 2.90394211\n",
      "Starting epoch 177\n",
      "Train Pass Completed\n",
      "Epoch [177/500],Train Loss: 1.0555, Valid Loss: 2.93214560\n",
      "Starting epoch 178\n",
      "Train Pass Completed\n",
      "Epoch [178/500],Train Loss: 1.0689, Valid Loss: 2.82348847\n",
      "Starting epoch 179\n",
      "Train Pass Completed\n",
      "Epoch [179/500],Train Loss: 1.0536, Valid Loss: 3.03843164\n",
      "Starting epoch 180\n",
      "Train Pass Completed\n",
      "Epoch [180/500],Train Loss: 1.0587, Valid Loss: 2.87045789\n",
      "Starting epoch 181\n",
      "Train Pass Completed\n",
      "Epoch [181/500],Train Loss: 1.0384, Valid Loss: 2.87160063\n",
      "Starting epoch 182\n",
      "Train Pass Completed\n",
      "Epoch [182/500],Train Loss: 1.0149, Valid Loss: 2.92824554\n",
      "Starting epoch 183\n",
      "Train Pass Completed\n",
      "Epoch [183/500],Train Loss: 1.0134, Valid Loss: 2.94956779\n",
      "Starting epoch 184\n",
      "Train Pass Completed\n",
      "Epoch [184/500],Train Loss: 1.0147, Valid Loss: 2.91232800\n",
      "Starting epoch 185\n",
      "Train Pass Completed\n",
      "Epoch [185/500],Train Loss: 1.0406, Valid Loss: 2.93715692\n",
      "Starting epoch 186\n",
      "Train Pass Completed\n",
      "Epoch [186/500],Train Loss: 1.0567, Valid Loss: 2.92215347\n",
      "Starting epoch 187\n",
      "Train Pass Completed\n",
      "Epoch [187/500],Train Loss: 1.0651, Valid Loss: 2.99722648\n",
      "Starting epoch 188\n",
      "Train Pass Completed\n",
      "Epoch [188/500],Train Loss: 1.0482, Valid Loss: 2.94500136\n",
      "Starting epoch 189\n",
      "Train Pass Completed\n",
      "Epoch [189/500],Train Loss: 1.0693, Valid Loss: 2.92572665\n",
      "Starting epoch 190\n",
      "Train Pass Completed\n",
      "Epoch [190/500],Train Loss: 1.0273, Valid Loss: 2.91431236\n",
      "Starting epoch 191\n",
      "Train Pass Completed\n",
      "Epoch [191/500],Train Loss: 1.0037, Valid Loss: 2.89199114\n",
      "Starting epoch 192\n",
      "Train Pass Completed\n",
      "Epoch [192/500],Train Loss: 1.0309, Valid Loss: 2.96819496\n",
      "Starting epoch 193\n",
      "Train Pass Completed\n",
      "Epoch [193/500],Train Loss: 1.0186, Valid Loss: 2.81249666\n",
      "Starting epoch 194\n",
      "Train Pass Completed\n",
      "Epoch [194/500],Train Loss: 1.0229, Valid Loss: 2.99258423\n",
      "Starting epoch 195\n",
      "Train Pass Completed\n",
      "Epoch [195/500],Train Loss: 0.9996, Valid Loss: 3.00343561\n",
      "Starting epoch 196\n",
      "Train Pass Completed\n",
      "Epoch [196/500],Train Loss: 0.9733, Valid Loss: 2.91026950\n",
      "Starting epoch 197\n",
      "Train Pass Completed\n",
      "Epoch [197/500],Train Loss: 0.9837, Valid Loss: 2.97723913\n",
      "Starting epoch 198\n",
      "Train Pass Completed\n",
      "Epoch [198/500],Train Loss: 0.9796, Valid Loss: 3.05894017\n",
      "Starting epoch 199\n",
      "Train Pass Completed\n",
      "Epoch [199/500],Train Loss: 0.9906, Valid Loss: 2.80091023\n",
      "Starting epoch 200\n",
      "Train Pass Completed\n",
      "Epoch [200/500],Train Loss: 0.9952, Valid Loss: 2.99458194\n",
      "Starting epoch 201\n",
      "Train Pass Completed\n",
      "Epoch [201/500],Train Loss: 0.9782, Valid Loss: 2.92534065\n",
      "Starting epoch 202\n",
      "Train Pass Completed\n",
      "Epoch [202/500],Train Loss: 0.9759, Valid Loss: 2.96852350\n",
      "Starting epoch 203\n",
      "Train Pass Completed\n",
      "Epoch [203/500],Train Loss: 0.9916, Valid Loss: 2.97719264\n",
      "Starting epoch 204\n",
      "Train Pass Completed\n",
      "Epoch [204/500],Train Loss: 0.9747, Valid Loss: 2.99627280\n",
      "Starting epoch 205\n",
      "Train Pass Completed\n",
      "Epoch [205/500],Train Loss: 0.9660, Valid Loss: 3.04898238\n",
      "Starting epoch 206\n",
      "Train Pass Completed\n",
      "Epoch [206/500],Train Loss: 0.9894, Valid Loss: 3.03501272\n",
      "Starting epoch 207\n",
      "Train Pass Completed\n",
      "Epoch [207/500],Train Loss: 0.9669, Valid Loss: 3.03424144\n",
      "Starting epoch 208\n",
      "Train Pass Completed\n",
      "Epoch [208/500],Train Loss: 1.0181, Valid Loss: 2.99722075\n",
      "Starting epoch 209\n",
      "Train Pass Completed\n",
      "Epoch [209/500],Train Loss: 1.0021, Valid Loss: 3.04742193\n",
      "Starting epoch 210\n",
      "Train Pass Completed\n",
      "Epoch [210/500],Train Loss: 0.9747, Valid Loss: 3.02184486\n",
      "Starting epoch 211\n",
      "Train Pass Completed\n",
      "Epoch [211/500],Train Loss: 0.9398, Valid Loss: 3.02295113\n",
      "Starting epoch 212\n",
      "Train Pass Completed\n",
      "Epoch [212/500],Train Loss: 0.9848, Valid Loss: 3.02775431\n",
      "Starting epoch 213\n",
      "Train Pass Completed\n",
      "Epoch [213/500],Train Loss: 0.9858, Valid Loss: 2.94547272\n",
      "Starting epoch 214\n",
      "Train Pass Completed\n",
      "Epoch [214/500],Train Loss: 0.9712, Valid Loss: 2.96652913\n",
      "Starting epoch 215\n",
      "Train Pass Completed\n",
      "Epoch [215/500],Train Loss: 0.9537, Valid Loss: 3.09652472\n",
      "Starting epoch 216\n",
      "Train Pass Completed\n",
      "Epoch [216/500],Train Loss: 0.9543, Valid Loss: 3.09491229\n",
      "Starting epoch 217\n",
      "Train Pass Completed\n",
      "Epoch [217/500],Train Loss: 0.9530, Valid Loss: 2.91744637\n",
      "Starting epoch 218\n",
      "Train Pass Completed\n",
      "Epoch [218/500],Train Loss: 0.9404, Valid Loss: 3.00474691\n",
      "Starting epoch 219\n",
      "Train Pass Completed\n",
      "Epoch [219/500],Train Loss: 0.9507, Valid Loss: 3.06933618\n",
      "Starting epoch 220\n",
      "Train Pass Completed\n",
      "Epoch [220/500],Train Loss: 0.9493, Valid Loss: 3.11934805\n",
      "Starting epoch 221\n",
      "Train Pass Completed\n",
      "Epoch [221/500],Train Loss: 0.9541, Valid Loss: 2.99784589\n",
      "Starting epoch 222\n",
      "Train Pass Completed\n",
      "Epoch [222/500],Train Loss: 0.9353, Valid Loss: 2.90295815\n",
      "Starting epoch 223\n",
      "Train Pass Completed\n",
      "Epoch [223/500],Train Loss: 0.9720, Valid Loss: 3.03666663\n",
      "Starting epoch 224\n",
      "Train Pass Completed\n",
      "Epoch [224/500],Train Loss: 0.9404, Valid Loss: 3.02694774\n",
      "Starting epoch 225\n",
      "Train Pass Completed\n",
      "Epoch [225/500],Train Loss: 0.9407, Valid Loss: 3.10863829\n",
      "Starting epoch 226\n",
      "Train Pass Completed\n",
      "Epoch [226/500],Train Loss: 0.9436, Valid Loss: 2.91020203\n",
      "Starting epoch 227\n",
      "Train Pass Completed\n",
      "Epoch [227/500],Train Loss: 0.9317, Valid Loss: 2.86887360\n",
      "Starting epoch 228\n",
      "Train Pass Completed\n",
      "Epoch [228/500],Train Loss: 0.9111, Valid Loss: 3.17360306\n",
      "Starting epoch 229\n",
      "Train Pass Completed\n",
      "Epoch [229/500],Train Loss: 0.9175, Valid Loss: 2.89253807\n",
      "Starting epoch 230\n",
      "Train Pass Completed\n",
      "Epoch [230/500],Train Loss: 0.9458, Valid Loss: 2.97274399\n",
      "Starting epoch 231\n",
      "Train Pass Completed\n",
      "Epoch [231/500],Train Loss: 0.9358, Valid Loss: 3.20579982\n",
      "Starting epoch 232\n",
      "Train Pass Completed\n",
      "Epoch [232/500],Train Loss: 0.9507, Valid Loss: 3.02559471\n",
      "Starting epoch 233\n",
      "Train Pass Completed\n",
      "Epoch [233/500],Train Loss: 0.9219, Valid Loss: 3.00781536\n",
      "Starting epoch 234\n",
      "Train Pass Completed\n",
      "Epoch [234/500],Train Loss: 0.9236, Valid Loss: 3.04206300\n",
      "Starting epoch 235\n",
      "Train Pass Completed\n",
      "Epoch [235/500],Train Loss: 0.9049, Valid Loss: 3.14104986\n",
      "Starting epoch 236\n",
      "Train Pass Completed\n",
      "Epoch [236/500],Train Loss: 0.8962, Valid Loss: 3.18672085\n",
      "Starting epoch 237\n",
      "Train Pass Completed\n",
      "Epoch [237/500],Train Loss: 0.9025, Valid Loss: 3.02640247\n",
      "Starting epoch 238\n",
      "Train Pass Completed\n",
      "Epoch [238/500],Train Loss: 0.8979, Valid Loss: 2.96590042\n",
      "Starting epoch 239\n",
      "Train Pass Completed\n",
      "Epoch [239/500],Train Loss: 0.9121, Valid Loss: 3.09845591\n",
      "Starting epoch 240\n",
      "Train Pass Completed\n",
      "Epoch [240/500],Train Loss: 0.9177, Valid Loss: 3.05323386\n",
      "Starting epoch 241\n",
      "Train Pass Completed\n",
      "Epoch [241/500],Train Loss: 0.8975, Valid Loss: 3.13587642\n",
      "Starting epoch 242\n",
      "Train Pass Completed\n",
      "Epoch [242/500],Train Loss: 0.8856, Valid Loss: 3.05098867\n",
      "Starting epoch 243\n",
      "Train Pass Completed\n",
      "Epoch [243/500],Train Loss: 0.8772, Valid Loss: 2.96845651\n",
      "Starting epoch 244\n",
      "Train Pass Completed\n",
      "Epoch [244/500],Train Loss: 0.8879, Valid Loss: 3.03778911\n",
      "Starting epoch 245\n",
      "Train Pass Completed\n",
      "Epoch [245/500],Train Loss: 0.8902, Valid Loss: 3.16984701\n",
      "Starting epoch 246\n",
      "Train Pass Completed\n",
      "Epoch [246/500],Train Loss: 0.8841, Valid Loss: 3.06465101\n",
      "Starting epoch 247\n",
      "Train Pass Completed\n",
      "Epoch [247/500],Train Loss: 0.8802, Valid Loss: 3.17051744\n",
      "Starting epoch 248\n",
      "Train Pass Completed\n",
      "Epoch [248/500],Train Loss: 0.9244, Valid Loss: 3.07139993\n",
      "Starting epoch 249\n",
      "Train Pass Completed\n",
      "Epoch [249/500],Train Loss: 0.8838, Valid Loss: 3.17094898\n",
      "Starting epoch 250\n",
      "Train Pass Completed\n",
      "Epoch [250/500],Train Loss: 0.9059, Valid Loss: 3.36073828\n",
      "Starting epoch 251\n",
      "Train Pass Completed\n",
      "Epoch [251/500],Train Loss: 0.8780, Valid Loss: 3.28823662\n",
      "Starting epoch 252\n",
      "Train Pass Completed\n",
      "Epoch [252/500],Train Loss: 0.9314, Valid Loss: 3.45323801\n",
      "Starting epoch 253\n",
      "Train Pass Completed\n",
      "Epoch [253/500],Train Loss: 0.9156, Valid Loss: 3.03865051\n",
      "Starting epoch 254\n",
      "Train Pass Completed\n",
      "Epoch [254/500],Train Loss: 0.8819, Valid Loss: 3.16699481\n",
      "Starting epoch 255\n",
      "Train Pass Completed\n",
      "Epoch [255/500],Train Loss: 0.8681, Valid Loss: 3.11911821\n",
      "Starting epoch 256\n",
      "Train Pass Completed\n",
      "Epoch [256/500],Train Loss: 0.8707, Valid Loss: 3.06521845\n",
      "Starting epoch 257\n",
      "Train Pass Completed\n",
      "Epoch [257/500],Train Loss: 0.8778, Valid Loss: 2.89864278\n",
      "Starting epoch 258\n",
      "Train Pass Completed\n",
      "Epoch [258/500],Train Loss: 0.8614, Valid Loss: 2.98764372\n",
      "Starting epoch 259\n",
      "Train Pass Completed\n",
      "Epoch [259/500],Train Loss: 0.8798, Valid Loss: 3.03205419\n",
      "Starting epoch 260\n",
      "Train Pass Completed\n",
      "Epoch [260/500],Train Loss: 0.9021, Valid Loss: 3.18189692\n",
      "Starting epoch 261\n",
      "Train Pass Completed\n",
      "Epoch [261/500],Train Loss: 0.9131, Valid Loss: 3.28935671\n",
      "Starting epoch 262\n",
      "Train Pass Completed\n",
      "Epoch [262/500],Train Loss: 0.8792, Valid Loss: 3.51391268\n",
      "Starting epoch 263\n",
      "Train Pass Completed\n",
      "Epoch [263/500],Train Loss: 0.8869, Valid Loss: 3.21422005\n",
      "Starting epoch 264\n",
      "Train Pass Completed\n",
      "Epoch [264/500],Train Loss: 0.8632, Valid Loss: 3.09514403\n",
      "Starting epoch 265\n",
      "Train Pass Completed\n",
      "Epoch [265/500],Train Loss: 0.8722, Valid Loss: 3.30747652\n",
      "Starting epoch 266\n",
      "Train Pass Completed\n",
      "Epoch [266/500],Train Loss: 0.8401, Valid Loss: 2.99875569\n",
      "Starting epoch 267\n",
      "Train Pass Completed\n",
      "Epoch [267/500],Train Loss: 0.8310, Valid Loss: 3.08975101\n",
      "Starting epoch 268\n",
      "Train Pass Completed\n",
      "Epoch [268/500],Train Loss: 0.8321, Valid Loss: 2.93711901\n",
      "Starting epoch 269\n",
      "Train Pass Completed\n",
      "Epoch [269/500],Train Loss: 0.8418, Valid Loss: 3.01217628\n",
      "Starting epoch 270\n",
      "Train Pass Completed\n",
      "Epoch [270/500],Train Loss: 0.8514, Valid Loss: 3.04871440\n",
      "Starting epoch 271\n",
      "Train Pass Completed\n",
      "Epoch [271/500],Train Loss: 0.8513, Valid Loss: 3.23353148\n",
      "Starting epoch 272\n",
      "Train Pass Completed\n",
      "Epoch [272/500],Train Loss: 0.8541, Valid Loss: 3.24446750\n",
      "Starting epoch 273\n",
      "Train Pass Completed\n",
      "Epoch [273/500],Train Loss: 0.8891, Valid Loss: 3.27925038\n",
      "Starting epoch 274\n",
      "Train Pass Completed\n",
      "Epoch [274/500],Train Loss: 0.8460, Valid Loss: 3.03853679\n",
      "Starting epoch 275\n",
      "Train Pass Completed\n",
      "Epoch [275/500],Train Loss: 0.8438, Valid Loss: 3.25001478\n",
      "Starting epoch 276\n",
      "Train Pass Completed\n",
      "Epoch [276/500],Train Loss: 0.8178, Valid Loss: 3.29386902\n",
      "Starting epoch 277\n",
      "Train Pass Completed\n",
      "Epoch [277/500],Train Loss: 0.8159, Valid Loss: 3.37240934\n",
      "Starting epoch 278\n",
      "Train Pass Completed\n",
      "Epoch [278/500],Train Loss: 0.8109, Valid Loss: 3.19046307\n",
      "Starting epoch 279\n",
      "Train Pass Completed\n",
      "Epoch [279/500],Train Loss: 0.7988, Valid Loss: 3.19933915\n",
      "Starting epoch 280\n",
      "Train Pass Completed\n",
      "Epoch [280/500],Train Loss: 0.7954, Valid Loss: 3.07267451\n",
      "Starting epoch 281\n",
      "Train Pass Completed\n",
      "Epoch [281/500],Train Loss: 0.7957, Valid Loss: 3.20075178\n",
      "Starting epoch 282\n",
      "Train Pass Completed\n",
      "Epoch [282/500],Train Loss: 0.8062, Valid Loss: 3.27616763\n",
      "Starting epoch 283\n",
      "Train Pass Completed\n",
      "Epoch [283/500],Train Loss: 0.8024, Valid Loss: 3.18814373\n",
      "Starting epoch 284\n",
      "Train Pass Completed\n",
      "Epoch [284/500],Train Loss: 0.8128, Valid Loss: 3.25271678\n",
      "Starting epoch 285\n",
      "Train Pass Completed\n",
      "Epoch [285/500],Train Loss: 0.8078, Valid Loss: 3.32389140\n",
      "Starting epoch 286\n",
      "Train Pass Completed\n",
      "Epoch [286/500],Train Loss: 0.8142, Valid Loss: 3.31882596\n",
      "Starting epoch 287\n",
      "Train Pass Completed\n",
      "Epoch [287/500],Train Loss: 0.7998, Valid Loss: 3.24062467\n",
      "Starting epoch 288\n",
      "Train Pass Completed\n",
      "Epoch [288/500],Train Loss: 0.7828, Valid Loss: 3.14440680\n",
      "Starting epoch 289\n",
      "Train Pass Completed\n",
      "Epoch [289/500],Train Loss: 0.7625, Valid Loss: 3.15506673\n",
      "Starting epoch 290\n",
      "Train Pass Completed\n",
      "Epoch [290/500],Train Loss: 0.7857, Valid Loss: 3.33942842\n",
      "Starting epoch 291\n",
      "Train Pass Completed\n",
      "Epoch [291/500],Train Loss: 0.7911, Valid Loss: 3.41746211\n",
      "Starting epoch 292\n",
      "Train Pass Completed\n",
      "Epoch [292/500],Train Loss: 0.7815, Valid Loss: 3.31109881\n",
      "Starting epoch 293\n",
      "Train Pass Completed\n",
      "Epoch [293/500],Train Loss: 0.7991, Valid Loss: 3.28241801\n",
      "Starting epoch 294\n",
      "Train Pass Completed\n",
      "Epoch [294/500],Train Loss: 0.7985, Valid Loss: 3.29797244\n",
      "Starting epoch 295\n",
      "Train Pass Completed\n",
      "Epoch [295/500],Train Loss: 0.7909, Valid Loss: 3.21641231\n",
      "Starting epoch 296\n",
      "Train Pass Completed\n",
      "Epoch [296/500],Train Loss: 0.8146, Valid Loss: 3.20986867\n",
      "Starting epoch 297\n",
      "Train Pass Completed\n",
      "Epoch [297/500],Train Loss: 0.8682, Valid Loss: 3.04228449\n",
      "Starting epoch 298\n",
      "Train Pass Completed\n",
      "Epoch [298/500],Train Loss: 0.8603, Valid Loss: 3.34774733\n",
      "Starting epoch 299\n",
      "Train Pass Completed\n",
      "Epoch [299/500],Train Loss: 0.8474, Valid Loss: 3.10140038\n",
      "Starting epoch 300\n",
      "Train Pass Completed\n",
      "Epoch [300/500],Train Loss: 0.8218, Valid Loss: 3.40945506\n",
      "Starting epoch 301\n",
      "Train Pass Completed\n",
      "Epoch [301/500],Train Loss: 0.8178, Valid Loss: 3.25550032\n",
      "Starting epoch 302\n",
      "Train Pass Completed\n",
      "Epoch [302/500],Train Loss: 0.8135, Valid Loss: 3.33217478\n",
      "Starting epoch 303\n",
      "Train Pass Completed\n",
      "Epoch [303/500],Train Loss: 0.8183, Valid Loss: 3.07096791\n",
      "Starting epoch 304\n",
      "Train Pass Completed\n",
      "Epoch [304/500],Train Loss: 0.8371, Valid Loss: 3.14195061\n",
      "Starting epoch 305\n",
      "Train Pass Completed\n",
      "Epoch [305/500],Train Loss: 0.8221, Valid Loss: 3.15933228\n",
      "Starting epoch 306\n",
      "Train Pass Completed\n",
      "Epoch [306/500],Train Loss: 0.8025, Valid Loss: 3.28118587\n",
      "Starting epoch 307\n",
      "Train Pass Completed\n",
      "Epoch [307/500],Train Loss: 0.8099, Valid Loss: 3.50315785\n",
      "Starting epoch 308\n",
      "Train Pass Completed\n",
      "Epoch [308/500],Train Loss: 0.8439, Valid Loss: 3.38878775\n",
      "Starting epoch 309\n",
      "Train Pass Completed\n",
      "Epoch [309/500],Train Loss: 0.8366, Valid Loss: 3.55731010\n",
      "Starting epoch 310\n",
      "Train Pass Completed\n",
      "Epoch [310/500],Train Loss: 0.8156, Valid Loss: 3.25327635\n",
      "Starting epoch 311\n",
      "Train Pass Completed\n",
      "Epoch [311/500],Train Loss: 0.8176, Valid Loss: 3.06571007\n",
      "Starting epoch 312\n",
      "Train Pass Completed\n",
      "Epoch [312/500],Train Loss: 0.8086, Valid Loss: 3.01836896\n",
      "Starting epoch 313\n",
      "Train Pass Completed\n",
      "Epoch [313/500],Train Loss: 0.8274, Valid Loss: 3.18951821\n",
      "Starting epoch 314\n",
      "Train Pass Completed\n",
      "Epoch [314/500],Train Loss: 0.8357, Valid Loss: 3.38893437\n",
      "Starting epoch 315\n",
      "Train Pass Completed\n",
      "Epoch [315/500],Train Loss: 0.8003, Valid Loss: 3.39384079\n",
      "Starting epoch 316\n",
      "Train Pass Completed\n",
      "Epoch [316/500],Train Loss: 0.7801, Valid Loss: 3.24248004\n",
      "Starting epoch 317\n",
      "Train Pass Completed\n",
      "Epoch [317/500],Train Loss: 0.7886, Valid Loss: 2.90482759\n",
      "Starting epoch 318\n",
      "Train Pass Completed\n",
      "Epoch [318/500],Train Loss: 0.7772, Valid Loss: 3.08182883\n",
      "Starting epoch 319\n",
      "Train Pass Completed\n",
      "Epoch [319/500],Train Loss: 0.7609, Valid Loss: 3.16316342\n",
      "Starting epoch 320\n",
      "Train Pass Completed\n",
      "Epoch [320/500],Train Loss: 0.7822, Valid Loss: 3.32899737\n",
      "Starting epoch 321\n",
      "Train Pass Completed\n",
      "Epoch [321/500],Train Loss: 0.8034, Valid Loss: 3.45918584\n",
      "Starting epoch 322\n",
      "Train Pass Completed\n",
      "Epoch [322/500],Train Loss: 0.8175, Valid Loss: 3.52567625\n",
      "Starting epoch 323\n",
      "Train Pass Completed\n",
      "Epoch [323/500],Train Loss: 0.8325, Valid Loss: 3.20819211\n",
      "Starting epoch 324\n",
      "Train Pass Completed\n",
      "Epoch [324/500],Train Loss: 0.7958, Valid Loss: 3.21108365\n",
      "Starting epoch 325\n",
      "Train Pass Completed\n",
      "Epoch [325/500],Train Loss: 0.7774, Valid Loss: 3.17034149\n",
      "Starting epoch 326\n",
      "Train Pass Completed\n",
      "Epoch [326/500],Train Loss: 0.7830, Valid Loss: 2.99851847\n",
      "Starting epoch 327\n",
      "Train Pass Completed\n",
      "Epoch [327/500],Train Loss: 0.7679, Valid Loss: 3.22786093\n",
      "Starting epoch 328\n",
      "Train Pass Completed\n",
      "Epoch [328/500],Train Loss: 0.7572, Valid Loss: 3.28483510\n",
      "Starting epoch 329\n",
      "Train Pass Completed\n",
      "Epoch [329/500],Train Loss: 0.7557, Valid Loss: 3.45343852\n",
      "Starting epoch 330\n",
      "Train Pass Completed\n",
      "Epoch [330/500],Train Loss: 0.7655, Valid Loss: 3.23074794\n",
      "Starting epoch 331\n",
      "Train Pass Completed\n",
      "Epoch [331/500],Train Loss: 0.7828, Valid Loss: 3.26825857\n",
      "Starting epoch 332\n",
      "Train Pass Completed\n",
      "Epoch [332/500],Train Loss: 0.7768, Valid Loss: 3.23027229\n",
      "Starting epoch 333\n",
      "Train Pass Completed\n",
      "Epoch [333/500],Train Loss: 0.7543, Valid Loss: 3.33038759\n",
      "Starting epoch 334\n",
      "Train Pass Completed\n",
      "Epoch [334/500],Train Loss: 0.7568, Valid Loss: 3.41817594\n",
      "Starting epoch 335\n",
      "Train Pass Completed\n",
      "Epoch [335/500],Train Loss: 0.7592, Valid Loss: 3.69947863\n",
      "Starting epoch 336\n",
      "Train Pass Completed\n",
      "Epoch [336/500],Train Loss: 0.7615, Valid Loss: 3.37629580\n",
      "Starting epoch 337\n",
      "Train Pass Completed\n",
      "Epoch [337/500],Train Loss: 0.7632, Valid Loss: 3.27024412\n",
      "Starting epoch 338\n",
      "Train Pass Completed\n",
      "Epoch [338/500],Train Loss: 0.7142, Valid Loss: 3.24697876\n",
      "Starting epoch 339\n",
      "Train Pass Completed\n",
      "Epoch [339/500],Train Loss: 0.7361, Valid Loss: 3.06202316\n",
      "Starting epoch 340\n",
      "Train Pass Completed\n",
      "Epoch [340/500],Train Loss: 0.7710, Valid Loss: 3.11748314\n",
      "Starting epoch 341\n",
      "Train Pass Completed\n",
      "Epoch [341/500],Train Loss: 0.7584, Valid Loss: 3.15101981\n",
      "Starting epoch 342\n",
      "Train Pass Completed\n",
      "Epoch [342/500],Train Loss: 0.7780, Valid Loss: 3.23429537\n",
      "Starting epoch 343\n",
      "Train Pass Completed\n",
      "Epoch [343/500],Train Loss: 0.8071, Valid Loss: 3.39081693\n",
      "Starting epoch 344\n",
      "Train Pass Completed\n",
      "Epoch [344/500],Train Loss: 0.8052, Valid Loss: 3.65724230\n",
      "Starting epoch 345\n",
      "Train Pass Completed\n",
      "Epoch [345/500],Train Loss: 0.7569, Valid Loss: 3.21398020\n",
      "Starting epoch 346\n",
      "Train Pass Completed\n",
      "Epoch [346/500],Train Loss: 0.7468, Valid Loss: 3.29864573\n",
      "Starting epoch 347\n",
      "Train Pass Completed\n",
      "Epoch [347/500],Train Loss: 0.7226, Valid Loss: 3.15718889\n",
      "Starting epoch 348\n",
      "Train Pass Completed\n",
      "Epoch [348/500],Train Loss: 0.7286, Valid Loss: 3.05644321\n",
      "Starting epoch 349\n",
      "Train Pass Completed\n",
      "Epoch [349/500],Train Loss: 0.7488, Valid Loss: 3.14756489\n",
      "Starting epoch 350\n",
      "Train Pass Completed\n",
      "Epoch [350/500],Train Loss: 0.7438, Valid Loss: 3.58159828\n",
      "Starting epoch 351\n",
      "Train Pass Completed\n",
      "Epoch [351/500],Train Loss: 0.7500, Valid Loss: 3.54099894\n",
      "Starting epoch 352\n",
      "Train Pass Completed\n",
      "Epoch [352/500],Train Loss: 0.7562, Valid Loss: 3.68352056\n",
      "Starting epoch 353\n",
      "Train Pass Completed\n",
      "Epoch [353/500],Train Loss: 0.7908, Valid Loss: 3.41390753\n",
      "Starting epoch 354\n",
      "Train Pass Completed\n",
      "Epoch [354/500],Train Loss: 0.7854, Valid Loss: 2.99301386\n",
      "Starting epoch 355\n",
      "Train Pass Completed\n",
      "Epoch [355/500],Train Loss: 0.7550, Valid Loss: 3.01156497\n",
      "Starting epoch 356\n",
      "Train Pass Completed\n",
      "Epoch [356/500],Train Loss: 0.7374, Valid Loss: 2.98432279\n",
      "Starting epoch 357\n",
      "Train Pass Completed\n",
      "Epoch [357/500],Train Loss: 0.7553, Valid Loss: 3.27602124\n",
      "Starting epoch 358\n",
      "Train Pass Completed\n",
      "Epoch [358/500],Train Loss: 0.7300, Valid Loss: 3.70669675\n",
      "Starting epoch 359\n",
      "Train Pass Completed\n",
      "Epoch [359/500],Train Loss: 0.7464, Valid Loss: 3.50445700\n",
      "Starting epoch 360\n",
      "Train Pass Completed\n",
      "Epoch [360/500],Train Loss: 0.7195, Valid Loss: 3.42014694\n",
      "Starting epoch 361\n",
      "Train Pass Completed\n",
      "Epoch [361/500],Train Loss: 0.7489, Valid Loss: 3.09405732\n",
      "Starting epoch 362\n",
      "Train Pass Completed\n",
      "Epoch [362/500],Train Loss: 0.7489, Valid Loss: 2.95796895\n",
      "Starting epoch 363\n",
      "Train Pass Completed\n",
      "Epoch [363/500],Train Loss: 0.7594, Valid Loss: 3.19301248\n",
      "Starting epoch 364\n",
      "Train Pass Completed\n",
      "Epoch [364/500],Train Loss: 0.7763, Valid Loss: 3.76035690\n",
      "Starting epoch 365\n",
      "Train Pass Completed\n",
      "Epoch [365/500],Train Loss: 0.7487, Valid Loss: 3.60407329\n",
      "Starting epoch 366\n",
      "Train Pass Completed\n",
      "Epoch [366/500],Train Loss: 0.7291, Valid Loss: 3.36736035\n",
      "Starting epoch 367\n",
      "Train Pass Completed\n",
      "Epoch [367/500],Train Loss: 0.7240, Valid Loss: 2.83663416\n",
      "Starting epoch 368\n",
      "Train Pass Completed\n",
      "Epoch [368/500],Train Loss: 0.7187, Valid Loss: 2.85673404\n",
      "Starting epoch 369\n",
      "Train Pass Completed\n",
      "Epoch [369/500],Train Loss: 0.7209, Valid Loss: 3.19037080\n",
      "Starting epoch 370\n",
      "Train Pass Completed\n",
      "Epoch [370/500],Train Loss: 0.7637, Valid Loss: 3.71967363\n",
      "Starting epoch 371\n",
      "Train Pass Completed\n",
      "Epoch [371/500],Train Loss: 0.7752, Valid Loss: 3.78205228\n",
      "Starting epoch 372\n",
      "Train Pass Completed\n",
      "Epoch [372/500],Train Loss: 0.7788, Valid Loss: 3.44944048\n",
      "Starting epoch 373\n",
      "Train Pass Completed\n",
      "Epoch [373/500],Train Loss: 0.8013, Valid Loss: 3.07920980\n",
      "Starting epoch 374\n",
      "Train Pass Completed\n",
      "Epoch [374/500],Train Loss: 0.7783, Valid Loss: 3.02182460\n",
      "Starting epoch 375\n",
      "Train Pass Completed\n",
      "Epoch [375/500],Train Loss: 0.7601, Valid Loss: 3.32485771\n",
      "Starting epoch 376\n",
      "Train Pass Completed\n",
      "Epoch [376/500],Train Loss: 0.7331, Valid Loss: 3.45507812\n",
      "Starting epoch 377\n",
      "Train Pass Completed\n",
      "Epoch [377/500],Train Loss: 0.7351, Valid Loss: 3.26597023\n",
      "Starting epoch 378\n",
      "Train Pass Completed\n",
      "Epoch [378/500],Train Loss: 0.7166, Valid Loss: 2.87263346\n",
      "Starting epoch 379\n",
      "Train Pass Completed\n",
      "Epoch [379/500],Train Loss: 0.7225, Valid Loss: 3.09432411\n",
      "Starting epoch 380\n",
      "Train Pass Completed\n",
      "Epoch [380/500],Train Loss: 0.7429, Valid Loss: 3.37674379\n",
      "Starting epoch 381\n",
      "Train Pass Completed\n",
      "Epoch [381/500],Train Loss: 0.7545, Valid Loss: 3.60613298\n",
      "Starting epoch 382\n",
      "Train Pass Completed\n",
      "Epoch [382/500],Train Loss: 0.7603, Valid Loss: 3.48073339\n",
      "Starting epoch 383\n",
      "Train Pass Completed\n",
      "Epoch [383/500],Train Loss: 0.7176, Valid Loss: 3.22557783\n",
      "Starting epoch 384\n",
      "Train Pass Completed\n",
      "Epoch [384/500],Train Loss: 0.7175, Valid Loss: 3.01642370\n",
      "Starting epoch 385\n",
      "Train Pass Completed\n",
      "Epoch [385/500],Train Loss: 0.6994, Valid Loss: 3.02932906\n",
      "Starting epoch 386\n",
      "Train Pass Completed\n",
      "Epoch [386/500],Train Loss: 0.7051, Valid Loss: 3.23537564\n",
      "Starting epoch 387\n",
      "Train Pass Completed\n",
      "Epoch [387/500],Train Loss: 0.7003, Valid Loss: 3.35566020\n",
      "Starting epoch 388\n",
      "Train Pass Completed\n",
      "Epoch [388/500],Train Loss: 0.7091, Valid Loss: 3.39739466\n",
      "Starting epoch 389\n",
      "Train Pass Completed\n",
      "Epoch [389/500],Train Loss: 0.7065, Valid Loss: 3.25054789\n",
      "Starting epoch 390\n",
      "Train Pass Completed\n",
      "Epoch [390/500],Train Loss: 0.7104, Valid Loss: 3.13456774\n",
      "Starting epoch 391\n",
      "Train Pass Completed\n",
      "Epoch [391/500],Train Loss: 0.7300, Valid Loss: 3.38201952\n",
      "Starting epoch 392\n",
      "Train Pass Completed\n",
      "Epoch [392/500],Train Loss: 0.7240, Valid Loss: 3.62083435\n",
      "Starting epoch 393\n",
      "Train Pass Completed\n",
      "Epoch [393/500],Train Loss: 0.7335, Valid Loss: 3.41727114\n",
      "Starting epoch 394\n",
      "Train Pass Completed\n",
      "Epoch [394/500],Train Loss: 0.7520, Valid Loss: 3.12883067\n",
      "Starting epoch 395\n",
      "Train Pass Completed\n",
      "Epoch [395/500],Train Loss: 0.7491, Valid Loss: 2.88449335\n",
      "Starting epoch 396\n",
      "Train Pass Completed\n",
      "Epoch [396/500],Train Loss: 0.7810, Valid Loss: 2.97622728\n",
      "Starting epoch 397\n",
      "Train Pass Completed\n",
      "Epoch [397/500],Train Loss: 0.7439, Valid Loss: 3.68581653\n",
      "Starting epoch 398\n",
      "Train Pass Completed\n",
      "Epoch [398/500],Train Loss: 0.7283, Valid Loss: 3.51708937\n",
      "Starting epoch 399\n",
      "Train Pass Completed\n",
      "Epoch [399/500],Train Loss: 0.7654, Valid Loss: 3.24642038\n",
      "Starting epoch 400\n",
      "Train Pass Completed\n",
      "Epoch [400/500],Train Loss: 0.7670, Valid Loss: 3.02971697\n",
      "Starting epoch 401\n",
      "Train Pass Completed\n",
      "Epoch [401/500],Train Loss: 0.7525, Valid Loss: 3.07001853\n",
      "Starting epoch 402\n",
      "Train Pass Completed\n",
      "Epoch [402/500],Train Loss: 0.7650, Valid Loss: 3.56194425\n",
      "Starting epoch 403\n",
      "Train Pass Completed\n",
      "Epoch [403/500],Train Loss: 0.7664, Valid Loss: 3.32477617\n",
      "Starting epoch 404\n",
      "Train Pass Completed\n",
      "Epoch [404/500],Train Loss: 0.7216, Valid Loss: 3.20985103\n",
      "Starting epoch 405\n",
      "Train Pass Completed\n",
      "Epoch [405/500],Train Loss: 0.7168, Valid Loss: 3.14421391\n",
      "Starting epoch 406\n",
      "Train Pass Completed\n",
      "Epoch [406/500],Train Loss: 0.6790, Valid Loss: 3.33728099\n",
      "Starting epoch 407\n",
      "Train Pass Completed\n",
      "Epoch [407/500],Train Loss: 0.7002, Valid Loss: 3.59508967\n",
      "Starting epoch 408\n",
      "Train Pass Completed\n",
      "Epoch [408/500],Train Loss: 0.7466, Valid Loss: 3.21008348\n",
      "Starting epoch 409\n",
      "Train Pass Completed\n",
      "Epoch [409/500],Train Loss: 0.7214, Valid Loss: 3.20917511\n",
      "Starting epoch 410\n",
      "Train Pass Completed\n",
      "Epoch [410/500],Train Loss: 0.7109, Valid Loss: 2.99436975\n",
      "Starting epoch 411\n",
      "Train Pass Completed\n",
      "Epoch [411/500],Train Loss: 0.7004, Valid Loss: 3.31071162\n",
      "Starting epoch 412\n",
      "Train Pass Completed\n",
      "Epoch [412/500],Train Loss: 0.7070, Valid Loss: 3.47141004\n",
      "Starting epoch 413\n",
      "Train Pass Completed\n",
      "Epoch [413/500],Train Loss: 0.6850, Valid Loss: 3.38556433\n",
      "Starting epoch 414\n",
      "Train Pass Completed\n",
      "Epoch [414/500],Train Loss: 0.7130, Valid Loss: 3.28460741\n",
      "Starting epoch 415\n",
      "Train Pass Completed\n",
      "Epoch [415/500],Train Loss: 0.7106, Valid Loss: 3.10280585\n",
      "Starting epoch 416\n",
      "Train Pass Completed\n",
      "Epoch [416/500],Train Loss: 0.6939, Valid Loss: 3.06281614\n",
      "Starting epoch 417\n",
      "Train Pass Completed\n",
      "Epoch [417/500],Train Loss: 0.7070, Valid Loss: 3.26805735\n",
      "Starting epoch 418\n",
      "Train Pass Completed\n",
      "Epoch [418/500],Train Loss: 0.7212, Valid Loss: 3.28531384\n",
      "Starting epoch 419\n",
      "Train Pass Completed\n",
      "Epoch [419/500],Train Loss: 0.6768, Valid Loss: 3.48362803\n",
      "Starting epoch 420\n",
      "Train Pass Completed\n",
      "Epoch [420/500],Train Loss: 0.6728, Valid Loss: 3.53131104\n",
      "Starting epoch 421\n",
      "Train Pass Completed\n",
      "Epoch [421/500],Train Loss: 0.6920, Valid Loss: 3.26275682\n",
      "Starting epoch 422\n",
      "Train Pass Completed\n",
      "Epoch [422/500],Train Loss: 0.7031, Valid Loss: 3.26071477\n",
      "Starting epoch 423\n",
      "Train Pass Completed\n",
      "Epoch [423/500],Train Loss: 0.6961, Valid Loss: 3.10499334\n",
      "Starting epoch 424\n",
      "Train Pass Completed\n",
      "Epoch [424/500],Train Loss: 0.6797, Valid Loss: 3.18352580\n",
      "Starting epoch 425\n",
      "Train Pass Completed\n",
      "Epoch [425/500],Train Loss: 0.6904, Valid Loss: 3.31889391\n",
      "Starting epoch 426\n",
      "Train Pass Completed\n",
      "Epoch [426/500],Train Loss: 0.6653, Valid Loss: 3.30710101\n",
      "Starting epoch 427\n",
      "Train Pass Completed\n",
      "Epoch [427/500],Train Loss: 0.6630, Valid Loss: 3.41278219\n",
      "Starting epoch 428\n",
      "Train Pass Completed\n",
      "Epoch [428/500],Train Loss: 0.6884, Valid Loss: 3.31698728\n",
      "Starting epoch 429\n",
      "Train Pass Completed\n",
      "Epoch [429/500],Train Loss: 0.6931, Valid Loss: 3.42836952\n",
      "Starting epoch 430\n",
      "Train Pass Completed\n",
      "Epoch [430/500],Train Loss: 0.7024, Valid Loss: 3.31732750\n",
      "Starting epoch 431\n",
      "Train Pass Completed\n",
      "Epoch [431/500],Train Loss: 0.6861, Valid Loss: 3.14129591\n",
      "Starting epoch 432\n",
      "Train Pass Completed\n",
      "Epoch [432/500],Train Loss: 0.6785, Valid Loss: 3.09724188\n",
      "Starting epoch 433\n",
      "Train Pass Completed\n",
      "Epoch [433/500],Train Loss: 0.6657, Valid Loss: 3.38212967\n",
      "Starting epoch 434\n",
      "Train Pass Completed\n",
      "Epoch [434/500],Train Loss: 0.6870, Valid Loss: 3.59945631\n",
      "Starting epoch 435\n",
      "Train Pass Completed\n",
      "Epoch [435/500],Train Loss: 0.7362, Valid Loss: 3.31010509\n",
      "Starting epoch 436\n",
      "Train Pass Completed\n",
      "Epoch [436/500],Train Loss: 0.7477, Valid Loss: 3.33491373\n",
      "Starting epoch 437\n",
      "Train Pass Completed\n",
      "Epoch [437/500],Train Loss: 0.7336, Valid Loss: 3.11635017\n",
      "Starting epoch 438\n",
      "Train Pass Completed\n",
      "Epoch [438/500],Train Loss: 0.6876, Valid Loss: 3.31063080\n",
      "Starting epoch 439\n",
      "Train Pass Completed\n",
      "Epoch [439/500],Train Loss: 0.6746, Valid Loss: 3.62742615\n",
      "Starting epoch 440\n",
      "Train Pass Completed\n",
      "Epoch [440/500],Train Loss: 0.6621, Valid Loss: 3.45782590\n",
      "Starting epoch 441\n",
      "Train Pass Completed\n",
      "Epoch [441/500],Train Loss: 0.7061, Valid Loss: 3.30083966\n",
      "Starting epoch 442\n",
      "Train Pass Completed\n",
      "Epoch [442/500],Train Loss: 0.6777, Valid Loss: 3.07245374\n",
      "Starting epoch 443\n",
      "Train Pass Completed\n",
      "Epoch [443/500],Train Loss: 0.6781, Valid Loss: 3.14799356\n",
      "Starting epoch 444\n",
      "Train Pass Completed\n",
      "Epoch [444/500],Train Loss: 0.6881, Valid Loss: 3.12825632\n",
      "Starting epoch 445\n",
      "Train Pass Completed\n",
      "Epoch [445/500],Train Loss: 0.6796, Valid Loss: 3.63335347\n",
      "Starting epoch 446\n",
      "Train Pass Completed\n",
      "Epoch [446/500],Train Loss: 0.6740, Valid Loss: 3.63177681\n",
      "Starting epoch 447\n",
      "Train Pass Completed\n",
      "Epoch [447/500],Train Loss: 0.6876, Valid Loss: 3.49483418\n",
      "Starting epoch 448\n",
      "Train Pass Completed\n",
      "Epoch [448/500],Train Loss: 0.6718, Valid Loss: 3.18552041\n",
      "Starting epoch 449\n",
      "Train Pass Completed\n",
      "Epoch [449/500],Train Loss: 0.6836, Valid Loss: 3.01586294\n",
      "Starting epoch 450\n",
      "Train Pass Completed\n",
      "Epoch [450/500],Train Loss: 0.6862, Valid Loss: 3.25409579\n",
      "Starting epoch 451\n",
      "Train Pass Completed\n",
      "Epoch [451/500],Train Loss: 0.6626, Valid Loss: 3.33554220\n",
      "Starting epoch 452\n",
      "Train Pass Completed\n",
      "Epoch [452/500],Train Loss: 0.6565, Valid Loss: 3.18395662\n",
      "Starting epoch 453\n",
      "Train Pass Completed\n",
      "Epoch [453/500],Train Loss: 0.6497, Valid Loss: 3.42003012\n",
      "Starting epoch 454\n",
      "Train Pass Completed\n",
      "Epoch [454/500],Train Loss: 0.6568, Valid Loss: 3.47950411\n",
      "Starting epoch 455\n",
      "Train Pass Completed\n",
      "Epoch [455/500],Train Loss: 0.6669, Valid Loss: 3.44886971\n",
      "Starting epoch 456\n",
      "Train Pass Completed\n",
      "Epoch [456/500],Train Loss: 0.6553, Valid Loss: 3.39021564\n",
      "Starting epoch 457\n",
      "Train Pass Completed\n",
      "Epoch [457/500],Train Loss: 0.6449, Valid Loss: 3.17864466\n",
      "Starting epoch 458\n",
      "Train Pass Completed\n",
      "Epoch [458/500],Train Loss: 0.6337, Valid Loss: 3.20831251\n",
      "Starting epoch 459\n",
      "Train Pass Completed\n",
      "Epoch [459/500],Train Loss: 0.6208, Valid Loss: 3.16583729\n",
      "Starting epoch 460\n",
      "Train Pass Completed\n",
      "Epoch [460/500],Train Loss: 0.6397, Valid Loss: 3.26283765\n",
      "Starting epoch 461\n",
      "Train Pass Completed\n",
      "Epoch [461/500],Train Loss: 0.7102, Valid Loss: 3.25771832\n",
      "Starting epoch 462\n",
      "Train Pass Completed\n",
      "Epoch [462/500],Train Loss: 0.7115, Valid Loss: 3.52446675\n",
      "Starting epoch 463\n",
      "Train Pass Completed\n",
      "Epoch [463/500],Train Loss: 0.7115, Valid Loss: 3.69361639\n",
      "Starting epoch 464\n",
      "Train Pass Completed\n",
      "Epoch [464/500],Train Loss: 0.6807, Valid Loss: 3.47314906\n",
      "Starting epoch 465\n",
      "Train Pass Completed\n",
      "Epoch [465/500],Train Loss: 0.6884, Valid Loss: 3.15656614\n",
      "Starting epoch 466\n",
      "Train Pass Completed\n",
      "Epoch [466/500],Train Loss: 0.6600, Valid Loss: 3.00650835\n",
      "Starting epoch 467\n",
      "Train Pass Completed\n",
      "Epoch [467/500],Train Loss: 0.6683, Valid Loss: 3.15352964\n",
      "Starting epoch 468\n",
      "Train Pass Completed\n",
      "Epoch [468/500],Train Loss: 0.7003, Valid Loss: 3.19420385\n",
      "Starting epoch 469\n",
      "Train Pass Completed\n",
      "Epoch [469/500],Train Loss: 0.6973, Valid Loss: 3.40025067\n",
      "Starting epoch 470\n",
      "Train Pass Completed\n",
      "Epoch [470/500],Train Loss: 0.6899, Valid Loss: 3.48027658\n",
      "Starting epoch 471\n",
      "Train Pass Completed\n",
      "Epoch [471/500],Train Loss: 0.6683, Valid Loss: 3.21047521\n",
      "Starting epoch 472\n",
      "Train Pass Completed\n",
      "Epoch [472/500],Train Loss: 0.6715, Valid Loss: 3.20480084\n",
      "Starting epoch 473\n",
      "Train Pass Completed\n",
      "Epoch [473/500],Train Loss: 0.6471, Valid Loss: 3.32302141\n",
      "Starting epoch 474\n",
      "Train Pass Completed\n",
      "Epoch [474/500],Train Loss: 0.6600, Valid Loss: 3.32158351\n",
      "Starting epoch 475\n",
      "Train Pass Completed\n",
      "Epoch [475/500],Train Loss: 0.6819, Valid Loss: 3.00228453\n",
      "Starting epoch 476\n",
      "Train Pass Completed\n",
      "Epoch [476/500],Train Loss: 0.6853, Valid Loss: 3.15827036\n",
      "Starting epoch 477\n",
      "Train Pass Completed\n",
      "Epoch [477/500],Train Loss: 0.6889, Valid Loss: 3.29349828\n",
      "Starting epoch 478\n",
      "Train Pass Completed\n",
      "Epoch [478/500],Train Loss: 0.6793, Valid Loss: 3.82560301\n",
      "Starting epoch 479\n",
      "Train Pass Completed\n",
      "Epoch [479/500],Train Loss: 0.6417, Valid Loss: 3.52257609\n",
      "Starting epoch 480\n",
      "Train Pass Completed\n",
      "Epoch [480/500],Train Loss: 0.6680, Valid Loss: 3.01037931\n",
      "Starting epoch 481\n",
      "Train Pass Completed\n",
      "Epoch [481/500],Train Loss: 0.6738, Valid Loss: 2.91310048\n",
      "Starting epoch 482\n",
      "Train Pass Completed\n",
      "Epoch [482/500],Train Loss: 0.7027, Valid Loss: 3.39923906\n",
      "Starting epoch 483\n",
      "Train Pass Completed\n",
      "Epoch [483/500],Train Loss: 0.7501, Valid Loss: 3.51963115\n",
      "Starting epoch 484\n",
      "Train Pass Completed\n",
      "Epoch [484/500],Train Loss: 0.7107, Valid Loss: 3.34043837\n",
      "Starting epoch 485\n",
      "Train Pass Completed\n",
      "Epoch [485/500],Train Loss: 0.6883, Valid Loss: 3.22662354\n",
      "Starting epoch 486\n",
      "Train Pass Completed\n",
      "Epoch [486/500],Train Loss: 0.6727, Valid Loss: 3.31450129\n",
      "Starting epoch 487\n",
      "Train Pass Completed\n",
      "Epoch [487/500],Train Loss: 0.6609, Valid Loss: 3.32891154\n",
      "Starting epoch 488\n",
      "Train Pass Completed\n",
      "Epoch [488/500],Train Loss: 0.6598, Valid Loss: 2.95194292\n",
      "Starting epoch 489\n",
      "Train Pass Completed\n",
      "Epoch [489/500],Train Loss: 0.6519, Valid Loss: 2.97541571\n",
      "Starting epoch 490\n",
      "Train Pass Completed\n",
      "Epoch [490/500],Train Loss: 0.6721, Valid Loss: 3.32832098\n",
      "Starting epoch 491\n",
      "Train Pass Completed\n",
      "Epoch [491/500],Train Loss: 0.6587, Valid Loss: 3.92905664\n",
      "Starting epoch 492\n",
      "Train Pass Completed\n",
      "Epoch [492/500],Train Loss: 0.6538, Valid Loss: 3.52561522\n",
      "Starting epoch 493\n",
      "Train Pass Completed\n",
      "Epoch [493/500],Train Loss: 0.6799, Valid Loss: 2.83887339\n",
      "Starting epoch 494\n",
      "Train Pass Completed\n",
      "Epoch [494/500],Train Loss: 0.6554, Valid Loss: 3.12095547\n",
      "Starting epoch 495\n",
      "Train Pass Completed\n",
      "Epoch [495/500],Train Loss: 0.6837, Valid Loss: 3.53556824\n",
      "Starting epoch 496\n",
      "Train Pass Completed\n",
      "Epoch [496/500],Train Loss: 0.6786, Valid Loss: 3.26801753\n",
      "Starting epoch 497\n",
      "Train Pass Completed\n",
      "Epoch [497/500],Train Loss: 0.6598, Valid Loss: 3.19977498\n",
      "Starting epoch 498\n",
      "Train Pass Completed\n",
      "Epoch [498/500],Train Loss: 0.6494, Valid Loss: 3.30917931\n",
      "Starting epoch 499\n",
      "Train Pass Completed\n",
      "Epoch [499/500],Train Loss: 0.6282, Valid Loss: 3.39010692\n",
      "Starting epoch 500\n",
      "Train Pass Completed\n",
      "Epoch [500/500],Train Loss: 0.6200, Valid Loss: 3.04900408\n",
      "Finished Training\n"
     ]
    }
   ],
   "source": [
    "#Task 3.2 Encoder-Decoder seq2seq\n",
    "\n",
    "device= \"cpu\"\n",
    "\n",
    "\n",
    "#Task 3.2 Encoder-Decoder seq2seq\n",
    "\n",
    "encoder = LSTMEncoder(128,256,256, device = 'cpu')\n",
    "decoder = LSTMDecoder(2,256,2, device = 'cpu')\n",
    "\n",
    "seq = seq2seq(encoder, decoder, device = 'cpu')\n",
    "\n",
    "optimizer = torch.optim.SGD(seq.parameters(), lr=0.01, momentum=0.9)\n",
    "#optimizer = torch.optim.Adam(GRU_reg32.parameters(), lr= 1e-4)\n",
    "num_epochs = 500\n",
    "save_name = f'seq2seq_reg_seq_32_500_w_conv_and_ct.pt'\n",
    "criterion = nn.MSELoss()\n",
    "\n",
    "obtained_train_loss, obtained_val_loss = train_seq2seq(seq, t2_train_loader, \n",
    "                                                      t2_valid_loader, criterion, num_epochs, save_name)\n"
   ]
  },
  {
   "cell_type": "markdown",
   "id": "da139d5b",
   "metadata": {
    "id": "da139d5b"
   },
   "source": [
    "## Evaluation"
   ]
  },
  {
   "cell_type": "code",
   "execution_count": null,
   "id": "ebed03ba",
   "metadata": {
    "colab": {
     "base_uri": "https://localhost:8080/",
     "height": 290
    },
    "id": "ebed03ba",
    "outputId": "287d908b-d946-4a2f-d7bf-ec05a51554c1"
   },
   "outputs": [
    {
     "data": {
      "image/png": "[encoded data removed]",
      "text/plain": [
       "<Figure size 684x252 with 1 Axes>"
      ]
     },
     "metadata": {
      "needs_background": "light"
     },
     "output_type": "display_data"
    },
    {
     "data": {
      "text/plain": [
       "<Figure size 432x288 with 0 Axes>"
      ]
     },
     "metadata": {},
     "output_type": "display_data"
    }
   ],
   "source": [
    "#GRUTask32\n",
    "converted_train_loss = [tensor.detach().item() for tensor in obtained_train_loss]\n",
    "converted_val_loss = [tensor.detach().item() for tensor in obtained_val_loss]\n",
    "fig = plt.gcf()\n",
    "fig.set_size_inches(9.5, 3.5)\n",
    "plt.plot(range(0,num_epochs),converted_train_loss, label = \"Training Loss\", color = \"blue\")\n",
    "plt.plot(range(0,num_epochs),converted_val_loss, label = \"Validation Loss\", color = \"red\")\n",
    "plt.title('Loss  Vs Epochs', fontsize=14)\n",
    "plt.xlabel('#Epochs', fontsize=14)\n",
    "plt.ylabel('Loss ', fontsize=14)\n",
    "plt.grid(True)\n",
    "plt.legend()\n",
    "plt.show()\n",
    "fig.savefig('Loss.png')\n",
    "fig = plt.gcf()"
   ]
  },
  {
   "cell_type": "code",
   "execution_count": 51,
   "id": "sZwndk6qJor9",
   "metadata": {
    "colab": {
     "base_uri": "https://localhost:8080/",
     "height": 290
    },
    "id": "sZwndk6qJor9",
    "outputId": "e4695cd0-06b4-4c5d-a05c-d579db7d056d"
   },
   "outputs": [
    {
     "data": {
      "image/png": "[encoded data removed]",
      "text/plain": [
       "<Figure size 684x252 with 1 Axes>"
      ]
     },
     "metadata": {
      "needs_background": "light"
     },
     "output_type": "display_data"
    },
    {
     "data": {
      "text/plain": [
       "<Figure size 432x288 with 0 Axes>"
      ]
     },
     "metadata": {},
     "output_type": "display_data"
    }
   ],
   "source": [
    "#seq2seq evaluation\n",
    "converted_train_loss = [tensor.detach().item() for tensor in obtained_train_loss]\n",
    "converted_val_loss = [tensor.detach().item() for tensor in obtained_val_loss]\n",
    "fig = plt.gcf()\n",
    "fig.set_size_inches(9.5, 3.5)\n",
    "plt.plot(range(0,num_epochs),converted_train_loss, label = \"Training Loss\", color = \"blue\")\n",
    "plt.plot(range(0,num_epochs),converted_val_loss, label = \"Validation Loss\", color = \"red\")\n",
    "plt.title('Seq2Seq Loss  Vs Epochs', fontsize=14)\n",
    "plt.xlabel('#Epochs', fontsize=14)\n",
    "plt.ylabel('Loss ', fontsize=14)\n",
    "plt.grid(True)\n",
    "plt.legend()\n",
    "plt.show()\n",
    "fig.savefig('Loss.png')\n",
    "fig = plt.gcf()\n",
    "\n",
    "\n",
    "\n",
    "\n"
   ]
  },
  {
   "cell_type": "code",
   "execution_count": 106,
   "id": "aDf7aaWRhcAo",
   "metadata": {
    "colab": {
     "base_uri": "https://localhost:8080/",
     "height": 290
    },
    "id": "aDf7aaWRhcAo",
    "outputId": "3b4808e0-5373-4012-86fe-a683f3ddacde"
   },
   "outputs": [
    {
     "data": {
      "image/png": "[encoded data removed]",
      "text/plain": [
       "<Figure size 684x252 with 1 Axes>"
      ]
     },
     "metadata": {
      "needs_background": "light"
     },
     "output_type": "display_data"
    },
    {
     "data": {
      "text/plain": [
       "<Figure size 432x288 with 0 Axes>"
      ]
     },
     "metadata": {},
     "output_type": "display_data"
    }
   ],
   "source": [
    "#seq2seq evaluation\n",
    "converted_train_loss = [tensor.detach().item() for tensor in obtained_train_loss]\n",
    "converted_val_loss = [tensor.detach().item() for tensor in obtained_val_loss]\n",
    "fig = plt.gcf()\n",
    "fig.set_size_inches(9.5, 3.5)\n",
    "plt.plot(range(0,num_epochs),converted_train_loss, label = \"Training Loss\", color = \"blue\")\n",
    "plt.plot(range(0,num_epochs),converted_val_loss, label = \"Validation Loss\", color = \"red\")\n",
    "plt.title('ConvSeq2Seq Loss  Vs Epochs', fontsize=14)\n",
    "plt.xlabel('#Epochs', fontsize=14)\n",
    "plt.ylabel('Loss ', fontsize=14)\n",
    "plt.grid(True)\n",
    "plt.legend()\n",
    "plt.show()\n",
    "fig.savefig('Loss.png')\n",
    "fig = plt.gcf()\n"
   ]
  },
  {
   "cell_type": "code",
   "execution_count": 54,
   "id": "PqOf2-DKYtBw",
   "metadata": {
    "id": "PqOf2-DKYtBw"
   },
   "outputs": [],
   "source": [
    "from sklearn.metrics import mean_squared_error\n",
    "def evaluate(model, test_loader,device='cpu'):\n",
    "    val_running_loss = 0.0\n",
    "    preds = []\n",
    "    actual = []\n",
    "    val_inp = []\n",
    "    batch_loss = []\n",
    "    with torch.no_grad():\n",
    "        model.eval()\n",
    "        for val_data, val_targets in test_loader:\n",
    "            input_tensor = val_data.to(device)\n",
    "            val_inp.append(input_tensor)\n",
    "            outputs = model.forward(input_tensor)\n",
    "            preds.append(outputs)\n",
    "            actual.append(val_targets)\n",
    "            loss = criterion(outputs,val_targets.to(device))\n",
    "            batch_loss.append(loss)\n",
    "            val_running_loss += loss\n",
    "\n",
    "        avg_val_loss = val_running_loss / len(test_loader)\n",
    "        print(\"Average Test Loss: {:4f}\".format(avg_val_loss))\n",
    "        return preds, actual, val_inp, batch_loss"
   ]
  },
  {
   "cell_type": "code",
   "execution_count": 38,
   "id": "dB5ctNQflqlf",
   "metadata": {
    "id": "dB5ctNQflqlf"
   },
   "outputs": [],
   "source": [
    "from sklearn.metrics import mean_squared_error\n",
    "def evaluate_seq2seq(model, test_loader,device='cpu'):\n",
    "    val_running_loss = 0.0\n",
    "    preds = []\n",
    "    actual = []\n",
    "    val_inp = []\n",
    "    batch_loss = []\n",
    "    with torch.no_grad():\n",
    "      model.eval()\n",
    "      for val_data, val_targets in test_loader:\n",
    "          input_tensor = val_data.to(device)\n",
    "          val_inp.append(input_tensor)\n",
    "          outputs = model.forward(batch_input1 = input_tensor, batch_input2 = targets).to(device)\n",
    "          preds.append(outputs)\n",
    "          actual.append(val_targets)\n",
    "          loss = criterion(outputs,val_targets.to(device))\n",
    "          batch_loss.append(loss)\n",
    "          val_running_loss += loss\n",
    "\n",
    "      avg_val_loss = val_running_loss / len(test_loader)\n",
    "      print(\"Average Test Loss: {:4f}\".format(avg_val_loss))\n",
    "      return preds, actual, val_inp, batch_loss"
   ]
  },
  {
   "cell_type": "code",
   "execution_count": null,
   "id": "dfmB7x22Y1ao",
   "metadata": {
    "colab": {
     "base_uri": "https://localhost:8080/"
    },
    "id": "dfmB7x22Y1ao",
    "outputId": "14bb44ed-1c29-42c5-b201-7cdf86faa8dc"
   },
   "outputs": [
    {
     "name": "stdout",
     "output_type": "stream",
     "text": [
      "Average Test Loss: 2.256813\n"
     ]
    }
   ],
   "source": [
    "ConvGRU_reg32 = GRURegressor32(input_dim=2,hidden_dim=256,output_dim=2,device='cuda:0').cuda()\n",
    "preds, actual = evaluate(ConvGRU_reg32, t2_valid_loader)"
   ]
  },
  {
   "cell_type": "code",
   "execution_count": 60,
   "id": "7CIx2HbZn_PN",
   "metadata": {
    "colab": {
     "base_uri": "https://localhost:8080/"
    },
    "id": "7CIx2HbZn_PN",
    "outputId": "2dd134ff-e33c-48f0-d2f4-179cc6e95582"
   },
   "outputs": [
    {
     "name": "stdout",
     "output_type": "stream",
     "text": [
      "Average Test Loss: 1.985071\n"
     ]
    }
   ],
   "source": [
    "#Average ConvSeq2Seq loss on test dataset.\n",
    "\n",
    "encoder = LSTMEncoder(128,256,256, device = 'cpu')\n",
    "decoder = LSTMDecoder(2,256,2, device = 'cpu')\n",
    "model =  seq2seq(encoder, decoder, device = 'cpu')\n",
    "checkpoint = torch.load('Convseq2seq_w_ct_500.pt', map_location = 'cpu')\n",
    "model.load_state_dict(checkpoint['model_dict'])\n",
    "\n",
    "preds, target, input, test_loss = evaluate_seq2seq(seq,t2_test_loader )\n"
   ]
  },
  {
   "cell_type": "code",
   "execution_count": 61,
   "id": "Lqu71B5t3-9w",
   "metadata": {
    "colab": {
     "base_uri": "https://localhost:8080/"
    },
    "id": "Lqu71B5t3-9w",
    "outputId": "706faca4-5a46-4ae3-e5c9-b17f80e33e02"
   },
   "outputs": [
    {
     "data": {
      "text/plain": [
       "torch.Size([10, 1, 220])"
      ]
     },
     "execution_count": 61,
     "metadata": {},
     "output_type": "execute_result"
    }
   ],
   "source": [
    "input[0].shape"
   ]
  },
  {
   "cell_type": "code",
   "execution_count": 62,
   "id": "0wU_5EoL4Vd2",
   "metadata": {
    "id": "0wU_5EoL4Vd2"
   },
   "outputs": [],
   "source": [
    "def conv_tens(inp_arr, batch_size, sequence_len, dim):\n",
    "  conv_array = []\n",
    "  for i in inp_arr:\n",
    "    conv = i.reshape(batch_size, sequence_len, dim)\n",
    "    conv_array.append(conv)\n",
    "  return conv_array\n",
    "\n",
    "\n",
    "conv_pred = conv_tens(preds, 10,60,2)\n",
    "conv_targets = conv_tens(target, 10,60,2)\n",
    "conv_input = conv_tens(input, 10,110,2)"
   ]
  },
  {
   "cell_type": "code",
   "execution_count": 63,
   "id": "g7Gk7bqUoYCk",
   "metadata": {
    "colab": {
     "base_uri": "https://localhost:8080/"
    },
    "id": "g7Gk7bqUoYCk",
    "outputId": "d4f8dccd-e242-4a6d-a3cf-080ecffe3b9b"
   },
   "outputs": [
    {
     "data": {
      "text/plain": [
       "60"
      ]
     },
     "execution_count": 63,
     "metadata": {},
     "output_type": "execute_result"
    }
   ],
   "source": [
    "len(conv_pred[0][0])"
   ]
  },
  {
   "cell_type": "code",
   "execution_count": 64,
   "id": "BLHy-Wq9oYE9",
   "metadata": {
    "colab": {
     "base_uri": "https://localhost:8080/",
     "height": 337
    },
    "id": "BLHy-Wq9oYE9",
    "outputId": "f698d48c-a476-4160-add1-a8b6505d430b"
   },
   "outputs": [
    {
     "data": {
      "image/png": "[encoded data removed]",
      "text/plain": [
       "<Figure size 360x360 with 1 Axes>"
      ]
     },
     "metadata": {
      "needs_background": "light"
     },
     "output_type": "display_data"
    },
    {
     "name": "stdout",
     "output_type": "stream",
     "text": [
      "Charges are [-0.71567692 -0.8646266  -0.92353406]\n"
     ]
    }
   ],
   "source": [
    "#Plot the functions \n",
    "batch_idx = np.random.randint(0,9) \n",
    "test_idx = np.random.randint(0,9)\n",
    "plot_example(x =conv_targets[batch_idx][test_idx], x_gt = conv_input[batch_idx][test_idx], x_pred = conv_pred[batch_idx][test_idx])\n",
    "print(f'Charges are {charges_train[test_idx]}')"
   ]
  },
  {
   "cell_type": "code",
   "execution_count": 65,
   "id": "WQdL_nrx9yBY",
   "metadata": {
    "colab": {
     "base_uri": "https://localhost:8080/"
    },
    "id": "WQdL_nrx9yBY",
    "outputId": "7fd6353f-6ba4-4cc2-9c16-f4b485cad79d"
   },
   "outputs": [
    {
     "name": "stdout",
     "output_type": "stream",
     "text": [
      "The batch with the best test loss is 7\n",
      "The batch with the worst test loss is 5\n"
     ]
    }
   ],
   "source": [
    "best_batch = np.argmin(test_loss)\n",
    "worst_batch = np.argmax(test_loss)\n",
    "\n",
    "print(f\"The batch with the best test loss is {best_batch}\")\n",
    "print(f\"The batch with the worst test loss is {worst_batch}\")"
   ]
  },
  {
   "cell_type": "code",
   "execution_count": 66,
   "id": "kUzggSII-8oi",
   "metadata": {
    "colab": {
     "base_uri": "https://localhost:8080/",
     "height": 1000
    },
    "id": "kUzggSII-8oi",
    "outputId": "6576ef64-b365-46b3-8080-2e3b0e7fe8a1"
   },
   "outputs": [
    {
     "name": "stdout",
     "output_type": "stream",
     "text": [
      "\n",
      "Best Case 0\n",
      "\n"
     ]
    },
    {
     "data": {
      "image/png": "[encoded data removed]",
      "text/plain": [
       "<Figure size 360x360 with 1 Axes>"
      ]
     },
     "metadata": {
      "needs_background": "light"
     },
     "output_type": "display_data"
    },
    {
     "name": "stdout",
     "output_type": "stream",
     "text": [
      "\n",
      "Best Case 1\n",
      "\n"
     ]
    },
    {
     "data": {
      "image/png": "[encoded data removed]",
      "text/plain": [
       "<Figure size 360x360 with 1 Axes>"
      ]
     },
     "metadata": {
      "needs_background": "light"
     },
     "output_type": "display_data"
    },
    {
     "name": "stdout",
     "output_type": "stream",
     "text": [
      "\n",
      "Best Case 2\n",
      "\n"
     ]
    },
    {
     "data": {
      "image/png": "[encoded data removed]",
      "text/plain": [
       "<Figure size 360x360 with 1 Axes>"
      ]
     },
     "metadata": {
      "needs_background": "light"
     },
     "output_type": "display_data"
    },
    {
     "name": "stdout",
     "output_type": "stream",
     "text": [
      "\n",
      "Best Case 3\n",
      "\n"
     ]
    },
    {
     "data": {
      "image/png": "[encoded data removed]",
      "text/plain": [
       "<Figure size 360x360 with 1 Axes>"
      ]
     },
     "metadata": {
      "needs_background": "light"
     },
     "output_type": "display_data"
    },
    {
     "name": "stdout",
     "output_type": "stream",
     "text": [
      "\n",
      "Best Case 4\n",
      "\n"
     ]
    },
    {
     "data": {
      "image/png": "[encoded data removed]",
      "text/plain": [
       "<Figure size 360x360 with 1 Axes>"
      ]
     },
     "metadata": {
      "needs_background": "light"
     },
     "output_type": "display_data"
    },
    {
     "name": "stdout",
     "output_type": "stream",
     "text": [
      "\n",
      "Best Case 5\n",
      "\n"
     ]
    },
    {
     "data": {
      "image/png": "[encoded data removed]",
      "text/plain": [
       "<Figure size 360x360 with 1 Axes>"
      ]
     },
     "metadata": {
      "needs_background": "light"
     },
     "output_type": "display_data"
    },
    {
     "name": "stdout",
     "output_type": "stream",
     "text": [
      "\n",
      "Best Case 6\n",
      "\n"
     ]
    },
    {
     "data": {
      "image/png": "[encoded data removed]",
      "text/plain": [
       "<Figure size 360x360 with 1 Axes>"
      ]
     },
     "metadata": {
      "needs_background": "light"
     },
     "output_type": "display_data"
    },
    {
     "name": "stdout",
     "output_type": "stream",
     "text": [
      "\n",
      "Best Case 7\n",
      "\n"
     ]
    },
    {
     "data": {
      "image/png": "[encoded data removed]",
      "text/plain": [
       "<Figure size 360x360 with 1 Axes>"
      ]
     },
     "metadata": {
      "needs_background": "light"
     },
     "output_type": "display_data"
    },
    {
     "name": "stdout",
     "output_type": "stream",
     "text": [
      "\n",
      "Best Case 8\n",
      "\n"
     ]
    },
    {
     "data": {
      "image/png": "[encoded data removed]",
      "text/plain": [
       "<Figure size 360x360 with 1 Axes>"
      ]
     },
     "metadata": {
      "needs_background": "light"
     },
     "output_type": "display_data"
    },
    {
     "name": "stdout",
     "output_type": "stream",
     "text": [
      "\n",
      "Best Case 9\n",
      "\n"
     ]
    },
    {
     "data": {
      "image/png": "[encoded data removed]",
      "text/plain": [
       "<Figure size 360x360 with 1 Axes>"
      ]
     },
     "metadata": {
      "needs_background": "light"
     },
     "output_type": "display_data"
    }
   ],
   "source": [
    "#Evaluating Individual Cases\n",
    "#best prediction \n",
    "best_preds = conv_pred[best_batch]\n",
    "best_targets = conv_targets[best_batch]\n",
    "worst_preds = conv_pred[worst_batch]\n",
    "worst_targets = conv_targets[worst_batch]\n",
    "\n",
    "#Plotting the best cases.\n",
    "for best_test_idx in range(0,10):\n",
    "  print(f\"\\nBest Case {best_test_idx}\\n\")\n",
    "  plot_example(x =conv_targets[best_batch][best_test_idx], x_gt = conv_input[best_batch][best_test_idx], x_pred = conv_pred[best_batch][best_test_idx])"
   ]
  },
  {
   "cell_type": "code",
   "execution_count": 49,
   "id": "nxX_OyNW-8rQ",
   "metadata": {
    "colab": {
     "base_uri": "https://localhost:8080/",
     "height": 1000
    },
    "id": "nxX_OyNW-8rQ",
    "outputId": "b64d62df-5dab-473e-e1da-30067aa536dc"
   },
   "outputs": [
    {
     "name": "stdout",
     "output_type": "stream",
     "text": [
      "\n",
      "Worst Case 0 \n",
      "\n"
     ]
    },
    {
     "data": {
      "image/png": "[encoded data removed]",
      "text/plain": [
       "<Figure size 360x360 with 1 Axes>"
      ]
     },
     "metadata": {
      "needs_background": "light"
     },
     "output_type": "display_data"
    },
    {
     "name": "stdout",
     "output_type": "stream",
     "text": [
      "\n",
      "Worst Case 1 \n",
      "\n"
     ]
    },
    {
     "data": {
      "image/png": "[encoded data removed]",
      "text/plain": [
       "<Figure size 360x360 with 1 Axes>"
      ]
     },
     "metadata": {
      "needs_background": "light"
     },
     "output_type": "display_data"
    },
    {
     "name": "stdout",
     "output_type": "stream",
     "text": [
      "\n",
      "Worst Case 2 \n",
      "\n"
     ]
    },
    {
     "data": {
      "image/png": "[encoded data removed]",
      "text/plain": [
       "<Figure size 360x360 with 1 Axes>"
      ]
     },
     "metadata": {
      "needs_background": "light"
     },
     "output_type": "display_data"
    },
    {
     "name": "stdout",
     "output_type": "stream",
     "text": [
      "\n",
      "Worst Case 3 \n",
      "\n"
     ]
    },
    {
     "data": {
      "image/png": "[encoded data removed]",
      "text/plain": [
       "<Figure size 360x360 with 1 Axes>"
      ]
     },
     "metadata": {
      "needs_background": "light"
     },
     "output_type": "display_data"
    },
    {
     "name": "stdout",
     "output_type": "stream",
     "text": [
      "\n",
      "Worst Case 4 \n",
      "\n"
     ]
    },
    {
     "data": {
      "image/png": "[encoded data removed]",
      "text/plain": [
       "<Figure size 360x360 with 1 Axes>"
      ]
     },
     "metadata": {
      "needs_background": "light"
     },
     "output_type": "display_data"
    },
    {
     "name": "stdout",
     "output_type": "stream",
     "text": [
      "\n",
      "Worst Case 5 \n",
      "\n"
     ]
    },
    {
     "data": {
      "image/png": "[encoded data removed]",
      "text/plain": [
       "<Figure size 360x360 with 1 Axes>"
      ]
     },
     "metadata": {
      "needs_background": "light"
     },
     "output_type": "display_data"
    },
    {
     "name": "stdout",
     "output_type": "stream",
     "text": [
      "\n",
      "Worst Case 6 \n",
      "\n"
     ]
    },
    {
     "data": {
      "image/png": "[encoded data removed]",
      "text/plain": [
       "<Figure size 360x360 with 1 Axes>"
      ]
     },
     "metadata": {
      "needs_background": "light"
     },
     "output_type": "display_data"
    },
    {
     "name": "stdout",
     "output_type": "stream",
     "text": [
      "\n",
      "Worst Case 7 \n",
      "\n"
     ]
    },
    {
     "data": {
      "image/png": "[encoded data removed]",
      "text/plain": [
       "<Figure size 360x360 with 1 Axes>"
      ]
     },
     "metadata": {
      "needs_background": "light"
     },
     "output_type": "display_data"
    },
    {
     "name": "stdout",
     "output_type": "stream",
     "text": [
      "\n",
      "Worst Case 8 \n",
      "\n"
     ]
    },
    {
     "data": {
      "image/png": "[encoded data removed]",
      "text/plain": [
       "<Figure size 360x360 with 1 Axes>"
      ]
     },
     "metadata": {
      "needs_background": "light"
     },
     "output_type": "display_data"
    },
    {
     "name": "stdout",
     "output_type": "stream",
     "text": [
      "\n",
      "Worst Case 9 \n",
      "\n"
     ]
    },
    {
     "data": {
      "image/png": "[encoded data removed]",
      "text/plain": [
       "<Figure size 360x360 with 1 Axes>"
      ]
     },
     "metadata": {
      "needs_background": "light"
     },
     "output_type": "display_data"
    }
   ],
   "source": [
    "for worst_test_idx in range(0,10):\n",
    "  print(f\"\\nWorst Case {worst_test_idx} \\n\")\n",
    "  plot_example(x =conv_targets[worst_batch][worst_test_idx], x_gt = conv_input[worst_batch][worst_test_idx], x_pred = conv_pred[worst_batch][worst_test_idx])\n"
   ]
  },
  {
   "cell_type": "code",
   "execution_count": 67,
   "id": "d929d4cb",
   "metadata": {},
   "outputs": [
    {
     "data": {
      "text/plain": [
       "' Analyze if the worst case particles are tracing the same path as that of the simulations  '"
      ]
     },
     "execution_count": 67,
     "metadata": {},
     "output_type": "execute_result"
    }
   ],
   "source": [
    "''' Analyze if the worst case particles are tracing the same path as that of the simulations  '''"
   ]
  },
  {
   "cell_type": "markdown",
   "id": "9a59808b",
   "metadata": {
    "id": "9a59808b"
   },
   "source": [
    "# Task 3.2"
   ]
  },
  {
   "cell_type": "markdown",
   "id": "f64a855d",
   "metadata": {
    "id": "f64a855d"
   },
   "source": [
    "## Data Handling and Preprocessing"
   ]
  },
  {
   "cell_type": "code",
   "execution_count": null,
   "id": "5b935865",
   "metadata": {
    "id": "5b935865"
   },
   "outputs": [],
   "source": [
    "#todo"
   ]
  },
  {
   "cell_type": "code",
   "execution_count": null,
   "id": "0ec19a8d",
   "metadata": {
    "id": "0ec19a8d"
   },
   "outputs": [],
   "source": []
  },
  {
   "cell_type": "code",
   "execution_count": null,
   "id": "8f189d19",
   "metadata": {
    "id": "8f189d19"
   },
   "outputs": [],
   "source": []
  },
  {
   "cell_type": "markdown",
   "id": "867aabb3",
   "metadata": {
    "id": "867aabb3"
   },
   "source": [
    "## Model Implementation"
   ]
  },
  {
   "cell_type": "code",
   "execution_count": null,
   "id": "36fe2739",
   "metadata": {
    "id": "36fe2739"
   },
   "outputs": [],
   "source": [
    "#todo"
   ]
  },
  {
   "cell_type": "code",
   "execution_count": null,
   "id": "f80b1ca2",
   "metadata": {
    "id": "f80b1ca2"
   },
   "outputs": [],
   "source": []
  },
  {
   "cell_type": "code",
   "execution_count": null,
   "id": "fdbf2800",
   "metadata": {
    "id": "fdbf2800"
   },
   "outputs": [],
   "source": []
  },
  {
   "cell_type": "markdown",
   "id": "826fae3f",
   "metadata": {
    "id": "826fae3f"
   },
   "source": [
    "## Model Training"
   ]
  },
  {
   "cell_type": "code",
   "execution_count": null,
   "id": "db3fce95",
   "metadata": {
    "id": "db3fce95"
   },
   "outputs": [],
   "source": [
    "#todo"
   ]
  },
  {
   "cell_type": "code",
   "execution_count": null,
   "id": "41ddb47d",
   "metadata": {
    "id": "41ddb47d"
   },
   "outputs": [],
   "source": []
  },
  {
   "cell_type": "code",
   "execution_count": null,
   "id": "4ee069fc",
   "metadata": {
    "id": "4ee069fc"
   },
   "outputs": [],
   "source": []
  },
  {
   "cell_type": "markdown",
   "id": "c87278a2",
   "metadata": {
    "id": "c87278a2"
   },
   "source": [
    "## Evaluation"
   ]
  },
  {
   "cell_type": "code",
   "execution_count": null,
   "id": "2cbb6137",
   "metadata": {
    "id": "2cbb6137"
   },
   "outputs": [],
   "source": [
    "#todo"
   ]
  },
  {
   "cell_type": "code",
   "execution_count": null,
   "id": "2cf6f4b7",
   "metadata": {
    "id": "2cf6f4b7"
   },
   "outputs": [],
   "source": []
  },
  {
   "cell_type": "code",
   "execution_count": null,
   "id": "736c10d8",
   "metadata": {
    "id": "736c10d8"
   },
   "outputs": [],
   "source": []
  }
 ],
 "metadata": {
  "accelerator": "GPU",
  "colab": {
   "name": "a3_lastest _seq2seq.ipynb",
   "provenance": []
  },
  "kernelspec": {
   "display_name": "Python 3 (ipykernel)",
   "language": "python",
   "name": "python3"
  },
  "language_info": {
   "codemirror_mode": {
    "name": "ipython",
    "version": 3
   },
   "file_extension": ".py",
   "mimetype": "text/x-python",
   "name": "python",
   "nbconvert_exporter": "python",
   "pygments_lexer": "ipython3",
   "version": "3.8.12"
  }
 },
 "nbformat": 4,
 "nbformat_minor": 5
}
