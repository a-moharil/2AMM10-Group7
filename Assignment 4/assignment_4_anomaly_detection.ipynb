{
 "cells": [
  {
   "cell_type": "markdown",
   "metadata": {
    "id": "730fd591"
   },
   "source": [
    "<a href=\"https://colab.research.google.com/github/vlamen/tue-deeplearning/blob/main/assignments/assignment_4/assignment_4_skeleton.ipynb\" target=\"_parent\"><img src=\"https://colab.research.google.com/assets/colab-badge.svg\" alt=\"Open In Colab\"/></a>"
   ]
  },
  {
   "cell_type": "markdown",
   "metadata": {
    "id": "d32f8d18"
   },
   "source": [
    "# Group Number:\n",
    "\n",
    "# Student 1: Ambarish Moharil\n",
    "\n",
    "# Student 2: Kunal Geed\n",
    "\n",
    "# Student 3: Mert Lostar"
   ]
  },
  {
   "cell_type": "markdown",
   "metadata": {
    "id": "vBZyoF4CzeqK"
   },
   "source": [
    "# Imports"
   ]
  },
  {
   "cell_type": "code",
   "execution_count": 1,
   "metadata": {
    "id": "8hfRbF4gzeqK"
   },
   "outputs": [],
   "source": [
    "import numpy as np\n",
    "import pickle\n",
    "import requests\n",
    "\n",
    "import torch\n",
    "import torch.nn as nn\n",
    "from torch.optim import Adam\n",
    "from torchvision.datasets import FashionMNIST\n",
    "import torchvision.transforms as transforms\n",
    "from torch.utils.data import DataLoader, SubsetRandomSampler\n",
    "import numpy as np\n",
    "import matplotlib.pyplot as plt\n",
    "import seaborn as sns\n",
    "from tqdm import tqdm\n",
    "from sklearn.metrics import roc_curve, precision_recall_curve, auc\n",
    "\n",
    "# other imports go here"
   ]
  },
  {
   "cell_type": "markdown",
   "metadata": {
    "id": "sWTBxXuIzeqL"
   },
   "source": [
    "# Data loading and inspection"
   ]
  },
  {
   "cell_type": "code",
   "execution_count": 2,
   "metadata": {
    "id": "u3gKc0l-zeqL"
   },
   "outputs": [],
   "source": [
    "# load and inspect data\n",
    "data_location = 'https://surfdrive.surf.nl/files/index.php/s/K3ArFDQJb5USQ6K/download'\n",
    "data_request = requests.get(data_location)\n",
    "full_data = pickle.loads(data_request.content)"
   ]
  },
  {
   "cell_type": "code",
   "execution_count": 3,
   "metadata": {
    "colab": {
     "base_uri": "https://localhost:8080/"
    },
    "id": "5MWymCXGLNlZ",
    "outputId": "c6e263c0-c72f-4ca2-d8c4-39e760a68aed"
   },
   "outputs": [
    {
     "data": {
      "text/plain": [
       "dict_keys(['unlabeled_data', 'labeled_data', 'representative_set_1', 'representative_set_2'])"
      ]
     },
     "execution_count": 3,
     "metadata": {},
     "output_type": "execute_result"
    }
   ],
   "source": [
    "#Let's see how the full dataset looks like.\n",
    "\n",
    "full_data.keys()\n",
    "\n",
    "#unlabelled dataset - 26000 Images in distribution that are not labellled.\n",
    "\n",
    "#labeled dataset - 2000 Images that are in distribution and labelled\n",
    "\n",
    "#representatiive set1 and set2 - 1052 data points each which contain roughly 5% out-of-\n",
    "#                      distribution data and which are fully labeled (anomalies being \n",
    "#                       labeled as a sixth class)."
   ]
  },
  {
   "cell_type": "code",
   "execution_count": 44,
   "metadata": {
    "id": "-AfhzfowLNlb"
   },
   "outputs": [],
   "source": [
    "\n",
    "train_data = full_data[\"unlabeled_data\"]/255.0 #train on the 26000 in distribution images, normalizing(/255)\n",
    "\n",
    "val_data = full_data[\"labeled_data\"][\"data\"] \n",
    "val_labels = full_data[\"labeled_data\"][\"labels\"]\n",
    "\n",
    "test_set_1 = full_data[\"representative_set_1\"][\"data\"]/255.0 #get the data from first repres set\n",
    "test_set_2 = full_data[\"representative_set_2\"][\"data\"]/255.0 # get the data from the second repres set\n",
    "\n",
    "test_labels_set1 = full_data[\"representative_set_1\"][\"labels\"] #get the labels from rep set 1\n",
    "test_labels_set2 = full_data[\"representative_set_2\"][\"labels\"] #get the resp labels from rep set 2\n",
    "\n",
    "test_set = np.concatenate((test_set_1, test_set_2), axis =0) # concatenate those two sets for testing\n",
    "                                                                      # [2104, 1, 32, 32]\n",
    "test_labels = np.concatenate((test_labels_set1, test_labels_set2), axis =0)# get the respective labels\n"
   ]
  },
  {
   "cell_type": "code",
   "execution_count": 45,
   "metadata": {},
   "outputs": [
    {
     "name": "stdout",
     "output_type": "stream",
     "text": [
      "(26000, 1, 32, 32)\n",
      "(2104, 1, 32, 32)\n"
     ]
    }
   ],
   "source": [
    "print(train_data.shape)\n",
    "print(test_set.shape)"
   ]
  },
  {
   "cell_type": "code",
   "execution_count": 5,
   "metadata": {
    "id": "bwDmHpSxLNlb"
   },
   "outputs": [],
   "source": [
    "import torch\n",
    "from torchvision import transforms\n",
    "from torch.utils.data import Dataset, DataLoader,TensorDataset\n",
    "import numpy as np\n",
    "from PIL import Image\n",
    "\n",
    "class TrainDataset(Dataset):\n",
    "    def __init__(self, data):\n",
    "        self.data = torch.FloatTensor(data)\n",
    "        \n",
    "    def __getitem__(self, index):\n",
    "        x = self.data[index]\n",
    "\n",
    "        return index, x\n",
    "    \n",
    "    def __len__(self):\n",
    "        return len(self.data)\n",
    "\n",
    "class GeneralDataset(Dataset):\n",
    "    def __init__(self, data, target):\n",
    "        self.data = torch.FloatTensor(data)\n",
    "        self.target  = torch.FloatTensor(target)\n",
    "        \n",
    "    def __getitem__(self, index):\n",
    "        x = self.data[index]\n",
    "        y = self.target[index]\n",
    "\n",
    "        return x, y\n",
    "    \n",
    "    def __len__(self):\n",
    "        return len(self.data)"
   ]
  },
  {
   "cell_type": "code",
   "execution_count": 76,
   "metadata": {
    "id": "9cT0xFwQLNlc"
   },
   "outputs": [],
   "source": [
    "#Create the dataloaders\n",
    "train_dataset = TrainDataset(train_data)\n",
    "train_dataloader = DataLoader(dataset=train_dataset, batch_size= 10)\n",
    "test_dataset = GeneralDataset(test_set,test_labels)\n",
    "test_dataloader = DataLoader(dataset=test_dataset, batch_size= 8)"
   ]
  },
  {
   "cell_type": "code",
   "execution_count": 7,
   "metadata": {
    "id": "A06LcAaILNlc"
   },
   "outputs": [],
   "source": [
    "def show_images(x, ncols=10):\n",
    "    \"\"\" plots first ncols images in a batch \"\"\"\n",
    "    x = x.view(-1, 32, 32)\n",
    "\n",
    "    fig, ax = plt.subplots(1, ncols, figsize=(20, 2))\n",
    "    for idx in range(ncols):\n",
    "        ax[idx].imshow(x[idx].cpu().numpy(), cmap=\"Greys\")\n",
    "        ax[idx].axis('off')\n",
    "    plt.show()\n"
   ]
  },
  {
   "cell_type": "code",
   "execution_count": 8,
   "metadata": {
    "colab": {
     "base_uri": "https://localhost:8080/",
     "height": 115
    },
    "id": "KsbABILKLNlc",
    "outputId": "2d143e7e-ab7d-4479-866d-19125591ccc9"
   },
   "outputs": [
    {
     "data": {
      "image/png": "[encoded data removed]",
      "text/plain": [
       "<Figure size 1440x144 with 10 Axes>"
      ]
     },
     "metadata": {
      "needs_background": "light"
     },
     "output_type": "display_data"
    }
   ],
   "source": [
    "#Plot the images\n",
    "for batch_idx, x in train_dataloader:\n",
    "    show_images(x)\n",
    "    break"
   ]
  },
  {
   "cell_type": "markdown",
   "metadata": {
    "id": "TKZIzTPAzeqL"
   },
   "source": [
    "# Data augmentation and pipeline"
   ]
  },
  {
   "cell_type": "code",
   "execution_count": 9,
   "metadata": {
    "id": "gka5t3dBzeqM"
   },
   "outputs": [],
   "source": [
    "# code for data augmentation pipeline "
   ]
  },
  {
   "cell_type": "markdown",
   "metadata": {
    "id": "uCVwEcbXzeqM"
   },
   "source": [
    "# Model definitions"
   ]
  },
  {
   "cell_type": "code",
   "execution_count": 10,
   "metadata": {
    "id": "Ut8sUHlVzeqM"
   },
   "outputs": [],
   "source": [
    "# code for model definitions goes here\n",
    "class Encoder(nn.Module):\n",
    "    def __init__(self, input_dim, hidden_dim, latent_dim):\n",
    "        super(Encoder, self).__init__()\n",
    "        \n",
    "        self.input_dim = input_dim\n",
    "        self.hidden_dim = hidden_dim\n",
    "        self.latent_dim = latent_dim\n",
    "        \n",
    "        self.input_layer = nn.Linear(input_dim, hidden_dim) # can also give a convolutional input\n",
    "        self.hidden_layer = nn.Linear(hidden_dim, hidden_dim)\n",
    "        self.mu_layer = nn.Linear(hidden_dim, latent_dim)\n",
    "        self.sigma_layer = nn.Linear(hidden_dim, latent_dim)\n",
    "        \n",
    "    def forward(self, batch_input):\n",
    "        \n",
    "        \n",
    "        h = nn.ReLU()(self.input_layer(batch_input)) #[N X H], H = hidden_dim, N = batch_size\n",
    "        h = nn.ReLU()(self.hidden_layer(h)) #[N X H]\n",
    "        \n",
    "        mu = self.mu_layer(h)\n",
    "        log_sigma = self.sigma_layer(h)\n",
    "        \n",
    "        z = self.reparam(mu, log_sigma)\n",
    "        \n",
    "        return z, mu, log_sigma\n",
    "    \n",
    "    def reparam(self, mu, log_sigma):\n",
    "        sigma = torch.exp(log_sigma)\n",
    "        eps = torch.randn_like(sigma) #Returns a tensor with the same size as input that is filled with random numbers from a normal distribution with mean 0 and variance 1.\n",
    "        \n",
    "        z = mu + sigma*eps\n",
    "        \n",
    "        return z\n",
    "    \n",
    "#The encoder has now encoded the the input into an L dim latent vector Z, we need to decode z in order to sample from p(x)\n",
    "#Thus we define a decoder \n",
    "\n",
    "class Decoder(nn.Module):\n",
    "    def __init__(self, hidden_dim, latent_dim, output_dim):\n",
    "        super(Decoder, self).__init__()\n",
    "        \n",
    "        self.hidden_dim = hidden_dim\n",
    "        self.latent_dim = latent_dim\n",
    "        self.output_dim = output_dim\n",
    "        \n",
    "        self.hidden_layer1 = nn.Linear(latent_dim, hidden_dim)\n",
    "        self.hidden_layer2 = nn.Linear(hidden_dim, hidden_dim)\n",
    "        self.out = nn.Linear(hidden_dim, output_dim)\n",
    "        \n",
    "    def forward(self, z):\n",
    "        \n",
    "        h_o = nn.ReLU()(self.hidden_layer1(z))\n",
    "        h_o = nn.ReLU()(self.hidden_layer2(h_o))\n",
    "        \n",
    "        reconstruction = nn.Sigmoid()(self.out(h_o))\n",
    "        \n",
    "        return reconstruction\n",
    "        \n",
    "#Now we can define the VAE\n",
    "\n",
    "class VAE(nn.Module):\n",
    "    def __init__(self, encoder, decoder):\n",
    "        super(VAE, self).__init__()\n",
    "        \n",
    "        self.encoder = encoder\n",
    "        self.decoder = decoder\n",
    "        \n",
    "        \n",
    "    def forward(self, batch_input):\n",
    "        \n",
    "        z, mu, log_sigma = self.encoder(batch_input)\n",
    "        x_reconstructed = self.decoder(z)\n",
    "        \n",
    "        return x_reconstructed, mu, log_sigma"
   ]
  },
  {
   "cell_type": "code",
   "execution_count": 11,
   "metadata": {
    "id": "kTYtfW0QzLvO"
   },
   "outputs": [],
   "source": [
    "#use a convolutional layer in the network\n",
    "\n",
    "\n",
    "# code for model definitions goes here\n",
    "class ConvEncoder(nn.Module):\n",
    "    def __init__(self, input_dim, hidden_dim, latent_dim, imgChannels =1, featureDim = 32*28*28):\n",
    "        super(ConvEncoder, self).__init__()\n",
    "        \n",
    "        self.input_dim = input_dim\n",
    "        self.hidden_dim = hidden_dim\n",
    "        self.latent_dim = latent_dim\n",
    "        \n",
    "        # Initializing the 2 convolutional layers and 2 full-connected layers for the encoder\n",
    "        self.encConv1 = nn.Conv2d(imgChannels, 16, 3, stride =1)\n",
    "        self.encConv2 = nn.Conv2d(16, 32, 3, stride =1)\n",
    "        self.encFC1 = nn.Linear(featureDim, latent_dim)\n",
    "        self.encFC2 = nn.Linear(featureDim, latent_dim)\n",
    "\n",
    "        \n",
    "        #self.input_layer = nn.Linear(out_channels*32*32, hidden_dim)\n",
    "        self.hidden_layer = nn.Linear(hidden_dim, hidden_dim)\n",
    "        self.mu_layer = nn.Linear(featureDim, latent_dim)\n",
    "        self.sigma_layer = nn.Linear(featureDim, latent_dim)\n",
    "        \n",
    "    def forward(self, batch_input):\n",
    "        \n",
    "        h = nn.ReLU()(self.encConv1(batch_input)) #[N X H], H = hidden_dim, N = batch_size\n",
    "        h = nn.ReLU()(self.encConv2(h)) \n",
    "        #h = nn.ReLU()(self.hidden_layer(h)) #[N X H]\n",
    "        h = h.view(-1, 32*28*28)\n",
    "        \n",
    "        \n",
    "        \n",
    "        mu = self.mu_layer(h)\n",
    "        log_sigma = self.sigma_layer(h)\n",
    "        \n",
    "        z = self.reparam(mu, log_sigma)\n",
    "        \n",
    "        return z, mu, log_sigma\n",
    "    \n",
    "    def reparam(self, mu, log_sigma):\n",
    "        sigma = torch.exp(log_sigma)\n",
    "        eps = torch.randn_like(sigma) #Returns a tensor with the same size as input that is filled with random numbers from a normal distribution with mean 0 and variance 1.\n",
    "        \n",
    "        z = mu + sigma*eps\n",
    "        \n",
    "        return z\n",
    "    \n",
    "#The encoder has now encoded the the input into an L dim latent vector Z, we need to decode z in order to sample from p(x)\n",
    "#Thus we define a decoder \n",
    "\n",
    "class ConvDecoder(nn.Module):\n",
    "    def __init__(self, hidden_dim, latent_dim, output_dim, imgChannels =1, featureDim = 32*28*28):\n",
    "        super(ConvDecoder, self).__init__()\n",
    "        \n",
    "        self.hidden_dim = hidden_dim\n",
    "        self.latent_dim = latent_dim\n",
    "        self.output_dim = output_dim\n",
    "        \n",
    "        self.hidden_layer1 = nn.Linear(latent_dim, hidden_dim)\n",
    "        self.hidden_layer2 = nn.Linear(hidden_dim, hidden_dim)\n",
    "        self.out = nn.Linear(hidden_dim, output_dim)\n",
    "        \n",
    "        # Initializing the fully-connected layer and 2 convolutional layers for decoder\n",
    "        self.decFC1 = nn.Linear(latent_dim, featureDim)\n",
    "        self.decConv1 = nn.ConvTranspose2d(32, 16, 3)\n",
    "        self.decConv2 = nn.ConvTranspose2d(16, imgChannels, 3)\n",
    "\n",
    "        \n",
    "    def forward(self, z):\n",
    "        \n",
    "        h_o = nn.ReLU()(self.decFC1(z))\n",
    "        \n",
    "        h_o = h_o.view(-1, 32,28,28)\n",
    "        \n",
    "        h_o = nn.ReLU()(self.decConv1(h_o))\n",
    "\n",
    "        reconstruction = nn.Sigmoid()(self.decConv2(h_o))\n",
    "        \n",
    "        return reconstruction\n",
    "        \n",
    "#Now we can define the VAE\n",
    "\n",
    "class ConvVAE(nn.Module):\n",
    "    def __init__(self, encoder, decoder):\n",
    "        super(ConvVAE, self).__init__()\n",
    "        \n",
    "        self.encoder = encoder\n",
    "        self.decoder = decoder\n",
    "        \n",
    "        \n",
    "    def forward(self, batch_input):\n",
    "        \n",
    "        z, mu, log_sigma = self.encoder(batch_input)\n",
    "        x_reconstructed = self.decoder(z)\n",
    "        \n",
    "        return x_reconstructed, mu, log_sigma\n",
    "    "
   ]
  },
  {
   "cell_type": "markdown",
   "metadata": {
    "id": "Aw0OHyzRzeqN"
   },
   "source": [
    "# Training and validation loop"
   ]
  },
  {
   "cell_type": "code",
   "execution_count": 12,
   "metadata": {
    "id": "s4DuNyQMhczJ"
   },
   "outputs": [],
   "source": [
    "def save_model_checkpoint(path, model, optimizer, overall_loss, overall_reconstruction_loss, overall_kl_loss):\n",
    "    if path == None:\n",
    "        return print(\"Kindly define a path\")\n",
    "    path = path\n",
    "    \n",
    "    save_dict = {\"model_dict\" : model.state_dict(), \n",
    "                 \"optimizer_dict\": optimizer.state_dict(),\n",
    "                 \"overall_loss_dict\": overall_loss,\n",
    "                 \"overall_reconstruction_dict\": overall_reconstruction_loss,\n",
    "                 \"overall_kl_loss_dict\": overall_kl_loss}\n",
    "    torch.save(save_dict, path)\n",
    "    return print(\"Model Saved to ==> {}\".format(path))"
   ]
  },
  {
   "cell_type": "code",
   "execution_count": 13,
   "metadata": {
    "id": "vJX78MD3zeqN"
   },
   "outputs": [],
   "source": [
    "# write your training and validation loop here\n",
    "\n",
    "# training and validation after every epoch\n",
    "def train(model, train_loader, num_epochs, save_name):\n",
    "    best_loss = float(\"Inf\") \n",
    "    train_overall_loss, train_recons_loss, train_kl_loss = [], [], []\n",
    "    cur_step = 0\n",
    "    train_pred = []\n",
    "    val_pred = []\n",
    "    input_dim = 32*32\n",
    "    batch_size = 10\n",
    "    cnt = 0\n",
    "\n",
    "    for epoch in range(num_epochs):\n",
    "        overall_loss = 0.0 \n",
    "        overall_recons_loss = 0.0\n",
    "        overall_kl_loss = 0.0 \n",
    "        model.train()\n",
    "        print(\"Starting epoch \" + str(epoch+1))\n",
    "        for batch_idx, train_data in train_loader:   \n",
    "            # Forward\n",
    "            input_tensor = train_data.to(device)\n",
    "            input_tensor = input_tensor.view(batch_size, 32*32)\n",
    "            optimizer.zero_grad()\n",
    "            outputs, mu, log_sigma = model.forward(input_tensor)\n",
    "            loss, reconstruction_loss, kl_loss = loss_criterion(input_tensor, outputs,mu, log_sigma)\n",
    "            overall_loss += loss.item()\n",
    "            overall_recons_loss  += reconstruction_loss.item()\n",
    "            overall_kl_loss += kl_loss\n",
    "            cnt+=1\n",
    "            \n",
    "                \n",
    "            # Backward and optimize\n",
    "            loss.backward()\n",
    "            optimizer.step()   \n",
    "            \n",
    "        n_datapoints =  cnt * batch_size #cnt gives the no of batches \\times the batch_size = total_datapoitns\n",
    "        avg_overall_loss = overall_loss / n_datapoints\n",
    "        train_overall_loss.append(avg_overall_loss)\n",
    "        \n",
    "        avg_recons_loss = overall_recons_loss/ n_datapoints\n",
    "        train_recons_loss.append(avg_recons_loss)\n",
    "        \n",
    "        avg_kl_loss = overall_kl_loss / n_datapoints\n",
    "        train_kl_loss.append(avg_kl_loss)\n",
    "        \n",
    "        print(\"Train Pass Completed\")\n",
    "        \n",
    "        print(\"\\tEpoch\", epoch + 1, \"\\tAverage Loss: \", avg_overall_loss, \"\\tReconstruction Loss:\", avg_recons_loss, \"\\tKL Loss:\", avg_kl_loss)\n",
    "\n",
    "        if avg_recons_loss < best_loss:\n",
    "            best_loss = avg_recons_loss\n",
    "            save_model_checkpoint(save_name, model, optimizer, avg_overall_loss, best_loss,avg_kl_loss )\n",
    "    \n",
    "    print(\"Finished Training\") \n",
    "    return train_overall_loss, train_recons_loss, train_kl_loss\n"
   ]
  },
  {
   "cell_type": "code",
   "execution_count": 14,
   "metadata": {
    "id": "_QazYtKFzWeF"
   },
   "outputs": [],
   "source": [
    "# write your training and validation loop here\n",
    "\n",
    "# training and validation after every epoch\n",
    "def train_conv(model, train_loader, num_epochs, save_name):\n",
    "    best_loss = float(\"Inf\") \n",
    "    train_overall_loss, train_recons_loss, train_kl_loss = [], [], []\n",
    "    cur_step = 0\n",
    "    train_pred = []\n",
    "    val_pred = []\n",
    "    input_dim = 32*32\n",
    "    batch_size = 10\n",
    "    cnt = 0\n",
    "\n",
    "    for epoch in range(num_epochs):\n",
    "        overall_loss = 0.0 \n",
    "        overall_recons_loss = 0.0\n",
    "        overall_kl_loss = 0.0 \n",
    "        model.train()\n",
    "        print(\"Starting epoch \" + str(epoch+1))\n",
    "        for batch_idx, train_data in train_loader:   \n",
    "            # Forward\n",
    "            input_tensor = train_data.to(device)\n",
    "            #input_tensor = input_tensor.view(batch_size,32*32)\n",
    "            optimizer.zero_grad()\n",
    "            outputs, mu, log_sigma = model.forward(input_tensor)\n",
    "            loss, reconstruction_loss, kl_loss = loss_criterion(input_tensor, outputs,mu, log_sigma)\n",
    "            overall_loss += loss.item()\n",
    "            overall_recons_loss  += reconstruction_loss.item()\n",
    "            overall_kl_loss += kl_loss\n",
    "            cnt+=1\n",
    "            \n",
    "                \n",
    "            # Backward and optimize\n",
    "            loss.backward()\n",
    "            optimizer.step()   \n",
    "            \n",
    "        n_datapoints = cnt * batch_size #cnt gives the no of batches \\times the batch_size = total_datapoitns\n",
    "        avg_overall_loss = overall_loss / n_datapoints\n",
    "        train_overall_loss.append(avg_overall_loss)\n",
    "        \n",
    "        avg_recons_loss = overall_recons_loss/ n_datapoints\n",
    "        train_recons_loss.append(avg_recons_loss)\n",
    "        \n",
    "        avg_kl_loss = overall_kl_loss / n_datapoints\n",
    "        train_kl_loss.append(avg_kl_loss)\n",
    "        \n",
    "        print(\"Train Pass Completed\")\n",
    "        \n",
    "        print(\"\\tEpoch\", epoch + 1, \"\\tAverage Loss: \", avg_overall_loss, \"\\tReconstruction Loss:\", avg_recons_loss, \"\\tKL Loss:\", avg_kl_loss)\n",
    "\n",
    "        if avg_recons_loss < best_loss:\n",
    "            best_loss = avg_recons_loss\n",
    "            save_model_checkpoint(save_name, model, optimizer, avg_overall_loss, best_loss,avg_kl_loss )\n",
    "    \n",
    "    print(\"Finished Training\") \n",
    "    return train_overall_loss, train_recons_loss, train_kl_loss\n"
   ]
  },
  {
   "cell_type": "code",
   "execution_count": 74,
   "metadata": {
    "id": "tIaB0ITtLNle"
   },
   "outputs": [],
   "source": [
    "#Loss Criterion\n",
    "\n",
    "def loss_criterion(x, x_reconstr, mu, log_sigma,reduce=True):\n",
    "    if reduce:\n",
    "        reconstr_loss = nn.functional.mse_loss(x_reconstr, x, reduction='sum')\n",
    "        kl_loss = 0.5 * torch.sum(mu.pow(2) + (2*log_sigma).exp() - 2*log_sigma - 1)\n",
    "        total_loss = reconstr_loss + kl_loss\n",
    "    else:\n",
    "        reconstr_loss =torch.sum(nn.functional.mse_loss(x_reconstr, x, reduction='none'), dim=(1,2,3))\n",
    "        #print(reconstr_loss.shape)\n",
    "        kl_loss =  0.5 * torch.sum(mu.pow(2) + (2*log_sigma).exp() - 2*log_sigma - 1, dim=1)\n",
    "        #print(kl_loss.shape)\n",
    "        total_loss = reconstr_loss + kl_loss\n",
    "    return total_loss, reconstr_loss, kl_loss"
   ]
  },
  {
   "cell_type": "code",
   "execution_count": null,
   "metadata": {
    "id": "D0ALoFf2zeqN"
   },
   "outputs": [],
   "source": [
    "# perform training\n",
    "import torch.optim as optim\n",
    "\n",
    "device = \"cuda:0\"\n",
    "\n",
    "encoder = Encoder(input_dim = 32*32, hidden_dim = 500, latent_dim = 5).cuda()\n",
    "decoder = Decoder(hidden_dim = 500, latent_dim = 5, output_dim = 32*32).cuda()\n",
    "\n",
    "vae = VAE(encoder = encoder, decoder = decoder).cuda()\n",
    "\n",
    "optimizer = optim.Adam(vae.parameters(), lr = 6e-4)\n",
    "save_name = f'Vanilla_VAE.pt'\n",
    "epochs = 100\n",
    "obtained_train_overall_loss, obtained_train_recons_loss, obtained_train_kl_loss = train(vae, train_dataloader,\n",
    "                                                                                        epochs , save_name )\n"
   ]
  },
  {
   "cell_type": "code",
   "execution_count": 45,
   "metadata": {
    "colab": {
     "base_uri": "https://localhost:8080/"
    },
    "id": "Vj7y9Qx6zcD7",
    "outputId": "a66d4810-585e-44e4-e72f-8b8cd1276dae"
   },
   "outputs": [
    {
     "name": "stdout",
     "output_type": "stream",
     "text": [
      "Starting epoch 1\n",
      "<class 'float'>\n",
      "Train Pass Completed\n",
      "\tEpoch 1 \tAverage Loss:  40.4211660731389 \tReconstruction Loss: 33.448752767709585 \tKL Loss: tensor(6.9724, device='cuda:0', grad_fn=<DivBackward0>)\n",
      "Model Saved to ==> Conv_VAE_100.pt\n",
      "Starting epoch 2\n",
      "<class 'float'>\n",
      "Train Pass Completed\n",
      "\tEpoch 2 \tAverage Loss:  13.382058317331168 \tReconstruction Loss: 9.81873160142165 \tKL Loss: tensor(3.5633, device='cuda:0', grad_fn=<DivBackward0>)\n",
      "Model Saved to ==> Conv_VAE_100.pt\n",
      "Starting epoch 3\n",
      "<class 'float'>\n",
      "Train Pass Completed\n",
      "\tEpoch 3 \tAverage Loss:  8.57606278091822 \tReconstruction Loss: 6.187260817503318 \tKL Loss: tensor(2.3888, device='cuda:0', grad_fn=<DivBackward0>)\n",
      "Model Saved to ==> Conv_VAE_100.pt\n",
      "Starting epoch 4\n",
      "<class 'float'>\n",
      "Train Pass Completed\n",
      "\tEpoch 4 \tAverage Loss:  6.3068936233520505 \tReconstruction Loss: 4.504150563533489 \tKL Loss: tensor(1.8027, device='cuda:0', grad_fn=<DivBackward0>)\n",
      "Model Saved to ==> Conv_VAE_100.pt\n",
      "Starting epoch 5\n",
      "<class 'float'>\n",
      "Train Pass Completed\n",
      "\tEpoch 5 \tAverage Loss:  4.981729924245981 \tReconstruction Loss: 3.534867395371657 \tKL Loss: tensor(1.4469, device='cuda:0', grad_fn=<DivBackward0>)\n",
      "Model Saved to ==> Conv_VAE_100.pt\n",
      "Starting epoch 6\n",
      "<class 'float'>\n",
      "Train Pass Completed\n",
      "\tEpoch 6 \tAverage Loss:  4.109156273279434 \tReconstruction Loss: 2.899534125597049 \tKL Loss: tensor(1.2096, device='cuda:0', grad_fn=<DivBackward0>)\n",
      "Model Saved to ==> Conv_VAE_100.pt\n",
      "Starting epoch 7\n",
      "<class 'float'>\n",
      "Train Pass Completed\n",
      "\tEpoch 7 \tAverage Loss:  3.5060408589289738 \tReconstruction Loss: 2.460876617054363 \tKL Loss: tensor(1.0452, device='cuda:0', grad_fn=<DivBackward0>)\n",
      "Model Saved to ==> Conv_VAE_100.pt\n",
      "Starting epoch 8\n",
      "<class 'float'>\n",
      "Train Pass Completed\n",
      "\tEpoch 8 \tAverage Loss:  3.050012691424443 \tReconstruction Loss: 2.1343243684768676 \tKL Loss: tensor(0.9157, device='cuda:0', grad_fn=<DivBackward0>)\n",
      "Model Saved to ==> Conv_VAE_100.pt\n",
      "Starting epoch 9\n",
      "<class 'float'>\n",
      "Train Pass Completed\n",
      "\tEpoch 9 \tAverage Loss:  2.6924015437069104 \tReconstruction Loss: 1.8800629233335837 \tKL Loss: tensor(0.8123, device='cuda:0', grad_fn=<DivBackward0>)\n",
      "Model Saved to ==> Conv_VAE_100.pt\n",
      "Starting epoch 10\n",
      "<class 'float'>\n",
      "Train Pass Completed\n",
      "\tEpoch 10 \tAverage Loss:  2.4154741145794207 \tReconstruction Loss: 1.6811779994377722 \tKL Loss: tensor(0.7343, device='cuda:0', grad_fn=<DivBackward0>)\n",
      "Model Saved to ==> Conv_VAE_100.pt\n",
      "Starting epoch 11\n",
      "<class 'float'>\n",
      "Train Pass Completed\n",
      "\tEpoch 11 \tAverage Loss:  2.1872690529456507 \tReconstruction Loss: 1.5185726946583995 \tKL Loss: tensor(0.6687, device='cuda:0', grad_fn=<DivBackward0>)\n",
      "Model Saved to ==> Conv_VAE_100.pt\n",
      "Starting epoch 12\n",
      "<class 'float'>\n",
      "Train Pass Completed\n",
      "\tEpoch 12 \tAverage Loss:  1.9984516677856445 \tReconstruction Loss: 1.3840246468079396 \tKL Loss: tensor(0.6144, device='cuda:0', grad_fn=<DivBackward0>)\n",
      "Model Saved to ==> Conv_VAE_100.pt\n",
      "Starting epoch 13\n",
      "<class 'float'>\n",
      "Train Pass Completed\n",
      "\tEpoch 13 \tAverage Loss:  1.8402223383886573 \tReconstruction Loss: 1.2721833666062214 \tKL Loss: tensor(0.5680, device='cuda:0', grad_fn=<DivBackward0>)\n",
      "Model Saved to ==> Conv_VAE_100.pt\n",
      "Starting epoch 14\n",
      "<class 'float'>\n",
      "Train Pass Completed\n",
      "\tEpoch 14 \tAverage Loss:  1.7049760257595188 \tReconstruction Loss: 1.1779290751572493 \tKL Loss: tensor(0.5270, device='cuda:0', grad_fn=<DivBackward0>)\n",
      "Model Saved to ==> Conv_VAE_100.pt\n",
      "Starting epoch 15\n",
      "<class 'float'>\n",
      "Train Pass Completed\n",
      "\tEpoch 15 \tAverage Loss:  1.5845686477661134 \tReconstruction Loss: 1.0929228173671626 \tKL Loss: tensor(0.4916, device='cuda:0', grad_fn=<DivBackward0>)\n",
      "Model Saved to ==> Conv_VAE_100.pt\n",
      "Starting epoch 16\n",
      "<class 'float'>\n",
      "Train Pass Completed\n",
      "\tEpoch 16 \tAverage Loss:  1.4857776806537921 \tReconstruction Loss: 1.0214433106825902 \tKL Loss: tensor(0.4643, device='cuda:0', grad_fn=<DivBackward0>)\n",
      "Model Saved to ==> Conv_VAE_100.pt\n",
      "Starting epoch 17\n",
      "<class 'float'>\n",
      "Train Pass Completed\n",
      "\tEpoch 17 \tAverage Loss:  1.394706769295947 \tReconstruction Loss: 0.9580138838409838 \tKL Loss: tensor(0.4367, device='cuda:0', grad_fn=<DivBackward0>)\n",
      "Model Saved to ==> Conv_VAE_100.pt\n",
      "Starting epoch 18\n",
      "<class 'float'>\n",
      "Train Pass Completed\n",
      "\tEpoch 18 \tAverage Loss:  1.313634785839635 \tReconstruction Loss: 0.9014271055205255 \tKL Loss: tensor(0.4122, device='cuda:0', grad_fn=<DivBackward0>)\n",
      "Model Saved to ==> Conv_VAE_100.pt\n",
      "Starting epoch 19\n",
      "<class 'float'>\n",
      "Train Pass Completed\n",
      "\tEpoch 19 \tAverage Loss:  1.2425096665973123 \tReconstruction Loss: 0.8531068391066331 \tKL Loss: tensor(0.3894, device='cuda:0', grad_fn=<DivBackward0>)\n",
      "Model Saved to ==> Conv_VAE_100.pt\n",
      "Starting epoch 20\n",
      "<class 'float'>\n",
      "Train Pass Completed\n",
      "\tEpoch 20 \tAverage Loss:  1.1795525537344125 \tReconstruction Loss: 0.8080831257453331 \tKL Loss: tensor(0.3715, device='cuda:0', grad_fn=<DivBackward0>)\n",
      "Model Saved to ==> Conv_VAE_100.pt\n",
      "Starting epoch 21\n",
      "<class 'float'>\n",
      "Train Pass Completed\n",
      "\tEpoch 21 \tAverage Loss:  1.1209651462429173 \tReconstruction Loss: 0.7669357644943964 \tKL Loss: tensor(0.3540, device='cuda:0', grad_fn=<DivBackward0>)\n",
      "Model Saved to ==> Conv_VAE_100.pt\n",
      "Starting epoch 22\n",
      "<class 'float'>\n",
      "Train Pass Completed\n",
      "\tEpoch 22 \tAverage Loss:  1.0676715440283289 \tReconstruction Loss: 0.7310766409227064 \tKL Loss: tensor(0.3366, device='cuda:0', grad_fn=<DivBackward0>)\n",
      "Model Saved to ==> Conv_VAE_100.pt\n",
      "Starting epoch 23\n",
      "<class 'float'>\n",
      "Train Pass Completed\n",
      "\tEpoch 23 \tAverage Loss:  1.0219619841049348 \tReconstruction Loss: 0.6975949836781989 \tKL Loss: tensor(0.3244, device='cuda:0', grad_fn=<DivBackward0>)\n",
      "Model Saved to ==> Conv_VAE_100.pt\n",
      "Starting epoch 24\n",
      "<class 'float'>\n",
      "Train Pass Completed\n",
      "\tEpoch 24 \tAverage Loss:  0.9764269190079127 \tReconstruction Loss: 0.6665978034826425 \tKL Loss: tensor(0.3098, device='cuda:0', grad_fn=<DivBackward0>)\n",
      "Model Saved to ==> Conv_VAE_100.pt\n",
      "Starting epoch 25\n",
      "<class 'float'>\n",
      "Train Pass Completed\n",
      "\tEpoch 25 \tAverage Loss:  0.9385472294734074 \tReconstruction Loss: 0.6389062922433706 \tKL Loss: tensor(0.2996, device='cuda:0', grad_fn=<DivBackward0>)\n",
      "Model Saved to ==> Conv_VAE_100.pt\n",
      "Starting epoch 26\n",
      "<class 'float'>\n",
      "Train Pass Completed\n",
      "\tEpoch 26 \tAverage Loss:  0.9000828854261771 \tReconstruction Loss: 0.6130466251711874 \tKL Loss: tensor(0.2870, device='cuda:0', grad_fn=<DivBackward0>)\n",
      "Model Saved to ==> Conv_VAE_100.pt\n",
      "Starting epoch 27\n",
      "<class 'float'>\n",
      "Train Pass Completed\n",
      "\tEpoch 27 \tAverage Loss:  0.8656005214462932 \tReconstruction Loss: 0.5896568866414562 \tKL Loss: tensor(0.2759, device='cuda:0', grad_fn=<DivBackward0>)\n",
      "Model Saved to ==> Conv_VAE_100.pt\n",
      "Starting epoch 28\n",
      "<class 'float'>\n",
      "Train Pass Completed\n",
      "\tEpoch 28 \tAverage Loss:  0.8348888398893587 \tReconstruction Loss: 0.567256836786375 \tKL Loss: tensor(0.2676, device='cuda:0', grad_fn=<DivBackward0>)\n",
      "Model Saved to ==> Conv_VAE_100.pt\n",
      "Starting epoch 29\n",
      "<class 'float'>\n",
      "Train Pass Completed\n",
      "\tEpoch 29 \tAverage Loss:  0.8050335539557257 \tReconstruction Loss: 0.5469960979795583 \tKL Loss: tensor(0.2580, device='cuda:0', grad_fn=<DivBackward0>)\n",
      "Model Saved to ==> Conv_VAE_100.pt\n",
      "Starting epoch 30\n",
      "<class 'float'>\n",
      "Train Pass Completed\n",
      "\tEpoch 30 \tAverage Loss:  0.777705649801401 \tReconstruction Loss: 0.5280635946909586 \tKL Loss: tensor(0.2496, device='cuda:0', grad_fn=<DivBackward0>)\n",
      "Model Saved to ==> Conv_VAE_100.pt\n",
      "Starting epoch 31\n",
      "<class 'float'>\n",
      "Train Pass Completed\n",
      "\tEpoch 31 \tAverage Loss:  0.7509216350810995 \tReconstruction Loss: 0.5098700695842431 \tKL Loss: tensor(0.2411, device='cuda:0', grad_fn=<DivBackward0>)\n",
      "Model Saved to ==> Conv_VAE_100.pt\n",
      "Starting epoch 32\n",
      "<class 'float'>\n",
      "Train Pass Completed\n",
      "\tEpoch 32 \tAverage Loss:  0.7275012396849119 \tReconstruction Loss: 0.4933920425451719 \tKL Loss: tensor(0.2341, device='cuda:0', grad_fn=<DivBackward0>)\n",
      "Model Saved to ==> Conv_VAE_100.pt\n",
      "Starting epoch 33\n",
      "<class 'float'>\n",
      "Train Pass Completed\n",
      "\tEpoch 33 \tAverage Loss:  0.7052417905047224 \tReconstruction Loss: 0.4777401392743304 \tKL Loss: tensor(0.2275, device='cuda:0', grad_fn=<DivBackward0>)\n",
      "Model Saved to ==> Conv_VAE_100.pt\n",
      "Starting epoch 34\n",
      "<class 'float'>\n",
      "Train Pass Completed\n",
      "\tEpoch 34 \tAverage Loss:  0.6834353426419771 \tReconstruction Loss: 0.4624011541685907 \tKL Loss: tensor(0.2210, device='cuda:0', grad_fn=<DivBackward0>)\n",
      "Model Saved to ==> Conv_VAE_100.pt\n",
      "Starting epoch 35\n",
      "<class 'float'>\n",
      "Train Pass Completed\n",
      "\tEpoch 35 \tAverage Loss:  0.6635578408209832 \tReconstruction Loss: 0.44900789187923895 \tKL Loss: tensor(0.2145, device='cuda:0', grad_fn=<DivBackward0>)\n",
      "Model Saved to ==> Conv_VAE_100.pt\n",
      "Starting epoch 36\n",
      "<class 'float'>\n",
      "Train Pass Completed\n",
      "\tEpoch 36 \tAverage Loss:  0.6446099902095958 \tReconstruction Loss: 0.436128524331965 \tKL Loss: tensor(0.2085, device='cuda:0', grad_fn=<DivBackward0>)\n",
      "Model Saved to ==> Conv_VAE_100.pt\n",
      "Starting epoch 37\n",
      "<class 'float'>\n",
      "Train Pass Completed\n",
      "\tEpoch 37 \tAverage Loss:  0.6264601876938913 \tReconstruction Loss: 0.42367351777043016 \tKL Loss: tensor(0.2028, device='cuda:0', grad_fn=<DivBackward0>)\n",
      "Model Saved to ==> Conv_VAE_100.pt\n",
      "Starting epoch 38\n",
      "<class 'float'>\n",
      "Train Pass Completed\n",
      "\tEpoch 38 \tAverage Loss:  0.6098350823282713 \tReconstruction Loss: 0.412231799724131 \tKL Loss: tensor(0.1976, device='cuda:0', grad_fn=<DivBackward0>)\n",
      "Model Saved to ==> Conv_VAE_100.pt\n",
      "Starting epoch 39\n",
      "<class 'float'>\n",
      "Train Pass Completed\n",
      "\tEpoch 39 \tAverage Loss:  0.5942158352101343 \tReconstruction Loss: 0.40155358232878136 \tKL Loss: tensor(0.1927, device='cuda:0', grad_fn=<DivBackward0>)\n",
      "Model Saved to ==> Conv_VAE_100.pt\n",
      "Starting epoch 40\n",
      "<class 'float'>\n",
      "Train Pass Completed\n",
      "\tEpoch 40 \tAverage Loss:  0.5779077074784499 \tReconstruction Loss: 0.39020193862181446 \tKL Loss: tensor(0.1877, device='cuda:0', grad_fn=<DivBackward0>)\n",
      "Model Saved to ==> Conv_VAE_100.pt\n",
      "Starting epoch 41\n",
      "<class 'float'>\n",
      "Train Pass Completed\n",
      "\tEpoch 41 \tAverage Loss:  0.563612500289144 \tReconstruction Loss: 0.3805257742132076 \tKL Loss: tensor(0.1831, device='cuda:0', grad_fn=<DivBackward0>)\n",
      "Model Saved to ==> Conv_VAE_100.pt\n",
      "Starting epoch 42\n",
      "<class 'float'>\n",
      "Train Pass Completed\n",
      "\tEpoch 42 \tAverage Loss:  0.5505190330058227 \tReconstruction Loss: 0.3711678164206145 \tKL Loss: tensor(0.1794, device='cuda:0', grad_fn=<DivBackward0>)\n",
      "Model Saved to ==> Conv_VAE_100.pt\n",
      "Starting epoch 43\n",
      "<class 'float'>\n",
      "Train Pass Completed\n",
      "\tEpoch 43 \tAverage Loss:  0.5376237745199732 \tReconstruction Loss: 0.3622175313441186 \tKL Loss: tensor(0.1754, device='cuda:0', grad_fn=<DivBackward0>)\n",
      "Model Saved to ==> Conv_VAE_100.pt\n",
      "Starting epoch 44\n",
      "<class 'float'>\n",
      "Train Pass Completed\n",
      "\tEpoch 44 \tAverage Loss:  0.5250637214500588 \tReconstruction Loss: 0.35396656982715313 \tKL Loss: tensor(0.1711, device='cuda:0', grad_fn=<DivBackward0>)\n",
      "Model Saved to ==> Conv_VAE_100.pt\n",
      "Starting epoch 45\n",
      "<class 'float'>\n",
      "Train Pass Completed\n",
      "\tEpoch 45 \tAverage Loss:  0.5124186154487805 \tReconstruction Loss: 0.34575999920184797 \tKL Loss: tensor(0.1667, device='cuda:0', grad_fn=<DivBackward0>)\n",
      "Model Saved to ==> Conv_VAE_100.pt\n",
      "Starting epoch 46\n",
      "<class 'float'>\n",
      "Train Pass Completed\n",
      "\tEpoch 46 \tAverage Loss:  0.5016726464746788 \tReconstruction Loss: 0.3373642340248644 \tKL Loss: tensor(0.1643, device='cuda:0', grad_fn=<DivBackward0>)\n",
      "Model Saved to ==> Conv_VAE_100.pt\n",
      "Starting epoch 47\n",
      "<class 'float'>\n",
      "Train Pass Completed\n",
      "\tEpoch 47 \tAverage Loss:  0.49030999012898696 \tReconstruction Loss: 0.32986239155146574 \tKL Loss: tensor(0.1604, device='cuda:0', grad_fn=<DivBackward0>)\n",
      "Model Saved to ==> Conv_VAE_100.pt\n",
      "Starting epoch 48\n",
      "<class 'float'>\n",
      "Train Pass Completed\n",
      "\tEpoch 48 \tAverage Loss:  0.4800963071676401 \tReconstruction Loss: 0.3230730278064043 \tKL Loss: tensor(0.1570, device='cuda:0', grad_fn=<DivBackward0>)\n",
      "Model Saved to ==> Conv_VAE_100.pt\n",
      "Starting epoch 49\n",
      "<class 'float'>\n",
      "Train Pass Completed\n",
      "\tEpoch 49 \tAverage Loss:  0.4699192566804272 \tReconstruction Loss: 0.3162007748650232 \tKL Loss: tensor(0.1537, device='cuda:0', grad_fn=<DivBackward0>)\n",
      "Model Saved to ==> Conv_VAE_100.pt\n",
      "Starting epoch 50\n",
      "<class 'float'>\n",
      "Train Pass Completed\n",
      "\tEpoch 50 \tAverage Loss:  0.45977483365572414 \tReconstruction Loss: 0.30969853925851676 \tKL Loss: tensor(0.1501, device='cuda:0', grad_fn=<DivBackward0>)\n",
      "Model Saved to ==> Conv_VAE_100.pt\n",
      "Starting epoch 51\n",
      "<class 'float'>\n",
      "Train Pass Completed\n",
      "\tEpoch 51 \tAverage Loss:  0.4512012502747963 \tReconstruction Loss: 0.3030259301716386 \tKL Loss: tensor(0.1482, device='cuda:0', grad_fn=<DivBackward0>)\n",
      "Model Saved to ==> Conv_VAE_100.pt\n",
      "Starting epoch 52\n",
      "<class 'float'>\n",
      "Train Pass Completed\n",
      "\tEpoch 52 \tAverage Loss:  0.44228015594933867 \tReconstruction Loss: 0.2974505522575604 \tKL Loss: tensor(0.1448, device='cuda:0', grad_fn=<DivBackward0>)\n",
      "Model Saved to ==> Conv_VAE_100.pt\n",
      "Starting epoch 53\n",
      "<class 'float'>\n",
      "Train Pass Completed\n",
      "\tEpoch 53 \tAverage Loss:  0.4330882265951879 \tReconstruction Loss: 0.29120536617063125 \tKL Loss: tensor(0.1419, device='cuda:0', grad_fn=<DivBackward0>)\n",
      "Model Saved to ==> Conv_VAE_100.pt\n",
      "Starting epoch 54\n",
      "<class 'float'>\n",
      "Train Pass Completed\n",
      "\tEpoch 54 \tAverage Loss:  0.4260541450739586 \tReconstruction Loss: 0.28568008829861286 \tKL Loss: tensor(0.1404, device='cuda:0', grad_fn=<DivBackward0>)\n",
      "Model Saved to ==> Conv_VAE_100.pt\n",
      "Starting epoch 55\n",
      "<class 'float'>\n",
      "Train Pass Completed\n",
      "\tEpoch 55 \tAverage Loss:  0.41741821550489305 \tReconstruction Loss: 0.2803269011544181 \tKL Loss: tensor(0.1371, device='cuda:0', grad_fn=<DivBackward0>)\n",
      "Model Saved to ==> Conv_VAE_100.pt\n",
      "Starting epoch 56\n",
      "<class 'float'>\n",
      "Train Pass Completed\n",
      "\tEpoch 56 \tAverage Loss:  0.4094669701712472 \tReconstruction Loss: 0.274942024739234 \tKL Loss: tensor(0.1345, device='cuda:0', grad_fn=<DivBackward0>)\n",
      "Model Saved to ==> Conv_VAE_100.pt\n",
      "Starting epoch 57\n",
      "<class 'float'>\n",
      "Train Pass Completed\n",
      "\tEpoch 57 \tAverage Loss:  0.4026929955836411 \tReconstruction Loss: 0.2701858559941795 \tKL Loss: tensor(0.1325, device='cuda:0', grad_fn=<DivBackward0>)\n",
      "Model Saved to ==> Conv_VAE_100.pt\n",
      "Starting epoch 58\n",
      "<class 'float'>\n",
      "Train Pass Completed\n",
      "\tEpoch 58 \tAverage Loss:  0.39560263467277706 \tReconstruction Loss: 0.26519081747120826 \tKL Loss: tensor(0.1304, device='cuda:0', grad_fn=<DivBackward0>)\n",
      "Model Saved to ==> Conv_VAE_100.pt\n",
      "Starting epoch 59\n",
      "<class 'float'>\n",
      "Train Pass Completed\n",
      "\tEpoch 59 \tAverage Loss:  0.3883950304929094 \tReconstruction Loss: 0.2603267632624938 \tKL Loss: tensor(0.1281, device='cuda:0', grad_fn=<DivBackward0>)\n",
      "Model Saved to ==> Conv_VAE_100.pt\n",
      "Starting epoch 60\n",
      "<class 'float'>\n",
      "Train Pass Completed\n",
      "\tEpoch 60 \tAverage Loss:  0.38205645923125436 \tReconstruction Loss: 0.2559387276527209 \tKL Loss: tensor(0.1261, device='cuda:0', grad_fn=<DivBackward0>)\n",
      "Model Saved to ==> Conv_VAE_100.pt\n",
      "Starting epoch 61\n",
      "<class 'float'>\n",
      "Train Pass Completed\n",
      "\tEpoch 61 \tAverage Loss:  0.3758269521994669 \tReconstruction Loss: 0.25166263204625094 \tKL Loss: tensor(0.1242, device='cuda:0', grad_fn=<DivBackward0>)\n",
      "Model Saved to ==> Conv_VAE_100.pt\n",
      "Starting epoch 62\n",
      "<class 'float'>\n",
      "Train Pass Completed\n",
      "\tEpoch 62 \tAverage Loss:  0.36930058317918046 \tReconstruction Loss: 0.2475168517091434 \tKL Loss: tensor(0.1218, device='cuda:0', grad_fn=<DivBackward0>)\n",
      "Model Saved to ==> Conv_VAE_100.pt\n",
      "Starting epoch 63\n",
      "<class 'float'>\n",
      "Train Pass Completed\n",
      "\tEpoch 63 \tAverage Loss:  0.3631103770403926 \tReconstruction Loss: 0.24317329472878332 \tKL Loss: tensor(0.1199, device='cuda:0', grad_fn=<DivBackward0>)\n",
      "Model Saved to ==> Conv_VAE_100.pt\n",
      "Starting epoch 64\n",
      "<class 'float'>\n",
      "Train Pass Completed\n",
      "\tEpoch 64 \tAverage Loss:  0.3575184888106126 \tReconstruction Loss: 0.2394027727154585 \tKL Loss: tensor(0.1181, device='cuda:0', grad_fn=<DivBackward0>)\n",
      "Model Saved to ==> Conv_VAE_100.pt\n",
      "Starting epoch 65\n",
      "<class 'float'>\n",
      "Train Pass Completed\n",
      "\tEpoch 65 \tAverage Loss:  0.3519127880209296 \tReconstruction Loss: 0.2357857075798441 \tKL Loss: tensor(0.1161, device='cuda:0', grad_fn=<DivBackward0>)\n",
      "Model Saved to ==> Conv_VAE_100.pt\n",
      "Starting epoch 66\n",
      "<class 'float'>\n",
      "Train Pass Completed\n",
      "\tEpoch 66 \tAverage Loss:  0.34662619081688373 \tReconstruction Loss: 0.23174552318599675 \tKL Loss: tensor(0.1149, device='cuda:0', grad_fn=<DivBackward0>)\n",
      "Model Saved to ==> Conv_VAE_100.pt\n",
      "Starting epoch 67\n",
      "<class 'float'>\n",
      "Train Pass Completed\n",
      "\tEpoch 67 \tAverage Loss:  0.3413054191422928 \tReconstruction Loss: 0.22811556232071362 \tKL Loss: tensor(0.1132, device='cuda:0', grad_fn=<DivBackward0>)\n",
      "Model Saved to ==> Conv_VAE_100.pt\n",
      "Starting epoch 68\n",
      "<class 'float'>\n",
      "Train Pass Completed\n",
      "\tEpoch 68 \tAverage Loss:  0.33618394862904266 \tReconstruction Loss: 0.22487649705291335 \tKL Loss: tensor(0.1113, device='cuda:0', grad_fn=<DivBackward0>)\n",
      "Model Saved to ==> Conv_VAE_100.pt\n",
      "Starting epoch 69\n",
      "<class 'float'>\n",
      "Train Pass Completed\n",
      "\tEpoch 69 \tAverage Loss:  0.33081513490538667 \tReconstruction Loss: 0.22120557102046018 \tKL Loss: tensor(0.1096, device='cuda:0', grad_fn=<DivBackward0>)\n",
      "Model Saved to ==> Conv_VAE_100.pt\n",
      "Starting epoch 70\n",
      "<class 'float'>\n",
      "Train Pass Completed\n",
      "\tEpoch 70 \tAverage Loss:  0.3261686766236693 \tReconstruction Loss: 0.2181646660060673 \tKL Loss: tensor(0.1080, device='cuda:0', grad_fn=<DivBackward0>)\n",
      "Model Saved to ==> Conv_VAE_100.pt\n",
      "Starting epoch 71\n",
      "<class 'float'>\n",
      "Train Pass Completed\n",
      "\tEpoch 71 \tAverage Loss:  0.3218732770132476 \tReconstruction Loss: 0.21478509726477857 \tKL Loss: tensor(0.1071, device='cuda:0', grad_fn=<DivBackward0>)\n",
      "Model Saved to ==> Conv_VAE_100.pt\n",
      "Starting epoch 72\n",
      "<class 'float'>\n",
      "Train Pass Completed\n",
      "\tEpoch 72 \tAverage Loss:  0.31659488856486784 \tReconstruction Loss: 0.2119126190201849 \tKL Loss: tensor(0.1047, device='cuda:0', grad_fn=<DivBackward0>)\n",
      "Model Saved to ==> Conv_VAE_100.pt\n",
      "Starting epoch 73\n",
      "<class 'float'>\n",
      "Train Pass Completed\n",
      "\tEpoch 73 \tAverage Loss:  0.3123063342352687 \tReconstruction Loss: 0.2086402193799034 \tKL Loss: tensor(0.1037, device='cuda:0', grad_fn=<DivBackward0>)\n",
      "Model Saved to ==> Conv_VAE_100.pt\n",
      "Starting epoch 74\n",
      "<class 'float'>\n",
      "Train Pass Completed\n",
      "\tEpoch 74 \tAverage Loss:  0.3079762364742414 \tReconstruction Loss: 0.2057095508694401 \tKL Loss: tensor(0.1023, device='cuda:0', grad_fn=<DivBackward0>)\n",
      "Model Saved to ==> Conv_VAE_100.pt\n",
      "Starting epoch 75\n",
      "<class 'float'>\n",
      "Train Pass Completed\n",
      "\tEpoch 75 \tAverage Loss:  0.30381864875989084 \tReconstruction Loss: 0.2027684489519168 \tKL Loss: tensor(0.1011, device='cuda:0', grad_fn=<DivBackward0>)\n",
      "Model Saved to ==> Conv_VAE_100.pt\n",
      "Starting epoch 76\n",
      "<class 'float'>\n",
      "Train Pass Completed\n",
      "\tEpoch 76 \tAverage Loss:  0.29990625285716194 \tReconstruction Loss: 0.20013633374357032 \tKL Loss: tensor(0.0998, device='cuda:0', grad_fn=<DivBackward0>)\n",
      "Model Saved to ==> Conv_VAE_100.pt\n",
      "Starting epoch 77\n",
      "<class 'float'>\n",
      "Train Pass Completed\n",
      "\tEpoch 77 \tAverage Loss:  0.29607572520862924 \tReconstruction Loss: 0.1975011482962838 \tKL Loss: tensor(0.0986, device='cuda:0', grad_fn=<DivBackward0>)\n",
      "Model Saved to ==> Conv_VAE_100.pt\n",
      "Starting epoch 78\n",
      "<class 'float'>\n",
      "Train Pass Completed\n",
      "\tEpoch 78 \tAverage Loss:  0.2920209421462561 \tReconstruction Loss: 0.19489087659696622 \tKL Loss: tensor(0.0971, device='cuda:0', grad_fn=<DivBackward0>)\n",
      "Model Saved to ==> Conv_VAE_100.pt\n",
      "Starting epoch 79\n",
      "<class 'float'>\n",
      "Train Pass Completed\n",
      "\tEpoch 79 \tAverage Loss:  0.2884404496933028 \tReconstruction Loss: 0.19228711152564237 \tKL Loss: tensor(0.0962, device='cuda:0', grad_fn=<DivBackward0>)\n",
      "Model Saved to ==> Conv_VAE_100.pt\n",
      "Starting epoch 80\n",
      "<class 'float'>\n",
      "Train Pass Completed\n",
      "\tEpoch 80 \tAverage Loss:  0.28480065789589515 \tReconstruction Loss: 0.1897402560527508 \tKL Loss: tensor(0.0951, device='cuda:0', grad_fn=<DivBackward0>)\n",
      "Model Saved to ==> Conv_VAE_100.pt\n",
      "Starting epoch 81\n",
      "<class 'float'>\n",
      "Train Pass Completed\n",
      "\tEpoch 81 \tAverage Loss:  0.281082747688547 \tReconstruction Loss: 0.18731882447100545 \tKL Loss: tensor(0.0938, device='cuda:0', grad_fn=<DivBackward0>)\n",
      "Model Saved to ==> Conv_VAE_100.pt\n",
      "Starting epoch 82\n",
      "<class 'float'>\n",
      "Train Pass Completed\n",
      "\tEpoch 82 \tAverage Loss:  0.2778466580374827 \tReconstruction Loss: 0.18503502898726187 \tKL Loss: tensor(0.0928, device='cuda:0', grad_fn=<DivBackward0>)\n",
      "Model Saved to ==> Conv_VAE_100.pt\n",
      "Starting epoch 83\n",
      "<class 'float'>\n",
      "Train Pass Completed\n",
      "\tEpoch 83 \tAverage Loss:  0.2741318175604876 \tReconstruction Loss: 0.18268223697637606 \tKL Loss: tensor(0.0914, device='cuda:0', grad_fn=<DivBackward0>)\n",
      "Model Saved to ==> Conv_VAE_100.pt\n",
      "Starting epoch 84\n",
      "<class 'float'>\n",
      "Train Pass Completed\n",
      "\tEpoch 84 \tAverage Loss:  0.2709211912539416 \tReconstruction Loss: 0.18042929810744066 \tKL Loss: tensor(0.0905, device='cuda:0', grad_fn=<DivBackward0>)\n",
      "Model Saved to ==> Conv_VAE_100.pt\n",
      "Starting epoch 85\n",
      "<class 'float'>\n",
      "Train Pass Completed\n",
      "\tEpoch 85 \tAverage Loss:  0.2679302810047547 \tReconstruction Loss: 0.17823551597077383 \tKL Loss: tensor(0.0897, device='cuda:0', grad_fn=<DivBackward0>)\n",
      "Model Saved to ==> Conv_VAE_100.pt\n",
      "Starting epoch 86\n",
      "<class 'float'>\n",
      "Train Pass Completed\n",
      "\tEpoch 86 \tAverage Loss:  0.2642459491873043 \tReconstruction Loss: 0.17596745211920287 \tKL Loss: tensor(0.0883, device='cuda:0', grad_fn=<DivBackward0>)\n",
      "Model Saved to ==> Conv_VAE_100.pt\n",
      "Starting epoch 87\n",
      "<class 'float'>\n",
      "Train Pass Completed\n",
      "\tEpoch 87 \tAverage Loss:  0.26124944884876145 \tReconstruction Loss: 0.17391709907322622 \tKL Loss: tensor(0.0873, device='cuda:0', grad_fn=<DivBackward0>)\n",
      "Model Saved to ==> Conv_VAE_100.pt\n",
      "Starting epoch 88\n",
      "<class 'float'>\n",
      "Train Pass Completed\n",
      "\tEpoch 88 \tAverage Loss:  0.2582225894127692 \tReconstruction Loss: 0.17192451267309122 \tKL Loss: tensor(0.0863, device='cuda:0', grad_fn=<DivBackward0>)\n",
      "Model Saved to ==> Conv_VAE_100.pt\n",
      "Starting epoch 89\n",
      "<class 'float'>\n",
      "Train Pass Completed\n",
      "\tEpoch 89 \tAverage Loss:  0.2554298350697668 \tReconstruction Loss: 0.170016111827247 \tKL Loss: tensor(0.0854, device='cuda:0', grad_fn=<DivBackward0>)\n",
      "Model Saved to ==> Conv_VAE_100.pt\n",
      "Starting epoch 90\n",
      "<class 'float'>\n",
      "Train Pass Completed\n",
      "\tEpoch 90 \tAverage Loss:  0.25257482426961264 \tReconstruction Loss: 0.16807163408393533 \tKL Loss: tensor(0.0845, device='cuda:0', grad_fn=<DivBackward0>)\n",
      "Model Saved to ==> Conv_VAE_100.pt\n",
      "Starting epoch 91\n",
      "<class 'float'>\n",
      "Train Pass Completed\n",
      "\tEpoch 91 \tAverage Loss:  0.2496973382300073 \tReconstruction Loss: 0.1660646678057144 \tKL Loss: tensor(0.0836, device='cuda:0', grad_fn=<DivBackward0>)\n",
      "Model Saved to ==> Conv_VAE_100.pt\n",
      "Starting epoch 92\n",
      "<class 'float'>\n",
      "Train Pass Completed\n",
      "\tEpoch 92 \tAverage Loss:  0.2470055469206743 \tReconstruction Loss: 0.16414497081412122 \tKL Loss: tensor(0.0829, device='cuda:0', grad_fn=<DivBackward0>)\n",
      "Model Saved to ==> Conv_VAE_100.pt\n",
      "Starting epoch 93\n",
      "<class 'float'>\n",
      "Train Pass Completed\n",
      "\tEpoch 93 \tAverage Loss:  0.24409359859848337 \tReconstruction Loss: 0.16220632717173586 \tKL Loss: tensor(0.0819, device='cuda:0', grad_fn=<DivBackward0>)\n",
      "Model Saved to ==> Conv_VAE_100.pt\n",
      "Starting epoch 94\n",
      "<class 'float'>\n",
      "Train Pass Completed\n",
      "\tEpoch 94 \tAverage Loss:  0.24189755441943478 \tReconstruction Loss: 0.16053298169774433 \tKL Loss: tensor(0.0814, device='cuda:0', grad_fn=<DivBackward0>)\n",
      "Model Saved to ==> Conv_VAE_100.pt\n",
      "Starting epoch 95\n",
      "<class 'float'>\n",
      "Train Pass Completed\n",
      "\tEpoch 95 \tAverage Loss:  0.23886450376935334 \tReconstruction Loss: 0.1587231984682894 \tKL Loss: tensor(0.0801, device='cuda:0', grad_fn=<DivBackward0>)\n",
      "Model Saved to ==> Conv_VAE_100.pt\n",
      "Starting epoch 96\n",
      "<class 'float'>\n",
      "Train Pass Completed\n",
      "\tEpoch 96 \tAverage Loss:  0.23656436100372902 \tReconstruction Loss: 0.15699355782912328 \tKL Loss: tensor(0.0796, device='cuda:0', grad_fn=<DivBackward0>)\n",
      "Model Saved to ==> Conv_VAE_100.pt\n",
      "Starting epoch 97\n",
      "<class 'float'>\n",
      "Train Pass Completed\n",
      "\tEpoch 97 \tAverage Loss:  0.2342136166759373 \tReconstruction Loss: 0.15533131258947144 \tKL Loss: tensor(0.0789, device='cuda:0', grad_fn=<DivBackward0>)\n",
      "Model Saved to ==> Conv_VAE_100.pt\n",
      "Starting epoch 98\n",
      "<class 'float'>\n",
      "Train Pass Completed\n",
      "\tEpoch 98 \tAverage Loss:  0.2312558317618617 \tReconstruction Loss: 0.1535980682732359 \tKL Loss: tensor(0.0777, device='cuda:0', grad_fn=<DivBackward0>)\n",
      "Model Saved to ==> Conv_VAE_100.pt\n",
      "Starting epoch 99\n",
      "<class 'float'>\n",
      "Train Pass Completed\n",
      "\tEpoch 99 \tAverage Loss:  0.22909754104436417 \tReconstruction Loss: 0.15206220512419777 \tKL Loss: tensor(0.0770, device='cuda:0', grad_fn=<DivBackward0>)\n",
      "Model Saved to ==> Conv_VAE_100.pt\n",
      "Starting epoch 100\n",
      "<class 'float'>\n",
      "Train Pass Completed\n",
      "\tEpoch 100 \tAverage Loss:  0.22688250941936786 \tReconstruction Loss: 0.15046953806657057 \tKL Loss: tensor(0.0764, device='cuda:0', grad_fn=<DivBackward0>)\n",
      "Model Saved to ==> Conv_VAE_100.pt\n",
      "Finished Training\n"
     ]
    }
   ],
   "source": [
    "# perform training\n",
    "import torch.optim as optim\n",
    "\n",
    "device = \"cuda:0\"\n",
    "\n",
    "encoder = ConvEncoder(input_dim = 32*32, hidden_dim = 500, latent_dim = 5).cuda()\n",
    "decoder = ConvDecoder(hidden_dim = 500, latent_dim = 5, output_dim = 32*32).cuda()\n",
    "\n",
    "conv_vae = ConvVAE(encoder = encoder, decoder = decoder).cuda()\n",
    "\n",
    "optimizer = optim.Adam(conv_vae.parameters(), lr = 3e-4)\n",
    "save_name = f'Conv_VAE_100.pt'\n",
    "epochs = 100\n",
    "obtained_train_overall_loss, obtained_train_recons_loss, obtained_train_kl_loss = train_conv(conv_vae, train_dataloader,\n",
    "                                                                                        epochs , save_name )\n"
   ]
  },
  {
   "cell_type": "markdown",
   "metadata": {
    "id": "ISCt8wMyzeqN"
   },
   "source": [
    "# Inspection, Validation, and Analysis"
   ]
  },
  {
   "cell_type": "code",
   "execution_count": null,
   "metadata": {
    "id": "SFkAlLvZzeqN"
   },
   "outputs": [],
   "source": [
    "# Inspect, validate, and analyse your trained model"
   ]
  },
  {
   "cell_type": "code",
   "execution_count": 16,
   "metadata": {
    "id": "k8Z5fKE1u9So"
   },
   "outputs": [],
   "source": [
    "def create_loss_plot(obtained_train_overall_loss, obtained_train_recons_loss, obtained_train_kl_loss,model_name,num_epochs,log_scale=True):\n",
    "    # converted_overall_loss = [tensor.detach().item() for tensor in obtained_train_overall_loss]\n",
    "    # converted_reconstruction_loss = [tensor.detach().item() for tensor in obtained_train_recons_loss]\n",
    "    converted_kl_loss = [tensor.detach().item() for tensor in obtained_train_kl_loss]\n",
    "    fig = plt.gcf()\n",
    "    fig.set_size_inches(9.5, 3.5)\n",
    "    plt.plot(range(0,num_epochs),obtained_train_overall_loss, label = \"Overall Loss\", color = \"blue\")\n",
    "    plt.plot(range(0,num_epochs),obtained_train_recons_loss, label = \"Reconstruction Loss\", color = \"red\")\n",
    "    plt.plot(range(0,num_epochs),converted_kl_loss, label = \"KL Loss\", color = \"orange\")\n",
    "\n",
    "\n",
    "    plt.title('Loss Vs Epochs {Training}', fontsize=14)\n",
    "    plt.xlabel('#Epochs', fontsize=14)\n",
    "    plt.grid(True)\n",
    "    plt.legend()\n",
    "    scale = \"\"\n",
    "    if log_scale:\n",
    "        scale = '_log'\n",
    "        plt.yscale(\"log\")\n",
    "        plt.ylabel('Loss (Log scale)', fontsize=14)\n",
    "    else:\n",
    "        plt.ylabel('Loss', fontsize=14)\n",
    "    \n",
    "    plt.show()\n",
    "    fig.savefig(f'{model_name}_{num_epochs}{scale}.png')\n",
    "    fig = plt.gcf()"
   ]
  },
  {
   "cell_type": "code",
   "execution_count": 17,
   "metadata": {
    "colab": {
     "base_uri": "https://localhost:8080/",
     "height": 290
    },
    "id": "hxobxlfqwIa0",
    "outputId": "4b46b21b-a75e-4f65-dd57-3f37f2c66c03"
   },
   "outputs": [
    {
     "ename": "NameError",
     "evalue": "name 'obtained_train_overall_loss' is not defined",
     "output_type": "error",
     "traceback": [
      "\u001b[0;31m---------------------------------------------------------------------------\u001b[0m",
      "\u001b[0;31mNameError\u001b[0m                                 Traceback (most recent call last)",
      "\u001b[0;32m/tmp/ipykernel_523/421348909.py\u001b[0m in \u001b[0;36m<module>\u001b[0;34m\u001b[0m\n\u001b[1;32m      1\u001b[0m \u001b[0;31m#Plot for ConvVAE\u001b[0m\u001b[0;34m\u001b[0m\u001b[0;34m\u001b[0m\u001b[0;34m\u001b[0m\u001b[0m\n\u001b[0;32m----> 2\u001b[0;31m \u001b[0mcreate_loss_plot\u001b[0m\u001b[0;34m(\u001b[0m\u001b[0mobtained_train_overall_loss\u001b[0m\u001b[0;34m,\u001b[0m \u001b[0mobtained_train_recons_loss\u001b[0m\u001b[0;34m,\u001b[0m \u001b[0mobtained_train_kl_loss\u001b[0m\u001b[0;34m,\u001b[0m\u001b[0;34m\"ConvVAE\"\u001b[0m\u001b[0;34m,\u001b[0m\u001b[0mepochs\u001b[0m\u001b[0;34m,\u001b[0m\u001b[0mlog_scale\u001b[0m\u001b[0;34m=\u001b[0m\u001b[0;32mTrue\u001b[0m\u001b[0;34m)\u001b[0m\u001b[0;34m\u001b[0m\u001b[0;34m\u001b[0m\u001b[0m\n\u001b[0m",
      "\u001b[0;31mNameError\u001b[0m: name 'obtained_train_overall_loss' is not defined"
     ]
    }
   ],
   "source": [
    "#Plot for ConvVAE\n",
    "create_loss_plot(obtained_train_overall_loss, obtained_train_recons_loss, obtained_train_kl_loss,\"ConvVAE\",epochs,log_scale=True)"
   ]
  },
  {
   "cell_type": "code",
   "execution_count": 132,
   "metadata": {
    "id": "VfAMSL7FwIkn"
   },
   "outputs": [],
   "source": [
    "from sklearn.metrics import roc_curve, precision_recall_curve, auc\n",
    "def anomaly_detection_evaluation(model, test_loader,device='cpu'):\n",
    "    losses = []\n",
    "    targets = []\n",
    "    with torch.no_grad():\n",
    "      model.eval()\n",
    "      for val_data, val_targets in test_loader:\n",
    "        \n",
    "        # Forward\n",
    "        input_tensor = val_data.to(device)\n",
    "        outputs, mu, log_sigma = model.forward(input_tensor)\n",
    "        #print(outputs)\n",
    "        loss, reconstruction_loss, kl_loss = loss_criterion(input_tensor, outputs,mu, log_sigma,reduce=False)\n",
    "        losses.append(loss)\n",
    "        targets.append(val_targets[:,5]) # Targets are 1 for anomalies 0 for anything else\n",
    "    scores = torch.stack(losses,axis=0).view(-1)\n",
    "    targets = torch.stack(targets,axis=0).view(-1)\n",
    "    scores = (scores - scores.min())/(scores.max()-scores.min())\n",
    "    scores = scores.cpu().detach().numpy() # Convert to numpy\n",
    "    fpr, tpr, roc_thresholds = roc_curve(targets, scores)\n",
    "    precision, recall, pr_thresholds = precision_recall_curve(targets, scores)\n",
    "    roc_auc = auc(fpr, tpr)\n",
    "    pr_auc = auc(recall, precision)\n",
    "    \n",
    "    return fpr,tpr,precision,recall,roc_auc,pr_auc"
   ]
  },
  {
   "cell_type": "code",
   "execution_count": 130,
   "metadata": {
    "id": "EhD8STV-wInS"
   },
   "outputs": [
    {
     "data": {
      "text/plain": [
       "<All keys matched successfully>"
      ]
     },
     "execution_count": 130,
     "metadata": {},
     "output_type": "execute_result"
    }
   ],
   "source": [
    "\n",
    "encoder = ConvEncoder(input_dim = 32*32, hidden_dim = 500, latent_dim = 5)\n",
    "decoder = ConvDecoder(hidden_dim = 500, latent_dim = 5, output_dim = 32*32)\n",
    "\n",
    "model = ConvVAE(encoder = encoder, decoder = decoder)\n",
    "checkpoint = torch.load('Conv_VAE_100.pt', map_location = 'cpu')\n",
    "model.load_state_dict(checkpoint['model_dict'])"
   ]
  },
  {
   "cell_type": "code",
   "execution_count": 127,
   "metadata": {},
   "outputs": [
    {
     "data": {
      "text/plain": [
       "<All keys matched successfully>"
      ]
     },
     "execution_count": 127,
     "metadata": {},
     "output_type": "execute_result"
    }
   ],
   "source": [
    "\n",
    "encoder = ConvEncoder(input_dim = 32*32, hidden_dim = 500, latent_dim = 10)\n",
    "decoder = ConvDecoder(hidden_dim = 500, latent_dim = 10, output_dim = 32*32)\n",
    "\n",
    "model = ConvVAE(encoder = encoder, decoder = decoder)\n",
    "checkpoint = torch.load('Conv_VAE_100_z_dim_10 .pt', map_location = 'cpu')\n",
    "model.load_state_dict(checkpoint['model_dict'])"
   ]
  },
  {
   "cell_type": "code",
   "execution_count": 133,
   "metadata": {},
   "outputs": [
    {
     "name": "stdout",
     "output_type": "stream",
     "text": [
      "roc_auc=0.9257596153846154\n"
     ]
    },
    {
     "data": {
      "image/png": "[encoded data removed]",
      "text/plain": [
       "<Figure size 432x288 with 1 Axes>"
      ]
     },
     "metadata": {
      "needs_background": "light"
     },
     "output_type": "display_data"
    },
    {
     "name": "stdout",
     "output_type": "stream",
     "text": [
      "pr_auc=0.6073208810285122\n"
     ]
    },
    {
     "data": {
      "image/png": "[encoded data removed]",
      "text/plain": [
       "<Figure size 432x288 with 1 Axes>"
      ]
     },
     "metadata": {
      "needs_background": "light"
     },
     "output_type": "display_data"
    }
   ],
   "source": [
    "fpr,tpr,precision,recall,roc_auc,pr_auc = anomaly_detection_evaluation(model,test_dataloader)\n",
    "\n",
    "print(f'{roc_auc=}')\n",
    "plt.figure()\n",
    "plt.plot(fpr, tpr, lw=2, label=f'ROC curve (area = {roc_auc:.2f})')\n",
    "plt.plot([0, 1], [0, 1], lw=1, linestyle=\"--\")\n",
    "plt.xlim([0.0, 1.0])\n",
    "plt.ylim([0.0, 1.0])\n",
    "plt.xlabel('False Positive Rate')\n",
    "plt.ylabel('True Positive Rate')\n",
    "plt.title('ROC curve for anomaly detection')\n",
    "plt.legend(loc='lower right')\n",
    "plt.show()\n",
    "\n",
    "\n",
    "print(f'{pr_auc=}')\n",
    "plt.figure()\n",
    "plt.plot(recall, precision, lw=2, label=f'Precision-Recall curve (area = {pr_auc:.2f})')\n",
    "plt.xlim([0.0, 1.0])\n",
    "plt.ylim([0.0, 1.0])\n",
    "plt.xlabel('Recall')\n",
    "plt.ylabel('Precision')\n",
    "plt.title('Precision-Recall curve for anomaly detection')\n",
    "plt.legend(loc='lower left')\n",
    "plt.show()"
   ]
  },
  {
   "cell_type": "code",
   "execution_count": 128,
   "metadata": {},
   "outputs": [
    {
     "name": "stdout",
     "output_type": "stream",
     "text": [
      "roc_auc=0.9276153846153846\n"
     ]
    },
    {
     "data": {
      "image/png": "[encoded data removed]",
      "text/plain": [
       "<Figure size 432x288 with 1 Axes>"
      ]
     },
     "metadata": {
      "needs_background": "light"
     },
     "output_type": "display_data"
    },
    {
     "name": "stdout",
     "output_type": "stream",
     "text": [
      "pr_auc=0.611544522833935\n"
     ]
    },
    {
     "data": {
      "image/png": "[encoded data removed]",
      "text/plain": [
       "<Figure size 432x288 with 1 Axes>"
      ]
     },
     "metadata": {
      "needs_background": "light"
     },
     "output_type": "display_data"
    }
   ],
   "source": [
    "fpr,tpr,precision,recall,roc_auc,pr_auc = anomaly_detection_evaluation(model,test_dataloader)\n",
    "\n",
    "print(f'{roc_auc=}')\n",
    "plt.figure()\n",
    "plt.plot(fpr, tpr, lw=2, label=f'ROC curve (area = {roc_auc:.2f})')\n",
    "plt.plot([0, 1], [0, 1], lw=1, linestyle=\"--\")\n",
    "plt.xlim([0.0, 1.0])\n",
    "plt.ylim([0.0, 1.0])\n",
    "plt.xlabel('False Positive Rate')\n",
    "plt.ylabel('True Positive Rate')\n",
    "plt.title('ROC curve for anomaly detection')\n",
    "plt.legend(loc='lower right')\n",
    "plt.show()\n",
    "\n",
    "\n",
    "print(f'{pr_auc=}')\n",
    "plt.figure()\n",
    "plt.plot(recall, precision, lw=2, label=f'Precision-Recall curve (area = {pr_auc:.2f})')\n",
    "plt.xlim([0.0, 1.0])\n",
    "plt.ylim([0.0, 1.0])\n",
    "plt.xlabel('Recall')\n",
    "plt.ylabel('Precision')\n",
    "plt.title('Precision-Recall curve for anomaly detection')\n",
    "plt.legend(loc='lower left')\n",
    "plt.show()"
   ]
  },
  {
   "cell_type": "code",
   "execution_count": null,
   "metadata": {},
   "outputs": [],
   "source": []
  }
 ],
 "metadata": {
  "accelerator": "GPU",
  "colab": {
   "collapsed_sections": [],
   "name": "assignment_4_skeleton (1).ipynb",
   "provenance": []
  },
  "gpuClass": "standard",
  "interpreter": {
   "hash": "93aa0139fa57dda094a7ddd49a7a44ee21342a7ee37e3f7e1205953a77a5c532"
  },
  "kernelspec": {
   "display_name": "Python 3 (ipykernel)",
   "language": "python",
   "name": "python3"
  },
  "language_info": {
   "codemirror_mode": {
    "name": "ipython",
    "version": 3
   },
   "file_extension": ".py",
   "mimetype": "text/x-python",
   "name": "python",
   "nbconvert_exporter": "python",
   "pygments_lexer": "ipython3",
   "version": "3.8.12"
  }
 },
 "nbformat": 4,
 "nbformat_minor": 1
}
