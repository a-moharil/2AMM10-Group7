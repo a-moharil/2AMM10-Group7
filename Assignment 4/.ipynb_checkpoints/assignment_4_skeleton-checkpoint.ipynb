{
 "cells": [
  {
   "cell_type": "markdown",
   "metadata": {
    "id": "730fd591"
   },
   "source": [
    "<a href=\"https://colab.research.google.com/github/vlamen/tue-deeplearning/blob/main/assignments/assignment_4/assignment_4_skeleton.ipynb\" target=\"_parent\"><img src=\"https://colab.research.google.com/assets/colab-badge.svg\" alt=\"Open In Colab\"/></a>"
   ]
  },
  {
   "cell_type": "markdown",
   "metadata": {
    "id": "d32f8d18"
   },
   "source": [
    "# Group Number:\n",
    "\n",
    "# Student 1:\n",
    "\n",
    "# Student 2:\n",
    "\n",
    "# Student 3:"
   ]
  },
  {
   "cell_type": "markdown",
   "metadata": {
    "id": "vBZyoF4CzeqK"
   },
   "source": [
    "# Imports"
   ]
  },
  {
   "cell_type": "code",
   "execution_count": 1,
   "metadata": {
    "id": "8hfRbF4gzeqK"
   },
   "outputs": [],
   "source": [
    "import numpy as np\n",
    "import pickle\n",
    "import requests\n",
    "\n",
    "# other imports go here"
   ]
  },
  {
   "cell_type": "markdown",
   "metadata": {
    "id": "sWTBxXuIzeqL"
   },
   "source": [
    "# Data loading and inspection"
   ]
  },
  {
   "cell_type": "code",
   "execution_count": 2,
   "metadata": {
    "id": "u3gKc0l-zeqL"
   },
   "outputs": [],
   "source": [
    "# load and inspect data\n",
    "data_location = 'https://surfdrive.surf.nl/files/index.php/s/K3ArFDQJb5USQ6K/download'\n",
    "data_request = requests.get(data_location)\n",
    "full_data = pickle.loads(data_request.content)"
   ]
  },
  {
   "cell_type": "code",
   "execution_count": 10,
   "metadata": {},
   "outputs": [
    {
     "data": {
      "text/plain": [
       "array([[0., 0., 0., 1., 0.],\n",
       "       [0., 0., 0., 1., 0.],\n",
       "       [0., 0., 0., 0., 1.],\n",
       "       ...,\n",
       "       [1., 0., 0., 0., 0.],\n",
       "       [0., 0., 0., 0., 1.],\n",
       "       [0., 0., 0., 0., 1.]], dtype=float32)"
      ]
     },
     "execution_count": 10,
     "metadata": {},
     "output_type": "execute_result"
    }
   ],
   "source": [
    "full_data[\"labeled_data\"][\"labels\"]"
   ]
  },
  {
   "cell_type": "code",
   "execution_count": null,
   "metadata": {},
   "outputs": [],
   "source": []
  },
  {
   "cell_type": "code",
   "execution_count": null,
   "metadata": {},
   "outputs": [],
   "source": []
  },
  {
   "cell_type": "code",
   "execution_count": null,
   "metadata": {},
   "outputs": [],
   "source": []
  },
  {
   "cell_type": "markdown",
   "metadata": {
    "id": "TKZIzTPAzeqL"
   },
   "source": [
    "# Data augmentation and pipeline"
   ]
  },
  {
   "cell_type": "code",
   "execution_count": 3,
   "metadata": {
    "id": "gka5t3dBzeqM"
   },
   "outputs": [],
   "source": [
    "# code for data augmentation pipeline "
   ]
  },
  {
   "cell_type": "markdown",
   "metadata": {
    "id": "uCVwEcbXzeqM"
   },
   "source": [
    "# Model definitions"
   ]
  },
  {
   "cell_type": "code",
   "execution_count": 4,
   "metadata": {
    "id": "Ut8sUHlVzeqM"
   },
   "outputs": [],
   "source": [
    "# code for model definitions goes here"
   ]
  },
  {
   "cell_type": "markdown",
   "metadata": {
    "id": "Aw0OHyzRzeqN"
   },
   "source": [
    "# Training and validation loop"
   ]
  },
  {
   "cell_type": "code",
   "execution_count": 5,
   "metadata": {
    "id": "vJX78MD3zeqN"
   },
   "outputs": [],
   "source": [
    "# write your training and validation loop here"
   ]
  },
  {
   "cell_type": "code",
   "execution_count": null,
   "metadata": {
    "id": "D0ALoFf2zeqN"
   },
   "outputs": [],
   "source": [
    "# perform training"
   ]
  },
  {
   "cell_type": "markdown",
   "metadata": {
    "id": "ISCt8wMyzeqN"
   },
   "source": [
    "# Inspection, Validation, and Analysis"
   ]
  },
  {
   "cell_type": "code",
   "execution_count": null,
   "metadata": {
    "id": "SFkAlLvZzeqN"
   },
   "outputs": [],
   "source": [
    "# Inspect, validate, and analyse your trained model"
   ]
  }
 ],
 "metadata": {
  "colab": {
   "name": "assignment_4_skeleton.ipynb",
   "provenance": []
  },
  "interpreter": {
   "hash": "93aa0139fa57dda094a7ddd49a7a44ee21342a7ee37e3f7e1205953a77a5c532"
  },
  "kernelspec": {
   "display_name": "Python 3 (ipykernel)",
   "language": "python",
   "name": "python3"
  },
  "language_info": {
   "codemirror_mode": {
    "name": "ipython",
    "version": 3
   },
   "file_extension": ".py",
   "mimetype": "text/x-python",
   "name": "python",
   "nbconvert_exporter": "python",
   "pygments_lexer": "ipython3",
   "version": "3.8.12"
  }
 },
 "nbformat": 4,
 "nbformat_minor": 1
}
