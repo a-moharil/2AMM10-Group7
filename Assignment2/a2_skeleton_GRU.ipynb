{
  "cells": [
    {
      "cell_type": "markdown",
      "id": "730fd591",
      "metadata": {
        "id": "730fd591"
      },
      "source": [
        "<a href=\"https://colab.research.google.com/github/vlamen/tue-deeplearning/blob/main/assignments/assignment_2_3/a2_skeleton.ipynb\" target=\"_parent\"><img src=\"https://colab.research.google.com/assets/colab-badge.svg\" alt=\"Open In Colab\"/></a>"
      ]
    },
    {
      "cell_type": "markdown",
      "id": "d32f8d18",
      "metadata": {
        "id": "d32f8d18"
      },
      "source": [
        "# Group Number:\n",
        "\n",
        "# Student 1:\n",
        "\n",
        "# Student 2:\n",
        "\n",
        "# Student 3:"
      ]
    },
    {
      "cell_type": "markdown",
      "id": "faec2056",
      "metadata": {
        "id": "faec2056"
      },
      "source": [
        "# Downloading Data and Preliminaries"
      ]
    },
    {
      "cell_type": "code",
      "execution_count": 1,
      "id": "7d0580a5",
      "metadata": {
        "id": "7d0580a5"
      },
      "outputs": [],
      "source": [
        "import pickle\n",
        "import matplotlib.pyplot as plt\n",
        "import matplotlib\n",
        "import numpy as np\n",
        "import torch\n",
        "from zipfile import ZipFile\n",
        "import requests\n",
        "import io"
      ]
    },
    {
      "cell_type": "code",
      "execution_count": 2,
      "id": "b0756591",
      "metadata": {
        "id": "b0756591"
      },
      "outputs": [],
      "source": [
        "def load_zip(url):\n",
        "    response = requests.get(url)\n",
        "    response.raise_for_status()\n",
        "    zipf = ZipFile(io.BytesIO(response.content))\n",
        "    return {name: zipf.read(name) for name in zipf.namelist()}\n",
        "\n",
        "def load_array(zipfile, fn):\n",
        "    return np.load(io.BytesIO(zipfile[fn]))"
      ]
    },
    {
      "cell_type": "code",
      "execution_count": 3,
      "id": "bb77a4be",
      "metadata": {
        "id": "bb77a4be",
        "colab": {
          "base_uri": "https://localhost:8080/"
        },
        "outputId": "6aed1650-3324-4c65-9692-fa3cd16f6a04"
      },
      "outputs": [
        {
          "output_type": "stream",
          "name": "stdout",
          "text": [
            "Shapes of the training data:\n",
            "\n",
            "positions: (10000, 4, 2, 5)\n",
            "velocities: (10000, 1, 2, 5)\n",
            "charges: (10000, 5, 1)\n"
          ]
        }
      ],
      "source": [
        "\"\"\"\n",
        "This cell loads the training, validation or test data as numpy arrays,\n",
        "with the positions, initial velocities and charge data of the particles.\n",
        "\n",
        "The position arrays are shaped as\n",
        "[simulation id, time point (corresponding to t = 0, 0.5, 1 or 1.5), x/y spatial dimension, particle id].\n",
        "\n",
        "The initial velocity arrays are shaped as\n",
        "[simulation id, 1 (corresponding to t=0), x/y spatial dimension, particle id].\n",
        "\n",
        "The charge arrays are shaped as [simulation id, particle id, 1]\n",
        "\n",
        "\"\"\"\n",
        "\n",
        "data = load_zip('https://surfdrive.surf.nl/files/index.php/s/OIgda2ZRG8v0eqB/download')\n",
        "\n",
        "features = ['positions', 'velocities', 'charges']\n",
        "    \n",
        "positions_train, velocities_train, charges_train = (load_array(data, f'data/train/{f}.npy') for f in features)\n",
        "positions_valid, velocities_valid, charges_valid = (load_array(data, f'data/valid/{f}.npy') for f in features)\n",
        "positions_test, velocities_test, charges_test = (load_array(data, f'data/test/{f}.npy') for f in features)\n",
        "\n",
        "print('Shapes of the training data:\\n')\n",
        "print(f'positions: {positions_train.shape}')\n",
        "print(f'velocities: {velocities_train.shape}')\n",
        "print(f'charges: {charges_train.shape}')"
      ]
    },
    {
      "cell_type": "code",
      "execution_count": 4,
      "id": "806d69c9",
      "metadata": {
        "colab": {
          "base_uri": "https://localhost:8080/"
        },
        "id": "806d69c9",
        "outputId": "d7f13e2b-bbc4-47fb-88df-97be4c867c65"
      },
      "outputs": [
        {
          "output_type": "execute_result",
          "data": {
            "text/plain": [
              "(10000, 25)"
            ]
          },
          "metadata": {},
          "execution_count": 4
        }
      ],
      "source": [
        "a = positions_train[:,0,:,:] #initial positions\n",
        "a.reshape(10000,10)\n",
        "np.concatenate((a.reshape(10000,10),velocities_train.reshape(10000,10),charges_train.reshape(10000,5)),axis=1).shape"
      ]
    },
    {
      "cell_type": "code",
      "execution_count": 5,
      "id": "1c3ea4cb",
      "metadata": {
        "id": "1c3ea4cb",
        "colab": {
          "base_uri": "https://localhost:8080/"
        },
        "outputId": "f1e360f1-5408-4470-e9cf-7cfa193dfc62"
      },
      "outputs": [
        {
          "output_type": "stream",
          "name": "stdout",
          "text": [
            "An example of retrieving data from the arrays:\n",
            "\n",
            "\n",
            "In simulation 41 of the training set, particle 3 with charge 1.0 had coordinates [-3.64354499 -2.92196403].\n",
            "The initial velocity of this particle was [-0.63201981 -0.56448973].\n"
          ]
        }
      ],
      "source": [
        "print('An example of retrieving data from the arrays:\\n\\n')\n",
        "\n",
        "sim_idx = 41\n",
        "t_idx = 2  # t_idx 0, 1, 2, 3 corresponds to t=0, 0.5, 1 and 1.5 respectively\n",
        "spatial_idx = (0,1)  # corresponds to both x and y dimension\n",
        "particle_idx = 3  # corresponds to particle with index 3\n",
        "\n",
        "p = positions_train[sim_idx, t_idx, spatial_idx, particle_idx]\n",
        "v = velocities_train[sim_idx, 0, spatial_idx, particle_idx]  # note: this array contains only the inital velocity -> hence the 0\n",
        "c = charges_train[sim_idx, particle_idx, 0] \n",
        "\n",
        "print(\n",
        "    f'In simulation {sim_idx} of the training set, particle {particle_idx} with charge {c} had coordinates {p}.\\nThe initial velocity of this particle was {v}.'\n",
        ")"
      ]
    },
    {
      "cell_type": "code",
      "execution_count": 6,
      "id": "10a3438a",
      "metadata": {
        "id": "10a3438a",
        "colab": {
          "base_uri": "https://localhost:8080/"
        },
        "outputId": "d134bb0c-78c1-499d-fa95-c76b3a09a43c"
      },
      "outputs": [
        {
          "output_type": "stream",
          "name": "stdout",
          "text": [
            "Overview of no. datapoints:\n",
            "\n",
            "10000 train, 2000 validation, 2000 test simulations\n"
          ]
        }
      ],
      "source": [
        "print('Overview of no. datapoints:\\n')\n",
        "\n",
        "print(f'{len(positions_train)} train, {len(positions_valid)} validation, {len(positions_test)} test simulations')"
      ]
    },
    {
      "cell_type": "code",
      "execution_count": 7,
      "id": "f9106543",
      "metadata": {
        "id": "f9106543"
      },
      "outputs": [],
      "source": [
        "def plot_example(pos, vel):\n",
        "\n",
        "    fig = plt.figure()\n",
        "    axes = plt.gca()\n",
        "    axes.set_xlim([-5., 5.])\n",
        "    axes.set_ylim([-5., 5.])\n",
        "    colors = ['red', 'blue', 'green', 'orange', 'brown']\n",
        "    for i in range(pos.shape[-1]):\n",
        "        plt.plot(pos[0, 0, i], pos[0, 1, i], 'd', color=colors[i])\n",
        "        plt.plot(pos[-1, 0, i], pos[-1, 1, i], 'x', color=colors[i])\n",
        "        plt.plot([pos[0, 0, i], pos[0, 0, i] + vel[0, 0, i]], [pos[0, 1, i], pos[0, 1, i] + vel[0, 1, i]], '--', color=colors[i])\n",
        "    fig.set_size_inches(7, 7)\n",
        "    plt.xlim(np.min(pos)-1, np.max(pos) +1)\n",
        "    plt.ylim(np.min(pos)-1, np.max(pos) +1)\n",
        "    plt.plot([], [], 'd', color='black', label='initial position')\n",
        "    plt.plot([], [], 'x', color='black', label='final position')\n",
        "    plt.plot([], [], '--', color='black', label='initial velocity \\ndirection and magnitude')\n",
        "    plt.legend()\n",
        "    \n",
        "    plt.show()\n",
        "    return"
      ]
    },
    {
      "cell_type": "code",
      "execution_count": 8,
      "id": "d28681a6",
      "metadata": {
        "id": "d28681a6",
        "colab": {
          "base_uri": "https://localhost:8080/",
          "height": 428
        },
        "outputId": "29df9559-c3bb-4921-9f90-3f22754eec21"
      },
      "outputs": [
        {
          "output_type": "display_data",
          "data": {
            "text/plain": [
              "<Figure size 504x504 with 1 Axes>"
            ],
            "image/png": "[encoded data removed]"
          },
          "metadata": {
            "needs_background": "light"
          }
        }
      ],
      "source": [
        "random_idx = np.random.randint(0, 10000)\n",
        "plot_example(positions_train[random_idx], velocities_train[random_idx])"
      ]
    },
    {
      "cell_type": "markdown",
      "id": "059b633c",
      "metadata": {
        "id": "059b633c"
      },
      "source": [
        "# Data Handling and Preprocessing"
      ]
    },
    {
      "cell_type": "code",
      "execution_count": 9,
      "id": "e6ecb529",
      "metadata": {
        "id": "e6ecb529"
      },
      "outputs": [],
      "source": [
        "#todo\n",
        "from torch.utils.data import Dataset, DataLoader,TensorDataset\n",
        "device = torch.device('cuda:0' if torch.cuda.is_available() else 'cpu')"
      ]
    },
    {
      "cell_type": "code",
      "execution_count": 10,
      "id": "f8633eb8",
      "metadata": {
        "id": "f8633eb8"
      },
      "outputs": [],
      "source": [
        "\n",
        "class DatasetClass(Dataset):\n",
        "    def __init__(self, positions, velocities,charges):\n",
        "        \n",
        "        (samples,seq_length,dim,length) = positions.shape\n",
        "        # Get the initial positions\n",
        "        init_pos = positions[:,0,:,:]\n",
        "        init_pos = init_pos.reshape(samples,dim*length) # Flatten x,y to a single list [x1,x2...,x5,y1,y2...,y5]\n",
        "        # Get the initial velocities\n",
        "        init_vel = velocities.reshape(samples,dim*length) # Flatten x,y to a single list [x1,x2...,x5,y1,y2...,y5]\n",
        "        # Get the charges\n",
        "        c = charges.reshape(samples,length) # Flatten (samples,1,length) -> (samples,length)\n",
        "        # Create the feature array using initial state\n",
        "        features = np.concatenate((init_pos,init_vel,c),axis=1) # Concatenate initial information to a feature array\n",
        "        \n",
        "        #Create targets using positions in timesteps after the initial one and flattening the dimensions to a single list\n",
        "        targets = positions[:,1:,:,:].reshape(samples,seq_length - 1, dim*length)\n",
        "        \n",
        "        self.data = torch.FloatTensor(features)\n",
        "        self.targets = torch.FloatTensor(targets)\n",
        "        # Sanity checks\n",
        "        assert features.shape == (samples,dim*length*2 + length)\n",
        "        assert targets.shape == (samples,seq_length - 1, dim*length)\n",
        "        \n",
        "        \n",
        "    def __getitem__(self, index):\n",
        "        x = self.data[index]\n",
        "        y = self.targets[index]\n",
        "        \n",
        "\n",
        "        return x, y\n",
        "    \n",
        "    def __len__(self):\n",
        "        return len(self.data)"
      ]
    },
    {
      "cell_type": "code",
      "execution_count": 11,
      "id": "0a99a32b",
      "metadata": {
        "id": "0a99a32b"
      },
      "outputs": [],
      "source": [
        "train_dataset = DatasetClass(positions_train,velocities_train,charges_train)\n",
        "train_loader = torch.utils.data.DataLoader(train_dataset, batch_size=10)\n",
        "valid_dataset = DatasetClass(positions_valid, velocities_valid, charges_valid)\n",
        "valid_loader = torch.utils.data.DataLoader(valid_dataset, batch_size=10)\n",
        "test_dataset = DatasetClass(positions_test, velocities_test, charges_test)\n",
        "test_loader = torch.utils.data.DataLoader(test_dataset, batch_size=10)"
      ]
    },
    {
      "cell_type": "markdown",
      "id": "18b2874d",
      "metadata": {
        "id": "18b2874d"
      },
      "source": [
        "# Model Implementation"
      ]
    },
    {
      "cell_type": "code",
      "execution_count": 12,
      "id": "66774050",
      "metadata": {
        "id": "66774050"
      },
      "outputs": [],
      "source": [
        "#todo"
      ]
    },
    {
      "cell_type": "markdown",
      "id": "116991a2",
      "metadata": {
        "id": "116991a2"
      },
      "source": [
        "![title](lstm.png)"
      ]
    },
    {
      "cell_type": "code",
      "execution_count": 89,
      "id": "ba598378",
      "metadata": {
        "id": "ba598378"
      },
      "outputs": [],
      "source": [
        "from torch import nn\n",
        "class LSTMRegressor(nn.Module):\n",
        "\n",
        "    def __init__(self, input_dim, hidden_dim,output_dim,device):\n",
        "        super(LSTMRegressor, self).__init__()\n",
        "        \n",
        "        self.input_dim = input_dim\n",
        "        self.hidden_dim = hidden_dim\n",
        "        self.device = device\n",
        "    \n",
        "        self.rnn = nn.LSTMCell(input_dim, hidden_dim)\n",
        "        \n",
        "        self.fc1 = nn.Linear(hidden_dim, hidden_dim)\n",
        "        self.fc2 = nn.Linear(hidden_dim, output_dim)\n",
        "        \n",
        "        #self.drop = nn.Dropout(p=0.5)\n",
        "        \n",
        "        self.criterion = nn.MSELoss()\n",
        "        \n",
        "        self.optimizer = torch.optim.Adam(self.parameters())\n",
        "        \n",
        "\n",
        "    def forward(self, batch_input):\n",
        "        \n",
        "        # input shapes:\n",
        "        # batch_input: [batch_size, seq_length, input_shape]\n",
        "        \n",
        "        # Generate initial hidden and cell states\n",
        "        hidden0 = torch.randn(batch_input.shape[0], self.hidden_dim).to(self.device)\n",
        "        c0 = torch.randn(batch_input.shape[0], self.hidden_dim).to(self.device)\n",
        "        \n",
        "        # Feed packed input sequence to lstm \n",
        "        hidden1, c1 = self.rnn(batch_input,(hidden0,c0))\n",
        "        hidden2, c2 = self.rnn(batch_input,(hidden1,c1)) # Feed same input to all for now\n",
        "        hidden3, c3 = self.rnn(batch_input,(hidden2,c2)) # Feed same input to all for now\n",
        "        \n",
        "        \n",
        "        # retrieve final hidden output of last timestep for each sequence\n",
        "        # shape [batch_size, hidden_dim]\n",
        "        #last_timestep = out[:,-1]\n",
        "        \n",
        "        # apply dropout\n",
        "        #self.drop(last_timestep)\n",
        "        \n",
        "        # feed lstm output to MLP, apply ReLU nonlinearity\n",
        "        # shape [batch_size, hidden_dim]\n",
        "        h1 = nn.ReLU()(self.fc1(hidden1))\n",
        "        output1 = self.fc2(h1)\n",
        "        h2 = nn.ReLU()(self.fc1(hidden2))\n",
        "        output2 = self.fc2(h2)\n",
        "        h3 = nn.ReLU()(self.fc1(hidden3))\n",
        "        output3 = self.fc2(h3)\n",
        "        #h = nn.ReLU()(h)\n",
        "        \n",
        "        y_preds = torch.stack((output1,output2,output3),axis=1) # (Batch_size,3,dim * length)\n",
        "        return y_preds"
      ]
    },
    {
      "cell_type": "code",
      "source": [
        "from torch import nn\n",
        "class GRURegressor(nn.Module):\n",
        "\n",
        "    def __init__(self, input_dim, hidden_dim,output_dim,device):\n",
        "        super(GRURegressor, self).__init__()\n",
        "        \n",
        "        self.input_dim = input_dim\n",
        "        self.hidden_dim = hidden_dim\n",
        "        self.device = device\n",
        "    \n",
        "        self.rnn = nn.GRUCell(input_dim, hidden_dim)\n",
        "        \n",
        "        self.fc1 = nn.Linear(hidden_dim, hidden_dim)\n",
        "        self.fc2 = nn.Linear(hidden_dim, output_dim)\n",
        "        \n",
        "        #self.drop = nn.Dropout(p=0.5)\n",
        "        \n",
        "        self.criterion = nn.MSELoss()\n",
        "        \n",
        "        self.optimizer = torch.optim.Adam(self.parameters())\n",
        "        \n",
        "\n",
        "    def forward(self, batch_input ):\n",
        "        \n",
        "        # input shapes:\n",
        "        # batch_input: [batch_size, seq_length, input_shape]\n",
        "        \n",
        "        # Generate initial hidden and cell states\n",
        "        hidden0 = torch.zeros(batch_input.shape[0], self.hidden_dim).to(self.device) \n",
        "        c0 = torch.randn(batch_input.shape[0], self.hidden_dim).to(self.device)\n",
        "       \n",
        "        # Feed packed input sequence to lstm \n",
        "        hidden1 = self.rnn(batch_input,hidden0)\n",
        "        hidden2 = self.rnn(batch_input, hidden1)\n",
        "        hidden3 = self.rnn(batch_input, hidden2)\n",
        "\n",
        "\n",
        "\n",
        "        \n",
        "        \n",
        "        # retrieve final hidden output of last timestep for each sequence\n",
        "        # shape [batch_size, hidden_dim]\n",
        "        #last_timestep = out[:,-1]\n",
        "        \n",
        "        # apply dropout\n",
        "        #self.drop(last_timestep)\n",
        "        \n",
        "        # feed lstm output to MLP, apply ReLU nonlinearity\n",
        "        # shape [batch_size, hidden_dim]\n",
        "        h1 = nn.ReLU()(self.fc1(hidden1))\n",
        "        output1 = self.fc2(h1)\n",
        "        h2 = nn.ReLU()(self.fc1(hidden2))\n",
        "        output2 = self.fc2(h2)\n",
        "        h3 = nn.ReLU()(self.fc1(hidden3))\n",
        "        output3 = self.fc2(h3)\n",
        "        #h = nn.ReLU()(h)\n",
        "        \n",
        "        y_preds = torch.stack((output1,output2,output3),axis=1) # (Batch_size,3,dim * length)\n",
        "        return y_preds"
      ],
      "metadata": {
        "id": "5Xae53EHxauk"
      },
      "id": "5Xae53EHxauk",
      "execution_count": 134,
      "outputs": []
    },
    {
      "cell_type": "markdown",
      "id": "b131f1cf",
      "metadata": {
        "id": "b131f1cf"
      },
      "source": [
        "![title](gru.png)\n",
        "![title](label.png)"
      ]
    },
    {
      "cell_type": "code",
      "source": [
        "class GRU(nn.Module):\n",
        "  def __init__(self, input_size, hidden_size, output_size):\n",
        "    super(GRU, self).__init__()\n",
        "    self.input_size = input_size\n",
        "    self.hidden_size = hidden_size\n",
        "    self.gru = nn.GRU(input_size, hidden_size, num_layers = 1, batch_first = True )\n",
        "    self.fc1 = nn.Linear(hidden_size, hidden_size)\n",
        "    self.fc2 = nn.Linear(hidden_size, output_size)\n",
        "\n",
        "  def forward(self, batch_input, hidden_state):\n",
        "\n",
        "    out, state = self.gru(batch_input, hidden_state)\n",
        "\n",
        "    return hidden_state"
      ],
      "metadata": {
        "id": "4NwRkQ9SvrTX"
      },
      "id": "4NwRkQ9SvrTX",
      "execution_count": 97,
      "outputs": []
    },
    {
      "cell_type": "markdown",
      "id": "dea70d73",
      "metadata": {
        "id": "dea70d73"
      },
      "source": [
        "# Model Training"
      ]
    },
    {
      "cell_type": "code",
      "execution_count": 15,
      "id": "3af520ae",
      "metadata": {
        "id": "3af520ae"
      },
      "outputs": [],
      "source": [
        "def save_model_checkpoint(path, model, optimizer, val_loss, val_acc, train_acc, train_loss ):\n",
        "    if path == None:\n",
        "        return print(\"Kindly define a path\")\n",
        "    path = path\n",
        "    \n",
        "    save_dict = {\"model_dict\" : model.state_dict(), \n",
        "                 \"optimizer_dict\": optimizer.state_dict(),\n",
        "                 \"val_loss_dict\": val_loss,\n",
        "                 \"val_acc_dict\": val_acc,\n",
        "                 \"train_acc_dict\": train_acc,\n",
        "                 \"train_loss_dict\": train_loss}\n",
        "    torch.save(save_dict, path)\n",
        "    return print(\"Model Saved to ==> {}\".format(path))"
      ]
    },
    {
      "cell_type": "code",
      "execution_count": 76,
      "id": "e95af5f9",
      "metadata": {
        "id": "e95af5f9"
      },
      "outputs": [],
      "source": [
        "# training and validation after every epoch\n",
        "def train(model, train_loader, val_loader, criterion, num_epochs, save_name):\n",
        "    best_val_loss = float(\"Inf\") \n",
        "    train_losses = []\n",
        "    val_losses = []\n",
        "    train_acc = []\n",
        "    val_acc = []\n",
        "    cur_step = 0\n",
        "    train_pred = []\n",
        "    val_pred = []\n",
        "\n",
        "    for epoch in range(num_epochs):\n",
        "        running_loss = 0.0\n",
        "        running_train_acc = 0.0\n",
        "  \n",
        "        model.train()\n",
        "        print(\"Starting epoch \" + str(epoch+1))\n",
        "        for train_data, targets in train_loader:\n",
        "            \n",
        "           \n",
        "            # Forward\n",
        "            input_tensor = train_data.to(device)\n",
        "            outputs = model.forward(input_tensor)\n",
        "            loss = criterion(outputs,targets.to(device))\n",
        "            \n",
        "                \n",
        "            # Backward and optimize\n",
        "            optimizer.zero_grad()\n",
        "            loss.backward()\n",
        "            optimizer.step()   \n",
        "            running_loss += loss\n",
        "          \n",
        "\n",
        "        avg_train_loss = running_loss / len(train_loader)\n",
        "        train_losses.append(avg_train_loss)\n",
        "        print(\"Train Pass Completed\")\n",
        "\n",
        "        ########################################|Validation Set|#############################################\n",
        "        val_running_loss = 0.0\n",
        "        with torch.no_grad():\n",
        "            model.eval()\n",
        "            for val_data, val_targets in val_loader:\n",
        "                input_tensor = val_data.to(device)\n",
        "                outputs = model.forward(input_tensor)\n",
        "                loss = criterion(outputs,val_targets.to(device))\n",
        "                val_running_loss += loss\n",
        "\n",
        "        avg_val_loss = val_running_loss / len(val_loader)\n",
        "        val_losses.append(avg_val_loss)\n",
        "\n",
        "        \n",
        "        print('Epoch [{}/{}],Train Loss: {:.4f}, Valid Loss: {:.8f}' \n",
        "            .format(epoch+1, num_epochs, avg_train_loss, avg_val_loss))\n",
        "        if avg_val_loss < best_val_loss:\n",
        "            best_val_loss = avg_val_loss \n",
        "            save_model_checkpoint(save_name, model, optimizer, best_val_loss, 0, 0, avg_train_loss )\n",
        "    \n",
        "    print(\"Finished Training\") \n",
        "    return train_losses, val_losses\n",
        "     "
      ]
    },
    {
      "cell_type": "code",
      "source": [
        "#LBFGS Training regime \n",
        "\n",
        "# training and validation after every epoch\n",
        "def train_lbfgs(model, train_loader, val_loader, criterion, num_epochs, save_name):\n",
        "    best_val_loss = float(\"Inf\") \n",
        "    train_losses = []\n",
        "    val_losses = []\n",
        "    train_acc = []\n",
        "    val_acc = []\n",
        "    cur_step = 0\n",
        "    train_pred = []\n",
        "    val_pred = []\n",
        "\n",
        "    for epoch in range(num_epochs):\n",
        "        running_loss = 0.0\n",
        "        running_train_acc = 0.0\n",
        "  \n",
        "        model.train()\n",
        "        print(\"Starting epoch \" + str(epoch+1))\n",
        "        for train_data, targets in train_loader:\n",
        "            \n",
        "            def closure():\n",
        "              # Forward\n",
        "              running_loss = 0\n",
        "              input_tensor = train_data.to(device)\n",
        "              outputs = model.forward(input_tensor)\n",
        "              loss = criterion(outputs,targets.to(device))\n",
        "              # Backward and optimize\n",
        "              optimizer.zero_grad()\n",
        "              loss.backward() \n",
        "              running_loss += loss\n",
        "              return running_loss\n",
        "            \n",
        "            optimizer.step(closure = closure)  \n",
        "            \n",
        "\n",
        "        avg_train_loss = closure / len(train_loader)\n",
        "        train_losses.append(avg_train_loss)\n",
        "        print(\"Train Pass Completed\")\n",
        "\n",
        "        ########################################|Validation Set|#############################################\n",
        "        val_running_loss = 0.0\n",
        "        with torch.no_grad():\n",
        "            model.eval()\n",
        "            for val_data, val_targets in val_loader:\n",
        "                input_tensor = val_data.to(device)\n",
        "                outputs = model.forward(input_tensor)\n",
        "                loss = criterion(outputs,val_targets.to(device))\n",
        "                val_running_loss += loss\n",
        "\n",
        "        avg_val_loss = val_running_loss / len(val_loader)\n",
        "        val_losses.append(avg_val_loss)\n",
        "\n",
        "        \n",
        "        print('Epoch [{}/{}],Train Loss: {:.4f}, Valid Loss: {:.8f}' \n",
        "            .format(epoch+1, num_epochs, avg_train_loss, avg_val_loss))\n",
        "        if avg_val_loss < best_val_loss:\n",
        "            best_val_loss = avg_val_loss \n",
        "            save_model_checkpoint(save_name, model, optimizer, best_val_loss, 0, 0, avg_train_loss )\n",
        "    \n",
        "    print(\"Finished Training\") \n",
        "    return train_losses, val_losses\n",
        "     "
      ],
      "metadata": {
        "id": "O05BW5GxFyDv"
      },
      "id": "O05BW5GxFyDv",
      "execution_count": 142,
      "outputs": []
    },
    {
      "cell_type": "code",
      "execution_count": null,
      "id": "07e03ddf",
      "metadata": {
        "id": "07e03ddf"
      },
      "outputs": [],
      "source": [
        "LSTM_reg = LSTMRegressor(25,192,10,device='cuda:0').cuda()\n",
        "\n",
        "optimizer = torch.optim.SGD(LSTM_reg.parameters(), lr=0.01, momentum=0.9)\n",
        "num_epochs = 100\n",
        "save_name = f'LSTM_reg.pt'\n",
        "criterion = nn.MSELoss()\n",
        "\n",
        "obtained_train_loss, obtained_val_loss = train(LSTM_reg, \n",
        "                                                      train_loader, valid_loader, criterion, num_epochs, save_name)"
      ]
    },
    {
      "cell_type": "code",
      "execution_count": 144,
      "id": "95ab5fce",
      "metadata": {
        "colab": {
          "base_uri": "https://localhost:8080/"
        },
        "id": "95ab5fce",
        "outputId": "2e2551cb-4187-4130-c524-a2ebdfbb42ed"
      },
      "outputs": [
        {
          "output_type": "stream",
          "name": "stdout",
          "text": [
            "Starting epoch 1\n",
            "Train Pass Completed\n",
            "Epoch [1/100],Train Loss: 1.1897, Valid Loss: 0.22557934\n",
            "Model Saved to ==> GRU_reg.pt\n",
            "Starting epoch 2\n",
            "Train Pass Completed\n",
            "Epoch [2/100],Train Loss: 0.2039, Valid Loss: 0.18285519\n",
            "Model Saved to ==> GRU_reg.pt\n",
            "Starting epoch 3\n",
            "Train Pass Completed\n",
            "Epoch [3/100],Train Loss: 0.1753, Valid Loss: 0.17349292\n",
            "Model Saved to ==> GRU_reg.pt\n",
            "Starting epoch 4\n",
            "Train Pass Completed\n",
            "Epoch [4/100],Train Loss: 0.1642, Valid Loss: 0.16988219\n",
            "Model Saved to ==> GRU_reg.pt\n",
            "Starting epoch 5\n",
            "Train Pass Completed\n",
            "Epoch [5/100],Train Loss: 0.1575, Valid Loss: 0.16766447\n",
            "Model Saved to ==> GRU_reg.pt\n",
            "Starting epoch 6\n",
            "Train Pass Completed\n",
            "Epoch [6/100],Train Loss: 0.1524, Valid Loss: 0.16606316\n",
            "Model Saved to ==> GRU_reg.pt\n",
            "Starting epoch 7\n",
            "Train Pass Completed\n",
            "Epoch [7/100],Train Loss: 0.1479, Valid Loss: 0.16496226\n",
            "Model Saved to ==> GRU_reg.pt\n",
            "Starting epoch 8\n",
            "Train Pass Completed\n",
            "Epoch [8/100],Train Loss: 0.1438, Valid Loss: 0.16372558\n",
            "Model Saved to ==> GRU_reg.pt\n",
            "Starting epoch 9\n",
            "Train Pass Completed\n",
            "Epoch [9/100],Train Loss: 0.1398, Valid Loss: 0.16241890\n",
            "Model Saved to ==> GRU_reg.pt\n",
            "Starting epoch 10\n",
            "Train Pass Completed\n",
            "Epoch [10/100],Train Loss: 0.1357, Valid Loss: 0.16048051\n",
            "Model Saved to ==> GRU_reg.pt\n",
            "Starting epoch 11\n",
            "Train Pass Completed\n",
            "Epoch [11/100],Train Loss: 0.1316, Valid Loss: 0.15826036\n",
            "Model Saved to ==> GRU_reg.pt\n",
            "Starting epoch 12\n",
            "Train Pass Completed\n",
            "Epoch [12/100],Train Loss: 0.1275, Valid Loss: 0.15599850\n",
            "Model Saved to ==> GRU_reg.pt\n",
            "Starting epoch 13\n",
            "Train Pass Completed\n",
            "Epoch [13/100],Train Loss: 0.1238, Valid Loss: 0.15403329\n",
            "Model Saved to ==> GRU_reg.pt\n",
            "Starting epoch 14\n",
            "Train Pass Completed\n",
            "Epoch [14/100],Train Loss: 0.1204, Valid Loss: 0.15224254\n",
            "Model Saved to ==> GRU_reg.pt\n",
            "Starting epoch 15\n",
            "Train Pass Completed\n",
            "Epoch [15/100],Train Loss: 0.1173, Valid Loss: 0.15088485\n",
            "Model Saved to ==> GRU_reg.pt\n",
            "Starting epoch 16\n",
            "Train Pass Completed\n",
            "Epoch [16/100],Train Loss: 0.1146, Valid Loss: 0.14994746\n",
            "Model Saved to ==> GRU_reg.pt\n",
            "Starting epoch 17\n",
            "Train Pass Completed\n",
            "Epoch [17/100],Train Loss: 0.1121, Valid Loss: 0.14902869\n",
            "Model Saved to ==> GRU_reg.pt\n",
            "Starting epoch 18\n",
            "Train Pass Completed\n",
            "Epoch [18/100],Train Loss: 0.1099, Valid Loss: 0.14853272\n",
            "Model Saved to ==> GRU_reg.pt\n",
            "Starting epoch 19\n",
            "Train Pass Completed\n",
            "Epoch [19/100],Train Loss: 0.1078, Valid Loss: 0.14823081\n",
            "Model Saved to ==> GRU_reg.pt\n",
            "Starting epoch 20\n",
            "Train Pass Completed\n",
            "Epoch [20/100],Train Loss: 0.1058, Valid Loss: 0.14803469\n",
            "Model Saved to ==> GRU_reg.pt\n",
            "Starting epoch 21\n",
            "Train Pass Completed\n",
            "Epoch [21/100],Train Loss: 0.1040, Valid Loss: 0.14796273\n",
            "Model Saved to ==> GRU_reg.pt\n",
            "Starting epoch 22\n",
            "Train Pass Completed\n",
            "Epoch [22/100],Train Loss: 0.1023, Valid Loss: 0.14798996\n",
            "Starting epoch 23\n",
            "Train Pass Completed\n",
            "Epoch [23/100],Train Loss: 0.1006, Valid Loss: 0.14813180\n",
            "Starting epoch 24\n",
            "Train Pass Completed\n",
            "Epoch [24/100],Train Loss: 0.0991, Valid Loss: 0.14873394\n",
            "Starting epoch 25\n",
            "Train Pass Completed\n",
            "Epoch [25/100],Train Loss: 0.0975, Valid Loss: 0.14911176\n",
            "Starting epoch 26\n",
            "Train Pass Completed\n",
            "Epoch [26/100],Train Loss: 0.0961, Valid Loss: 0.14972043\n",
            "Starting epoch 27\n",
            "Train Pass Completed\n",
            "Epoch [27/100],Train Loss: 0.0946, Valid Loss: 0.15016074\n",
            "Starting epoch 28\n",
            "Train Pass Completed\n",
            "Epoch [28/100],Train Loss: 0.0932, Valid Loss: 0.15083870\n",
            "Starting epoch 29\n",
            "Train Pass Completed\n",
            "Epoch [29/100],Train Loss: 0.0919, Valid Loss: 0.15149933\n",
            "Starting epoch 30\n",
            "Train Pass Completed\n",
            "Epoch [30/100],Train Loss: 0.0907, Valid Loss: 0.15235195\n",
            "Starting epoch 31\n",
            "Train Pass Completed\n",
            "Epoch [31/100],Train Loss: 0.0894, Valid Loss: 0.15318473\n",
            "Starting epoch 32\n",
            "Train Pass Completed\n",
            "Epoch [32/100],Train Loss: 0.0882, Valid Loss: 0.15425244\n",
            "Starting epoch 33\n",
            "Train Pass Completed\n",
            "Epoch [33/100],Train Loss: 0.0871, Valid Loss: 0.15513070\n",
            "Starting epoch 34\n",
            "Train Pass Completed\n",
            "Epoch [34/100],Train Loss: 0.0859, Valid Loss: 0.15618987\n",
            "Starting epoch 35\n",
            "Train Pass Completed\n",
            "Epoch [35/100],Train Loss: 0.0848, Valid Loss: 0.15714066\n",
            "Starting epoch 36\n",
            "Train Pass Completed\n",
            "Epoch [36/100],Train Loss: 0.0837, Valid Loss: 0.15812515\n",
            "Starting epoch 37\n",
            "Train Pass Completed\n",
            "Epoch [37/100],Train Loss: 0.0826, Valid Loss: 0.15930006\n",
            "Starting epoch 38\n",
            "Train Pass Completed\n",
            "Epoch [38/100],Train Loss: 0.0816, Valid Loss: 0.16030972\n",
            "Starting epoch 39\n",
            "Train Pass Completed\n",
            "Epoch [39/100],Train Loss: 0.0806, Valid Loss: 0.16115376\n",
            "Starting epoch 40\n",
            "Train Pass Completed\n",
            "Epoch [40/100],Train Loss: 0.0796, Valid Loss: 0.16230659\n",
            "Starting epoch 41\n",
            "Train Pass Completed\n",
            "Epoch [41/100],Train Loss: 0.0786, Valid Loss: 0.16333838\n",
            "Starting epoch 42\n",
            "Train Pass Completed\n",
            "Epoch [42/100],Train Loss: 0.0777, Valid Loss: 0.16447182\n",
            "Starting epoch 43\n",
            "Train Pass Completed\n",
            "Epoch [43/100],Train Loss: 0.0767, Valid Loss: 0.16575350\n",
            "Starting epoch 44\n",
            "Train Pass Completed\n",
            "Epoch [44/100],Train Loss: 0.0758, Valid Loss: 0.16644552\n",
            "Starting epoch 45\n",
            "Train Pass Completed\n",
            "Epoch [45/100],Train Loss: 0.0749, Valid Loss: 0.16747525\n",
            "Starting epoch 46\n",
            "Train Pass Completed\n",
            "Epoch [46/100],Train Loss: 0.0740, Valid Loss: 0.16847654\n",
            "Starting epoch 47\n",
            "Train Pass Completed\n",
            "Epoch [47/100],Train Loss: 0.0731, Valid Loss: 0.16942810\n",
            "Starting epoch 48\n",
            "Train Pass Completed\n",
            "Epoch [48/100],Train Loss: 0.0723, Valid Loss: 0.17030425\n",
            "Starting epoch 49\n",
            "Train Pass Completed\n",
            "Epoch [49/100],Train Loss: 0.0714, Valid Loss: 0.17136861\n",
            "Starting epoch 50\n",
            "Train Pass Completed\n",
            "Epoch [50/100],Train Loss: 0.0706, Valid Loss: 0.17249680\n",
            "Starting epoch 51\n",
            "Train Pass Completed\n",
            "Epoch [51/100],Train Loss: 0.0698, Valid Loss: 0.17344053\n",
            "Starting epoch 52\n",
            "Train Pass Completed\n",
            "Epoch [52/100],Train Loss: 0.0690, Valid Loss: 0.17433101\n",
            "Starting epoch 53\n",
            "Train Pass Completed\n",
            "Epoch [53/100],Train Loss: 0.0683, Valid Loss: 0.17535029\n",
            "Starting epoch 54\n",
            "Train Pass Completed\n",
            "Epoch [54/100],Train Loss: 0.0675, Valid Loss: 0.17633915\n",
            "Starting epoch 55\n",
            "Train Pass Completed\n",
            "Epoch [55/100],Train Loss: 0.0668, Valid Loss: 0.17736436\n",
            "Starting epoch 56\n",
            "Train Pass Completed\n",
            "Epoch [56/100],Train Loss: 0.0660, Valid Loss: 0.17862165\n",
            "Starting epoch 57\n",
            "Train Pass Completed\n",
            "Epoch [57/100],Train Loss: 0.0653, Valid Loss: 0.17949565\n",
            "Starting epoch 58\n",
            "Train Pass Completed\n",
            "Epoch [58/100],Train Loss: 0.0646, Valid Loss: 0.18038832\n",
            "Starting epoch 59\n",
            "Train Pass Completed\n",
            "Epoch [59/100],Train Loss: 0.0639, Valid Loss: 0.18168150\n",
            "Starting epoch 60\n",
            "Train Pass Completed\n",
            "Epoch [60/100],Train Loss: 0.0632, Valid Loss: 0.18277131\n",
            "Starting epoch 61\n",
            "Train Pass Completed\n",
            "Epoch [61/100],Train Loss: 0.0626, Valid Loss: 0.18343017\n",
            "Starting epoch 62\n",
            "Train Pass Completed\n",
            "Epoch [62/100],Train Loss: 0.0619, Valid Loss: 0.18431257\n",
            "Starting epoch 63\n",
            "Train Pass Completed\n",
            "Epoch [63/100],Train Loss: 0.0612, Valid Loss: 0.18565109\n",
            "Starting epoch 64\n",
            "Train Pass Completed\n",
            "Epoch [64/100],Train Loss: 0.0607, Valid Loss: 0.18618135\n",
            "Starting epoch 65\n",
            "Train Pass Completed\n",
            "Epoch [65/100],Train Loss: 0.0600, Valid Loss: 0.18781458\n",
            "Starting epoch 66\n",
            "Train Pass Completed\n",
            "Epoch [66/100],Train Loss: 0.0595, Valid Loss: 0.18813269\n",
            "Starting epoch 67\n",
            "Train Pass Completed\n",
            "Epoch [67/100],Train Loss: 0.0589, Valid Loss: 0.18975332\n",
            "Starting epoch 68\n",
            "Train Pass Completed\n",
            "Epoch [68/100],Train Loss: 0.0584, Valid Loss: 0.19005626\n",
            "Starting epoch 69\n",
            "Train Pass Completed\n",
            "Epoch [69/100],Train Loss: 0.0579, Valid Loss: 0.19138514\n",
            "Starting epoch 70\n",
            "Train Pass Completed\n",
            "Epoch [70/100],Train Loss: 0.0574, Valid Loss: 0.19150634\n",
            "Starting epoch 71\n",
            "Train Pass Completed\n",
            "Epoch [71/100],Train Loss: 0.0568, Valid Loss: 0.19300142\n",
            "Starting epoch 72\n",
            "Train Pass Completed\n",
            "Epoch [72/100],Train Loss: 0.0561, Valid Loss: 0.19330108\n",
            "Starting epoch 73\n",
            "Train Pass Completed\n",
            "Epoch [73/100],Train Loss: 0.0557, Valid Loss: 0.19442907\n",
            "Starting epoch 74\n",
            "Train Pass Completed\n",
            "Epoch [74/100],Train Loss: 0.0550, Valid Loss: 0.19528928\n",
            "Starting epoch 75\n",
            "Train Pass Completed\n",
            "Epoch [75/100],Train Loss: 0.0546, Valid Loss: 0.19543800\n",
            "Starting epoch 76\n",
            "Train Pass Completed\n",
            "Epoch [76/100],Train Loss: 0.0541, Valid Loss: 0.19707853\n",
            "Starting epoch 77\n",
            "Train Pass Completed\n",
            "Epoch [77/100],Train Loss: 0.0538, Valid Loss: 0.19678888\n",
            "Starting epoch 78\n",
            "Train Pass Completed\n",
            "Epoch [78/100],Train Loss: 0.0532, Valid Loss: 0.19871625\n",
            "Starting epoch 79\n",
            "Train Pass Completed\n",
            "Epoch [79/100],Train Loss: 0.0530, Valid Loss: 0.19820674\n",
            "Starting epoch 80\n",
            "Train Pass Completed\n",
            "Epoch [80/100],Train Loss: 0.0526, Valid Loss: 0.19994889\n",
            "Starting epoch 81\n",
            "Train Pass Completed\n",
            "Epoch [81/100],Train Loss: 0.0523, Valid Loss: 0.19999470\n",
            "Starting epoch 82\n",
            "Train Pass Completed\n",
            "Epoch [82/100],Train Loss: 0.0517, Valid Loss: 0.20117466\n",
            "Starting epoch 83\n",
            "Train Pass Completed\n",
            "Epoch [83/100],Train Loss: 0.0513, Valid Loss: 0.20189504\n",
            "Starting epoch 84\n",
            "Train Pass Completed\n",
            "Epoch [84/100],Train Loss: 0.0508, Valid Loss: 0.20266517\n",
            "Starting epoch 85\n",
            "Train Pass Completed\n",
            "Epoch [85/100],Train Loss: 0.0506, Valid Loss: 0.20341206\n",
            "Starting epoch 86\n",
            "Train Pass Completed\n",
            "Epoch [86/100],Train Loss: 0.0502, Valid Loss: 0.20448941\n",
            "Starting epoch 87\n",
            "Train Pass Completed\n",
            "Epoch [87/100],Train Loss: 0.0498, Valid Loss: 0.20464137\n",
            "Starting epoch 88\n",
            "Train Pass Completed\n",
            "Epoch [88/100],Train Loss: 0.0493, Valid Loss: 0.20552403\n",
            "Starting epoch 89\n",
            "Train Pass Completed\n",
            "Epoch [89/100],Train Loss: 0.0490, Valid Loss: 0.20673344\n",
            "Starting epoch 90\n",
            "Train Pass Completed\n",
            "Epoch [90/100],Train Loss: 0.0484, Valid Loss: 0.20741989\n",
            "Starting epoch 91\n",
            "Train Pass Completed\n",
            "Epoch [91/100],Train Loss: 0.0480, Valid Loss: 0.20795676\n",
            "Starting epoch 92\n",
            "Train Pass Completed\n",
            "Epoch [92/100],Train Loss: 0.0479, Valid Loss: 0.20898160\n",
            "Starting epoch 93\n",
            "Train Pass Completed\n",
            "Epoch [93/100],Train Loss: 0.0482, Valid Loss: 0.20987847\n",
            "Starting epoch 94\n",
            "Train Pass Completed\n",
            "Epoch [94/100],Train Loss: 0.0475, Valid Loss: 0.21066970\n",
            "Starting epoch 95\n",
            "Train Pass Completed\n",
            "Epoch [95/100],Train Loss: 0.0472, Valid Loss: 0.21056829\n",
            "Starting epoch 96\n",
            "Train Pass Completed\n",
            "Epoch [96/100],Train Loss: 0.0468, Valid Loss: 0.21230844\n",
            "Starting epoch 97\n",
            "Train Pass Completed\n",
            "Epoch [97/100],Train Loss: 0.0466, Valid Loss: 0.21109337\n",
            "Starting epoch 98\n",
            "Train Pass Completed\n",
            "Epoch [98/100],Train Loss: 0.0463, Valid Loss: 0.21447960\n",
            "Starting epoch 99\n",
            "Train Pass Completed\n",
            "Epoch [99/100],Train Loss: 0.0464, Valid Loss: 0.21214281\n",
            "Starting epoch 100\n",
            "Train Pass Completed\n",
            "Epoch [100/100],Train Loss: 0.0458, Valid Loss: 0.21399109\n",
            "Finished Training\n"
          ]
        }
      ],
      "source": [
        "GRU_reg = GRURegressor(25,192,10,device='cuda:0').cuda()\n",
        "\n",
        "#optimizer = torch.optim.SGD(GRU_reg.parameters(), lr=0.01, momentum=0.9)\n",
        "optimizer = torch.optim.Adam(GRU_reg.parameters(), lr= 6e-4, weight_decay = 0.01)\n",
        "num_epochs = 100\n",
        "save_name = f'GRU_reg.pt'\n",
        "criterion = nn.MSELoss()\n",
        "\n",
        "obtained_train_loss, obtained_val_loss = train(GRU_reg, \n",
        "                                                      train_loader, valid_loader, criterion, num_epochs, save_name)"
      ]
    },
    {
      "cell_type": "markdown",
      "id": "d5fb3b29",
      "metadata": {
        "id": "d5fb3b29"
      },
      "source": [
        "# Evaluation"
      ]
    },
    {
      "cell_type": "code",
      "execution_count": null,
      "id": "bf5fa1b4",
      "metadata": {
        "id": "bf5fa1b4"
      },
      "outputs": [],
      "source": [
        "#todo"
      ]
    },
    {
      "cell_type": "code",
      "execution_count": 145,
      "id": "ed4a1a12",
      "metadata": {
        "id": "ed4a1a12"
      },
      "outputs": [],
      "source": [
        "#Evaluating on the validation set\n",
        "\n",
        "def evaluate(model, test_loader,device='cpu'):\n",
        "    val_running_loss = 0.0\n",
        "    preds = []\n",
        "    actual = []\n",
        "    with torch.no_grad():\n",
        "        model.eval()\n",
        "        for val_data, val_targets in test_loader:\n",
        "            input_tensor = val_data.to(device)\n",
        "            outputs = model.forward(input_tensor)\n",
        "            preds.append(outputs)\n",
        "            actual.append(val_targets)\n",
        "            loss = criterion(outputs,val_targets.to(device))\n",
        "            val_running_loss += loss\n",
        "\n",
        "        avg_val_loss = val_running_loss / len(test_loader)\n",
        "        print(\"Average Test Loss: {:4f}\".format(avg_val_loss))\n",
        "        return preds,actual"
      ]
    },
    {
      "cell_type": "code",
      "execution_count": null,
      "id": "2280031f",
      "metadata": {
        "id": "2280031f",
        "outputId": "f854ec77-b7d9-4fd7-a25f-8863d73e5cfb"
      },
      "outputs": [
        {
          "name": "stdout",
          "output_type": "stream",
          "text": [
            "Average Test Loss: 0.176486\n"
          ]
        }
      ],
      "source": [
        "#Model Evaluation\n",
        "#LSTMRegressor\n",
        "model = LSTMRegressor(25,192,10,'cpu')\n",
        "checkpoint = torch.load('LSTM_reg.pt', map_location = 'cpu')\n",
        "model.load_state_dict(checkpoint['model_dict'])\n",
        "\n",
        "preds,actual = evaluate(model, test_loader)"
      ]
    },
    {
      "cell_type": "code",
      "source": [
        "#Model Evaluation\n",
        "# #GRURegressor\n",
        "# model = GRURegressor(25,192,10,'cuda')\n",
        "# # checkpoint = torch.load('LSTM_reg.pt', map_location = 'cpu')\n",
        "# # model.load_state_dict(checkpoint['model_dict'])\n",
        "\n",
        "preds,actual = evaluate(GRU_reg, test_loader)"
      ],
      "metadata": {
        "colab": {
          "base_uri": "https://localhost:8080/",
          "height": 745
        },
        "id": "Ri9rOxryJR-D",
        "outputId": "81a76c30-e28d-4a03-cde4-805e6fa8d7be"
      },
      "id": "Ri9rOxryJR-D",
      "execution_count": 147,
      "outputs": [
        {
          "output_type": "error",
          "ename": "RuntimeError",
          "evalue": "ignored",
          "traceback": [
            "\u001b[0;31m---------------------------------------------------------------------------\u001b[0m",
            "\u001b[0;31mRuntimeError\u001b[0m                              Traceback (most recent call last)",
            "\u001b[0;32m<ipython-input-147-9a59085d4f2a>\u001b[0m in \u001b[0;36m<module>\u001b[0;34m()\u001b[0m\n\u001b[1;32m      5\u001b[0m \u001b[0;31m# # model.load_state_dict(checkpoint['model_dict'])\u001b[0m\u001b[0;34m\u001b[0m\u001b[0;34m\u001b[0m\u001b[0;34m\u001b[0m\u001b[0m\n\u001b[1;32m      6\u001b[0m \u001b[0;34m\u001b[0m\u001b[0m\n\u001b[0;32m----> 7\u001b[0;31m \u001b[0mpreds\u001b[0m\u001b[0;34m,\u001b[0m\u001b[0mactual\u001b[0m \u001b[0;34m=\u001b[0m \u001b[0mevaluate\u001b[0m\u001b[0;34m(\u001b[0m\u001b[0mGRU_reg\u001b[0m\u001b[0;34m,\u001b[0m \u001b[0mtest_loader\u001b[0m\u001b[0;34m)\u001b[0m\u001b[0;34m\u001b[0m\u001b[0;34m\u001b[0m\u001b[0m\n\u001b[0m",
            "\u001b[0;32m<ipython-input-145-0192225a2d2e>\u001b[0m in \u001b[0;36mevaluate\u001b[0;34m(model, test_loader, device)\u001b[0m\n\u001b[1;32m      9\u001b[0m         \u001b[0;32mfor\u001b[0m \u001b[0mval_data\u001b[0m\u001b[0;34m,\u001b[0m \u001b[0mval_targets\u001b[0m \u001b[0;32min\u001b[0m \u001b[0mtest_loader\u001b[0m\u001b[0;34m:\u001b[0m\u001b[0;34m\u001b[0m\u001b[0;34m\u001b[0m\u001b[0m\n\u001b[1;32m     10\u001b[0m             \u001b[0minput_tensor\u001b[0m \u001b[0;34m=\u001b[0m \u001b[0mval_data\u001b[0m\u001b[0;34m.\u001b[0m\u001b[0mto\u001b[0m\u001b[0;34m(\u001b[0m\u001b[0mdevice\u001b[0m\u001b[0;34m)\u001b[0m\u001b[0;34m\u001b[0m\u001b[0;34m\u001b[0m\u001b[0m\n\u001b[0;32m---> 11\u001b[0;31m             \u001b[0moutputs\u001b[0m \u001b[0;34m=\u001b[0m \u001b[0mmodel\u001b[0m\u001b[0;34m.\u001b[0m\u001b[0mforward\u001b[0m\u001b[0;34m(\u001b[0m\u001b[0minput_tensor\u001b[0m\u001b[0;34m)\u001b[0m\u001b[0;34m\u001b[0m\u001b[0;34m\u001b[0m\u001b[0m\n\u001b[0m\u001b[1;32m     12\u001b[0m             \u001b[0mpreds\u001b[0m\u001b[0;34m.\u001b[0m\u001b[0mappend\u001b[0m\u001b[0;34m(\u001b[0m\u001b[0moutputs\u001b[0m\u001b[0;34m)\u001b[0m\u001b[0;34m\u001b[0m\u001b[0;34m\u001b[0m\u001b[0m\n\u001b[1;32m     13\u001b[0m             \u001b[0mactual\u001b[0m\u001b[0;34m.\u001b[0m\u001b[0mappend\u001b[0m\u001b[0;34m(\u001b[0m\u001b[0mval_targets\u001b[0m\u001b[0;34m)\u001b[0m\u001b[0;34m\u001b[0m\u001b[0;34m\u001b[0m\u001b[0m\n",
            "\u001b[0;32m<ipython-input-134-401a78eba644>\u001b[0m in \u001b[0;36mforward\u001b[0;34m(self, batch_input)\u001b[0m\n\u001b[1;32m     31\u001b[0m \u001b[0;34m\u001b[0m\u001b[0m\n\u001b[1;32m     32\u001b[0m         \u001b[0;31m# Feed packed input sequence to lstm\u001b[0m\u001b[0;34m\u001b[0m\u001b[0;34m\u001b[0m\u001b[0;34m\u001b[0m\u001b[0m\n\u001b[0;32m---> 33\u001b[0;31m         \u001b[0mhidden1\u001b[0m \u001b[0;34m=\u001b[0m \u001b[0mself\u001b[0m\u001b[0;34m.\u001b[0m\u001b[0mrnn\u001b[0m\u001b[0;34m(\u001b[0m\u001b[0mbatch_input\u001b[0m\u001b[0;34m,\u001b[0m\u001b[0mhidden0\u001b[0m\u001b[0;34m)\u001b[0m\u001b[0;34m\u001b[0m\u001b[0;34m\u001b[0m\u001b[0m\n\u001b[0m\u001b[1;32m     34\u001b[0m         \u001b[0mhidden2\u001b[0m \u001b[0;34m=\u001b[0m \u001b[0mself\u001b[0m\u001b[0;34m.\u001b[0m\u001b[0mrnn\u001b[0m\u001b[0;34m(\u001b[0m\u001b[0mbatch_input\u001b[0m\u001b[0;34m,\u001b[0m \u001b[0mhidden1\u001b[0m\u001b[0;34m)\u001b[0m\u001b[0;34m\u001b[0m\u001b[0;34m\u001b[0m\u001b[0m\n\u001b[1;32m     35\u001b[0m         \u001b[0mhidden3\u001b[0m \u001b[0;34m=\u001b[0m \u001b[0mself\u001b[0m\u001b[0;34m.\u001b[0m\u001b[0mrnn\u001b[0m\u001b[0;34m(\u001b[0m\u001b[0mbatch_input\u001b[0m\u001b[0;34m,\u001b[0m \u001b[0mhidden2\u001b[0m\u001b[0;34m)\u001b[0m\u001b[0;34m\u001b[0m\u001b[0;34m\u001b[0m\u001b[0m\n",
            "\u001b[0;32m/usr/local/lib/python3.7/dist-packages/torch/nn/modules/module.py\u001b[0m in \u001b[0;36m_call_impl\u001b[0;34m(self, *input, **kwargs)\u001b[0m\n\u001b[1;32m   1108\u001b[0m         if not (self._backward_hooks or self._forward_hooks or self._forward_pre_hooks or _global_backward_hooks\n\u001b[1;32m   1109\u001b[0m                 or _global_forward_hooks or _global_forward_pre_hooks):\n\u001b[0;32m-> 1110\u001b[0;31m             \u001b[0;32mreturn\u001b[0m \u001b[0mforward_call\u001b[0m\u001b[0;34m(\u001b[0m\u001b[0;34m*\u001b[0m\u001b[0minput\u001b[0m\u001b[0;34m,\u001b[0m \u001b[0;34m**\u001b[0m\u001b[0mkwargs\u001b[0m\u001b[0;34m)\u001b[0m\u001b[0;34m\u001b[0m\u001b[0;34m\u001b[0m\u001b[0m\n\u001b[0m\u001b[1;32m   1111\u001b[0m         \u001b[0;31m# Do not call functions when jit is used\u001b[0m\u001b[0;34m\u001b[0m\u001b[0;34m\u001b[0m\u001b[0;34m\u001b[0m\u001b[0m\n\u001b[1;32m   1112\u001b[0m         \u001b[0mfull_backward_hooks\u001b[0m\u001b[0;34m,\u001b[0m \u001b[0mnon_full_backward_hooks\u001b[0m \u001b[0;34m=\u001b[0m \u001b[0;34m[\u001b[0m\u001b[0;34m]\u001b[0m\u001b[0;34m,\u001b[0m \u001b[0;34m[\u001b[0m\u001b[0;34m]\u001b[0m\u001b[0;34m\u001b[0m\u001b[0;34m\u001b[0m\u001b[0m\n",
            "\u001b[0;32m/usr/local/lib/python3.7/dist-packages/torch/nn/modules/rnn.py\u001b[0m in \u001b[0;36mforward\u001b[0;34m(self, input, hx)\u001b[0m\n\u001b[1;32m   1268\u001b[0m             \u001b[0minput\u001b[0m\u001b[0;34m,\u001b[0m \u001b[0mhx\u001b[0m\u001b[0;34m,\u001b[0m\u001b[0;34m\u001b[0m\u001b[0;34m\u001b[0m\u001b[0m\n\u001b[1;32m   1269\u001b[0m             \u001b[0mself\u001b[0m\u001b[0;34m.\u001b[0m\u001b[0mweight_ih\u001b[0m\u001b[0;34m,\u001b[0m \u001b[0mself\u001b[0m\u001b[0;34m.\u001b[0m\u001b[0mweight_hh\u001b[0m\u001b[0;34m,\u001b[0m\u001b[0;34m\u001b[0m\u001b[0;34m\u001b[0m\u001b[0m\n\u001b[0;32m-> 1270\u001b[0;31m             \u001b[0mself\u001b[0m\u001b[0;34m.\u001b[0m\u001b[0mbias_ih\u001b[0m\u001b[0;34m,\u001b[0m \u001b[0mself\u001b[0m\u001b[0;34m.\u001b[0m\u001b[0mbias_hh\u001b[0m\u001b[0;34m,\u001b[0m\u001b[0;34m\u001b[0m\u001b[0;34m\u001b[0m\u001b[0m\n\u001b[0m\u001b[1;32m   1271\u001b[0m         )\n\u001b[1;32m   1272\u001b[0m \u001b[0;34m\u001b[0m\u001b[0m\n",
            "\u001b[0;31mRuntimeError\u001b[0m: Expected all tensors to be on the same device, but found at least two devices, cuda:0 and cpu! (when checking argument for argument mat1 in method wrapper_addmm)"
          ]
        }
      ]
    },
    {
      "cell_type": "code",
      "execution_count": null,
      "id": "1a334b02",
      "metadata": {
        "id": "1a334b02"
      },
      "outputs": [],
      "source": [
        "def plot_positions(preds_sample, actual_sample):\n",
        "\n",
        "    fig = plt.figure()\n",
        "    axes = plt.gca()\n",
        "    axes.set_xlim([-5., 5.])\n",
        "    axes.set_ylim([-5., 5.])\n",
        "    colors = ['red', 'blue', 'green', 'orange', 'brown']\n",
        "    for i in range(5):\n",
        "        plt.plot(preds_sample[i],preds_sample[i+5],'o',color=colors[i])\n",
        "        plt.plot(actual_sample[i],actual_sample[i+5],'x',color=colors[i])\n",
        "    fig.set_size_inches(7, 7)\n",
        "    plt.legend()\n",
        "    \n",
        "    plt.show()\n",
        "    return"
      ]
    },
    {
      "cell_type": "code",
      "execution_count": null,
      "id": "3a8240f1",
      "metadata": {
        "id": "3a8240f1",
        "outputId": "03ec6411-7f02-4a8c-cd83-3c5fbc6de231"
      },
      "outputs": [
        {
          "name": "stderr",
          "output_type": "stream",
          "text": [
            "No artists with labels found to put in legend.  Note that artists whose label start with an underscore are ignored when legend() is called with no argument.\n"
          ]
        },
        {
          "data": {
            "image/png": "[encoded data removed]",
            "text/plain": [
              "<Figure size 504x504 with 1 Axes>"
            ]
          },
          "metadata": {
            "needs_background": "light"
          },
          "output_type": "display_data"
        }
      ],
      "source": [
        "plot_positions(preds[0][0][0], actual[0][0][0])"
      ]
    },
    {
      "cell_type": "code",
      "execution_count": null,
      "id": "a2561c4f",
      "metadata": {
        "id": "a2561c4f",
        "outputId": "20031dc3-2676-4c4c-81b0-836ad0289edf"
      },
      "outputs": [
        {
          "name": "stderr",
          "output_type": "stream",
          "text": [
            "No artists with labels found to put in legend.  Note that artists whose label start with an underscore are ignored when legend() is called with no argument.\n"
          ]
        },
        {
          "data": {
            "image/png": "[encoded data removed]",
            "text/plain": [
              "<Figure size 504x504 with 1 Axes>"
            ]
          },
          "metadata": {
            "needs_background": "light"
          },
          "output_type": "display_data"
        }
      ],
      "source": [
        "plot_positions(preds[0][0][1], actual[0][0][1])"
      ]
    },
    {
      "cell_type": "code",
      "execution_count": null,
      "id": "4666f578",
      "metadata": {
        "id": "4666f578",
        "outputId": "058aa6c7-618b-4a6f-abd3-ac2e9ef1ec49"
      },
      "outputs": [
        {
          "name": "stderr",
          "output_type": "stream",
          "text": [
            "No artists with labels found to put in legend.  Note that artists whose label start with an underscore are ignored when legend() is called with no argument.\n"
          ]
        },
        {
          "data": {
            "image/png": "[encoded data removed]",
            "text/plain": [
              "<Figure size 504x504 with 1 Axes>"
            ]
          },
          "metadata": {
            "needs_background": "light"
          },
          "output_type": "display_data"
        }
      ],
      "source": [
        "plot_positions(preds[0][0][2], actual[0][0][2])"
      ]
    },
    {
      "cell_type": "code",
      "execution_count": null,
      "id": "3cdac092",
      "metadata": {
        "id": "3cdac092"
      },
      "outputs": [],
      "source": [
        ""
      ]
    }
  ],
  "metadata": {
    "colab": {
      "name": "a2_skeleton-GRU.ipynb",
      "provenance": []
    },
    "kernelspec": {
      "display_name": "Python 3 (ipykernel)",
      "language": "python",
      "name": "python3"
    },
    "language_info": {
      "codemirror_mode": {
        "name": "ipython",
        "version": 3
      },
      "file_extension": ".py",
      "mimetype": "text/x-python",
      "name": "python",
      "nbconvert_exporter": "python",
      "pygments_lexer": "ipython3",
      "version": "3.8.12"
    },
    "accelerator": "GPU"
  },
  "nbformat": 4,
  "nbformat_minor": 5
}