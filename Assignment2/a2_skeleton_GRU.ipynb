{
 "cells": [
  {
   "cell_type": "markdown",
   "id": "730fd591",
   "metadata": {
    "id": "730fd591"
   },
   "source": [
    "<a href=\"https://colab.research.google.com/github/vlamen/tue-deeplearning/blob/main/assignments/assignment_2_3/a2_skeleton.ipynb\" target=\"_parent\"><img src=\"https://colab.research.google.com/assets/colab-badge.svg\" alt=\"Open In Colab\"/></a>"
   ]
  },
  {
   "cell_type": "markdown",
   "id": "d32f8d18",
   "metadata": {
    "id": "d32f8d18"
   },
   "source": [
    "# Group Number:\n",
    "\n",
    "# Student 1:\n",
    "\n",
    "# Student 2:\n",
    "\n",
    "# Student 3:"
   ]
  },
  {
   "cell_type": "markdown",
   "id": "faec2056",
   "metadata": {
    "id": "faec2056"
   },
   "source": [
    "# Downloading Data and Preliminaries"
   ]
  },
  {
   "cell_type": "code",
   "execution_count": 38,
   "id": "7d0580a5",
   "metadata": {
    "id": "7d0580a5"
   },
   "outputs": [],
   "source": [
    "import pickle\n",
    "import matplotlib.pyplot as plt\n",
    "import matplotlib\n",
    "import numpy as np\n",
    "import torch\n",
    "from zipfile import ZipFile\n",
    "import requests\n",
    "import io"
   ]
  },
  {
   "cell_type": "code",
   "execution_count": 39,
   "id": "b0756591",
   "metadata": {
    "id": "b0756591"
   },
   "outputs": [],
   "source": [
    "def load_zip(url):\n",
    "    response = requests.get(url)\n",
    "    response.raise_for_status()\n",
    "    zipf = ZipFile(io.BytesIO(response.content))\n",
    "    return {name: zipf.read(name) for name in zipf.namelist()}\n",
    "\n",
    "def load_array(zipfile, fn):\n",
    "    return np.load(io.BytesIO(zipfile[fn]))"
   ]
  },
  {
   "cell_type": "code",
   "execution_count": 40,
   "id": "bb77a4be",
   "metadata": {
    "colab": {
     "base_uri": "https://localhost:8080/"
    },
    "id": "bb77a4be",
    "outputId": "6aed1650-3324-4c65-9692-fa3cd16f6a04"
   },
   "outputs": [
    {
     "name": "stdout",
     "output_type": "stream",
     "text": [
      "Shapes of the training data:\n",
      "\n",
      "positions: (10000, 4, 2, 5)\n",
      "velocities: (10000, 1, 2, 5)\n",
      "charges: (10000, 5, 1)\n"
     ]
    }
   ],
   "source": [
    "\"\"\"\n",
    "This cell loads the training, validation or test data as numpy arrays,\n",
    "with the positions, initial velocities and charge data of the particles.\n",
    "\n",
    "The position arrays are shaped as\n",
    "[simulation id, time point (corresponding to t = 0, 0.5, 1 or 1.5), x/y spatial dimension, particle id].\n",
    "\n",
    "The initial velocity arrays are shaped as\n",
    "[simulation id, 1 (corresponding to t=0), x/y spatial dimension, particle id].\n",
    "\n",
    "The charge arrays are shaped as [simulation id, particle id, 1]\n",
    "\n",
    "\"\"\"\n",
    "\n",
    "data = load_zip('https://surfdrive.surf.nl/files/index.php/s/OIgda2ZRG8v0eqB/download')\n",
    "\n",
    "features = ['positions', 'velocities', 'charges']\n",
    "    \n",
    "positions_train, velocities_train, charges_train = (load_array(data, f'data/train/{f}.npy') for f in features)\n",
    "positions_valid, velocities_valid, charges_valid = (load_array(data, f'data/valid/{f}.npy') for f in features)\n",
    "positions_test, velocities_test, charges_test = (load_array(data, f'data/test/{f}.npy') for f in features)\n",
    "\n",
    "print('Shapes of the training data:\\n')\n",
    "print(f'positions: {positions_train.shape}')\n",
    "print(f'velocities: {velocities_train.shape}')\n",
    "print(f'charges: {charges_train.shape}')"
   ]
  },
  {
   "cell_type": "code",
   "execution_count": 41,
   "id": "806d69c9",
   "metadata": {
    "colab": {
     "base_uri": "https://localhost:8080/"
    },
    "id": "806d69c9",
    "outputId": "d7f13e2b-bbc4-47fb-88df-97be4c867c65"
   },
   "outputs": [
    {
     "data": {
      "text/plain": [
       "(10000, 25)"
      ]
     },
     "execution_count": 41,
     "metadata": {},
     "output_type": "execute_result"
    }
   ],
   "source": [
    "a = positions_train[:,0,:,:] #initial positions\n",
    "a.reshape(10000,10)\n",
    "np.concatenate((a.reshape(10000,10),velocities_train.reshape(10000,10),charges_train.reshape(10000,5)),axis=1).shape"
   ]
  },
  {
   "cell_type": "code",
   "execution_count": 42,
   "id": "1c3ea4cb",
   "metadata": {
    "colab": {
     "base_uri": "https://localhost:8080/"
    },
    "id": "1c3ea4cb",
    "outputId": "f1e360f1-5408-4470-e9cf-7cfa193dfc62"
   },
   "outputs": [
    {
     "name": "stdout",
     "output_type": "stream",
     "text": [
      "An example of retrieving data from the arrays:\n",
      "\n",
      "\n",
      "In simulation 41 of the training set, particle 3 with charge 1.0 had coordinates [-3.64354499 -2.92196403].\n",
      "The initial velocity of this particle was [-0.63201981 -0.56448973].\n"
     ]
    }
   ],
   "source": [
    "print('An example of retrieving data from the arrays:\\n\\n')\n",
    "\n",
    "sim_idx = 41\n",
    "t_idx = 2  # t_idx 0, 1, 2, 3 corresponds to t=0, 0.5, 1 and 1.5 respectively\n",
    "spatial_idx = (0,1)  # corresponds to both x and y dimension\n",
    "particle_idx = 3  # corresponds to particle with index 3\n",
    "\n",
    "p = positions_train[sim_idx, t_idx, spatial_idx, particle_idx]\n",
    "v = velocities_train[sim_idx, 0, spatial_idx, particle_idx]  # note: this array contains only the inital velocity -> hence the 0\n",
    "c = charges_train[sim_idx, particle_idx, 0] \n",
    "\n",
    "print(\n",
    "    f'In simulation {sim_idx} of the training set, particle {particle_idx} with charge {c} had coordinates {p}.\\nThe initial velocity of this particle was {v}.'\n",
    ")"
   ]
  },
  {
   "cell_type": "code",
   "execution_count": 43,
   "id": "10a3438a",
   "metadata": {
    "colab": {
     "base_uri": "https://localhost:8080/"
    },
    "id": "10a3438a",
    "outputId": "d134bb0c-78c1-499d-fa95-c76b3a09a43c"
   },
   "outputs": [
    {
     "name": "stdout",
     "output_type": "stream",
     "text": [
      "Overview of no. datapoints:\n",
      "\n",
      "10000 train, 2000 validation, 2000 test simulations\n"
     ]
    }
   ],
   "source": [
    "print('Overview of no. datapoints:\\n')\n",
    "\n",
    "print(f'{len(positions_train)} train, {len(positions_valid)} validation, {len(positions_test)} test simulations')"
   ]
  },
  {
   "cell_type": "code",
   "execution_count": 44,
   "id": "f9106543",
   "metadata": {
    "id": "f9106543"
   },
   "outputs": [],
   "source": [
    "def plot_example(pos, vel):\n",
    "\n",
    "    fig = plt.figure()\n",
    "    axes = plt.gca()\n",
    "    axes.set_xlim([-5., 5.])\n",
    "    axes.set_ylim([-5., 5.])\n",
    "    colors = ['red', 'blue', 'green', 'orange', 'brown']\n",
    "    for i in range(pos.shape[-1]):\n",
    "        plt.plot(pos[0, 0, i], pos[0, 1, i], 'd', color=colors[i])\n",
    "        plt.plot(pos[-1, 0, i], pos[-1, 1, i], 'x', color=colors[i])\n",
    "        plt.plot([pos[0, 0, i], pos[0, 0, i] + vel[0, 0, i]], [pos[0, 1, i], pos[0, 1, i] + vel[0, 1, i]], '--', color=colors[i])\n",
    "    fig.set_size_inches(7, 7)\n",
    "    plt.xlim(np.min(pos)-1, np.max(pos) +1)\n",
    "    plt.ylim(np.min(pos)-1, np.max(pos) +1)\n",
    "    plt.plot([], [], 'd', color='black', label='initial position')\n",
    "    plt.plot([], [], 'x', color='black', label='final position')\n",
    "    plt.plot([], [], '--', color='black', label='initial velocity \\ndirection and magnitude')\n",
    "    plt.legend()\n",
    "    \n",
    "    plt.show()\n",
    "    return"
   ]
  },
  {
   "cell_type": "code",
   "execution_count": 45,
   "id": "d28681a6",
   "metadata": {
    "colab": {
     "base_uri": "https://localhost:8080/",
     "height": 428
    },
    "id": "d28681a6",
    "outputId": "29df9559-c3bb-4921-9f90-3f22754eec21"
   },
   "outputs": [
    {
     "data": {
      "image/png": "[encoded data removed]",
      "text/plain": [
       "<Figure size 504x504 with 1 Axes>"
      ]
     },
     "metadata": {
      "needs_background": "light"
     },
     "output_type": "display_data"
    }
   ],
   "source": [
    "random_idx = np.random.randint(0, 10000)\n",
    "plot_example(positions_train[random_idx], velocities_train[random_idx])"
   ]
  },
  {
   "cell_type": "markdown",
   "id": "059b633c",
   "metadata": {
    "id": "059b633c"
   },
   "source": [
    "# Data Handling and Preprocessing"
   ]
  },
  {
   "cell_type": "code",
   "execution_count": 46,
   "id": "e6ecb529",
   "metadata": {
    "id": "e6ecb529"
   },
   "outputs": [],
   "source": [
    "#todo\n",
    "from torch.utils.data import Dataset, DataLoader,TensorDataset\n",
    "device = torch.device('cuda:0' if torch.cuda.is_available() else 'cpu')"
   ]
  },
  {
   "cell_type": "code",
   "execution_count": 47,
   "id": "f8633eb8",
   "metadata": {
    "id": "f8633eb8"
   },
   "outputs": [],
   "source": [
    "\n",
    "class DatasetClass(Dataset):\n",
    "    def __init__(self, positions, velocities,charges):\n",
    "        \n",
    "        (samples,seq_length,dim,length) = positions.shape\n",
    "        # Get the initial positions\n",
    "        init_pos = positions[:,0,:,:]\n",
    "        init_pos = init_pos.reshape(samples,dim*length) # Flatten x,y to a single list [x1,x2...,x5,y1,y2...,y5]\n",
    "        # Get the initial velocities\n",
    "        init_vel = velocities.reshape(samples,dim*length) # Flatten x,y to a single list [x1,x2...,x5,y1,y2...,y5]\n",
    "        # Get the charges\n",
    "        c = charges.reshape(samples,length) # Flatten (samples,1,length) -> (samples,length)\n",
    "        # Create the feature array using initial state\n",
    "        features = np.concatenate((init_pos,init_vel,c),axis=1) # Concatenate initial information to a feature array\n",
    "        \n",
    "        #Create targets using positions in timesteps after the initial one and flattening the dimensions to a single list\n",
    "        targets = positions[:,1:,:,:].reshape(samples,seq_length - 1, dim*length)\n",
    "        \n",
    "        self.data = torch.FloatTensor(features)\n",
    "        self.targets = torch.FloatTensor(targets)\n",
    "        # Sanity checks\n",
    "        assert features.shape == (samples,dim*length*2 + length)\n",
    "        assert targets.shape == (samples,seq_length - 1, dim*length)\n",
    "        \n",
    "        \n",
    "    def __getitem__(self, index):\n",
    "        x = self.data[index]\n",
    "        y = self.targets[index]\n",
    "        \n",
    "\n",
    "        return x, y\n",
    "    \n",
    "    def __len__(self):\n",
    "        return len(self.data)"
   ]
  },
  {
   "cell_type": "code",
   "execution_count": 48,
   "id": "0a99a32b",
   "metadata": {
    "id": "0a99a32b"
   },
   "outputs": [],
   "source": [
    "train_dataset = DatasetClass(positions_train,velocities_train,charges_train)\n",
    "train_loader = torch.utils.data.DataLoader(train_dataset, batch_size=10)\n",
    "valid_dataset = DatasetClass(positions_valid, velocities_valid, charges_valid)\n",
    "valid_loader = torch.utils.data.DataLoader(valid_dataset, batch_size=10)\n",
    "test_dataset = DatasetClass(positions_test, velocities_test, charges_test)\n",
    "test_loader = torch.utils.data.DataLoader(test_dataset, batch_size=10)"
   ]
  },
  {
   "cell_type": "code",
   "execution_count": 49,
   "id": "4f374bf5",
   "metadata": {},
   "outputs": [],
   "source": [
    "(samples,seq_length,dim,length) = positions_train.shape"
   ]
  },
  {
   "cell_type": "code",
   "execution_count": 50,
   "id": "f8989778",
   "metadata": {},
   "outputs": [],
   "source": [
    "targets = positions_train[:,1:,:,:].reshape(samples,seq_length - 1, dim*length)"
   ]
  },
  {
   "cell_type": "code",
   "execution_count": 51,
   "id": "7793a23e",
   "metadata": {},
   "outputs": [
    {
     "data": {
      "text/plain": [
       "array([[ 0.20275621, -0.09287614,  3.13582874, -6.67044224,  1.79558588,\n",
       "         2.82540352,  2.54152036,  4.21648961, -1.49408475, -4.11267455],\n",
       "       [ 0.18656955, -0.08531744,  3.56395553, -7.61199699,  2.0872225 ,\n",
       "         2.7166505 ,  2.87627957,  4.79821815, -1.70655192, -4.7756141 ],\n",
       "       [ 0.00895949,  0.08339222,  3.99405454, -8.55714326,  2.38074794,\n",
       "         2.77698615,  3.04236226,  5.38284044, -1.91909093, -5.44178286]])"
      ]
     },
     "execution_count": 51,
     "metadata": {},
     "output_type": "execute_result"
    }
   ],
   "source": [
    "targets[1]"
   ]
  },
  {
   "cell_type": "markdown",
   "id": "18b2874d",
   "metadata": {
    "id": "18b2874d"
   },
   "source": [
    "# Model Implementation"
   ]
  },
  {
   "cell_type": "code",
   "execution_count": 52,
   "id": "66774050",
   "metadata": {
    "id": "66774050"
   },
   "outputs": [],
   "source": [
    "#todo"
   ]
  },
  {
   "cell_type": "markdown",
   "id": "116991a2",
   "metadata": {
    "id": "116991a2"
   },
   "source": [
    "![title](lstm.png)"
   ]
  },
  {
   "cell_type": "code",
   "execution_count": 53,
   "id": "ba598378",
   "metadata": {
    "id": "ba598378"
   },
   "outputs": [],
   "source": [
    "from torch import nn\n",
    "class LSTMRegressor(nn.Module):\n",
    "\n",
    "    def __init__(self, input_dim, hidden_dim,output_dim,device):\n",
    "        super(LSTMRegressor, self).__init__()\n",
    "        \n",
    "        self.input_dim = input_dim\n",
    "        self.hidden_dim = hidden_dim\n",
    "        self.device = device\n",
    "    \n",
    "        self.rnn = nn.LSTMCell(input_dim, hidden_dim)\n",
    "        \n",
    "        self.fc1 = nn.Linear(hidden_dim, hidden_dim)\n",
    "        self.fc2 = nn.Linear(hidden_dim, output_dim)\n",
    "        \n",
    "        #self.drop = nn.Dropout(p=0.5)\n",
    "        \n",
    "        self.criterion = nn.MSELoss()\n",
    "        \n",
    "        self.optimizer = torch.optim.Adam(self.parameters())\n",
    "        \n",
    "\n",
    "    def forward(self, batch_input):\n",
    "        \n",
    "        # input shapes:\n",
    "        # batch_input: [batch_size, seq_length, input_shape]\n",
    "        \n",
    "        # Generate initial hidden and cell states\n",
    "        hidden0 = torch.randn(batch_input.shape[0], self.hidden_dim).to(self.device)\n",
    "        c0 = torch.randn(batch_input.shape[0], self.hidden_dim).to(self.device)\n",
    "        \n",
    "        # Feed packed input sequence to lstm \n",
    "        hidden1, c1 = self.rnn(batch_input,(hidden0,c0))\n",
    "        hidden2, c2 = self.rnn(batch_input,(hidden1,c1)) # Feed same input to all for now\n",
    "        hidden3, c3 = self.rnn(batch_input,(hidden2,c2)) # Feed same input to all for now\n",
    "        \n",
    "        \n",
    "        # retrieve final hidden output of last timestep for each sequence\n",
    "        # shape [batch_size, hidden_dim]\n",
    "        #last_timestep = out[:,-1]\n",
    "        \n",
    "        # apply dropout\n",
    "        #self.drop(last_timestep)\n",
    "        \n",
    "        # feed lstm output to MLP, apply ReLU nonlinearity\n",
    "        # shape [batch_size, hidden_dim]\n",
    "        h1 = nn.ReLU()(self.fc1(hidden1))\n",
    "        output1 = self.fc2(h1)\n",
    "        h2 = nn.ReLU()(self.fc1(hidden2))\n",
    "        output2 = self.fc2(h2)\n",
    "        h3 = nn.ReLU()(self.fc1(hidden3))\n",
    "        output3 = self.fc2(h3)\n",
    "        #h = nn.ReLU()(h)\n",
    "        \n",
    "        y_preds = torch.stack((output1,output2,output3),axis=1) # (Batch_size,3,dim * length)\n",
    "        return y_preds"
   ]
  },
  {
   "cell_type": "code",
   "execution_count": 55,
   "id": "fa7b0450",
   "metadata": {},
   "outputs": [],
   "source": [
    "model = LSTMRegressor(25,192,10,device='cpu')\n",
    "criterion = nn.MSELoss()\n",
    "for train_data, targets in train_loader:\n",
    "    # Forward\n",
    "    input_tensor = train_data.to(device)\n",
    "    outputs = model.forward(input_tensor)\n",
    "    loss = (outputs,targets.to(device))\n"
   ]
  },
  {
   "cell_type": "code",
   "execution_count": 29,
   "id": "5Xae53EHxauk",
   "metadata": {
    "id": "5Xae53EHxauk"
   },
   "outputs": [],
   "source": [
    "from torch import nn\n",
    "class GRURegressor(nn.Module):\n",
    "\n",
    "    def __init__(self, input_dim, hidden_dim,output_dim,device):\n",
    "        super(GRURegressor, self).__init__()\n",
    "        \n",
    "        self.input_dim = input_dim\n",
    "        self.hidden_dim = hidden_dim\n",
    "        self.device = device\n",
    "\n",
    "    \n",
    "        self.rnn = nn.GRUCell(input_dim, hidden_dim)\n",
    "        \n",
    "        self.fc1 = nn.Linear(hidden_dim, hidden_dim)\n",
    "        self.fc2 = nn.Linear(hidden_dim, output_dim)\n",
    "        \n",
    "        #self.drop = nn.Dropout(p=0.5)\n",
    "        \n",
    "#         self.criterion = nn.MSELoss()\n",
    "        \n",
    "#         self.optimizer = torch.optim.Adam(self.parameters())\n",
    "        \n",
    "\n",
    "    def forward(self, batch_input ):\n",
    "        \n",
    "        # input shapes:\n",
    "        # batch_input: [batch_size, seq_length, input_shape]\n",
    "        \n",
    "        # Generate initial hidden and cell states\n",
    "        hidden0 = torch.zeros(batch_input.shape[0], self.hidden_dim).to(self.device) \n",
    "        c0 = torch.randn(batch_input.shape[0], self.hidden_dim).to(self.device)\n",
    "       \n",
    "        # Feed packed input sequence to lstm \n",
    "        hidden1 = self.rnn(batch_input,hidden0)\n",
    "        hidden2 = self.rnn(batch_input, hidden1)\n",
    "        hidden3 = self.rnn(batch_input, hidden2)\n",
    "\n",
    "\n",
    "\n",
    "        \n",
    "        \n",
    "        # retrieve final hidden output of last timestep for each sequence\n",
    "        # shape [batch_size, hidden_dim]\n",
    "        #last_timestep = out[:,-1]\n",
    "        \n",
    "        # apply dropout\n",
    "        #self.drop(last_timestep)\n",
    "        \n",
    "        # feed lstm output to MLP, apply ReLU nonlinearity\n",
    "        # shape [batch_size, hidden_dim]\n",
    "        h1 = nn.ReLU()(self.fc1(hidden1))\n",
    "        output1 = self.fc2(h1)\n",
    "        h2 = nn.ReLU()(self.fc1(hidden2))\n",
    "        output2 = self.fc2(h2)\n",
    "        h3 = nn.ReLU()(self.fc1(hidden3))\n",
    "        output3 = self.fc2(h3)\n",
    "        #h = nn.ReLU()(h)\n",
    "        \n",
    "        y_preds = torch.stack((output1,output2,output3),axis=1) # (Batch_size,3,dim * length)\n",
    "        return y_preds"
   ]
  },
  {
   "cell_type": "markdown",
   "id": "b131f1cf",
   "metadata": {
    "id": "b131f1cf"
   },
   "source": [
    "![title](gru.png)\n",
    "![title](label.png)"
   ]
  },
  {
   "cell_type": "code",
   "execution_count": 18,
   "id": "4NwRkQ9SvrTX",
   "metadata": {
    "id": "4NwRkQ9SvrTX"
   },
   "outputs": [],
   "source": [
    "class GRU(nn.Module):\n",
    "  def __init__(self, input_size, hidden_size, output_size):\n",
    "    super(GRU, self).__init__()\n",
    "    self.input_size = input_size\n",
    "    self.hidden_size = hidden_size\n",
    "    self.gru = nn.GRU(input_size, hidden_size, num_layers = 1, batch_first = True )\n",
    "    self.fc1 = nn.Linear(hidden_size, hidden_size)\n",
    "    self.fc2 = nn.Linear(hidden_size, output_size)\n",
    "\n",
    "  def forward(self, batch_input, hidden_state):\n",
    "\n",
    "    out, state = self.gru(batch_input, hidden_state)\n",
    "\n",
    "    return hidden_state"
   ]
  },
  {
   "cell_type": "markdown",
   "id": "dea70d73",
   "metadata": {
    "id": "dea70d73"
   },
   "source": [
    "# Model Training"
   ]
  },
  {
   "cell_type": "code",
   "execution_count": 19,
   "id": "3af520ae",
   "metadata": {
    "id": "3af520ae"
   },
   "outputs": [],
   "source": [
    "def save_model_checkpoint(path, model, optimizer, val_loss, val_acc, train_acc, train_loss ):\n",
    "    if path == None:\n",
    "        return print(\"Kindly define a path\")\n",
    "    path = path\n",
    "    \n",
    "    save_dict = {\"model_dict\" : model.state_dict(), \n",
    "                 \"optimizer_dict\": optimizer.state_dict(),\n",
    "                 \"val_loss_dict\": val_loss,\n",
    "                 \"val_acc_dict\": val_acc,\n",
    "                 \"train_acc_dict\": train_acc,\n",
    "                 \"train_loss_dict\": train_loss}\n",
    "    torch.save(save_dict, path)\n",
    "    return print(\"Model Saved to ==> {}\".format(path))"
   ]
  },
  {
   "cell_type": "code",
   "execution_count": 20,
   "id": "e95af5f9",
   "metadata": {
    "id": "e95af5f9"
   },
   "outputs": [],
   "source": [
    "# training and validation after every epoch\n",
    "def train(model, train_loader, val_loader, criterion, num_epochs, save_name):\n",
    "    best_val_loss = float(\"Inf\") \n",
    "    train_losses = []\n",
    "    val_losses = []\n",
    "    train_acc = []\n",
    "    val_acc = []\n",
    "    cur_step = 0\n",
    "    train_pred = []\n",
    "    val_pred = []\n",
    "\n",
    "    for epoch in range(num_epochs):\n",
    "        running_loss = 0.0\n",
    "        running_train_acc = 0.0\n",
    "  \n",
    "        model.train()\n",
    "        print(\"Starting epoch \" + str(epoch+1))\n",
    "        for train_data, targets in train_loader:\n",
    "            \n",
    "           \n",
    "            # Forward\n",
    "            input_tensor = train_data.to(device)\n",
    "            outputs = model.forward(input_tensor)\n",
    "            loss = criterion(outputs,targets.to(device))\n",
    "            \n",
    "                \n",
    "            # Backward and optimize\n",
    "            optimizer.zero_grad()\n",
    "            loss.backward()\n",
    "            optimizer.step()   \n",
    "            running_loss += loss\n",
    "          \n",
    "\n",
    "        avg_train_loss = running_loss / len(train_loader)\n",
    "        train_losses.append(avg_train_loss)\n",
    "        print(\"Train Pass Completed\")\n",
    "\n",
    "        ########################################|Validation Set|#############################################\n",
    "        val_running_loss = 0.0\n",
    "        with torch.no_grad():\n",
    "            model.eval()\n",
    "            for val_data, val_targets in val_loader:\n",
    "                input_tensor = val_data.to(device)\n",
    "                outputs = model.forward(input_tensor)\n",
    "                loss = criterion(outputs,val_targets.to(device))\n",
    "                val_running_loss += loss\n",
    "\n",
    "        avg_val_loss = val_running_loss / len(val_loader)\n",
    "        val_losses.append(avg_val_loss)\n",
    "\n",
    "        \n",
    "        print('Epoch [{}/{}],Train Loss: {:.4f}, Valid Loss: {:.8f}' \n",
    "            .format(epoch+1, num_epochs, avg_train_loss, avg_val_loss))\n",
    "        if avg_val_loss < best_val_loss:\n",
    "            best_val_loss = avg_val_loss \n",
    "            save_model_checkpoint(save_name, model, optimizer, best_val_loss, 0, 0, avg_train_loss )\n",
    "    \n",
    "    print(\"Finished Training\") \n",
    "    return train_losses, val_losses\n",
    "     "
   ]
  },
  {
   "cell_type": "code",
   "execution_count": 41,
   "id": "f2378db3",
   "metadata": {},
   "outputs": [],
   "source": [
    "# training and validation after every epoch\n",
    "def train_hyper(model, train_loader, val_loader, criterion, num_epochs, save_name):\n",
    "    best_val_loss = float(\"Inf\") \n",
    "    train_losses = []\n",
    "    val_losses = []\n",
    "    train_acc = []\n",
    "    val_acc = []\n",
    "    cur_step = 0\n",
    "    train_pred = []\n",
    "    val_pred = []\n",
    "\n",
    "    for epoch in range(num_epochs):\n",
    "        running_loss = 0.0\n",
    "        running_train_acc = 0.0\n",
    "  \n",
    "        model.train()\n",
    "        #print(\"Starting epoch \" + str(epoch+1))\n",
    "        for train_data, targets in train_loader:\n",
    "            \n",
    "           \n",
    "            # Forward\n",
    "            input_tensor = train_data.to(device)\n",
    "            outputs = model.forward(input_tensor)\n",
    "            loss = criterion(outputs,targets.to(device))\n",
    "            \n",
    "                \n",
    "            # Backward and optimize\n",
    "            optimizer.zero_grad()\n",
    "            loss.backward()\n",
    "            optimizer.step()   \n",
    "            running_loss += loss\n",
    "          \n",
    "\n",
    "        avg_train_loss = running_loss / len(train_loader)\n",
    "        train_losses.append(avg_train_loss)\n",
    "        #print(\"Train Pass Completed\")\n",
    "\n",
    "        ########################################|Validation Set|#############################################\n",
    "        val_running_loss = 0.0\n",
    "        with torch.no_grad():\n",
    "            model.eval()\n",
    "            for val_data, val_targets in val_loader:\n",
    "                input_tensor = val_data.to(device)\n",
    "                outputs = model.forward(input_tensor)\n",
    "                loss = criterion(outputs,val_targets.to(device))\n",
    "                val_running_loss += loss\n",
    "\n",
    "        avg_val_loss = val_running_loss / len(val_loader)\n",
    "        val_losses.append(avg_val_loss)\n",
    "\n",
    "        \n",
    "        #print('Epoch [{}/{}],Train Loss: {:.4f}, Valid Loss: {:.8f}' \n",
    "            #.format(epoch+1, num_epochs, avg_train_loss, avg_val_loss))\n",
    "        if avg_val_loss < best_val_loss:\n",
    "            best_val_loss = avg_val_loss \n",
    "            save_model_checkpoint(save_name, model, optimizer, best_val_loss, 0, 0, avg_train_loss )\n",
    "    \n",
    "    print(\"Finished Training\") \n",
    "    return train_losses, val_losses\n",
    "     "
   ]
  },
  {
   "cell_type": "code",
   "execution_count": null,
   "id": "07e03ddf",
   "metadata": {
    "id": "07e03ddf"
   },
   "outputs": [],
   "source": [
    "LSTM_reg = LSTMRegressor(25,192,10,device='cuda:0').cuda()\n",
    "\n",
    "optimizer = torch.optim.SGD(LSTM_reg.parameters(), lr=0.01, momentum=0.9)\n",
    "num_epochs = 50\n",
    "save_name = f'LSTM_reg.pt'\n",
    "criterion = nn.MSELoss()\n",
    "\n",
    "obtained_train_loss, obtained_val_loss = train(LSTM_reg, \n",
    "                                                      train_loader, valid_loader, criterion, num_epochs, save_name)"
   ]
  },
  {
   "cell_type": "code",
   "execution_count": null,
   "id": "601b7e76",
   "metadata": {},
   "outputs": [],
   "source": [
    "##Evaluation of GRU"
   ]
  },
  {
   "cell_type": "code",
   "execution_count": null,
   "id": "614176b8",
   "metadata": {},
   "outputs": [],
   "source": [
    "GRU_reg = GRURegressor(25,192,10,device='cpu')\n",
    "\n",
    "#optimizer = torch.optim.SGD(GRU_reg.parameters(), lr=0.01, momentum=0.9)\n",
    "optimizer = torch.optim.Adam(GRU_reg.parameters(), lr= 6e-4)\n",
    "num_epochs = 50\n",
    "save_name = f'GRU_reg.pt'\n",
    "criterion = nn.MSELoss()\n",
    "\n",
    "obtained_train_loss, obtained_val_loss = train(GRU_reg, \n",
    "                                                      train_loader, valid_loader, criterion, num_epochs, save_name)"
   ]
  },
  {
   "cell_type": "code",
   "execution_count": 30,
   "id": "95ab5fce",
   "metadata": {
    "colab": {
     "base_uri": "https://localhost:8080/"
    },
    "id": "95ab5fce",
    "outputId": "2e2551cb-4187-4130-c524-a2ebdfbb42ed"
   },
   "outputs": [
    {
     "name": "stdout",
     "output_type": "stream",
     "text": [
      "Starting epoch 1\n",
      "Train Pass Completed\n",
      "Epoch [1/2],Train Loss: 1.1751, Valid Loss: 0.22538915\n",
      "Model Saved to ==> GRU_reg.pt\n",
      "Starting epoch 2\n"
     ]
    },
    {
     "ename": "KeyboardInterrupt",
     "evalue": "",
     "output_type": "error",
     "traceback": [
      "\u001b[0;31m---------------------------------------------------------------------------\u001b[0m",
      "\u001b[0;31mKeyboardInterrupt\u001b[0m                         Traceback (most recent call last)",
      "Input \u001b[0;32mIn [30]\u001b[0m, in \u001b[0;36m<module>\u001b[0;34m\u001b[0m\n\u001b[1;32m      6\u001b[0m save_name \u001b[38;5;241m=\u001b[39m \u001b[38;5;124mf\u001b[39m\u001b[38;5;124m'\u001b[39m\u001b[38;5;124mGRU_reg.pt\u001b[39m\u001b[38;5;124m'\u001b[39m\n\u001b[1;32m      7\u001b[0m criterion \u001b[38;5;241m=\u001b[39m nn\u001b[38;5;241m.\u001b[39mMSELoss()\n\u001b[0;32m----> 9\u001b[0m obtained_train_loss, obtained_val_loss \u001b[38;5;241m=\u001b[39m \u001b[43mtrain\u001b[49m\u001b[43m(\u001b[49m\u001b[43mGRU_reg\u001b[49m\u001b[43m,\u001b[49m\u001b[43m \u001b[49m\n\u001b[1;32m     10\u001b[0m \u001b[43m                                                      \u001b[49m\u001b[43mtrain_loader\u001b[49m\u001b[43m,\u001b[49m\u001b[43m \u001b[49m\u001b[43mvalid_loader\u001b[49m\u001b[43m,\u001b[49m\u001b[43m \u001b[49m\u001b[43mcriterion\u001b[49m\u001b[43m,\u001b[49m\u001b[43m \u001b[49m\u001b[43mnum_epochs\u001b[49m\u001b[43m,\u001b[49m\u001b[43m \u001b[49m\u001b[43msave_name\u001b[49m\u001b[43m)\u001b[49m\n",
      "Input \u001b[0;32mIn [20]\u001b[0m, in \u001b[0;36mtrain\u001b[0;34m(model, train_loader, val_loader, criterion, num_epochs, save_name)\u001b[0m\n\u001b[1;32m     27\u001b[0m \u001b[38;5;66;03m# Backward and optimize\u001b[39;00m\n\u001b[1;32m     28\u001b[0m optimizer\u001b[38;5;241m.\u001b[39mzero_grad()\n\u001b[0;32m---> 29\u001b[0m \u001b[43mloss\u001b[49m\u001b[38;5;241;43m.\u001b[39;49m\u001b[43mbackward\u001b[49m\u001b[43m(\u001b[49m\u001b[43m)\u001b[49m\n\u001b[1;32m     30\u001b[0m optimizer\u001b[38;5;241m.\u001b[39mstep()   \n\u001b[1;32m     31\u001b[0m running_loss \u001b[38;5;241m+\u001b[39m\u001b[38;5;241m=\u001b[39m loss\n",
      "File \u001b[0;32m~/anaconda3/lib/python3.8/site-packages/torch/_tensor.py:363\u001b[0m, in \u001b[0;36mTensor.backward\u001b[0;34m(self, gradient, retain_graph, create_graph, inputs)\u001b[0m\n\u001b[1;32m    354\u001b[0m \u001b[38;5;28;01mif\u001b[39;00m has_torch_function_unary(\u001b[38;5;28mself\u001b[39m):\n\u001b[1;32m    355\u001b[0m     \u001b[38;5;28;01mreturn\u001b[39;00m handle_torch_function(\n\u001b[1;32m    356\u001b[0m         Tensor\u001b[38;5;241m.\u001b[39mbackward,\n\u001b[1;32m    357\u001b[0m         (\u001b[38;5;28mself\u001b[39m,),\n\u001b[0;32m   (...)\u001b[0m\n\u001b[1;32m    361\u001b[0m         create_graph\u001b[38;5;241m=\u001b[39mcreate_graph,\n\u001b[1;32m    362\u001b[0m         inputs\u001b[38;5;241m=\u001b[39minputs)\n\u001b[0;32m--> 363\u001b[0m \u001b[43mtorch\u001b[49m\u001b[38;5;241;43m.\u001b[39;49m\u001b[43mautograd\u001b[49m\u001b[38;5;241;43m.\u001b[39;49m\u001b[43mbackward\u001b[49m\u001b[43m(\u001b[49m\u001b[38;5;28;43mself\u001b[39;49m\u001b[43m,\u001b[49m\u001b[43m \u001b[49m\u001b[43mgradient\u001b[49m\u001b[43m,\u001b[49m\u001b[43m \u001b[49m\u001b[43mretain_graph\u001b[49m\u001b[43m,\u001b[49m\u001b[43m \u001b[49m\u001b[43mcreate_graph\u001b[49m\u001b[43m,\u001b[49m\u001b[43m \u001b[49m\u001b[43minputs\u001b[49m\u001b[38;5;241;43m=\u001b[39;49m\u001b[43minputs\u001b[49m\u001b[43m)\u001b[49m\n",
      "File \u001b[0;32m~/anaconda3/lib/python3.8/site-packages/torch/autograd/__init__.py:173\u001b[0m, in \u001b[0;36mbackward\u001b[0;34m(tensors, grad_tensors, retain_graph, create_graph, grad_variables, inputs)\u001b[0m\n\u001b[1;32m    168\u001b[0m     retain_graph \u001b[38;5;241m=\u001b[39m create_graph\n\u001b[1;32m    170\u001b[0m \u001b[38;5;66;03m# The reason we repeat same the comment below is that\u001b[39;00m\n\u001b[1;32m    171\u001b[0m \u001b[38;5;66;03m# some Python versions print out the first line of a multi-line function\u001b[39;00m\n\u001b[1;32m    172\u001b[0m \u001b[38;5;66;03m# calls in the traceback and some print out the last line\u001b[39;00m\n\u001b[0;32m--> 173\u001b[0m \u001b[43mVariable\u001b[49m\u001b[38;5;241;43m.\u001b[39;49m\u001b[43m_execution_engine\u001b[49m\u001b[38;5;241;43m.\u001b[39;49m\u001b[43mrun_backward\u001b[49m\u001b[43m(\u001b[49m\u001b[43m  \u001b[49m\u001b[38;5;66;43;03m# Calls into the C++ engine to run the backward pass\u001b[39;49;00m\n\u001b[1;32m    174\u001b[0m \u001b[43m    \u001b[49m\u001b[43mtensors\u001b[49m\u001b[43m,\u001b[49m\u001b[43m \u001b[49m\u001b[43mgrad_tensors_\u001b[49m\u001b[43m,\u001b[49m\u001b[43m \u001b[49m\u001b[43mretain_graph\u001b[49m\u001b[43m,\u001b[49m\u001b[43m \u001b[49m\u001b[43mcreate_graph\u001b[49m\u001b[43m,\u001b[49m\u001b[43m \u001b[49m\u001b[43minputs\u001b[49m\u001b[43m,\u001b[49m\n\u001b[1;32m    175\u001b[0m \u001b[43m    \u001b[49m\u001b[43mallow_unreachable\u001b[49m\u001b[38;5;241;43m=\u001b[39;49m\u001b[38;5;28;43;01mTrue\u001b[39;49;00m\u001b[43m,\u001b[49m\u001b[43m \u001b[49m\u001b[43maccumulate_grad\u001b[49m\u001b[38;5;241;43m=\u001b[39;49m\u001b[38;5;28;43;01mTrue\u001b[39;49;00m\u001b[43m)\u001b[49m\n",
      "\u001b[0;31mKeyboardInterrupt\u001b[0m: "
     ]
    }
   ],
   "source": [
    "GRU_reg = GRURegressor(25,192,10,device='cpu')\n",
    "\n",
    "#optimizer = torch.optim.SGD(GRU_reg.parameters(), lr=0.01, momentum=0.9)\n",
    "optimizer = torch.optim.Adam(GRU_reg.parameters(), lr= 6e-4)\n",
    "num_epochs = 2\n",
    "save_name = f'GRU_reg.pt'\n",
    "criterion = nn.MSELoss()\n",
    "\n",
    "obtained_train_loss, obtained_val_loss = train(GRU_reg, \n",
    "                                                      train_loader, valid_loader, criterion, num_epochs, save_name)"
   ]
  },
  {
   "cell_type": "code",
   "execution_count": 39,
   "id": "dc3fb714",
   "metadata": {},
   "outputs": [],
   "source": [
    "#Hyperparameter Search\n",
    "learning_rate_list = np.logspace(-4,2, 7 )\n",
    "momentum_list = np.linspace(0,1, 7)\n",
    "GRU_reg = GRURegressor(25,192,10,device='cpu')\n",
    "\n",
    "train_matrix = np.zeros((7,7))\n",
    "val_matrix = np.zeros((7,7))\n",
    "\n",
    "\n",
    "best_train_loss_per_lr, best_train_loss_per_mom, best_val_loss_per_lr, best_val_loss_per_mom = [], [], [], []\n",
    "for mom in range(momentum_list):\n",
    "    for lr in range(leraning_rate_list):\n",
    "        optimizer = torch.optim.Adam(GRU_reg.parameters(), lr=leraning_rate_list[lr] , momentum = momentum_list[mom] )\n",
    "        num_epochs = 2\n",
    "        save_name = f'GRU_reg.pt'%lr\n",
    "        criterion = nn.MSELoss()\n",
    "        obtained_train_loss, obtained_val_loss = train_hyper(GRU_reg, \n",
    "                                                          train_loader, valid_loader, criterion, num_epochs, save_name)\n",
    "\n",
    "        converted_train_loss = [tensor.detach().item() for tensor in obtained_train_loss]\n",
    "        converted_val_loss = [tensor.detach().item() for tensor in obtained_val_loss]\n",
    "        \n",
    "        train_matrix[mom][lr] = converted_train_loss.min()\n",
    "        val_matrix[mom][lr] = converted_val_losses.min()"
   ]
  },
  {
   "cell_type": "code",
   "execution_count": null,
   "id": "dd84384b",
   "metadata": {},
   "outputs": [],
   "source": [
    "#hyperparameter search for GRU-ADAM"
   ]
  },
  {
   "cell_type": "markdown",
   "id": "d5fb3b29",
   "metadata": {
    "id": "d5fb3b29"
   },
   "source": [
    "# Evaluation"
   ]
  },
  {
   "cell_type": "code",
   "execution_count": 19,
   "id": "bf5fa1b4",
   "metadata": {
    "id": "bf5fa1b4"
   },
   "outputs": [],
   "source": [
    "#todo"
   ]
  },
  {
   "cell_type": "code",
   "execution_count": 50,
   "id": "11049e3d",
   "metadata": {},
   "outputs": [],
   "source": [
    "converted_train_loss = [tensor.detach().item() for tensor in obtained_train_loss]\n",
    "converted_val_loss = [tensor.detach().item() for tensor in obtained_val_loss]"
   ]
  },
  {
   "cell_type": "code",
   "execution_count": 53,
   "id": "e1e65e6a",
   "metadata": {},
   "outputs": [
    {
     "data": {
      "image/png": "[encoded data removed]",
      "text/plain": [
       "<Figure size 684x252 with 1 Axes>"
      ]
     },
     "metadata": {
      "needs_background": "light"
     },
     "output_type": "display_data"
    },
    {
     "data": {
      "text/plain": [
       "<Figure size 432x288 with 0 Axes>"
      ]
     },
     "metadata": {},
     "output_type": "display_data"
    }
   ],
   "source": [
    "fig = plt.gcf()\n",
    "fig.set_size_inches(9.5, 3.5)\n",
    "plt.plot(range(0,30),converted_train_loss, label = \"Training Loss\", color = \"blue\")\n",
    "plt.plot(range(0,30),converted_val_loss, label = \"Validation Loss\", color = \"red\")\n",
    "plt.title('Loss  Vs Epochs', fontsize=14)\n",
    "plt.xlabel('#Epochs', fontsize=14)\n",
    "plt.ylabel('Loss ', fontsize=14)\n",
    "plt.grid(True)\n",
    "plt.legend()\n",
    "plt.show()\n",
    "fig.savefig('Loss.png')\n",
    "fig = plt.gcf()"
   ]
  },
  {
   "cell_type": "code",
   "execution_count": 20,
   "id": "ed4a1a12",
   "metadata": {
    "id": "ed4a1a12"
   },
   "outputs": [],
   "source": [
    "#Evaluating on the validation set\n",
    "\n",
    "def evaluate(model, test_loader,device='cpu'):\n",
    "    val_running_loss = 0.0\n",
    "    preds = []\n",
    "    actual = []\n",
    "    with torch.no_grad():\n",
    "        model.eval()\n",
    "        for val_data, val_targets in test_loader:\n",
    "            input_tensor = val_data.to(device)\n",
    "            outputs = model.forward(input_tensor)\n",
    "            preds.append(outputs)\n",
    "            actual.append(val_targets)\n",
    "            loss = criterion(outputs,val_targets.to(device))\n",
    "            val_running_loss += loss\n",
    "\n",
    "        avg_val_loss = val_running_loss / len(test_loader)\n",
    "        print(\"Average Test Loss: {:4f}\".format(avg_val_loss))\n",
    "        return preds,actual"
   ]
  },
  {
   "cell_type": "code",
   "execution_count": 22,
   "id": "2280031f",
   "metadata": {
    "id": "2280031f",
    "outputId": "f854ec77-b7d9-4fd7-a25f-8863d73e5cfb"
   },
   "outputs": [
    {
     "name": "stdout",
     "output_type": "stream",
     "text": [
      "Average Test Loss: 0.153234\n"
     ]
    }
   ],
   "source": [
    "#Model Evaluation\n",
    "#LSTMRegressor\n",
    "model = GRURegressor(25,192,10,'cpu')\n",
    "checkpoint = torch.load('GRU_reg_Adam_100.pt', map_location = 'cpu')\n",
    "model.load_state_dict(checkpoint['model_dict'])\n",
    "criterion = nn.MSELoss()\n",
    "\n",
    "preds,actual = evaluate(model, test_loader)"
   ]
  },
  {
   "cell_type": "code",
   "execution_count": null,
   "id": "1a334b02",
   "metadata": {
    "id": "1a334b02"
   },
   "outputs": [],
   "source": [
    "def plot_positions(preds_sample, actual_sample):\n",
    "\n",
    "    fig = plt.figure()\n",
    "    axes = plt.gca()\n",
    "    axes.set_xlim([-5., 5.])\n",
    "    axes.set_ylim([-5., 5.])\n",
    "    colors = ['red', 'blue', 'green', 'orange', 'brown']\n",
    "    for i in range(5):\n",
    "        plt.plot(preds_sample[i],preds_sample[i+5],'o',color=colors[i])\n",
    "        plt.plot(actual_sample[i],actual_sample[i+5],'x',color=colors[i])\n",
    "    fig.set_size_inches(7, 7)\n",
    "    plt.legend()\n",
    "    \n",
    "    plt.show()\n",
    "    return"
   ]
  },
  {
   "cell_type": "code",
   "execution_count": null,
   "id": "3a8240f1",
   "metadata": {
    "id": "3a8240f1",
    "outputId": "03ec6411-7f02-4a8c-cd83-3c5fbc6de231"
   },
   "outputs": [
    {
     "name": "stderr",
     "output_type": "stream",
     "text": [
      "No artists with labels found to put in legend.  Note that artists whose label start with an underscore are ignored when legend() is called with no argument.\n"
     ]
    },
    {
     "data": {
      "image/png": "[encoded data removed]",
      "text/plain": [
       "<Figure size 504x504 with 1 Axes>"
      ]
     },
     "metadata": {
      "needs_background": "light"
     },
     "output_type": "display_data"
    }
   ],
   "source": [
    "plot_positions(preds[0][0][0], actual[0][0][0])"
   ]
  },
  {
   "cell_type": "code",
   "execution_count": null,
   "id": "a2561c4f",
   "metadata": {
    "id": "a2561c4f",
    "outputId": "20031dc3-2676-4c4c-81b0-836ad0289edf"
   },
   "outputs": [
    {
     "name": "stderr",
     "output_type": "stream",
     "text": [
      "No artists with labels found to put in legend.  Note that artists whose label start with an underscore are ignored when legend() is called with no argument.\n"
     ]
    },
    {
     "data": {
      "image/png": "[encoded data removed]",
      "text/plain": [
       "<Figure size 504x504 with 1 Axes>"
      ]
     },
     "metadata": {
      "needs_background": "light"
     },
     "output_type": "display_data"
    }
   ],
   "source": [
    "plot_positions(preds[0][0][1], actual[0][0][1])"
   ]
  },
  {
   "cell_type": "code",
   "execution_count": null,
   "id": "4666f578",
   "metadata": {
    "id": "4666f578",
    "outputId": "058aa6c7-618b-4a6f-abd3-ac2e9ef1ec49"
   },
   "outputs": [
    {
     "name": "stderr",
     "output_type": "stream",
     "text": [
      "No artists with labels found to put in legend.  Note that artists whose label start with an underscore are ignored when legend() is called with no argument.\n"
     ]
    },
    {
     "data": {
      "image/png": "[encoded data removed]",
      "text/plain": [
       "<Figure size 504x504 with 1 Axes>"
      ]
     },
     "metadata": {
      "needs_background": "light"
     },
     "output_type": "display_data"
    }
   ],
   "source": [
    "plot_positions(preds[0][0][2], actual[0][0][2])"
   ]
  },
  {
   "cell_type": "code",
   "execution_count": null,
   "id": "3cdac092",
   "metadata": {
    "id": "3cdac092"
   },
   "outputs": [],
   "source": []
  }
 ],
 "metadata": {
  "accelerator": "GPU",
  "colab": {
   "name": "a2_skeleton-GRU.ipynb",
   "provenance": []
  },
  "kernelspec": {
   "display_name": "Python 3 (ipykernel)",
   "language": "python",
   "name": "python3"
  },
  "language_info": {
   "codemirror_mode": {
    "name": "ipython",
    "version": 3
   },
   "file_extension": ".py",
   "mimetype": "text/x-python",
   "name": "python",
   "nbconvert_exporter": "python",
   "pygments_lexer": "ipython3",
   "version": "3.8.12"
  }
 },
 "nbformat": 4,
 "nbformat_minor": 5
}
