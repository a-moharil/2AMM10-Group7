{
 "cells": [
  {
   "cell_type": "markdown",
   "id": "730fd591",
   "metadata": {
    "id": "730fd591"
   },
   "source": [
    "<a href=\"https://colab.research.google.com/github/vlamen/tue-deeplearning/blob/main/assignments/assignment_2_3/a2_skeleton.ipynb\" target=\"_parent\"><img src=\"https://colab.research.google.com/assets/colab-badge.svg\" alt=\"Open In Colab\"/></a>"
   ]
  },
  {
   "cell_type": "markdown",
   "id": "d32f8d18",
   "metadata": {
    "id": "d32f8d18"
   },
   "source": [
    "# Group Number:\n",
    "\n",
    "# Student 1:\n",
    "\n",
    "# Student 2:\n",
    "\n",
    "# Student 3:"
   ]
  },
  {
   "cell_type": "markdown",
   "id": "faec2056",
   "metadata": {
    "id": "faec2056"
   },
   "source": [
    "# Downloading Data and Preliminaries"
   ]
  },
  {
   "cell_type": "code",
   "execution_count": 39,
   "id": "7d0580a5",
   "metadata": {
    "id": "7d0580a5"
   },
   "outputs": [],
   "source": [
    "import pickle\n",
    "import matplotlib.pyplot as plt\n",
    "import matplotlib\n",
    "import numpy as np\n",
    "import torch\n",
    "from zipfile import ZipFile\n",
    "import requests\n",
    "import io"
   ]
  },
  {
   "cell_type": "code",
   "execution_count": 7,
   "id": "b0756591",
   "metadata": {
    "id": "b0756591"
   },
   "outputs": [],
   "source": [
    "def load_zip(url):\n",
    "    response = requests.get(url)\n",
    "    response.raise_for_status()\n",
    "    zipf = ZipFile(io.BytesIO(response.content))\n",
    "    return {name: zipf.read(name) for name in zipf.namelist()}\n",
    "\n",
    "def load_array(zipfile, fn):\n",
    "    return np.load(io.BytesIO(zipfile[fn]))"
   ]
  },
  {
   "cell_type": "code",
   "execution_count": 8,
   "id": "bb77a4be",
   "metadata": {
    "id": "bb77a4be"
   },
   "outputs": [
    {
     "name": "stdout",
     "output_type": "stream",
     "text": [
      "Shapes of the training data:\n",
      "\n",
      "positions: (10000, 4, 2, 5)\n",
      "velocities: (10000, 1, 2, 5)\n",
      "charges: (10000, 5, 1)\n"
     ]
    }
   ],
   "source": [
    "\"\"\"\n",
    "This cell loads the training, validation or test data as numpy arrays,\n",
    "with the positions, initial velocities and charge data of the particles.\n",
    "\n",
    "The position arrays are shaped as\n",
    "[simulation id, time point (corresponding to t = 0, 0.5, 1 or 1.5), x/y spatial dimension, particle id].\n",
    "\n",
    "The initial velocity arrays are shaped as\n",
    "[simulation id, 1 (corresponding to t=0), x/y spatial dimension, particle id].\n",
    "\n",
    "The charge arrays are shaped as [simulation id, particle id, 1]\n",
    "\n",
    "\"\"\"\n",
    "\n",
    "data = load_zip('https://surfdrive.surf.nl/files/index.php/s/OIgda2ZRG8v0eqB/download')\n",
    "\n",
    "features = ['positions', 'velocities', 'charges']\n",
    "    \n",
    "positions_train, velocities_train, charges_train = (load_array(data, f'data/train/{f}.npy') for f in features)\n",
    "positions_valid, velocities_valid, charges_valid = (load_array(data, f'data/valid/{f}.npy') for f in features)\n",
    "positions_test, velocities_test, charges_test = (load_array(data, f'data/test/{f}.npy') for f in features)\n",
    "\n",
    "print('Shapes of the training data:\\n')\n",
    "print(f'positions: {positions_train.shape}')\n",
    "print(f'velocities: {velocities_train.shape}')\n",
    "print(f'charges: {charges_train.shape}')"
   ]
  },
  {
   "cell_type": "code",
   "execution_count": 35,
   "id": "a4e4b9b7",
   "metadata": {},
   "outputs": [
    {
     "data": {
      "text/plain": [
       "(10000, 25)"
      ]
     },
     "execution_count": 35,
     "metadata": {},
     "output_type": "execute_result"
    }
   ],
   "source": [
    "a = positions_train[:,0,:,:] #initial positions\n",
    "a.reshape(10000,10)\n",
    "np.concatenate((a.reshape(10000,10),velocities_train.reshape(10000,10),charges_train.reshape(10000,5)),axis=1).shape"
   ]
  },
  {
   "cell_type": "code",
   "execution_count": 4,
   "id": "1c3ea4cb",
   "metadata": {
    "id": "1c3ea4cb"
   },
   "outputs": [
    {
     "name": "stdout",
     "output_type": "stream",
     "text": [
      "An example of retrieving data from the arrays:\n",
      "\n",
      "\n",
      "In simulation 42 of the training set, particle 3 with charge -1.0 had coordinates [ 2.05159559 -1.46130851].\n",
      "The initial velocity of this particle was [ 0.28402364 -0.24784824].\n"
     ]
    }
   ],
   "source": [
    "print('An example of retrieving data from the arrays:\\n\\n')\n",
    "\n",
    "sim_idx = 42\n",
    "t_idx = 2  # t_idx 0, 1, 2, 3 corresponds to t=0, 0.5, 1 and 1.5 respectively\n",
    "spatial_idx = (0,1)  # corresponds to both x and y dimension\n",
    "particle_idx = 3  # corresponds to particle with index 3\n",
    "\n",
    "p = positions_train[sim_idx, t_idx, spatial_idx, particle_idx]\n",
    "v = velocities_train[sim_idx, 0, spatial_idx, particle_idx]  # note: this array contains only the inital velocity -> hence the 0\n",
    "c = charges_train[sim_idx, particle_idx, 0] \n",
    "\n",
    "print(\n",
    "    f'In simulation {sim_idx} of the training set, particle {particle_idx} with charge {c} had coordinates {p}.\\nThe initial velocity of this particle was {v}.'\n",
    ")"
   ]
  },
  {
   "cell_type": "code",
   "execution_count": 5,
   "id": "10a3438a",
   "metadata": {
    "id": "10a3438a"
   },
   "outputs": [
    {
     "name": "stdout",
     "output_type": "stream",
     "text": [
      "Overview of no. datapoints:\n",
      "\n",
      "10000 train, 2000 validation, 2000 test simulations\n"
     ]
    }
   ],
   "source": [
    "print('Overview of no. datapoints:\\n')\n",
    "\n",
    "print(f'{len(positions_train)} train, {len(positions_valid)} validation, {len(positions_test)} test simulations')"
   ]
  },
  {
   "cell_type": "code",
   "execution_count": 6,
   "id": "f9106543",
   "metadata": {
    "id": "f9106543"
   },
   "outputs": [],
   "source": [
    "def plot_example(pos, vel):\n",
    "\n",
    "    fig = plt.figure()\n",
    "    axes = plt.gca()\n",
    "    axes.set_xlim([-5., 5.])\n",
    "    axes.set_ylim([-5., 5.])\n",
    "    colors = ['red', 'blue', 'green', 'orange', 'brown']\n",
    "    for i in range(pos.shape[-1]):\n",
    "        plt.plot(pos[0, 0, i], pos[0, 1, i], 'd', color=colors[i])\n",
    "        plt.plot(pos[-1, 0, i], pos[-1, 1, i], 'x', color=colors[i])\n",
    "        plt.plot([pos[0, 0, i], pos[0, 0, i] + vel[0, 0, i]], [pos[0, 1, i], pos[0, 1, i] + vel[0, 1, i]], '--', color=colors[i])\n",
    "    fig.set_size_inches(7, 7)\n",
    "    plt.xlim(np.min(pos)-1, np.max(pos) +1)\n",
    "    plt.ylim(np.min(pos)-1, np.max(pos) +1)\n",
    "    plt.plot([], [], 'd', color='black', label='initial position')\n",
    "    plt.plot([], [], 'x', color='black', label='final position')\n",
    "    plt.plot([], [], '--', color='black', label='initial velocity \\ndirection and magnitude')\n",
    "    plt.legend()\n",
    "    \n",
    "    plt.show()\n",
    "    return"
   ]
  },
  {
   "cell_type": "code",
   "execution_count": 7,
   "id": "d28681a6",
   "metadata": {
    "id": "d28681a6"
   },
   "outputs": [
    {
     "data": {
      "image/png": "[encoded data removed]",
      "text/plain": [
       "<Figure size 504x504 with 1 Axes>"
      ]
     },
     "metadata": {
      "needs_background": "light"
     },
     "output_type": "display_data"
    }
   ],
   "source": [
    "random_idx = np.random.randint(0, 10000)\n",
    "plot_example(positions_train[random_idx], velocities_train[random_idx])"
   ]
  },
  {
   "cell_type": "markdown",
   "id": "059b633c",
   "metadata": {
    "id": "059b633c"
   },
   "source": [
    "# Data Handling and Preprocessing"
   ]
  },
  {
   "cell_type": "code",
   "execution_count": 59,
   "id": "e6ecb529",
   "metadata": {
    "id": "e6ecb529"
   },
   "outputs": [],
   "source": [
    "#todo\n",
    "from torch.utils.data import Dataset, DataLoader,TensorDataset\n",
    "device = torch.device('cuda:0' if torch.cuda.is_available() else 'cpu')"
   ]
  },
  {
   "cell_type": "code",
   "execution_count": 40,
   "id": "f8633eb8",
   "metadata": {
    "id": "f8633eb8"
   },
   "outputs": [],
   "source": [
    "\n",
    "class DatasetClass(Dataset):\n",
    "    def __init__(self, positions, velocities,charges):\n",
    "        \n",
    "        (samples,seq_length,dim,length) = positions.shape\n",
    "        # Get the initial positions\n",
    "        init_pos = positions[:,0,:,:]\n",
    "        init_pos = init_pos.reshape(samples,dim*length) # Flatten x,y to a single list [x1,x2...,x5,y1,y2...,y5]\n",
    "        # Get the initial velocities\n",
    "        init_vel = velocities.reshape(samples,dim*length) # Flatten x,y to a single list [x1,x2...,x5,y1,y2...,y5]\n",
    "        # Get the charges\n",
    "        c = charges.reshape(samples,length) # Flatten (samples,1,length) -> (samples,length)\n",
    "        # Create the feature array using initial state\n",
    "        features = np.concatenate((init_pos,init_vel,c),axis=1) # Concatenate initial information to a feature array\n",
    "        \n",
    "        #Create targets using positions in timesteps after the initial one and flattening the dimensions to a single list\n",
    "        targets = positions[:,1:,:,:].reshape(samples,seq_length - 1, dim*length)\n",
    "        \n",
    "        self.data = torch.FloatTensor(features)\n",
    "        self.targets = torch.FloatTensor(targets)\n",
    "        # Sanity checks\n",
    "        assert features.shape == (samples,dim*length*2 + length)\n",
    "        assert targets.shape == (samples,seq_length - 1, dim*length)\n",
    "        \n",
    "        \n",
    "    def __getitem__(self, index):\n",
    "        x = self.data[index]\n",
    "        y = self.targets[index]\n",
    "        \n",
    "\n",
    "        return x, y\n",
    "    \n",
    "    def __len__(self):\n",
    "        return len(self.data)"
   ]
  },
  {
   "cell_type": "code",
   "execution_count": 43,
   "id": "0a99a32b",
   "metadata": {
    "id": "0a99a32b"
   },
   "outputs": [],
   "source": [
    "train_dataset = DatasetClass(positions_train,velocities_train,charges_train)\n",
    "train_loader = torch.utils.data.DataLoader(train_dataset, batch_size=10)\n",
    "valid_dataset = DatasetClass(positions_valid, velocities_valid, charges_valid)\n",
    "valid_loader = torch.utils.data.DataLoader(valid_dataset, batch_size=10)\n",
    "test_dataset = DatasetClass(positions_test, velocities_test, charges_test)\n",
    "test_loader = torch.utils.data.DataLoader(test_dataset, batch_size=10)"
   ]
  },
  {
   "cell_type": "markdown",
   "id": "18b2874d",
   "metadata": {
    "id": "18b2874d"
   },
   "source": [
    "# Model Implementation"
   ]
  },
  {
   "cell_type": "code",
   "execution_count": null,
   "id": "66774050",
   "metadata": {
    "id": "66774050"
   },
   "outputs": [],
   "source": [
    "#todo"
   ]
  },
  {
   "cell_type": "code",
   "execution_count": 80,
   "id": "ba598378",
   "metadata": {
    "id": "ba598378"
   },
   "outputs": [],
   "source": [
    "from torch import nn\n",
    "class LSTMRegressor(nn.Module):\n",
    "\n",
    "    def __init__(self, input_dim, n_layers, hidden_dim,output_dim,device):\n",
    "        super(LSTMRegressor, self).__init__()\n",
    "        \n",
    "        self.input_dim = input_dim\n",
    "        self.n_layers = n_layers\n",
    "        self.hidden_dim = hidden_dim\n",
    "        self.device = device\n",
    "    \n",
    "        self.cell1 = nn.LSTMCell(input_dim, hidden_dim, n_layers)\n",
    "        self.cell2 = nn.LSTMCell(input_dim, hidden_dim, n_layers)\n",
    "        self.cell3 = nn.LSTMCell(input_dim, hidden_dim, n_layers)\n",
    "        \n",
    "        self.fc1 = nn.Linear(hidden_dim, hidden_dim)\n",
    "        self.fc2 = nn.Linear(hidden_dim, output_dim)\n",
    "        \n",
    "        #self.drop = nn.Dropout(p=0.5)\n",
    "        \n",
    "        self.criterion = nn.MSELoss()\n",
    "        \n",
    "        self.optimizer = torch.optim.Adam(self.parameters())\n",
    "        \n",
    "\n",
    "    def forward(self, batch_input):\n",
    "        \n",
    "        # input shapes:\n",
    "        # batch_input: [batch_size, seq_length, input_shape]\n",
    "        \n",
    "        # Generate initial hidden and cell states\n",
    "        hidden0 = torch.randn(batch_input.shape[0], self.hidden_dim).to(self.device)\n",
    "        c0 = torch.randn(batch_input.shape[0], self.hidden_dim).to(self.device)\n",
    "        \n",
    "        # Feed packed input sequence to lstm \n",
    "        hidden1, c1 = self.cell1(batch_input,(hidden0,c0))\n",
    "        hidden2, c2 = self.cell2(batch_input,(hidden1,c1)) # Feed same input to all for now\n",
    "        hidden3, c3 = self.cell3(batch_input,(hidden2,c2)) # Feed same input to all for now\n",
    "        \n",
    "        \n",
    "        # retrieve final hidden output of last timestep for each sequence\n",
    "        # shape [batch_size, hidden_dim]\n",
    "        #last_timestep = out[:,-1]\n",
    "        \n",
    "        # apply dropout\n",
    "        #self.drop(last_timestep)\n",
    "        \n",
    "        # feed lstm output to MLP, apply ReLU nonlinearity\n",
    "        # shape [batch_size, hidden_dim]\n",
    "        h1 = nn.ReLU()(self.fc1(hidden1))\n",
    "        output1 = self.fc2(h1)\n",
    "        h2 = nn.ReLU()(self.fc1(hidden2))\n",
    "        output2 = self.fc2(h2)\n",
    "        h3 = nn.ReLU()(self.fc1(hidden3))\n",
    "        output3 = self.fc2(h3)\n",
    "        #h = nn.ReLU()(h)\n",
    "        \n",
    "        y_preds = torch.stack((output1,output2,output3),axis=1) # (Batch_size,3,dim * length)\n",
    "        return y_preds"
   ]
  },
  {
   "cell_type": "code",
   "execution_count": 49,
   "id": "95154df7",
   "metadata": {
    "id": "95154df7"
   },
   "outputs": [
    {
     "data": {
      "text/plain": [
       "torch.Size([10, 3, 10])"
      ]
     },
     "execution_count": 49,
     "metadata": {},
     "output_type": "execute_result"
    }
   ],
   "source": []
  },
  {
   "cell_type": "markdown",
   "id": "dea70d73",
   "metadata": {
    "id": "dea70d73"
   },
   "source": [
    "# Model Training"
   ]
  },
  {
   "cell_type": "code",
   "execution_count": 46,
   "id": "3af520ae",
   "metadata": {
    "id": "3af520ae"
   },
   "outputs": [],
   "source": [
    "def save_model_checkpoint(path, model, optimizer, val_loss, val_acc, train_acc, train_loss ):\n",
    "    if path == None:\n",
    "        return print(\"Kindly define a path\")\n",
    "    path = path\n",
    "    \n",
    "    save_dict = {\"model_dict\" : model.state_dict(), \n",
    "                 \"optimizer_dict\": optimizer.state_dict(),\n",
    "                 \"val_loss_dict\": val_loss,\n",
    "                 \"val_acc_dict\": val_acc,\n",
    "                 \"train_acc_dict\": train_acc,\n",
    "                 \"train_loss_dict\": train_loss}\n",
    "    torch.save(save_dict, path)\n",
    "    return print(\"Model Saved to ==> {}\".format(path))"
   ]
  },
  {
   "cell_type": "code",
   "execution_count": 70,
   "id": "e95af5f9",
   "metadata": {
    "id": "e95af5f9"
   },
   "outputs": [],
   "source": [
    "# training and validation after every epoch\n",
    "def train(model, train_loader, val_loader, criterion, num_epochs, save_name):\n",
    "    best_val_loss = float(\"Inf\") \n",
    "    train_losses = []\n",
    "    val_losses = []\n",
    "    train_acc = []\n",
    "    val_acc = []\n",
    "    cur_step = 0\n",
    "    train_pred = []\n",
    "    val_pred = []\n",
    "\n",
    "    for epoch in range(num_epochs):\n",
    "        running_loss = 0.0\n",
    "        running_train_acc = 0.0\n",
    "  \n",
    "        model.train()\n",
    "        print(\"Starting epoch \" + str(epoch+1))\n",
    "        for train_data, targets in train_loader:\n",
    "            \n",
    "           \n",
    "            # Forward\n",
    "            input_tensor = train_data.to(device)\n",
    "            outputs = model.forward(input_tensor)\n",
    "            loss = criterion(outputs,targets.to(device))\n",
    "            \n",
    "                \n",
    "            # Backward and optimize\n",
    "            optimizer.zero_grad()\n",
    "            loss.backward()\n",
    "            optimizer.step()   \n",
    "            running_loss += loss\n",
    "          \n",
    "\n",
    "        avg_train_loss = running_loss / len(train_loader)\n",
    "        train_losses.append(avg_train_loss)\n",
    "        print(\"Train Pass Completed\")\n",
    "\n",
    "        ########################################|Validation Set|#############################################\n",
    "        val_running_loss = 0.0\n",
    "        with torch.no_grad():\n",
    "            model.eval()\n",
    "            for val_data, val_targets in val_loader:\n",
    "                input_tensor = val_data.to(device)\n",
    "                outputs = model.forward(input_tensor)\n",
    "                loss = criterion(outputs,val_targets.to(device))\n",
    "                val_running_loss += loss\n",
    "\n",
    "        avg_val_loss = val_running_loss / len(val_loader)\n",
    "        val_losses.append(avg_val_loss)\n",
    "\n",
    "        \n",
    "        print('Epoch [{}/{}],Train Loss: {:.4f}, Valid Loss: {:.8f}' \n",
    "            .format(epoch+1, num_epochs, avg_train_loss, avg_val_loss))\n",
    "        if avg_val_loss < best_val_loss:\n",
    "            best_val_loss = avg_val_loss \n",
    "            save_model_checkpoint(save_name, model, optimizer, best_val_loss, 0, 0, avg_train_loss )\n",
    "    \n",
    "    print(\"Finished Training\") \n",
    "    return train_losses, val_losses\n",
    "     "
   ]
  },
  {
   "cell_type": "code",
   "execution_count": 71,
   "id": "07e03ddf",
   "metadata": {
    "id": "07e03ddf"
   },
   "outputs": [
    {
     "name": "stdout",
     "output_type": "stream",
     "text": [
      "Starting epoch 1\n",
      "Train Pass Completed\n",
      "Epoch [1/50],Train Loss: 2.3620, Valid Loss: 0.66562814\n",
      "Model Saved to ==> LSTM_reg.pt\n",
      "Starting epoch 2\n",
      "Train Pass Completed\n",
      "Epoch [2/50],Train Loss: 0.5390, Valid Loss: 0.42256618\n",
      "Model Saved to ==> LSTM_reg.pt\n",
      "Starting epoch 3\n",
      "Train Pass Completed\n",
      "Epoch [3/50],Train Loss: 0.3869, Valid Loss: 0.33757225\n",
      "Model Saved to ==> LSTM_reg.pt\n",
      "Starting epoch 4\n",
      "Train Pass Completed\n",
      "Epoch [4/50],Train Loss: 0.3189, Valid Loss: 0.29912168\n",
      "Model Saved to ==> LSTM_reg.pt\n",
      "Starting epoch 5\n",
      "Train Pass Completed\n",
      "Epoch [5/50],Train Loss: 0.2792, Valid Loss: 0.27357644\n",
      "Model Saved to ==> LSTM_reg.pt\n",
      "Starting epoch 6\n",
      "Train Pass Completed\n",
      "Epoch [6/50],Train Loss: 0.2523, Valid Loss: 0.25308612\n",
      "Model Saved to ==> LSTM_reg.pt\n",
      "Starting epoch 7\n",
      "Train Pass Completed\n",
      "Epoch [7/50],Train Loss: 0.2323, Valid Loss: 0.23746575\n",
      "Model Saved to ==> LSTM_reg.pt\n",
      "Starting epoch 8\n",
      "Train Pass Completed\n",
      "Epoch [8/50],Train Loss: 0.2184, Valid Loss: 0.22772773\n",
      "Model Saved to ==> LSTM_reg.pt\n",
      "Starting epoch 9\n",
      "Train Pass Completed\n",
      "Epoch [9/50],Train Loss: 0.2060, Valid Loss: 0.21742180\n",
      "Model Saved to ==> LSTM_reg.pt\n",
      "Starting epoch 10\n",
      "Train Pass Completed\n",
      "Epoch [10/50],Train Loss: 0.1963, Valid Loss: 0.21145925\n",
      "Model Saved to ==> LSTM_reg.pt\n",
      "Starting epoch 11\n",
      "Train Pass Completed\n",
      "Epoch [11/50],Train Loss: 0.1892, Valid Loss: 0.20432967\n",
      "Model Saved to ==> LSTM_reg.pt\n",
      "Starting epoch 12\n",
      "Train Pass Completed\n",
      "Epoch [12/50],Train Loss: 0.1821, Valid Loss: 0.20037526\n",
      "Model Saved to ==> LSTM_reg.pt\n",
      "Starting epoch 13\n",
      "Train Pass Completed\n",
      "Epoch [13/50],Train Loss: 0.1757, Valid Loss: 0.19552377\n",
      "Model Saved to ==> LSTM_reg.pt\n",
      "Starting epoch 14\n",
      "Train Pass Completed\n",
      "Epoch [14/50],Train Loss: 0.1704, Valid Loss: 0.19221269\n",
      "Model Saved to ==> LSTM_reg.pt\n",
      "Starting epoch 15\n",
      "Train Pass Completed\n",
      "Epoch [15/50],Train Loss: 0.1656, Valid Loss: 0.18723729\n",
      "Model Saved to ==> LSTM_reg.pt\n",
      "Starting epoch 16\n",
      "Train Pass Completed\n",
      "Epoch [16/50],Train Loss: 0.1611, Valid Loss: 0.18423931\n",
      "Model Saved to ==> LSTM_reg.pt\n",
      "Starting epoch 17\n",
      "Train Pass Completed\n",
      "Epoch [17/50],Train Loss: 0.1582, Valid Loss: 0.18117265\n",
      "Model Saved to ==> LSTM_reg.pt\n",
      "Starting epoch 18\n",
      "Train Pass Completed\n",
      "Epoch [18/50],Train Loss: 0.1546, Valid Loss: 0.17920353\n",
      "Model Saved to ==> LSTM_reg.pt\n",
      "Starting epoch 19\n",
      "Train Pass Completed\n",
      "Epoch [19/50],Train Loss: 0.1511, Valid Loss: 0.17591609\n",
      "Model Saved to ==> LSTM_reg.pt\n",
      "Starting epoch 20\n",
      "Train Pass Completed\n",
      "Epoch [20/50],Train Loss: 0.1484, Valid Loss: 0.17403194\n",
      "Model Saved to ==> LSTM_reg.pt\n",
      "Starting epoch 21\n",
      "Train Pass Completed\n",
      "Epoch [21/50],Train Loss: 0.1458, Valid Loss: 0.17370494\n",
      "Model Saved to ==> LSTM_reg.pt\n",
      "Starting epoch 22\n",
      "Train Pass Completed\n",
      "Epoch [22/50],Train Loss: 0.1430, Valid Loss: 0.17171317\n",
      "Model Saved to ==> LSTM_reg.pt\n",
      "Starting epoch 23\n",
      "Train Pass Completed\n",
      "Epoch [23/50],Train Loss: 0.1410, Valid Loss: 0.16967802\n",
      "Model Saved to ==> LSTM_reg.pt\n",
      "Starting epoch 24\n",
      "Train Pass Completed\n",
      "Epoch [24/50],Train Loss: 0.1384, Valid Loss: 0.16794807\n",
      "Model Saved to ==> LSTM_reg.pt\n",
      "Starting epoch 25\n",
      "Train Pass Completed\n",
      "Epoch [25/50],Train Loss: 0.1365, Valid Loss: 0.16598716\n",
      "Model Saved to ==> LSTM_reg.pt\n",
      "Starting epoch 26\n",
      "Train Pass Completed\n",
      "Epoch [26/50],Train Loss: 0.1346, Valid Loss: 0.16474648\n",
      "Model Saved to ==> LSTM_reg.pt\n",
      "Starting epoch 27\n",
      "Train Pass Completed\n",
      "Epoch [27/50],Train Loss: 0.1328, Valid Loss: 0.16311055\n",
      "Model Saved to ==> LSTM_reg.pt\n",
      "Starting epoch 28\n",
      "Train Pass Completed\n",
      "Epoch [28/50],Train Loss: 0.1311, Valid Loss: 0.16085808\n",
      "Model Saved to ==> LSTM_reg.pt\n",
      "Starting epoch 29\n",
      "Train Pass Completed\n",
      "Epoch [29/50],Train Loss: 0.1293, Valid Loss: 0.16113214\n",
      "Starting epoch 30\n",
      "Train Pass Completed\n",
      "Epoch [30/50],Train Loss: 0.1278, Valid Loss: 0.15919970\n",
      "Model Saved to ==> LSTM_reg.pt\n",
      "Starting epoch 31\n",
      "Train Pass Completed\n",
      "Epoch [31/50],Train Loss: 0.1263, Valid Loss: 0.15885630\n",
      "Model Saved to ==> LSTM_reg.pt\n",
      "Starting epoch 32\n",
      "Train Pass Completed\n",
      "Epoch [32/50],Train Loss: 0.1249, Valid Loss: 0.15712985\n",
      "Model Saved to ==> LSTM_reg.pt\n",
      "Starting epoch 33\n",
      "Train Pass Completed\n",
      "Epoch [33/50],Train Loss: 0.1239, Valid Loss: 0.15595037\n",
      "Model Saved to ==> LSTM_reg.pt\n",
      "Starting epoch 34\n",
      "Train Pass Completed\n",
      "Epoch [34/50],Train Loss: 0.1226, Valid Loss: 0.15456054\n",
      "Model Saved to ==> LSTM_reg.pt\n",
      "Starting epoch 35\n",
      "Train Pass Completed\n",
      "Epoch [35/50],Train Loss: 0.1211, Valid Loss: 0.15493315\n",
      "Starting epoch 36\n",
      "Train Pass Completed\n",
      "Epoch [36/50],Train Loss: 0.1201, Valid Loss: 0.15471716\n",
      "Starting epoch 37\n",
      "Train Pass Completed\n",
      "Epoch [37/50],Train Loss: 0.1189, Valid Loss: 0.15354471\n",
      "Model Saved to ==> LSTM_reg.pt\n",
      "Starting epoch 38\n",
      "Train Pass Completed\n",
      "Epoch [38/50],Train Loss: 0.1179, Valid Loss: 0.15245050\n",
      "Model Saved to ==> LSTM_reg.pt\n",
      "Starting epoch 39\n",
      "Train Pass Completed\n",
      "Epoch [39/50],Train Loss: 0.1171, Valid Loss: 0.15022185\n",
      "Model Saved to ==> LSTM_reg.pt\n",
      "Starting epoch 40\n",
      "Train Pass Completed\n",
      "Epoch [40/50],Train Loss: 0.1159, Valid Loss: 0.15130909\n",
      "Starting epoch 41\n",
      "Train Pass Completed\n",
      "Epoch [41/50],Train Loss: 0.1153, Valid Loss: 0.14922741\n",
      "Model Saved to ==> LSTM_reg.pt\n",
      "Starting epoch 42\n",
      "Train Pass Completed\n",
      "Epoch [42/50],Train Loss: 0.1142, Valid Loss: 0.14952275\n",
      "Starting epoch 43\n",
      "Train Pass Completed\n",
      "Epoch [43/50],Train Loss: 0.1134, Valid Loss: 0.14814276\n",
      "Model Saved to ==> LSTM_reg.pt\n",
      "Starting epoch 44\n",
      "Train Pass Completed\n",
      "Epoch [44/50],Train Loss: 0.1126, Valid Loss: 0.14798501\n",
      "Model Saved to ==> LSTM_reg.pt\n",
      "Starting epoch 45\n",
      "Train Pass Completed\n",
      "Epoch [45/50],Train Loss: 0.1121, Valid Loss: 0.14720376\n",
      "Model Saved to ==> LSTM_reg.pt\n",
      "Starting epoch 46\n",
      "Train Pass Completed\n",
      "Epoch [46/50],Train Loss: 0.1112, Valid Loss: 0.14717616\n",
      "Model Saved to ==> LSTM_reg.pt\n",
      "Starting epoch 47\n",
      "Train Pass Completed\n",
      "Epoch [47/50],Train Loss: 0.1104, Valid Loss: 0.14703502\n",
      "Model Saved to ==> LSTM_reg.pt\n",
      "Starting epoch 48\n",
      "Train Pass Completed\n",
      "Epoch [48/50],Train Loss: 0.1097, Valid Loss: 0.14616427\n",
      "Model Saved to ==> LSTM_reg.pt\n",
      "Starting epoch 49\n",
      "Train Pass Completed\n",
      "Epoch [49/50],Train Loss: 0.1091, Valid Loss: 0.14470580\n",
      "Model Saved to ==> LSTM_reg.pt\n",
      "Starting epoch 50\n",
      "Train Pass Completed\n",
      "Epoch [50/50],Train Loss: 0.1082, Valid Loss: 0.14508937\n",
      "Finished Training\n"
     ]
    }
   ],
   "source": [
    "LSTM_reg = LSTMRegressor(25,1,128,10).cuda()\n",
    "\n",
    "optimizer = torch.optim.SGD(LSTM_reg.parameters(), lr=0.01, momentum=0.9)\n",
    "num_epochs = 50\n",
    "save_name = f'LSTM_reg.pt'\n",
    "criterion = nn.MSELoss()\n",
    "\n",
    "obtained_train_loss, obtained_val_loss = train(LSTM_reg, \n",
    "                                                      train_loader, valid_loader, criterion, num_epochs, save_name)"
   ]
  },
  {
   "cell_type": "markdown",
   "id": "d5fb3b29",
   "metadata": {
    "id": "d5fb3b29"
   },
   "source": [
    "# Evaluation"
   ]
  },
  {
   "cell_type": "code",
   "execution_count": null,
   "id": "bf5fa1b4",
   "metadata": {
    "id": "bf5fa1b4"
   },
   "outputs": [],
   "source": [
    "#todo"
   ]
  },
  {
   "cell_type": "code",
   "execution_count": 82,
   "id": "d47c2324",
   "metadata": {},
   "outputs": [],
   "source": [
    "#Evaluating on the validation set\n",
    "\n",
    "def evaluate(model, test_loader,device='cpu'):\n",
    "    val_running_loss = 0.0\n",
    "    preds = []\n",
    "    actual = []\n",
    "    with torch.no_grad():\n",
    "        model.eval()\n",
    "        for val_data, val_targets in test_loader:\n",
    "            input_tensor = val_data.to(device)\n",
    "            outputs = model.forward(input_tensor)\n",
    "            preds.append(outputs)\n",
    "            actual.append(val_targets)\n",
    "            loss = criterion(outputs,val_targets.to(device))\n",
    "            val_running_loss += loss\n",
    "\n",
    "        avg_val_loss = val_running_loss / len(test_loader)\n",
    "        print(\"Average Test Loss: {:4f}\".format(avg_val_loss))\n",
    "        return preds,actual"
   ]
  },
  {
   "cell_type": "code",
   "execution_count": 84,
   "id": "2280031f",
   "metadata": {
    "id": "2280031f"
   },
   "outputs": [
    {
     "name": "stdout",
     "output_type": "stream",
     "text": [
      "Average Test Loss: 0.151195\n"
     ]
    }
   ],
   "source": [
    "#Model Evaluation\n",
    "model = LSTMRegressor(25,1,128,10,'cpu')\n",
    "checkpoint = torch.load('LSTM_reg.pt', map_location = 'cpu')\n",
    "model.load_state_dict(checkpoint['model_dict'])\n",
    "\n",
    "preds,actual = evaluate(model, test_loader)"
   ]
  },
  {
   "cell_type": "code",
   "execution_count": 101,
   "id": "0083ede7",
   "metadata": {},
   "outputs": [],
   "source": [
    "def plot_positions(preds_sample, actual_sample):\n",
    "\n",
    "    fig = plt.figure()\n",
    "    axes = plt.gca()\n",
    "    axes.set_xlim([-5., 5.])\n",
    "    axes.set_ylim([-5., 5.])\n",
    "    colors = ['red', 'blue', 'green', 'orange', 'brown']\n",
    "    for i in range(5):\n",
    "        plt.plot(preds_sample[i],preds_sample[i+5],'o',color=colors[i])\n",
    "        plt.plot(actual_sample[i],actual_sample[i+5],'x',color=colors[i])\n",
    "    fig.set_size_inches(7, 7)\n",
    "    #plt.xlim(np.min(pos)-1, np.max(pos) +1)\n",
    "    #plt.ylim(np.min(pos)-1, np.max(pos) +1)\n",
    "    #plt.plot([], [], 'd', color='black', label='initial position')\n",
    "    #plt.plot([], [], 'x', color='black', label='final position')\n",
    "    #plt.plot([], [], '--', color='black', label='initial velocity \\ndirection and magnitude')\n",
    "    plt.legend()\n",
    "    \n",
    "    plt.show()\n",
    "    return"
   ]
  },
  {
   "cell_type": "code",
   "execution_count": 105,
   "id": "3a8240f1",
   "metadata": {
    "id": "3a8240f1"
   },
   "outputs": [
    {
     "name": "stderr",
     "output_type": "stream",
     "text": [
      "No artists with labels found to put in legend.  Note that artists whose label start with an underscore are ignored when legend() is called with no argument.\n"
     ]
    },
    {
     "data": {
      "image/png": "[encoded data removed]",
      "text/plain": [
       "<Figure size 504x504 with 1 Axes>"
      ]
     },
     "metadata": {
      "needs_background": "light"
     },
     "output_type": "display_data"
    }
   ],
   "source": [
    "plot_positions(preds[0][0][0], actual[0][0][0])"
   ]
  },
  {
   "cell_type": "code",
   "execution_count": 106,
   "id": "72fbae35",
   "metadata": {},
   "outputs": [
    {
     "name": "stderr",
     "output_type": "stream",
     "text": [
      "No artists with labels found to put in legend.  Note that artists whose label start with an underscore are ignored when legend() is called with no argument.\n"
     ]
    },
    {
     "data": {
      "image/png": "[encoded data removed]",
      "text/plain": [
       "<Figure size 504x504 with 1 Axes>"
      ]
     },
     "metadata": {
      "needs_background": "light"
     },
     "output_type": "display_data"
    }
   ],
   "source": [
    "plot_positions(preds[0][0][1], actual[0][0][1])"
   ]
  },
  {
   "cell_type": "code",
   "execution_count": 107,
   "id": "bd2457c0",
   "metadata": {},
   "outputs": [
    {
     "name": "stderr",
     "output_type": "stream",
     "text": [
      "No artists with labels found to put in legend.  Note that artists whose label start with an underscore are ignored when legend() is called with no argument.\n"
     ]
    },
    {
     "data": {
      "image/png": "[encoded data removed]",
      "text/plain": [
       "<Figure size 504x504 with 1 Axes>"
      ]
     },
     "metadata": {
      "needs_background": "light"
     },
     "output_type": "display_data"
    }
   ],
   "source": [
    "plot_positions(preds[0][0][2], actual[0][0][2])"
   ]
  },
  {
   "cell_type": "code",
   "execution_count": null,
   "id": "d2a15af4",
   "metadata": {},
   "outputs": [],
   "source": []
  }
 ],
 "metadata": {
  "colab": {
   "name": "a2_skeleton.ipynb",
   "provenance": []
  },
  "kernelspec": {
   "display_name": "Python 3 (ipykernel)",
   "language": "python",
   "name": "python3"
  },
  "language_info": {
   "codemirror_mode": {
    "name": "ipython",
    "version": 3
   },
   "file_extension": ".py",
   "mimetype": "text/x-python",
   "name": "python",
   "nbconvert_exporter": "python",
   "pygments_lexer": "ipython3",
   "version": "3.8.12"
  }
 },
 "nbformat": 4,
 "nbformat_minor": 5
}
